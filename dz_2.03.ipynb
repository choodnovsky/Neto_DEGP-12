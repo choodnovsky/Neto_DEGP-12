{
 "cells": [
  {
   "cell_type": "markdown",
   "id": "e589382b",
   "metadata": {},
   "source": [
    "### Домашнее задание №3 к лекции «Функции и работа с данными»"
   ]
  },
  {
   "cell_type": "code",
   "execution_count": 1,
   "id": "ed03b14e",
   "metadata": {},
   "outputs": [],
   "source": [
    "import pandas as pd\n",
    "import numpy as np\n",
    "from functools import reduce\n",
    "import os"
   ]
  },
  {
   "cell_type": "markdown",
   "id": "f744adcc",
   "metadata": {},
   "source": [
    "#### Задание 1\n",
    "Напишите функцию, которая классифицирует фильмы из материалов занятия по следующим правилам:\n",
    "- оценка 2 и меньше - низкий рейтинг\n",
    "- оценка 4 и меньше - средний рейтинг\n",
    "- оценка 4.5 и 5 - высокий рейтинг\n",
    "\n",
    "Результат классификации запишите в столбец class"
   ]
  },
  {
   "cell_type": "code",
   "execution_count": 2,
   "id": "ee8f2a53",
   "metadata": {},
   "outputs": [
    {
     "data": {
      "text/plain": [
       "['links.csv', 'tags.csv', 'ratings.csv', 'keywords.csv', 'movies.csv']"
      ]
     },
     "execution_count": 2,
     "metadata": {},
     "output_type": "execute_result"
    }
   ],
   "source": [
    "task_1_files = [file for file in os.listdir('ml-latest') if '.csv' in file]\n",
    "# распакованный архив с этого сайта кладем в папку с ноутбуком\n",
    "task_1_files"
   ]
  },
  {
   "cell_type": "code",
   "execution_count": 3,
   "id": "6334e54b",
   "metadata": {},
   "outputs": [],
   "source": [
    "ratings = pd.read_csv(os.getcwd() + '/ml-latest/' + task_1_files[2])"
   ]
  },
  {
   "cell_type": "code",
   "execution_count": 4,
   "id": "bec711d9",
   "metadata": {},
   "outputs": [
    {
     "data": {
      "text/html": [
       "<div>\n",
       "<style scoped>\n",
       "    .dataframe tbody tr th:only-of-type {\n",
       "        vertical-align: middle;\n",
       "    }\n",
       "\n",
       "    .dataframe tbody tr th {\n",
       "        vertical-align: top;\n",
       "    }\n",
       "\n",
       "    .dataframe thead th {\n",
       "        text-align: right;\n",
       "    }\n",
       "</style>\n",
       "<table border=\"1\" class=\"dataframe\">\n",
       "  <thead>\n",
       "    <tr style=\"text-align: right;\">\n",
       "      <th></th>\n",
       "      <th>userId</th>\n",
       "      <th>movieId</th>\n",
       "      <th>rating</th>\n",
       "      <th>timestamp</th>\n",
       "    </tr>\n",
       "  </thead>\n",
       "  <tbody>\n",
       "    <tr>\n",
       "      <th>0</th>\n",
       "      <td>1</td>\n",
       "      <td>31</td>\n",
       "      <td>2.5</td>\n",
       "      <td>1260759144</td>\n",
       "    </tr>\n",
       "    <tr>\n",
       "      <th>1</th>\n",
       "      <td>1</td>\n",
       "      <td>1029</td>\n",
       "      <td>3.0</td>\n",
       "      <td>1260759179</td>\n",
       "    </tr>\n",
       "    <tr>\n",
       "      <th>2</th>\n",
       "      <td>1</td>\n",
       "      <td>1061</td>\n",
       "      <td>3.0</td>\n",
       "      <td>1260759182</td>\n",
       "    </tr>\n",
       "    <tr>\n",
       "      <th>3</th>\n",
       "      <td>1</td>\n",
       "      <td>1129</td>\n",
       "      <td>2.0</td>\n",
       "      <td>1260759185</td>\n",
       "    </tr>\n",
       "    <tr>\n",
       "      <th>4</th>\n",
       "      <td>1</td>\n",
       "      <td>1172</td>\n",
       "      <td>4.0</td>\n",
       "      <td>1260759205</td>\n",
       "    </tr>\n",
       "  </tbody>\n",
       "</table>\n",
       "</div>"
      ],
      "text/plain": [
       "   userId  movieId  rating   timestamp\n",
       "0       1       31     2.5  1260759144\n",
       "1       1     1029     3.0  1260759179\n",
       "2       1     1061     3.0  1260759182\n",
       "3       1     1129     2.0  1260759185\n",
       "4       1     1172     4.0  1260759205"
      ]
     },
     "execution_count": 4,
     "metadata": {},
     "output_type": "execute_result"
    }
   ],
   "source": [
    "ratings.head()"
   ]
  },
  {
   "cell_type": "code",
   "execution_count": 5,
   "id": "e236592b",
   "metadata": {},
   "outputs": [
    {
     "name": "stdout",
     "output_type": "stream",
     "text": [
      "CPU times: user 33.5 ms, sys: 2.68 ms, total: 36.1 ms\n",
      "Wall time: 33.8 ms\n"
     ]
    }
   ],
   "source": [
    "%%time\n",
    "ratings['class_1'] = ratings['rating'].apply(\n",
    "    lambda x: 'низкий рейтинг' if x <= 2 else('средний рейтинг' if x <= 4 else'высокий рейтинг'))"
   ]
  },
  {
   "cell_type": "code",
   "execution_count": 6,
   "id": "ee93b37d",
   "metadata": {},
   "outputs": [
    {
     "data": {
      "text/html": [
       "<div>\n",
       "<style scoped>\n",
       "    .dataframe tbody tr th:only-of-type {\n",
       "        vertical-align: middle;\n",
       "    }\n",
       "\n",
       "    .dataframe tbody tr th {\n",
       "        vertical-align: top;\n",
       "    }\n",
       "\n",
       "    .dataframe thead th {\n",
       "        text-align: right;\n",
       "    }\n",
       "</style>\n",
       "<table border=\"1\" class=\"dataframe\">\n",
       "  <thead>\n",
       "    <tr style=\"text-align: right;\">\n",
       "      <th></th>\n",
       "      <th>rating</th>\n",
       "    </tr>\n",
       "    <tr>\n",
       "      <th>class_1</th>\n",
       "      <th></th>\n",
       "    </tr>\n",
       "  </thead>\n",
       "  <tbody>\n",
       "    <tr>\n",
       "      <th>высокий рейтинг</th>\n",
       "      <td>[5.0, 4.5]</td>\n",
       "    </tr>\n",
       "    <tr>\n",
       "      <th>низкий рейтинг</th>\n",
       "      <td>[2.0, 1.0, 1.5, 0.5]</td>\n",
       "    </tr>\n",
       "    <tr>\n",
       "      <th>средний рейтинг</th>\n",
       "      <td>[2.5, 3.0, 4.0, 3.5]</td>\n",
       "    </tr>\n",
       "  </tbody>\n",
       "</table>\n",
       "</div>"
      ],
      "text/plain": [
       "                               rating\n",
       "class_1                              \n",
       "высокий рейтинг            [5.0, 4.5]\n",
       "низкий рейтинг   [2.0, 1.0, 1.5, 0.5]\n",
       "средний рейтинг  [2.5, 3.0, 4.0, 3.5]"
      ]
     },
     "execution_count": 6,
     "metadata": {},
     "output_type": "execute_result"
    }
   ],
   "source": [
    "ratings.groupby('class_1').agg({'rating': 'unique'})"
   ]
  },
  {
   "cell_type": "code",
   "execution_count": 7,
   "id": "62fd1642",
   "metadata": {},
   "outputs": [],
   "source": [
    "def get_class(row):\n",
    "    if row.rating <= 2:\n",
    "        return 'низкий рейтинг'\n",
    "    elif row.rating <= 4:\n",
    "        return 'средний рейтинг'\n",
    "    else:\n",
    "        return 'высокий рейтинг'"
   ]
  },
  {
   "cell_type": "code",
   "execution_count": 8,
   "id": "ea591e29",
   "metadata": {},
   "outputs": [
    {
     "name": "stdout",
     "output_type": "stream",
     "text": [
      "CPU times: user 1.53 s, sys: 19.2 ms, total: 1.55 s\n",
      "Wall time: 1.55 s\n"
     ]
    }
   ],
   "source": [
    "%%time\n",
    "ratings['class_2'] = ratings.apply(get_class, axis=1)"
   ]
  },
  {
   "cell_type": "code",
   "execution_count": 9,
   "id": "3d15d2e5",
   "metadata": {},
   "outputs": [
    {
     "data": {
      "text/html": [
       "<div>\n",
       "<style scoped>\n",
       "    .dataframe tbody tr th:only-of-type {\n",
       "        vertical-align: middle;\n",
       "    }\n",
       "\n",
       "    .dataframe tbody tr th {\n",
       "        vertical-align: top;\n",
       "    }\n",
       "\n",
       "    .dataframe thead th {\n",
       "        text-align: right;\n",
       "    }\n",
       "</style>\n",
       "<table border=\"1\" class=\"dataframe\">\n",
       "  <thead>\n",
       "    <tr style=\"text-align: right;\">\n",
       "      <th></th>\n",
       "      <th>rating</th>\n",
       "    </tr>\n",
       "    <tr>\n",
       "      <th>class_2</th>\n",
       "      <th></th>\n",
       "    </tr>\n",
       "  </thead>\n",
       "  <tbody>\n",
       "    <tr>\n",
       "      <th>высокий рейтинг</th>\n",
       "      <td>[5.0, 4.5]</td>\n",
       "    </tr>\n",
       "    <tr>\n",
       "      <th>низкий рейтинг</th>\n",
       "      <td>[2.0, 1.0, 1.5, 0.5]</td>\n",
       "    </tr>\n",
       "    <tr>\n",
       "      <th>средний рейтинг</th>\n",
       "      <td>[2.5, 3.0, 4.0, 3.5]</td>\n",
       "    </tr>\n",
       "  </tbody>\n",
       "</table>\n",
       "</div>"
      ],
      "text/plain": [
       "                               rating\n",
       "class_2                              \n",
       "высокий рейтинг            [5.0, 4.5]\n",
       "низкий рейтинг   [2.0, 1.0, 1.5, 0.5]\n",
       "средний рейтинг  [2.5, 3.0, 4.0, 3.5]"
      ]
     },
     "execution_count": 9,
     "metadata": {},
     "output_type": "execute_result"
    }
   ],
   "source": [
    "ratings.groupby('class_2').agg({'rating': 'unique'})"
   ]
  },
  {
   "cell_type": "markdown",
   "id": "53db286b-5499-4421-b79a-f79cc43969cd",
   "metadata": {},
   "source": [
    "Результат одинаков. Первый вариант быстрее, что объясняется только тем что метод `apply` обращается к конкретному столбцу, а второй ко всей строке"
   ]
  },
  {
   "cell_type": "markdown",
   "id": "69223265",
   "metadata": {},
   "source": [
    "#### Задание 2\n",
    "Используем файл keywords.csv.\n",
    "\n",
    "Необходимо написать гео-классификатор, который каждой строке сможет выставить географическую принадлежность определенному региону. Т. е. если поисковый запрос содержит название города региона, то в столбце ‘region’ пишется название этого региона. Если поисковый запрос не содержит названия города, то ставим ‘undefined’.  \n",
    "Результат классификации запишите в отдельный столбец region."
   ]
  },
  {
   "cell_type": "code",
   "execution_count": 10,
   "id": "3a4909ed",
   "metadata": {},
   "outputs": [],
   "source": [
    "geo_data = {\n",
    "'Центр': ['москва', 'тула', 'ярославль'],\n",
    "'Северо-Запад': ['петербург', 'псков', 'мурманск'],\n",
    "'Дальний Восток': ['владивосток', 'сахалин', 'хабаровск']\n",
    "}"
   ]
  },
  {
   "cell_type": "code",
   "execution_count": 11,
   "id": "8278de4f-2510-4469-a8be-d62ec878b340",
   "metadata": {},
   "outputs": [],
   "source": [
    "keywords = pd.read_csv(os.getcwd() + '/ml-latest/' + task_1_files[3])"
   ]
  },
  {
   "cell_type": "code",
   "execution_count": 12,
   "id": "634312ab",
   "metadata": {},
   "outputs": [],
   "source": [
    "def get_region(keyword):\n",
    "    for region,cities in geo_data.items():\n",
    "        for city in cities:\n",
    "            if city in keyword:\n",
    "                return region\n",
    "    return 'undefined'"
   ]
  },
  {
   "cell_type": "code",
   "execution_count": 13,
   "id": "a3321c03-4adb-472e-a692-9d7ee81dee60",
   "metadata": {},
   "outputs": [],
   "source": [
    "keywords['region'] = keywords['keyword'].apply(get_region)"
   ]
  },
  {
   "cell_type": "code",
   "execution_count": 14,
   "id": "8c0a4781-0234-462b-a442-bfe618700f09",
   "metadata": {},
   "outputs": [
    {
     "data": {
      "text/html": [
       "<div>\n",
       "<style scoped>\n",
       "    .dataframe tbody tr th:only-of-type {\n",
       "        vertical-align: middle;\n",
       "    }\n",
       "\n",
       "    .dataframe tbody tr th {\n",
       "        vertical-align: top;\n",
       "    }\n",
       "\n",
       "    .dataframe thead th {\n",
       "        text-align: right;\n",
       "    }\n",
       "</style>\n",
       "<table border=\"1\" class=\"dataframe\">\n",
       "  <thead>\n",
       "    <tr style=\"text-align: right;\">\n",
       "      <th></th>\n",
       "      <th>keyword</th>\n",
       "    </tr>\n",
       "    <tr>\n",
       "      <th>region</th>\n",
       "      <th></th>\n",
       "    </tr>\n",
       "  </thead>\n",
       "  <tbody>\n",
       "    <tr>\n",
       "      <th>undefined</th>\n",
       "      <td>[вк, одноклассники, порно, ютуб, вконтакте, од...</td>\n",
       "    </tr>\n",
       "    <tr>\n",
       "      <th>Дальний Восток</th>\n",
       "      <td>[фарпост владивосток, дром хабаровск, дром вла...</td>\n",
       "    </tr>\n",
       "    <tr>\n",
       "      <th>Северо-Запад</th>\n",
       "      <td>[авито ру санкт петербург, погода в санкт пете...</td>\n",
       "    </tr>\n",
       "    <tr>\n",
       "      <th>Центр</th>\n",
       "      <td>[авито москва, авито ярославль, москва, гисмет...</td>\n",
       "    </tr>\n",
       "  </tbody>\n",
       "</table>\n",
       "</div>"
      ],
      "text/plain": [
       "                                                          keyword\n",
       "region                                                           \n",
       "undefined       [вк, одноклассники, порно, ютуб, вконтакте, од...\n",
       "Дальний Восток  [фарпост владивосток, дром хабаровск, дром вла...\n",
       "Северо-Запад    [авито ру санкт петербург, погода в санкт пете...\n",
       "Центр           [авито москва, авито ярославль, москва, гисмет..."
      ]
     },
     "execution_count": 14,
     "metadata": {},
     "output_type": "execute_result"
    }
   ],
   "source": [
    "keywords.groupby('region').agg({'keyword': 'unique'})"
   ]
  },
  {
   "cell_type": "markdown",
   "id": "9c92cf57",
   "metadata": {},
   "source": [
    "Формула вроде бы отработала правильно. Проверим сколько ключевых слов попало в __undefined__"
   ]
  },
  {
   "cell_type": "code",
   "execution_count": 15,
   "id": "8118b544",
   "metadata": {},
   "outputs": [
    {
     "data": {
      "text/plain": [
       "99253"
      ]
     },
     "execution_count": 15,
     "metadata": {},
     "output_type": "execute_result"
    }
   ],
   "source": [
    "len(keywords.groupby('region').agg({'keyword': 'unique'}).loc['undefined', 'keyword'])"
   ]
  },
  {
   "cell_type": "markdown",
   "id": "c4848ce1",
   "metadata": {},
   "source": [
    "Из 100000 слов 99253. Выведем датафрейм только с ключевыми словами где есть города"
   ]
  },
  {
   "cell_type": "code",
   "execution_count": 16,
   "id": "4d47091d",
   "metadata": {},
   "outputs": [
    {
     "data": {
      "text/html": [
       "<div>\n",
       "<style scoped>\n",
       "    .dataframe tbody tr th:only-of-type {\n",
       "        vertical-align: middle;\n",
       "    }\n",
       "\n",
       "    .dataframe tbody tr th {\n",
       "        vertical-align: top;\n",
       "    }\n",
       "\n",
       "    .dataframe thead th {\n",
       "        text-align: right;\n",
       "    }\n",
       "</style>\n",
       "<table border=\"1\" class=\"dataframe\">\n",
       "  <thead>\n",
       "    <tr style=\"text-align: right;\">\n",
       "      <th></th>\n",
       "      <th>keyword</th>\n",
       "      <th>shows</th>\n",
       "      <th>region</th>\n",
       "    </tr>\n",
       "  </thead>\n",
       "  <tbody>\n",
       "    <tr>\n",
       "      <th>127</th>\n",
       "      <td>авито москва</td>\n",
       "      <td>979292</td>\n",
       "      <td>Центр</td>\n",
       "    </tr>\n",
       "    <tr>\n",
       "      <th>370</th>\n",
       "      <td>авито ру санкт петербург</td>\n",
       "      <td>425134</td>\n",
       "      <td>Северо-Запад</td>\n",
       "    </tr>\n",
       "    <tr>\n",
       "      <th>564</th>\n",
       "      <td>погода в санкт петербурге</td>\n",
       "      <td>292489</td>\n",
       "      <td>Северо-Запад</td>\n",
       "    </tr>\n",
       "    <tr>\n",
       "      <th>849</th>\n",
       "      <td>авито ярославль</td>\n",
       "      <td>209581</td>\n",
       "      <td>Центр</td>\n",
       "    </tr>\n",
       "    <tr>\n",
       "      <th>1063</th>\n",
       "      <td>фарпост владивосток</td>\n",
       "      <td>176951</td>\n",
       "      <td>Дальний Восток</td>\n",
       "    </tr>\n",
       "    <tr>\n",
       "      <th>...</th>\n",
       "      <td>...</td>\n",
       "      <td>...</td>\n",
       "      <td>...</td>\n",
       "    </tr>\n",
       "    <tr>\n",
       "      <th>99590</th>\n",
       "      <td>авито ярославль автомобили с пробегом</td>\n",
       "      <td>3673</td>\n",
       "      <td>Центр</td>\n",
       "    </tr>\n",
       "    <tr>\n",
       "      <th>99634</th>\n",
       "      <td>северпост новости мурманской области</td>\n",
       "      <td>3606</td>\n",
       "      <td>Северо-Запад</td>\n",
       "    </tr>\n",
       "    <tr>\n",
       "      <th>99808</th>\n",
       "      <td>полармед мурманск запись на прием</td>\n",
       "      <td>3719</td>\n",
       "      <td>Северо-Запад</td>\n",
       "    </tr>\n",
       "    <tr>\n",
       "      <th>99890</th>\n",
       "      <td>яндекс метро москва</td>\n",
       "      <td>4548</td>\n",
       "      <td>Центр</td>\n",
       "    </tr>\n",
       "    <tr>\n",
       "      <th>99922</th>\n",
       "      <td>авто ру ярославль</td>\n",
       "      <td>3712</td>\n",
       "      <td>Центр</td>\n",
       "    </tr>\n",
       "  </tbody>\n",
       "</table>\n",
       "<p>747 rows × 3 columns</p>\n",
       "</div>"
      ],
      "text/plain": [
       "                                     keyword   shows          region\n",
       "127                             авито москва  979292           Центр\n",
       "370                 авито ру санкт петербург  425134    Северо-Запад\n",
       "564                погода в санкт петербурге  292489    Северо-Запад\n",
       "849                          авито ярославль  209581           Центр\n",
       "1063                     фарпост владивосток  176951  Дальний Восток\n",
       "...                                      ...     ...             ...\n",
       "99590  авито ярославль автомобили с пробегом    3673           Центр\n",
       "99634   северпост новости мурманской области    3606    Северо-Запад\n",
       "99808      полармед мурманск запись на прием    3719    Северо-Запад\n",
       "99890                    яндекс метро москва    4548           Центр\n",
       "99922                      авто ру ярославль    3712           Центр\n",
       "\n",
       "[747 rows x 3 columns]"
      ]
     },
     "execution_count": 16,
     "metadata": {},
     "output_type": "execute_result"
    }
   ],
   "source": [
    "keywords[keywords['keyword'].str.contains('|'.join(reduce(lambda x,y: x + y, list(geo_data.values()))), case=False)]"
   ]
  },
  {
   "cell_type": "code",
   "execution_count": 17,
   "id": "31ee61b8",
   "metadata": {},
   "outputs": [
    {
     "data": {
      "text/plain": [
       "True"
      ]
     },
     "execution_count": 17,
     "metadata": {},
     "output_type": "execute_result"
    }
   ],
   "source": [
    "len(keywords.groupby('region').agg({'keyword': 'unique'}).loc['undefined', 'keyword']) + \\\n",
    "keywords[keywords['keyword'].str.contains('|'.join(reduce(lambda x,y: x + y, list(geo_data.values()))), case=False)].shape[0] == \\\n",
    "keywords.shape[0]"
   ]
  },
  {
   "cell_type": "markdown",
   "id": "ce04d473",
   "metadata": {},
   "source": [
    "Все сматчилось корректно"
   ]
  },
  {
   "cell_type": "markdown",
   "id": "a533830a",
   "metadata": {},
   "source": [
    "#### Задание 3\n",
    "Есть мнение, что “раньше снимали настоящее кино, не то что сейчас”. Ваша задача проверить это утверждение, используя файлы с рейтингами фильмов из прошлого домашнего занятия (файл movies.csv и ratings.csv из базы grouplens.org.../movielens). Т. е. проверить верно ли, что с ростом года выпуска фильма его средний рейтинг становится ниже.\n",
    "\n",
    "При этом мы не будем затрагивать субьективные факторы выставления этих рейтингов, а пройдемся по следующему алгоритму:\n",
    "\n",
    "В переменную years запишите список из всех годов с 1950 по 2010.\n",
    "\n",
    "Напишите функцию production_year, которая каждой строке из названия фильма выставляет год выпуска. Не все названия фильмов содержат год выпуска в одинаковом формате, поэтому используйте следующий алгоритм:\n",
    "\n",
    "для каждой строки пройдите по всем годам списка years\n",
    "если номер года присутствует в названии фильма, то функция возвращает этот год как год выпуска\n",
    "если ни один из номеров года списка years не встретился в названии фильма, то возвращается 1900 год\n",
    "Запишите год выпуска фильма по алгоритму пункта 2 в новый столбец ‘year’\n",
    "\n",
    "Посчитайте средний рейтинг всех фильмов для каждого значения столбца ‘year’ и отсортируйте результат по убыванию рейтинга\n",
    "\n",
    "P/S/ все файлы находятся в архиве «дополнительные файлы к лекции и дз»"
   ]
  },
  {
   "cell_type": "code",
   "execution_count": 18,
   "id": "de79535b",
   "metadata": {},
   "outputs": [],
   "source": [
    "movies = pd.read_csv(os.getcwd() + '/ml-latest/' + task_1_files[4])\n",
    "ratings = pd.read_csv(os.getcwd() + '/ml-latest/' + task_1_files[2])"
   ]
  },
  {
   "cell_type": "code",
   "execution_count": 19,
   "id": "699ad707",
   "metadata": {},
   "outputs": [
    {
     "data": {
      "text/html": [
       "<div>\n",
       "<style scoped>\n",
       "    .dataframe tbody tr th:only-of-type {\n",
       "        vertical-align: middle;\n",
       "    }\n",
       "\n",
       "    .dataframe tbody tr th {\n",
       "        vertical-align: top;\n",
       "    }\n",
       "\n",
       "    .dataframe thead th {\n",
       "        text-align: right;\n",
       "    }\n",
       "</style>\n",
       "<table border=\"1\" class=\"dataframe\">\n",
       "  <thead>\n",
       "    <tr style=\"text-align: right;\">\n",
       "      <th></th>\n",
       "      <th>movieId</th>\n",
       "      <th>title</th>\n",
       "      <th>genres</th>\n",
       "    </tr>\n",
       "  </thead>\n",
       "  <tbody>\n",
       "    <tr>\n",
       "      <th>0</th>\n",
       "      <td>1</td>\n",
       "      <td>Toy Story (1995)</td>\n",
       "      <td>Adventure|Animation|Children|Comedy|Fantasy</td>\n",
       "    </tr>\n",
       "    <tr>\n",
       "      <th>1</th>\n",
       "      <td>2</td>\n",
       "      <td>Jumanji (1995)</td>\n",
       "      <td>Adventure|Children|Fantasy</td>\n",
       "    </tr>\n",
       "    <tr>\n",
       "      <th>2</th>\n",
       "      <td>3</td>\n",
       "      <td>Grumpier Old Men (1995)</td>\n",
       "      <td>Comedy|Romance</td>\n",
       "    </tr>\n",
       "    <tr>\n",
       "      <th>3</th>\n",
       "      <td>4</td>\n",
       "      <td>Waiting to Exhale (1995)</td>\n",
       "      <td>Comedy|Drama|Romance</td>\n",
       "    </tr>\n",
       "    <tr>\n",
       "      <th>4</th>\n",
       "      <td>5</td>\n",
       "      <td>Father of the Bride Part II (1995)</td>\n",
       "      <td>Comedy</td>\n",
       "    </tr>\n",
       "  </tbody>\n",
       "</table>\n",
       "</div>"
      ],
      "text/plain": [
       "   movieId                               title  \\\n",
       "0        1                    Toy Story (1995)   \n",
       "1        2                      Jumanji (1995)   \n",
       "2        3             Grumpier Old Men (1995)   \n",
       "3        4            Waiting to Exhale (1995)   \n",
       "4        5  Father of the Bride Part II (1995)   \n",
       "\n",
       "                                        genres  \n",
       "0  Adventure|Animation|Children|Comedy|Fantasy  \n",
       "1                   Adventure|Children|Fantasy  \n",
       "2                               Comedy|Romance  \n",
       "3                         Comedy|Drama|Romance  \n",
       "4                                       Comedy  "
      ]
     },
     "execution_count": 19,
     "metadata": {},
     "output_type": "execute_result"
    }
   ],
   "source": [
    "movies.head()"
   ]
  },
  {
   "cell_type": "code",
   "execution_count": 20,
   "id": "198ee9f3",
   "metadata": {},
   "outputs": [
    {
     "data": {
      "text/html": [
       "<div>\n",
       "<style scoped>\n",
       "    .dataframe tbody tr th:only-of-type {\n",
       "        vertical-align: middle;\n",
       "    }\n",
       "\n",
       "    .dataframe tbody tr th {\n",
       "        vertical-align: top;\n",
       "    }\n",
       "\n",
       "    .dataframe thead th {\n",
       "        text-align: right;\n",
       "    }\n",
       "</style>\n",
       "<table border=\"1\" class=\"dataframe\">\n",
       "  <thead>\n",
       "    <tr style=\"text-align: right;\">\n",
       "      <th></th>\n",
       "      <th>userId</th>\n",
       "      <th>movieId</th>\n",
       "      <th>rating</th>\n",
       "      <th>timestamp</th>\n",
       "    </tr>\n",
       "  </thead>\n",
       "  <tbody>\n",
       "    <tr>\n",
       "      <th>0</th>\n",
       "      <td>1</td>\n",
       "      <td>31</td>\n",
       "      <td>2.5</td>\n",
       "      <td>1260759144</td>\n",
       "    </tr>\n",
       "    <tr>\n",
       "      <th>1</th>\n",
       "      <td>1</td>\n",
       "      <td>1029</td>\n",
       "      <td>3.0</td>\n",
       "      <td>1260759179</td>\n",
       "    </tr>\n",
       "    <tr>\n",
       "      <th>2</th>\n",
       "      <td>1</td>\n",
       "      <td>1061</td>\n",
       "      <td>3.0</td>\n",
       "      <td>1260759182</td>\n",
       "    </tr>\n",
       "    <tr>\n",
       "      <th>3</th>\n",
       "      <td>1</td>\n",
       "      <td>1129</td>\n",
       "      <td>2.0</td>\n",
       "      <td>1260759185</td>\n",
       "    </tr>\n",
       "    <tr>\n",
       "      <th>4</th>\n",
       "      <td>1</td>\n",
       "      <td>1172</td>\n",
       "      <td>4.0</td>\n",
       "      <td>1260759205</td>\n",
       "    </tr>\n",
       "  </tbody>\n",
       "</table>\n",
       "</div>"
      ],
      "text/plain": [
       "   userId  movieId  rating   timestamp\n",
       "0       1       31     2.5  1260759144\n",
       "1       1     1029     3.0  1260759179\n",
       "2       1     1061     3.0  1260759182\n",
       "3       1     1129     2.0  1260759185\n",
       "4       1     1172     4.0  1260759205"
      ]
     },
     "execution_count": 20,
     "metadata": {},
     "output_type": "execute_result"
    }
   ],
   "source": [
    "ratings.head()"
   ]
  },
  {
   "cell_type": "code",
   "execution_count": 21,
   "id": "2381c7c8",
   "metadata": {},
   "outputs": [],
   "source": [
    "def production_year(title):\n",
    "    for i in list(range(1950,2010)):\n",
    "        if str(i) in title:\n",
    "            return i\n",
    "    return 1900"
   ]
  },
  {
   "cell_type": "code",
   "execution_count": 22,
   "id": "b6e32cc2",
   "metadata": {},
   "outputs": [],
   "source": [
    "movies['year'] = movies['title'].apply(production_year)"
   ]
  },
  {
   "cell_type": "code",
   "execution_count": 23,
   "id": "87a02fb1",
   "metadata": {},
   "outputs": [],
   "source": [
    "movies.set_index('movieId', inplace=True)"
   ]
  },
  {
   "cell_type": "code",
   "execution_count": 24,
   "id": "5b7eaa59",
   "metadata": {},
   "outputs": [
    {
     "data": {
      "text/html": [
       "<div>\n",
       "<style scoped>\n",
       "    .dataframe tbody tr th:only-of-type {\n",
       "        vertical-align: middle;\n",
       "    }\n",
       "\n",
       "    .dataframe tbody tr th {\n",
       "        vertical-align: top;\n",
       "    }\n",
       "\n",
       "    .dataframe thead th {\n",
       "        text-align: right;\n",
       "    }\n",
       "</style>\n",
       "<table border=\"1\" class=\"dataframe\">\n",
       "  <thead>\n",
       "    <tr style=\"text-align: right;\">\n",
       "      <th></th>\n",
       "      <th>title</th>\n",
       "      <th>genres</th>\n",
       "      <th>year</th>\n",
       "    </tr>\n",
       "    <tr>\n",
       "      <th>movieId</th>\n",
       "      <th></th>\n",
       "      <th></th>\n",
       "      <th></th>\n",
       "    </tr>\n",
       "  </thead>\n",
       "  <tbody>\n",
       "    <tr>\n",
       "      <th>1168</th>\n",
       "      <td>Bad Moon (1996)</td>\n",
       "      <td>Action|Adventure|Horror</td>\n",
       "      <td>1996</td>\n",
       "    </tr>\n",
       "    <tr>\n",
       "      <th>3891</th>\n",
       "      <td>Turn It Up (2000)</td>\n",
       "      <td>Crime|Drama</td>\n",
       "      <td>2000</td>\n",
       "    </tr>\n",
       "    <tr>\n",
       "      <th>71180</th>\n",
       "      <td>Padre padrone (1977)</td>\n",
       "      <td>Drama</td>\n",
       "      <td>1977</td>\n",
       "    </tr>\n",
       "    <tr>\n",
       "      <th>130580</th>\n",
       "      <td>The Disappearance of Eleanor Rigby: Her (2013)</td>\n",
       "      <td>Drama</td>\n",
       "      <td>1900</td>\n",
       "    </tr>\n",
       "    <tr>\n",
       "      <th>866</th>\n",
       "      <td>Bound (1996)</td>\n",
       "      <td>Crime|Drama|Romance|Thriller</td>\n",
       "      <td>1996</td>\n",
       "    </tr>\n",
       "    <tr>\n",
       "      <th>104457</th>\n",
       "      <td>You're Next (2011)</td>\n",
       "      <td>Horror|Thriller</td>\n",
       "      <td>1900</td>\n",
       "    </tr>\n",
       "    <tr>\n",
       "      <th>2525</th>\n",
       "      <td>Alligator (1980)</td>\n",
       "      <td>Action|Horror|Sci-Fi</td>\n",
       "      <td>1980</td>\n",
       "    </tr>\n",
       "    <tr>\n",
       "      <th>89753</th>\n",
       "      <td>Tinker Tailor Soldier Spy (2011)</td>\n",
       "      <td>Drama|Film-Noir|Thriller</td>\n",
       "      <td>1900</td>\n",
       "    </tr>\n",
       "    <tr>\n",
       "      <th>142536</th>\n",
       "      <td>Burnt (2015)</td>\n",
       "      <td>Drama</td>\n",
       "      <td>1900</td>\n",
       "    </tr>\n",
       "    <tr>\n",
       "      <th>128606</th>\n",
       "      <td>45 Years (2015)</td>\n",
       "      <td>Drama</td>\n",
       "      <td>1900</td>\n",
       "    </tr>\n",
       "  </tbody>\n",
       "</table>\n",
       "</div>"
      ],
      "text/plain": [
       "                                                  title  \\\n",
       "movieId                                                   \n",
       "1168                                    Bad Moon (1996)   \n",
       "3891                                  Turn It Up (2000)   \n",
       "71180                              Padre padrone (1977)   \n",
       "130580   The Disappearance of Eleanor Rigby: Her (2013)   \n",
       "866                                        Bound (1996)   \n",
       "104457                               You're Next (2011)   \n",
       "2525                                   Alligator (1980)   \n",
       "89753                  Tinker Tailor Soldier Spy (2011)   \n",
       "142536                                     Burnt (2015)   \n",
       "128606                                  45 Years (2015)   \n",
       "\n",
       "                               genres  year  \n",
       "movieId                                      \n",
       "1168          Action|Adventure|Horror  1996  \n",
       "3891                      Crime|Drama  2000  \n",
       "71180                           Drama  1977  \n",
       "130580                          Drama  1900  \n",
       "866      Crime|Drama|Romance|Thriller  1996  \n",
       "104457                Horror|Thriller  1900  \n",
       "2525             Action|Horror|Sci-Fi  1980  \n",
       "89753        Drama|Film-Noir|Thriller  1900  \n",
       "142536                          Drama  1900  \n",
       "128606                          Drama  1900  "
      ]
     },
     "execution_count": 24,
     "metadata": {},
     "output_type": "execute_result"
    }
   ],
   "source": [
    "movies.sample(10)"
   ]
  },
  {
   "cell_type": "markdown",
   "id": "5409815e",
   "metadata": {},
   "source": [
    "Годы отразились согласно задуманному"
   ]
  },
  {
   "cell_type": "markdown",
   "id": "86674dad",
   "metadata": {},
   "source": [
    "В таблице __ratings__ определим средний рейтинг по каждому __movieId__. Полученный результат присоединим к таблице __movies__ по индексу __movieId__. после чего сгруппируем полученный датафрейм по годам и выведем средний рейтинг по году"
   ]
  },
  {
   "cell_type": "code",
   "execution_count": 25,
   "id": "4f8d054f",
   "metadata": {},
   "outputs": [],
   "source": [
    "result = movies.merge(\n",
    "    ratings.groupby('movieId').agg({'rating':'mean'}), \n",
    "    how='left', left_index=True, right_index=True\n",
    ").groupby('year').agg({'rating':'mean', 'title': 'count'}).loc[1950:2010,]"
   ]
  },
  {
   "cell_type": "code",
   "execution_count": 26,
   "id": "ea3d2195",
   "metadata": {},
   "outputs": [
    {
     "data": {
      "text/html": [
       "<div>\n",
       "<style scoped>\n",
       "    .dataframe tbody tr th:only-of-type {\n",
       "        vertical-align: middle;\n",
       "    }\n",
       "\n",
       "    .dataframe tbody tr th {\n",
       "        vertical-align: top;\n",
       "    }\n",
       "\n",
       "    .dataframe thead th {\n",
       "        text-align: right;\n",
       "    }\n",
       "</style>\n",
       "<table border=\"1\" class=\"dataframe\">\n",
       "  <thead>\n",
       "    <tr style=\"text-align: right;\">\n",
       "      <th></th>\n",
       "      <th>rating</th>\n",
       "      <th>title</th>\n",
       "    </tr>\n",
       "    <tr>\n",
       "      <th>year</th>\n",
       "      <th></th>\n",
       "      <th></th>\n",
       "    </tr>\n",
       "  </thead>\n",
       "  <tbody>\n",
       "    <tr>\n",
       "      <th>1951</th>\n",
       "      <td>3.906653</td>\n",
       "      <td>23</td>\n",
       "    </tr>\n",
       "    <tr>\n",
       "      <th>1952</th>\n",
       "      <td>3.802318</td>\n",
       "      <td>27</td>\n",
       "    </tr>\n",
       "    <tr>\n",
       "      <th>1962</th>\n",
       "      <td>3.772962</td>\n",
       "      <td>41</td>\n",
       "    </tr>\n",
       "    <tr>\n",
       "      <th>1953</th>\n",
       "      <td>3.738878</td>\n",
       "      <td>36</td>\n",
       "    </tr>\n",
       "    <tr>\n",
       "      <th>1957</th>\n",
       "      <td>3.693322</td>\n",
       "      <td>41</td>\n",
       "    </tr>\n",
       "    <tr>\n",
       "      <th>1973</th>\n",
       "      <td>3.688212</td>\n",
       "      <td>51</td>\n",
       "    </tr>\n",
       "    <tr>\n",
       "      <th>1971</th>\n",
       "      <td>3.643227</td>\n",
       "      <td>56</td>\n",
       "    </tr>\n",
       "    <tr>\n",
       "      <th>1969</th>\n",
       "      <td>3.604509</td>\n",
       "      <td>40</td>\n",
       "    </tr>\n",
       "    <tr>\n",
       "      <th>1972</th>\n",
       "      <td>3.585295</td>\n",
       "      <td>48</td>\n",
       "    </tr>\n",
       "    <tr>\n",
       "      <th>1958</th>\n",
       "      <td>3.571956</td>\n",
       "      <td>31</td>\n",
       "    </tr>\n",
       "    <tr>\n",
       "      <th>1977</th>\n",
       "      <td>3.561309</td>\n",
       "      <td>61</td>\n",
       "    </tr>\n",
       "    <tr>\n",
       "      <th>1970</th>\n",
       "      <td>3.559196</td>\n",
       "      <td>43</td>\n",
       "    </tr>\n",
       "    <tr>\n",
       "      <th>1976</th>\n",
       "      <td>3.555585</td>\n",
       "      <td>51</td>\n",
       "    </tr>\n",
       "    <tr>\n",
       "      <th>1964</th>\n",
       "      <td>3.541368</td>\n",
       "      <td>45</td>\n",
       "    </tr>\n",
       "    <tr>\n",
       "      <th>1960</th>\n",
       "      <td>3.521093</td>\n",
       "      <td>45</td>\n",
       "    </tr>\n",
       "    <tr>\n",
       "      <th>1965</th>\n",
       "      <td>3.517831</td>\n",
       "      <td>43</td>\n",
       "    </tr>\n",
       "    <tr>\n",
       "      <th>1954</th>\n",
       "      <td>3.499630</td>\n",
       "      <td>33</td>\n",
       "    </tr>\n",
       "    <tr>\n",
       "      <th>1955</th>\n",
       "      <td>3.494027</td>\n",
       "      <td>49</td>\n",
       "    </tr>\n",
       "    <tr>\n",
       "      <th>1978</th>\n",
       "      <td>3.480250</td>\n",
       "      <td>62</td>\n",
       "    </tr>\n",
       "    <tr>\n",
       "      <th>1963</th>\n",
       "      <td>3.476131</td>\n",
       "      <td>47</td>\n",
       "    </tr>\n",
       "    <tr>\n",
       "      <th>1974</th>\n",
       "      <td>3.474349</td>\n",
       "      <td>57</td>\n",
       "    </tr>\n",
       "    <tr>\n",
       "      <th>1959</th>\n",
       "      <td>3.451465</td>\n",
       "      <td>41</td>\n",
       "    </tr>\n",
       "    <tr>\n",
       "      <th>1961</th>\n",
       "      <td>3.447639</td>\n",
       "      <td>36</td>\n",
       "    </tr>\n",
       "    <tr>\n",
       "      <th>1950</th>\n",
       "      <td>3.436538</td>\n",
       "      <td>27</td>\n",
       "    </tr>\n",
       "    <tr>\n",
       "      <th>1981</th>\n",
       "      <td>3.433803</td>\n",
       "      <td>99</td>\n",
       "    </tr>\n",
       "    <tr>\n",
       "      <th>1984</th>\n",
       "      <td>3.421947</td>\n",
       "      <td>99</td>\n",
       "    </tr>\n",
       "    <tr>\n",
       "      <th>1982</th>\n",
       "      <td>3.389581</td>\n",
       "      <td>102</td>\n",
       "    </tr>\n",
       "    <tr>\n",
       "      <th>1979</th>\n",
       "      <td>3.385841</td>\n",
       "      <td>72</td>\n",
       "    </tr>\n",
       "    <tr>\n",
       "      <th>2007</th>\n",
       "      <td>3.380247</td>\n",
       "      <td>256</td>\n",
       "    </tr>\n",
       "    <tr>\n",
       "      <th>1967</th>\n",
       "      <td>3.371085</td>\n",
       "      <td>53</td>\n",
       "    </tr>\n",
       "    <tr>\n",
       "      <th>1966</th>\n",
       "      <td>3.369490</td>\n",
       "      <td>48</td>\n",
       "    </tr>\n",
       "    <tr>\n",
       "      <th>1975</th>\n",
       "      <td>3.338858</td>\n",
       "      <td>51</td>\n",
       "    </tr>\n",
       "    <tr>\n",
       "      <th>1995</th>\n",
       "      <td>3.337819</td>\n",
       "      <td>266</td>\n",
       "    </tr>\n",
       "    <tr>\n",
       "      <th>1992</th>\n",
       "      <td>3.335977</td>\n",
       "      <td>149</td>\n",
       "    </tr>\n",
       "    <tr>\n",
       "      <th>2005</th>\n",
       "      <td>3.333775</td>\n",
       "      <td>233</td>\n",
       "    </tr>\n",
       "    <tr>\n",
       "      <th>1985</th>\n",
       "      <td>3.331014</td>\n",
       "      <td>125</td>\n",
       "    </tr>\n",
       "    <tr>\n",
       "      <th>1986</th>\n",
       "      <td>3.322234</td>\n",
       "      <td>130</td>\n",
       "    </tr>\n",
       "    <tr>\n",
       "      <th>1956</th>\n",
       "      <td>3.319404</td>\n",
       "      <td>32</td>\n",
       "    </tr>\n",
       "    <tr>\n",
       "      <th>2004</th>\n",
       "      <td>3.300785</td>\n",
       "      <td>247</td>\n",
       "    </tr>\n",
       "    <tr>\n",
       "      <th>1993</th>\n",
       "      <td>3.281731</td>\n",
       "      <td>198</td>\n",
       "    </tr>\n",
       "    <tr>\n",
       "      <th>1968</th>\n",
       "      <td>3.272118</td>\n",
       "      <td>45</td>\n",
       "    </tr>\n",
       "    <tr>\n",
       "      <th>1994</th>\n",
       "      <td>3.269216</td>\n",
       "      <td>240</td>\n",
       "    </tr>\n",
       "    <tr>\n",
       "      <th>1998</th>\n",
       "      <td>3.266041</td>\n",
       "      <td>272</td>\n",
       "    </tr>\n",
       "    <tr>\n",
       "      <th>2006</th>\n",
       "      <td>3.265219</td>\n",
       "      <td>261</td>\n",
       "    </tr>\n",
       "    <tr>\n",
       "      <th>1996</th>\n",
       "      <td>3.260178</td>\n",
       "      <td>275</td>\n",
       "    </tr>\n",
       "    <tr>\n",
       "      <th>1987</th>\n",
       "      <td>3.247274</td>\n",
       "      <td>152</td>\n",
       "    </tr>\n",
       "    <tr>\n",
       "      <th>1989</th>\n",
       "      <td>3.245381</td>\n",
       "      <td>147</td>\n",
       "    </tr>\n",
       "    <tr>\n",
       "      <th>1988</th>\n",
       "      <td>3.242909</td>\n",
       "      <td>164</td>\n",
       "    </tr>\n",
       "    <tr>\n",
       "      <th>2008</th>\n",
       "      <td>3.237304</td>\n",
       "      <td>247</td>\n",
       "    </tr>\n",
       "    <tr>\n",
       "      <th>1980</th>\n",
       "      <td>3.221179</td>\n",
       "      <td>97</td>\n",
       "    </tr>\n",
       "    <tr>\n",
       "      <th>1991</th>\n",
       "      <td>3.214035</td>\n",
       "      <td>137</td>\n",
       "    </tr>\n",
       "    <tr>\n",
       "      <th>2009</th>\n",
       "      <td>3.212944</td>\n",
       "      <td>254</td>\n",
       "    </tr>\n",
       "    <tr>\n",
       "      <th>1983</th>\n",
       "      <td>3.205512</td>\n",
       "      <td>82</td>\n",
       "    </tr>\n",
       "    <tr>\n",
       "      <th>1999</th>\n",
       "      <td>3.201568</td>\n",
       "      <td>261</td>\n",
       "    </tr>\n",
       "    <tr>\n",
       "      <th>2000</th>\n",
       "      <td>3.194736</td>\n",
       "      <td>274</td>\n",
       "    </tr>\n",
       "    <tr>\n",
       "      <th>2002</th>\n",
       "      <td>3.191918</td>\n",
       "      <td>271</td>\n",
       "    </tr>\n",
       "    <tr>\n",
       "      <th>1997</th>\n",
       "      <td>3.183169</td>\n",
       "      <td>267</td>\n",
       "    </tr>\n",
       "    <tr>\n",
       "      <th>1990</th>\n",
       "      <td>3.166759</td>\n",
       "      <td>142</td>\n",
       "    </tr>\n",
       "    <tr>\n",
       "      <th>2003</th>\n",
       "      <td>3.154081</td>\n",
       "      <td>238</td>\n",
       "    </tr>\n",
       "    <tr>\n",
       "      <th>2001</th>\n",
       "      <td>3.133080</td>\n",
       "      <td>267</td>\n",
       "    </tr>\n",
       "  </tbody>\n",
       "</table>\n",
       "</div>"
      ],
      "text/plain": [
       "        rating  title\n",
       "year                 \n",
       "1951  3.906653     23\n",
       "1952  3.802318     27\n",
       "1962  3.772962     41\n",
       "1953  3.738878     36\n",
       "1957  3.693322     41\n",
       "1973  3.688212     51\n",
       "1971  3.643227     56\n",
       "1969  3.604509     40\n",
       "1972  3.585295     48\n",
       "1958  3.571956     31\n",
       "1977  3.561309     61\n",
       "1970  3.559196     43\n",
       "1976  3.555585     51\n",
       "1964  3.541368     45\n",
       "1960  3.521093     45\n",
       "1965  3.517831     43\n",
       "1954  3.499630     33\n",
       "1955  3.494027     49\n",
       "1978  3.480250     62\n",
       "1963  3.476131     47\n",
       "1974  3.474349     57\n",
       "1959  3.451465     41\n",
       "1961  3.447639     36\n",
       "1950  3.436538     27\n",
       "1981  3.433803     99\n",
       "1984  3.421947     99\n",
       "1982  3.389581    102\n",
       "1979  3.385841     72\n",
       "2007  3.380247    256\n",
       "1967  3.371085     53\n",
       "1966  3.369490     48\n",
       "1975  3.338858     51\n",
       "1995  3.337819    266\n",
       "1992  3.335977    149\n",
       "2005  3.333775    233\n",
       "1985  3.331014    125\n",
       "1986  3.322234    130\n",
       "1956  3.319404     32\n",
       "2004  3.300785    247\n",
       "1993  3.281731    198\n",
       "1968  3.272118     45\n",
       "1994  3.269216    240\n",
       "1998  3.266041    272\n",
       "2006  3.265219    261\n",
       "1996  3.260178    275\n",
       "1987  3.247274    152\n",
       "1989  3.245381    147\n",
       "1988  3.242909    164\n",
       "2008  3.237304    247\n",
       "1980  3.221179     97\n",
       "1991  3.214035    137\n",
       "2009  3.212944    254\n",
       "1983  3.205512     82\n",
       "1999  3.201568    261\n",
       "2000  3.194736    274\n",
       "2002  3.191918    271\n",
       "1997  3.183169    267\n",
       "1990  3.166759    142\n",
       "2003  3.154081    238\n",
       "2001  3.133080    267"
      ]
     },
     "execution_count": 26,
     "metadata": {},
     "output_type": "execute_result"
    }
   ],
   "source": [
    "result.sort_values(by='rating', ascending=False)"
   ]
  },
  {
   "cell_type": "code",
   "execution_count": 27,
   "id": "184b6da7",
   "metadata": {},
   "outputs": [
    {
     "data": {
      "text/plain": [
       "<AxesSubplot:xlabel='year'>"
      ]
     },
     "execution_count": 27,
     "metadata": {},
     "output_type": "execute_result"
    },
    {
     "data": {
      "image/png": "[encoded data removed]",
      "text/plain": [
       "<Figure size 432x288 with 1 Axes>"
      ]
     },
     "metadata": {
      "needs_background": "light"
     },
     "output_type": "display_data"
    }
   ],
   "source": [
    "result.rating.plot()"
   ]
  },
  {
   "cell_type": "code",
   "execution_count": 28,
   "id": "391ac978",
   "metadata": {},
   "outputs": [
    {
     "data": {
      "text/plain": [
       "<AxesSubplot:xlabel='year'>"
      ]
     },
     "execution_count": 28,
     "metadata": {},
     "output_type": "execute_result"
    },
    {
     "data": {
      "image/png": "[encoded data removed]",
      "text/plain": [
       "<Figure size 432x288 with 1 Axes>"
      ]
     },
     "metadata": {
      "needs_background": "light"
     },
     "output_type": "display_data"
    }
   ],
   "source": [
    "result.title.plot()"
   ]
  },
  {
   "cell_type": "markdown",
   "id": "cb281379",
   "metadata": {},
   "source": [
    "Похоже с годами средние рейтинги фильмов уменьшаются. Но с другой стороны и фильмов выпускается больше, плюс в данный архив могут заноситься заведомо удачные старые фильмы."
   ]
  }
 ],
 "metadata": {
  "kernelspec": {
   "display_name": "Python 3 (ipykernel)",
   "language": "python",
   "name": "python3"
  },
  "language_info": {
   "codemirror_mode": {
    "name": "ipython",
    "version": 3
   },
   "file_extension": ".py",
   "mimetype": "text/x-python",
   "name": "python",
   "nbconvert_exporter": "python",
   "pygments_lexer": "ipython3",
   "version": "3.9.7"
  }
 },
 "nbformat": 4,
 "nbformat_minor": 5
}
