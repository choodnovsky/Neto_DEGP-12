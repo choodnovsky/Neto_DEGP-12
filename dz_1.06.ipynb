{
 "cells": [
  {
   "cell_type": "markdown",
   "id": "5565491f",
   "metadata": {},
   "source": [
    "## Домашнее задание №6 к лекции «Исключения и обработка ошибок»"
   ]
  },
  {
   "cell_type": "code",
   "execution_count": 1,
   "id": "e6448f04",
   "metadata": {},
   "outputs": [],
   "source": [
    "from datetime import datetime, timedelta\n",
    "import os"
   ]
  },
  {
   "cell_type": "markdown",
   "id": "e11e2cf8",
   "metadata": {},
   "source": [
    "### Задание 1\n",
    "Печатные газеты использовали свой формат дат для каждого выпуска. Для каждой газеты из списка напишите формат указанной даты для перевода в объект datetime:"
   ]
  },
  {
   "cell_type": "markdown",
   "id": "3cccd776",
   "metadata": {},
   "source": [
    "The Moscow Times - Wednesday, October 2, 2002  \n",
    "The Guardian - Friday, 11.10.13  \n",
    "Daily News - Thursday, 18 August 1977  "
   ]
  },
  {
   "cell_type": "code",
   "execution_count": 2,
   "id": "71fa7363",
   "metadata": {},
   "outputs": [],
   "source": [
    "date = datetime(2002, 10, 2, 0, 0, 0, 0)"
   ]
  },
  {
   "cell_type": "markdown",
   "id": "3fac2c9a",
   "metadata": {},
   "source": [
    "Тут можно было бы и попроще, но решил попрактиковаться с зипом и словарями"
   ]
  },
  {
   "cell_type": "code",
   "execution_count": 3,
   "id": "187581e4",
   "metadata": {},
   "outputs": [
    {
     "name": "stdout",
     "output_type": "stream",
     "text": [
      "The Moscow Times - Wednesday, October 2,2002\n",
      "The Guardian - Wednesday, 02.10.02\n",
      "Daily News - Wednesday, 02 October 2002\n"
     ]
    }
   ],
   "source": [
    "newspapers = ['the_moscow_times', 'the_guardian', 'daily_news']\n",
    "date_formats = ['%A, %B %-d,%Y', '%A, %d.%m.%y', '%A, %d %B %Y']\n",
    "for newspaper,date_format in (dict(zip(newspapers, date_formats))).items():\n",
    "    print(newspaper.title().replace('_',' '), '-', date.strftime(date_format))"
   ]
  },
  {
   "cell_type": "markdown",
   "id": "a7695655",
   "metadata": {},
   "source": [
    "### Задание 2\n",
    "Дан поток дат в формате YYYY-MM-DD, в которых встречаются некорректные значения:\n",
    "stream = [‘2018-04-02’, ‘2018-02-29’, ‘2018-19-02’]\n",
    "\n",
    "Напишите функцию, которая проверяет эти даты на корректность. Т. е. для каждой даты возвращает True (дата корректна) или False (некорректная дата)."
   ]
  },
  {
   "cell_type": "code",
   "execution_count": 4,
   "id": "c14607dc",
   "metadata": {},
   "outputs": [],
   "source": [
    "stream = ['2018-04-02', '2018-02-29', '2018-19-02']"
   ]
  },
  {
   "cell_type": "markdown",
   "id": "1f632ca7",
   "metadata": {},
   "source": [
    "Это если функция применяется к конкретной дате в списке"
   ]
  },
  {
   "cell_type": "code",
   "execution_count": 5,
   "id": "4fc41a1f",
   "metadata": {},
   "outputs": [],
   "source": [
    "def date_validator_1(date):\n",
    "    try:\n",
    "        datetime.strptime(date, '%Y-%m-%d')\n",
    "        return True\n",
    "    except:\n",
    "        return False"
   ]
  },
  {
   "cell_type": "code",
   "execution_count": 6,
   "id": "5cd9184f",
   "metadata": {},
   "outputs": [
    {
     "name": "stdout",
     "output_type": "stream",
     "text": [
      "True\n",
      "False\n",
      "False\n"
     ]
    }
   ],
   "source": [
    "for date in stream:\n",
    "    print(date_validator_1(date))"
   ]
  },
  {
   "cell_type": "markdown",
   "id": "0f688a79",
   "metadata": {},
   "source": [
    "Это если функция применяется ко всему списку"
   ]
  },
  {
   "cell_type": "code",
   "execution_count": 7,
   "id": "e3eba7e0",
   "metadata": {},
   "outputs": [],
   "source": [
    "def date_validator_2(date_lst):\n",
    "    for date in date_lst:\n",
    "        try:\n",
    "            datetime.strptime(date, '%Y-%m-%d')\n",
    "            print(date, True)\n",
    "        except:\n",
    "            print(date, False)"
   ]
  },
  {
   "cell_type": "code",
   "execution_count": 8,
   "id": "76f80a96",
   "metadata": {},
   "outputs": [
    {
     "name": "stdout",
     "output_type": "stream",
     "text": [
      "2018-04-02 True\n",
      "2018-02-29 False\n",
      "2018-19-02 False\n"
     ]
    }
   ],
   "source": [
    "date_validator_2(stream)"
   ]
  },
  {
   "cell_type": "markdown",
   "id": "228a39fa",
   "metadata": {},
   "source": [
    "Это если надо получить список списков. Может понадобится его куда-нибудь залить. Словарь наверно не очень удачная идея, т.к. даты в потоке могут быть не уникальные, а при `setdefault` первоначальное значение `True` или `False` не изменится"
   ]
  },
  {
   "cell_type": "code",
   "execution_count": 9,
   "id": "205ba031",
   "metadata": {},
   "outputs": [],
   "source": [
    "def date_validator_3(date_lst):\n",
    "    result = []\n",
    "    for date in date_lst:\n",
    "        try:\n",
    "            datetime.strptime(date, '%Y-%m-%d')\n",
    "            result.append([date, True])\n",
    "        except:\n",
    "            result.append([date, False])\n",
    "    return result"
   ]
  },
  {
   "cell_type": "code",
   "execution_count": 10,
   "id": "4d3b75ea",
   "metadata": {},
   "outputs": [
    {
     "data": {
      "text/plain": [
       "[['2018-04-02', True], ['2018-02-29', False], ['2018-19-02', False]]"
      ]
     },
     "execution_count": 10,
     "metadata": {},
     "output_type": "execute_result"
    }
   ],
   "source": [
    "date_validator_3(stream)"
   ]
  },
  {
   "cell_type": "markdown",
   "id": "d0b93f0b",
   "metadata": {},
   "source": [
    "Это на случай если нам этот результат понадобится сохранить в нужной папке текущего проекта в csv"
   ]
  },
  {
   "cell_type": "code",
   "execution_count": 11,
   "id": "34643031",
   "metadata": {},
   "outputs": [],
   "source": [
    "def date_validator_4(date_lst, path):\n",
    "    with open(path + 'validator.csv', 'w') as f:\n",
    "        for date in date_lst:\n",
    "            try:\n",
    "                datetime.strptime(date, '%Y-%m-%d')\n",
    "                f.write(date + ',')\n",
    "                f.write(str(True) + '\\n')\n",
    "            except:\n",
    "                f.write(date + ',')\n",
    "                f.write(str(False) + '\\n')\n",
    "    print('Список обработан и схранен в validator.csv')"
   ]
  },
  {
   "cell_type": "code",
   "execution_count": 12,
   "id": "84ab0d5f",
   "metadata": {},
   "outputs": [],
   "source": [
    "path = os.getcwd()+'/Downloads/' # тут получаем путь до директории проекта и добавляем папку куда класть результат"
   ]
  },
  {
   "cell_type": "code",
   "execution_count": 13,
   "id": "ccba36c1",
   "metadata": {},
   "outputs": [
    {
     "name": "stdout",
     "output_type": "stream",
     "text": [
      "Список обработан и схранен в validator.csv\n"
     ]
    }
   ],
   "source": [
    "date_validator_4(stream, path)"
   ]
  },
  {
   "cell_type": "markdown",
   "id": "d88df25b",
   "metadata": {},
   "source": [
    "### Задание 3  \n",
    "Напишите функцию date_range, которая возвращает список дат за период от start_date до end_date. Даты должны вводиться в формате YYYY-MM-DD. В случае неверного формата или при start_date > end_date должен возвращаться пустой список."
   ]
  },
  {
   "cell_type": "code",
   "execution_count": 14,
   "id": "c0f489b7",
   "metadata": {},
   "outputs": [],
   "source": [
    "def date_range(start_date, end_date):\n",
    "    date_format = '%Y-%m-%d'\n",
    "    result = []\n",
    "    if start_date < end_date and date_validator_1(start_date) and date_validator_1(end_date):\n",
    "        sd = datetime.strptime(start_date, date_format)\n",
    "        ed = datetime.strptime(end_date, date_format)\n",
    "        date_diff = (ed-sd).days\n",
    "        for i in range(date_diff + 1):\n",
    "            result.append((sd + timedelta(days=i)).strftime(date_format))\n",
    "    else:\n",
    "        pass\n",
    "    return result"
   ]
  },
  {
   "cell_type": "code",
   "execution_count": 15,
   "id": "4ad333d1",
   "metadata": {},
   "outputs": [
    {
     "data": {
      "text/plain": [
       "['2018-01-29', '2018-01-30', '2018-01-31', '2018-02-01', '2018-02-02']"
      ]
     },
     "execution_count": 15,
     "metadata": {},
     "output_type": "execute_result"
    }
   ],
   "source": [
    "sd = '2018-01-29'\n",
    "ed = '2018-02-02'\n",
    "date_range(sd, ed)"
   ]
  },
  {
   "cell_type": "markdown",
   "id": "be2f5601",
   "metadata": {},
   "source": [
    "### Задание 4 (необязательное)\n",
    "Ваш коллега прислал код функции:\n",
    "При однократном вызове этой функции все работает корректно:\n",
    "\n",
    "delete_and_return_last_user(1)\n",
    "‘A101’\n",
    "\n",
    "Однако, при повторном вызове получается ошибка IndexError: list index out of range.\n",
    "\n",
    "Задание:\n",
    "\n",
    "Что значит ошибка list index out of range?\n",
    "Почему при первом запуске функция работает корректно, а при втором - нет?"
   ]
  },
  {
   "cell_type": "code",
   "execution_count": 16,
   "id": "1fc55c5b",
   "metadata": {},
   "outputs": [],
   "source": [
    "def delete_and_return_last_user(region, default_list=['A100', 'A101', 'A102']):\n",
    "    \"\"\"\n",
    "    Удаляет из списка default_list последнего пользователя\n",
    "    и возвращает ID нового последнего пользователя.\n",
    "    \"\"\"\n",
    "    element_to_delete = default_list[-1]\n",
    "    default_list.remove(element_to_delete)\n",
    "    print(element_to_delete)\n",
    "    print(default_list)\n",
    "    print(DEFAULT_USER_COUNT-2)\n",
    "    return default_list[DEFAULT_USER_COUNT-2]"
   ]
  },
  {
   "cell_type": "code",
   "execution_count": 17,
   "id": "fded2335",
   "metadata": {},
   "outputs": [],
   "source": [
    "DEFAULT_USER_COUNT = 3"
   ]
  },
  {
   "cell_type": "code",
   "execution_count": 18,
   "id": "3a5d8e5b",
   "metadata": {},
   "outputs": [
    {
     "name": "stdout",
     "output_type": "stream",
     "text": [
      "A102\n",
      "['A100', 'A101']\n",
      "1\n"
     ]
    },
    {
     "data": {
      "text/plain": [
       "'A101'"
      ]
     },
     "execution_count": 18,
     "metadata": {},
     "output_type": "execute_result"
    }
   ],
   "source": [
    "delete_and_return_last_user(1)"
   ]
  },
  {
   "cell_type": "markdown",
   "id": "e23ceb7a",
   "metadata": {},
   "source": [
    "Распишем последовательно все ходы:  \n",
    "1. При первом вызове индексы __default_list__  0,1,2. а значения ['A100', 'A101', 'A102']\n",
    "2. Списки изменяемые объекты. Удаляем последний индекс, __default_list__ становится  ['A100', 'A101'] а индексы становятся 0,1. Индекс в ретурне 3-2 = 1. на вывод A101\n",
    "3. При повторном запуске __default_list__ остается ['A100', 'A101'] с индексами 0,1. Мы так же удаляем последний элемент, __default_list__ становится из одного элемента ['A100'] с индексом 0\n",
    "4. Т.к функция ссылается на внешнюю переменную __DEFAULT_USER_COUNT__ = 3 ретурн снова пытается получить значение с индексом 1, а в списке __default_list__ такого индекса уже нет. следовательно ошибка"
   ]
  }
 ],
 "metadata": {
  "kernelspec": {
   "display_name": "Python 3 (ipykernel)",
   "language": "python",
   "name": "python3"
  },
  "language_info": {
   "codemirror_mode": {
    "name": "ipython",
    "version": 3
   },
   "file_extension": ".py",
   "mimetype": "text/x-python",
   "name": "python",
   "nbconvert_exporter": "python",
   "pygments_lexer": "ipython3",
   "version": "3.9.7"
  }
 },
 "nbformat": 4,
 "nbformat_minor": 5
}
