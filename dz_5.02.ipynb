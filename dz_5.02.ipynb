{
 "cells": [
  {
   "cell_type": "markdown",
   "metadata": {},
   "source": [
    "### Домашнее задание №2 к теме \"Spark SQL\""
   ]
  },
  {
   "cell_type": "code",
   "execution_count": 1,
   "metadata": {},
   "outputs": [],
   "source": [
    "from pyspark.sql import SparkSession\n",
    "from pyspark.sql.window import Window\n",
    "from pyspark.sql import functions as f # импортируем функции\n",
    "import warnings # отключаем предупреждения анаконды\n",
    "warnings.filterwarnings('ignore')"
   ]
  },
  {
   "cell_type": "code",
   "execution_count": 2,
   "metadata": {},
   "outputs": [
    {
     "name": "stdout",
     "output_type": "stream",
     "text": [
      "22/07/23 22:48:43 WARN Utils: Your hostname, MacBook-Air-Victor.local resolves to a loopback address: 127.0.0.1; using 192.168.31.211 instead (on interface en0)\n",
      "22/07/23 22:48:43 WARN Utils: Set SPARK_LOCAL_IP if you need to bind to another address\n"
     ]
    },
    {
     "name": "stderr",
     "output_type": "stream",
     "text": [
      "Setting default log level to \"WARN\".\n",
      "To adjust logging level use sc.setLogLevel(newLevel). For SparkR, use setLogLevel(newLevel).\n"
     ]
    },
    {
     "name": "stdout",
     "output_type": "stream",
     "text": [
      "22/07/23 22:48:43 WARN NativeCodeLoader: Unable to load native-hadoop library for your platform... using builtin-java classes where applicable\n",
      "22/07/23 22:48:44 WARN Utils: Service 'SparkUI' could not bind on port 4040. Attempting port 4041.\n",
      "22/07/23 22:48:44 WARN Utils: Service 'SparkUI' could not bind on port 4041. Attempting port 4042.\n",
      "22/07/23 22:48:44 WARN Utils: Service 'SparkUI' could not bind on port 4042. Attempting port 4043.\n",
      "22/07/23 22:48:44 WARN Utils: Service 'SparkUI' could not bind on port 4043. Attempting port 4044.\n"
     ]
    }
   ],
   "source": [
    "spark = SparkSession.builder.appName('df-project').getOrCreate()"
   ]
  },
  {
   "cell_type": "code",
   "execution_count": 3,
   "metadata": {},
   "outputs": [
    {
     "data": {
      "text/html": [
       "\n",
       "            <div>\n",
       "                <p><b>SparkSession - in-memory</b></p>\n",
       "                \n",
       "        <div>\n",
       "            <p><b>SparkContext</b></p>\n",
       "\n",
       "            <p><a href=\"http://192.168.31.211:4044\">Spark UI</a></p>\n",
       "\n",
       "            <dl>\n",
       "              <dt>Version</dt>\n",
       "                <dd><code>v3.3.0</code></dd>\n",
       "              <dt>Master</dt>\n",
       "                <dd><code>local[*]</code></dd>\n",
       "              <dt>AppName</dt>\n",
       "                <dd><code>df-project</code></dd>\n",
       "            </dl>\n",
       "        </div>\n",
       "        \n",
       "            </div>\n",
       "        "
      ],
      "text/plain": [
       "<pyspark.sql.session.SparkSession at 0x10b6651f0>"
      ]
     },
     "execution_count": 3,
     "metadata": {},
     "output_type": "execute_result"
    }
   ],
   "source": [
    "spark"
   ]
  },
  {
   "cell_type": "code",
   "execution_count": 4,
   "metadata": {},
   "outputs": [
    {
     "name": "stderr",
     "output_type": "stream",
     "text": [
      "                                                                                \r"
     ]
    }
   ],
   "source": [
    "df = spark.read.\\\n",
    "option('inferSchema', True).\\\n",
    "option('sep', ',').\\\n",
    "option('header', True).\\\n",
    "csv('Downloads/covid-data.csv')"
   ]
  },
  {
   "cell_type": "code",
   "execution_count": 5,
   "metadata": {},
   "outputs": [],
   "source": [
    "windowSpec = Window()"
   ]
  },
  {
   "cell_type": "code",
   "execution_count": 6,
   "metadata": {},
   "outputs": [
    {
     "name": "stdout",
     "output_type": "stream",
     "text": [
      "root\n",
      " |-- iso_code: string (nullable = true)\n",
      " |-- continent: string (nullable = true)\n",
      " |-- location: string (nullable = true)\n",
      " |-- date: timestamp (nullable = true)\n",
      " |-- total_cases: double (nullable = true)\n",
      " |-- new_cases: double (nullable = true)\n",
      " |-- new_cases_smoothed: double (nullable = true)\n",
      " |-- total_deaths: double (nullable = true)\n",
      " |-- new_deaths: double (nullable = true)\n",
      " |-- new_deaths_smoothed: double (nullable = true)\n",
      " |-- total_cases_per_million: double (nullable = true)\n",
      " |-- new_cases_per_million: double (nullable = true)\n",
      " |-- new_cases_smoothed_per_million: double (nullable = true)\n",
      " |-- total_deaths_per_million: double (nullable = true)\n",
      " |-- new_deaths_per_million: double (nullable = true)\n",
      " |-- new_deaths_smoothed_per_million: double (nullable = true)\n",
      " |-- reproduction_rate: double (nullable = true)\n",
      " |-- icu_patients: double (nullable = true)\n",
      " |-- icu_patients_per_million: double (nullable = true)\n",
      " |-- hosp_patients: double (nullable = true)\n",
      " |-- hosp_patients_per_million: double (nullable = true)\n",
      " |-- weekly_icu_admissions: double (nullable = true)\n",
      " |-- weekly_icu_admissions_per_million: double (nullable = true)\n",
      " |-- weekly_hosp_admissions: double (nullable = true)\n",
      " |-- weekly_hosp_admissions_per_million: double (nullable = true)\n",
      " |-- new_tests: double (nullable = true)\n",
      " |-- total_tests: double (nullable = true)\n",
      " |-- total_tests_per_thousand: double (nullable = true)\n",
      " |-- new_tests_per_thousand: double (nullable = true)\n",
      " |-- new_tests_smoothed: double (nullable = true)\n",
      " |-- new_tests_smoothed_per_thousand: double (nullable = true)\n",
      " |-- positive_rate: double (nullable = true)\n",
      " |-- tests_per_case: double (nullable = true)\n",
      " |-- tests_units: string (nullable = true)\n",
      " |-- total_vaccinations: double (nullable = true)\n",
      " |-- people_vaccinated: double (nullable = true)\n",
      " |-- people_fully_vaccinated: double (nullable = true)\n",
      " |-- new_vaccinations: double (nullable = true)\n",
      " |-- new_vaccinations_smoothed: double (nullable = true)\n",
      " |-- total_vaccinations_per_hundred: double (nullable = true)\n",
      " |-- people_vaccinated_per_hundred: double (nullable = true)\n",
      " |-- people_fully_vaccinated_per_hundred: double (nullable = true)\n",
      " |-- new_vaccinations_smoothed_per_million: double (nullable = true)\n",
      " |-- stringency_index: double (nullable = true)\n",
      " |-- population: double (nullable = true)\n",
      " |-- population_density: double (nullable = true)\n",
      " |-- median_age: double (nullable = true)\n",
      " |-- aged_65_older: double (nullable = true)\n",
      " |-- aged_70_older: double (nullable = true)\n",
      " |-- gdp_per_capita: double (nullable = true)\n",
      " |-- extreme_poverty: double (nullable = true)\n",
      " |-- cardiovasc_death_rate: double (nullable = true)\n",
      " |-- diabetes_prevalence: double (nullable = true)\n",
      " |-- female_smokers: double (nullable = true)\n",
      " |-- male_smokers: double (nullable = true)\n",
      " |-- handwashing_facilities: double (nullable = true)\n",
      " |-- hospital_beds_per_thousand: double (nullable = true)\n",
      " |-- life_expectancy: double (nullable = true)\n",
      " |-- human_development_index: double (nullable = true)\n",
      "\n"
     ]
    }
   ],
   "source": [
    "df.printSchema()"
   ]
  },
  {
   "cell_type": "markdown",
   "metadata": {},
   "source": [
    "#### Задание 1  \n",
    "Выберите 15 стран с наибольшим процентом переболевших на 31 марта (в выходящем датасете необходимы колонки: iso_code, страна, процент переболевших)"
   ]
  },
  {
   "cell_type": "markdown",
   "metadata": {},
   "source": [
    "Проверим какие локации маркируются префиксом __OWID___"
   ]
  },
  {
   "cell_type": "code",
   "execution_count": 7,
   "metadata": {},
   "outputs": [
    {
     "name": "stdout",
     "output_type": "stream",
     "text": [
      "+--------+---------------+\n",
      "|iso_code|       location|\n",
      "+--------+---------------+\n",
      "|OWID_ASI|           Asia|\n",
      "|OWID_AFR|         Africa|\n",
      "|OWID_EUR|         Europe|\n",
      "|OWID_EUN| European Union|\n",
      "|OWID_INT|  International|\n",
      "|OWID_KOS|         Kosovo|\n",
      "|OWID_OCE|        Oceania|\n",
      "|OWID_NAM|  North America|\n",
      "|OWID_CYN|Northern Cyprus|\n",
      "|OWID_SAM|  South America|\n",
      "|OWID_WRL|          World|\n",
      "+--------+---------------+\n",
      "\n"
     ]
    }
   ],
   "source": [
    "df.filter(f.col('iso_code').contains('OWID')).select([\n",
    "    'iso_code', \n",
    "    'location']).distinct().show()"
   ]
  },
  {
   "cell_type": "markdown",
   "metadata": {},
   "source": [
    "Это континенты, но почету-то в том же списке Косово. Пересохраним для этого задания отфильтрованный датафрейм с нужными столбцами и уже с ним проведем манипуляции."
   ]
  },
  {
   "cell_type": "code",
   "execution_count": 8,
   "metadata": {},
   "outputs": [],
   "source": [
    "df_1 = df.filter(\n",
    "    (f.col('date') <= f.lit('2022-03-31')) & \n",
    "    (~f.col('iso_code').contains('OWID')) |\n",
    "    (f.col('iso_code').contains('KOS'))).select([\n",
    "    'iso_code', \n",
    "    'location', \n",
    "    'total_cases', \n",
    "    'population'])"
   ]
  },
  {
   "cell_type": "code",
   "execution_count": 9,
   "metadata": {},
   "outputs": [
    {
     "name": "stdout",
     "output_type": "stream",
     "text": [
      "+--------+--------+\n",
      "|iso_code|location|\n",
      "+--------+--------+\n",
      "|OWID_KOS|  Kosovo|\n",
      "+--------+--------+\n",
      "\n"
     ]
    }
   ],
   "source": [
    "df_1.filter(f.col('iso_code').contains('OWID')).select([\n",
    "    'iso_code', \n",
    "    'location']).distinct().show()"
   ]
  },
  {
   "cell_type": "markdown",
   "metadata": {},
   "source": [
    "Косово на месте, континенты удалены"
   ]
  },
  {
   "cell_type": "code",
   "execution_count": 10,
   "metadata": {},
   "outputs": [],
   "source": [
    "res_1 = df_1.groupBy('iso_code', 'location').agg((f.sum('total_cases')/ f.max('population')).alias('percent')).orderBy(f.col(\n",
    "    'percent').desc()).limit(15)\n",
    "res_1 = res_1.withColumn('percent', f.concat(f.round(res_1['percent'], 2), f.lit('%')))"
   ]
  },
  {
   "cell_type": "code",
   "execution_count": 11,
   "metadata": {},
   "outputs": [
    {
     "name": "stdout",
     "output_type": "stream",
     "text": [
      "+--------+-------------+-------+\n",
      "|iso_code|     location|percent|\n",
      "+--------+-------------+-------+\n",
      "|     AND|      Andorra| 23.55%|\n",
      "|     SMR|   San Marino| 18.83%|\n",
      "|     MNE|   Montenegro| 17.31%|\n",
      "|     CZE|      Czechia| 15.78%|\n",
      "|     QAT|        Qatar| 15.28%|\n",
      "|     BHR|      Bahrain|  15.2%|\n",
      "|     LUX|   Luxembourg| 14.86%|\n",
      "|     USA|United States| 14.13%|\n",
      "|     ISR|       Israel| 13.64%|\n",
      "|     PAN|       Panama| 13.44%|\n",
      "|     SVN|     Slovenia| 12.16%|\n",
      "|     BEL|      Belgium| 11.78%|\n",
      "|     ARM|      Armenia| 11.27%|\n",
      "|     ESP|        Spain| 10.68%|\n",
      "|     PRT|     Portugal| 10.46%|\n",
      "+--------+-------------+-------+\n",
      "\n"
     ]
    }
   ],
   "source": [
    "res_1.show()"
   ]
  },
  {
   "cell_type": "markdown",
   "metadata": {},
   "source": [
    "#### Задание 2. \n",
    "\n",
    "Top 10 стран с максимальным зафиксированным кол-вом новых случаев за последнюю неделю марта 2021 в отсортированном порядке по убыванию\n",
    "(в выходящем датасете необходимы колонки: число, страна, кол-во новых случаев)"
   ]
  },
  {
   "cell_type": "code",
   "execution_count": 12,
   "metadata": {},
   "outputs": [],
   "source": [
    "df_2 = df.filter(\n",
    "    ((f.col('date') >= f.lit('2021-03-25')) & (f.col('date') <= f.lit('2021-03-31'))) & \n",
    "    ((~f.col('iso_code').contains('OWID')) | (f.col('iso_code').contains('KOS')))\n",
    ").select([\n",
    "    'location', \n",
    "    'new_cases', \n",
    "    'date']).withColumn('date', f.to_timestamp('date').cast('date'))"
   ]
  },
  {
   "cell_type": "markdown",
   "metadata": {},
   "source": [
    "Даты отобраны"
   ]
  },
  {
   "cell_type": "code",
   "execution_count": 13,
   "metadata": {},
   "outputs": [
    {
     "name": "stdout",
     "output_type": "stream",
     "text": [
      "+----------+\n",
      "|      date|\n",
      "+----------+\n",
      "|2021-03-26|\n",
      "|2021-03-25|\n",
      "|2021-03-30|\n",
      "|2021-03-27|\n",
      "|2021-03-29|\n",
      "|2021-03-28|\n",
      "|2021-03-31|\n",
      "+----------+\n",
      "\n"
     ]
    }
   ],
   "source": [
    "df_2.select(f.col('date').cast('date')).distinct().show(10)"
   ]
  },
  {
   "cell_type": "code",
   "execution_count": 14,
   "metadata": {},
   "outputs": [
    {
     "name": "stdout",
     "output_type": "stream",
     "text": [
      "+-----------+---------+----------+\n",
      "|   location|new_cases|      date|\n",
      "+-----------+---------+----------+\n",
      "|Afghanistan|     34.0|2021-03-25|\n",
      "|Afghanistan|     28.0|2021-03-26|\n",
      "|Afghanistan|     36.0|2021-03-27|\n",
      "|Afghanistan|      4.0|2021-03-28|\n",
      "|Afghanistan|     28.0|2021-03-29|\n",
      "|Afghanistan|     62.0|2021-03-30|\n",
      "|Afghanistan|     70.0|2021-03-31|\n",
      "|    Albania|    472.0|2021-03-25|\n",
      "|    Albania|    449.0|2021-03-26|\n",
      "|    Albania|    425.0|2021-03-27|\n",
      "|    Albania|    493.0|2021-03-28|\n",
      "|    Albania|    285.0|2021-03-29|\n",
      "|    Albania|    304.0|2021-03-30|\n",
      "|    Albania|    434.0|2021-03-31|\n",
      "|    Algeria|    105.0|2021-03-25|\n",
      "|    Algeria|    114.0|2021-03-26|\n",
      "|    Algeria|     93.0|2021-03-27|\n",
      "|    Algeria|     86.0|2021-03-28|\n",
      "|    Algeria|    110.0|2021-03-29|\n",
      "|    Algeria|    115.0|2021-03-30|\n",
      "+-----------+---------+----------+\n",
      "only showing top 20 rows\n",
      "\n"
     ]
    }
   ],
   "source": [
    "df_2.show()"
   ]
  },
  {
   "cell_type": "code",
   "execution_count": 15,
   "metadata": {},
   "outputs": [],
   "source": [
    "res_2 = df_2.withColumn('row_number',f.row_number().over(\n",
    "    windowSpec.partitionBy('location').orderBy(f.col('new_cases').desc())\n",
    ")).filter(\n",
    "    f.col('row_number') == f.lit('1')).select([\n",
    "    'location', \n",
    "    'new_cases', \n",
    "    'date']).orderBy(f.col(\n",
    "    'new_cases').desc()).limit(10)"
   ]
  },
  {
   "cell_type": "code",
   "execution_count": 16,
   "metadata": {},
   "outputs": [
    {
     "name": "stdout",
     "output_type": "stream",
     "text": [
      "+-------------+---------+----------+\n",
      "|     location|new_cases|      date|\n",
      "+-------------+---------+----------+\n",
      "|       Brazil| 100158.0|2021-03-25|\n",
      "|United States|  77321.0|2021-03-26|\n",
      "|        India|  72330.0|2021-03-31|\n",
      "|       France|  59054.0|2021-03-31|\n",
      "|       Turkey|  39302.0|2021-03-31|\n",
      "|       Poland|  35145.0|2021-03-26|\n",
      "|      Germany|  25014.0|2021-03-31|\n",
      "|        Italy|  24076.0|2021-03-26|\n",
      "|         Peru|  19206.0|2021-03-25|\n",
      "|      Ukraine|  18226.0|2021-03-26|\n",
      "+-------------+---------+----------+\n",
      "\n"
     ]
    }
   ],
   "source": [
    "res_2.show()"
   ]
  },
  {
   "cell_type": "markdown",
   "metadata": {},
   "source": [
    "#### Задание 3  \n",
    "\n",
    "Посчитайте изменение случаев относительно предыдущего дня в России за последнюю неделю марта 2021. (например: в россии вчера было 9150 , сегодня 8763, итог: -387) (в выходящем датасете необходимы колонки: число, кол-во новых случаев вчера, кол-во новых случаев сегодня, дельта)"
   ]
  },
  {
   "cell_type": "code",
   "execution_count": 17,
   "metadata": {
    "colab": {
     "base_uri": "https://localhost:8080/"
    },
    "id": "EXwdUerh_92J",
    "outputId": "921ee668-eebf-4e88-fd9b-2b807621c45e"
   },
   "outputs": [],
   "source": [
    "df_3 = df.filter(\n",
    "    (f.col('date') >= f.lit('2021-03-25')) & \n",
    "    (f.col('date') <= f.lit('2021-03-31')) & \n",
    "    (f.col('iso_code') == f.lit('RUS'))\n",
    "    ).select([\n",
    "    'date', \n",
    "    'new_cases']).withColumn('date', f.to_timestamp('date').cast('date'))"
   ]
  },
  {
   "cell_type": "code",
   "execution_count": 18,
   "metadata": {
    "colab": {
     "base_uri": "https://localhost:8080/"
    },
    "id": "oFuzAakxCmMH",
    "outputId": "ec859887-5c25-49d5-b48f-2ca9128b7b65"
   },
   "outputs": [
    {
     "name": "stdout",
     "output_type": "stream",
     "text": [
      "+----------+---------+\n",
      "|      date|new_cases|\n",
      "+----------+---------+\n",
      "|2021-03-25|   9128.0|\n",
      "|2021-03-26|   9073.0|\n",
      "|2021-03-27|   8783.0|\n",
      "|2021-03-28|   8979.0|\n",
      "|2021-03-29|   8589.0|\n",
      "|2021-03-30|   8162.0|\n",
      "|2021-03-31|   8156.0|\n",
      "+----------+---------+\n",
      "\n"
     ]
    }
   ],
   "source": [
    "df_3.show()"
   ]
  },
  {
   "cell_type": "code",
   "execution_count": 19,
   "metadata": {},
   "outputs": [],
   "source": [
    "df_3 = df_3.withColumn(\n",
    "    'prev_day_cases', f.lag(f.col('new_cases'),1).over(windowSpec.partitionBy(f.lit(0)).orderBy('date')))"
   ]
  },
  {
   "cell_type": "code",
   "execution_count": 20,
   "metadata": {},
   "outputs": [],
   "source": [
    "res_3 = df_3.withColumn('delta', f.col('new_cases') - f.col('prev_day_cases'))"
   ]
  },
  {
   "cell_type": "code",
   "execution_count": 21,
   "metadata": {},
   "outputs": [
    {
     "name": "stdout",
     "output_type": "stream",
     "text": [
      "+----------+---------+--------------+------+\n",
      "|      date|new_cases|prev_day_cases| delta|\n",
      "+----------+---------+--------------+------+\n",
      "|2021-03-25|   9128.0|          null|  null|\n",
      "|2021-03-26|   9073.0|        9128.0| -55.0|\n",
      "|2021-03-27|   8783.0|        9073.0|-290.0|\n",
      "|2021-03-28|   8979.0|        8783.0| 196.0|\n",
      "|2021-03-29|   8589.0|        8979.0|-390.0|\n",
      "|2021-03-30|   8162.0|        8589.0|-427.0|\n",
      "|2021-03-31|   8156.0|        8162.0|  -6.0|\n",
      "+----------+---------+--------------+------+\n",
      "\n"
     ]
    }
   ],
   "source": [
    "res_3.show()"
   ]
  },
  {
   "cell_type": "code",
   "execution_count": 22,
   "metadata": {},
   "outputs": [],
   "source": [
    "!rm -rf res_1 res_2 res_3"
   ]
  },
  {
   "cell_type": "code",
   "execution_count": 23,
   "metadata": {
    "id": "A5IXl4ydMTlh"
   },
   "outputs": [],
   "source": [
    "res_1.write.option('header', 'true').csv('res_1')\n",
    "res_2.write.option('header', 'true').csv('res_2')\n",
    "res_3.write.option('header', 'true').csv('res_3')\n",
    "\n",
    "# # JSON\n",
    "# res_1.write.save('dataset_json', format='json')\n",
    "\n",
    "# # Parquet\n",
    "# res_1.write.save('dataset_parquet', format='parquet')"
   ]
  },
  {
   "cell_type": "code",
   "execution_count": null,
   "metadata": {},
   "outputs": [],
   "source": []
  }
 ],
 "metadata": {
  "colab": {
   "collapsed_sections": [],
   "name": "pyspark_beginner.ipynb",
   "provenance": []
  },
  "kernelspec": {
   "display_name": "Python 3 (ipykernel)",
   "language": "python",
   "name": "python3"
  },
  "language_info": {
   "codemirror_mode": {
    "name": "ipython",
    "version": 3
   },
   "file_extension": ".py",
   "mimetype": "text/x-python",
   "name": "python",
   "nbconvert_exporter": "python",
   "pygments_lexer": "ipython3",
   "version": "3.9.12"
  }
 },
 "nbformat": 4,
 "nbformat_minor": 1
}
