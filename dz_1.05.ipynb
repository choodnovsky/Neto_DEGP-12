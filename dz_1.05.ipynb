{
 "cells": [
  {
   "cell_type": "markdown",
   "id": "8b408ca0",
   "metadata": {},
   "source": [
    "## Домашнее задание №5 к лекции «Файлы»"
   ]
  },
  {
   "cell_type": "code",
   "execution_count": 1,
   "id": "55f1a162",
   "metadata": {},
   "outputs": [],
   "source": [
    "import os\n",
    "import json\n",
    "import pickle\n",
    "from tqdm import tqdm"
   ]
  },
  {
   "cell_type": "code",
   "execution_count": 2,
   "id": "91527f1e",
   "metadata": {},
   "outputs": [],
   "source": [
    "path = f'{os.getcwd()}/Downloads/' # тут путь к папке с файлами,\"даунлодс\"\n",
    "sep = ',' # на случай, если в funnel.csv надо применить альтернативный разделитель"
   ]
  },
  {
   "cell_type": "markdown",
   "id": "748daf09",
   "metadata": {},
   "source": [
    "### Задание 1\n",
    "Переведите содержимое файла purchase_log.txt в словарь purchases вида:\n",
    "{‘1840e0b9d4’: ‘Продукты’, …}\n",
    "\n",
    "____________\n",
    "Учтите условие на данные:\n",
    "содержимое purchase_log.txt помещается в оперативную память компьютера"
   ]
  },
  {
   "cell_type": "code",
   "execution_count": 3,
   "id": "bac68d92",
   "metadata": {},
   "outputs": [],
   "source": [
    "with open(path + 'purchase_log.txt', 'r') as f:\n",
    "    content = f.readlines()\n",
    "purchases = {}\n",
    "for line in content:\n",
    "    line = json.loads(line)\n",
    "    purchases[line['user_id']] = line['category']"
   ]
  },
  {
   "cell_type": "markdown",
   "id": "ff9f0bc0",
   "metadata": {},
   "source": [
    "Этот вариант, если все таки не загонять файл в память, а читать построчно"
   ]
  },
  {
   "cell_type": "code",
   "execution_count": 4,
   "id": "573b36ad",
   "metadata": {},
   "outputs": [],
   "source": [
    "purchases = {}\n",
    "with open(path + 'purchase_log.txt', 'r') as f:\n",
    "    for line in f:\n",
    "        line = json.loads(line)\n",
    "        k,v = line['user_id'], line['category']\n",
    "        purchases[k] = v"
   ]
  },
  {
   "cell_type": "markdown",
   "id": "5fdfb085",
   "metadata": {},
   "source": [
    "Исключительно, чтобы посмотреть как работает `pickle`"
   ]
  },
  {
   "cell_type": "code",
   "execution_count": 5,
   "id": "d5ab367a",
   "metadata": {},
   "outputs": [],
   "source": [
    "with open(path + 'purchase_log.bin', 'wb') as fp:\n",
    "    pickle.dump(purchases, fp)"
   ]
  },
  {
   "cell_type": "code",
   "execution_count": 6,
   "id": "b58c5e4d",
   "metadata": {},
   "outputs": [],
   "source": [
    "with open(path + 'purchase_log.bin', 'rb') as fp:\n",
    "    data_bin = pickle.load(fp)"
   ]
  },
  {
   "cell_type": "markdown",
   "id": "ec6801ae",
   "metadata": {},
   "source": [
    "### Задание 2\n",
    "Для каждого user_id в файле visit_log.csv определите третий столбец с категорией покупки (если покупка была, сам файл visit_log.csv изменять не надо). Запишите в файл funnel.csv визиты из файла visit_log.csv, в которых были покупки с указанием категории.\n",
    "\n",
    "____________\n",
    "Учтите условие на данные:\n",
    "содержимое visit_log.csv - не помещается в оперативную память компьютера; используйте только построчную обработку этого файла"
   ]
  },
  {
   "cell_type": "code",
   "execution_count": 7,
   "id": "b01c7846",
   "metadata": {},
   "outputs": [
    {
     "name": "stderr",
     "output_type": "stream",
     "text": [
      "200000it [00:00, 1614634.60it/s]\n"
     ]
    }
   ],
   "source": [
    "with open(path + 'visit_log.csv', 'r') as in_file:\n",
    "    with open(path +'funnel.csv', 'w') as out_file:\n",
    "        for line in tqdm(in_file):\n",
    "            line = line.strip().split(',')\n",
    "            if line[0] in purchases:\n",
    "                out_file.write(line[0] + sep)\n",
    "                out_file.write(line[1] + sep)\n",
    "                out_file.write(purchases[line[0]] + '\\n')\n",
    "            else:\n",
    "                continue"
   ]
  },
  {
   "cell_type": "markdown",
   "id": "fd36b2e0",
   "metadata": {},
   "source": [
    "На случай, если надо вывести все __id_user__, и применить `data_bin`"
   ]
  },
  {
   "cell_type": "code",
   "execution_count": 8,
   "id": "c2eb7fc9",
   "metadata": {},
   "outputs": [
    {
     "name": "stderr",
     "output_type": "stream",
     "text": [
      "200000it [00:00, 1000220.35it/s]\n"
     ]
    }
   ],
   "source": [
    "with open(path + 'visit_log.csv', 'r') as in_file:\n",
    "    with open(path +'funnel_full.csv', 'w') as out_file:       \n",
    "        for line in tqdm(in_file):\n",
    "            line = line.strip().split(',')\n",
    "            out_file.write(line[0] + sep)\n",
    "            out_file.write(line[1] + sep)\n",
    "            if line[0] in data_bin:\n",
    "                out_file.write(data_bin[line[0]] + '\\n')\n",
    "            else:\n",
    "                out_file.write('нет посмотров' + '\\n')"
   ]
  }
 ],
 "metadata": {
  "kernelspec": {
   "display_name": "Python 3 (ipykernel)",
   "language": "python",
   "name": "python3"
  },
  "language_info": {
   "codemirror_mode": {
    "name": "ipython",
    "version": 3
   },
   "file_extension": ".py",
   "mimetype": "text/x-python",
   "name": "python",
   "nbconvert_exporter": "python",
   "pygments_lexer": "ipython3",
   "version": "3.9.7"
  }
 },
 "nbformat": 4,
 "nbformat_minor": 5
}
