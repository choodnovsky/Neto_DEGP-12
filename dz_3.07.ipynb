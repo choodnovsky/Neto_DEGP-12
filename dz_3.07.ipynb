{
 "cells": [
  {
   "cell_type": "markdown",
   "metadata": {},
   "source": [
    "### Домашнее задание №7 к лекции \"Дисперсионный анализ и виды ошибок. А/В - тесты\""
   ]
  },
  {
   "cell_type": "code",
   "execution_count": 1,
   "metadata": {
    "ExecuteTime": {
     "end_time": "2022-03-01T11:31:19.720003Z",
     "start_time": "2022-03-01T11:31:18.356798Z"
    }
   },
   "outputs": [],
   "source": [
    "import pandas as pd\n",
    "import numpy as np\n",
    "import matplotlib\n",
    "import matplotlib.pyplot as plt\n",
    "from scipy import stats \n",
    "import seaborn as sns\n",
    "from tqdm import tqdm\n",
    "from itertools import combinations\n",
    "import statsmodels.api as sm\n",
    "from statsmodels.formula.api import ols"
   ]
  },
  {
   "cell_type": "markdown",
   "metadata": {},
   "source": [
    "<div class=\"alert alert-info\">\n",
    "<b>Задача: </b>\n",
    "    \n",
    "Проанализируйте синтетический датасет с данными. У вас есть наблюдения по 4 группам попытайтесь придумать кейс, когда вы анализируете некий признак в 4 группах. Что это за группы? Какие выводы можно сделать понаблюдав за тем как распределены данные и что показывают у нас тесты?    \n",
    "</div>"
   ]
  },
  {
   "cell_type": "code",
   "execution_count": 2,
   "metadata": {
    "ExecuteTime": {
     "end_time": "2022-03-01T11:31:20.304019Z",
     "start_time": "2022-03-01T11:31:20.263013Z"
    }
   },
   "outputs": [
    {
     "data": {
      "text/html": [
       "<div>\n",
       "<style scoped>\n",
       "    .dataframe tbody tr th:only-of-type {\n",
       "        vertical-align: middle;\n",
       "    }\n",
       "\n",
       "    .dataframe tbody tr th {\n",
       "        vertical-align: top;\n",
       "    }\n",
       "\n",
       "    .dataframe thead th {\n",
       "        text-align: right;\n",
       "    }\n",
       "</style>\n",
       "<table border=\"1\" class=\"dataframe\">\n",
       "  <thead>\n",
       "    <tr style=\"text-align: right;\">\n",
       "      <th></th>\n",
       "      <th>A</th>\n",
       "      <th>B</th>\n",
       "      <th>C</th>\n",
       "      <th>D</th>\n",
       "    </tr>\n",
       "  </thead>\n",
       "  <tbody>\n",
       "    <tr>\n",
       "      <th>0</th>\n",
       "      <td>25</td>\n",
       "      <td>45</td>\n",
       "      <td>30</td>\n",
       "      <td>54</td>\n",
       "    </tr>\n",
       "    <tr>\n",
       "      <th>1</th>\n",
       "      <td>30</td>\n",
       "      <td>55</td>\n",
       "      <td>29</td>\n",
       "      <td>60</td>\n",
       "    </tr>\n",
       "    <tr>\n",
       "      <th>2</th>\n",
       "      <td>28</td>\n",
       "      <td>29</td>\n",
       "      <td>33</td>\n",
       "      <td>51</td>\n",
       "    </tr>\n",
       "    <tr>\n",
       "      <th>3</th>\n",
       "      <td>36</td>\n",
       "      <td>56</td>\n",
       "      <td>37</td>\n",
       "      <td>62</td>\n",
       "    </tr>\n",
       "    <tr>\n",
       "      <th>4</th>\n",
       "      <td>29</td>\n",
       "      <td>40</td>\n",
       "      <td>27</td>\n",
       "      <td>73</td>\n",
       "    </tr>\n",
       "  </tbody>\n",
       "</table>\n",
       "</div>"
      ],
      "text/plain": [
       "    A   B   C   D\n",
       "0  25  45  30  54\n",
       "1  30  55  29  60\n",
       "2  28  29  33  51\n",
       "3  36  56  37  62\n",
       "4  29  40  27  73"
      ]
     },
     "execution_count": 2,
     "metadata": {},
     "output_type": "execute_result"
    }
   ],
   "source": [
    "df = pd.DataFrame([\n",
    "    [25, 45, 30, 54],\n",
    "    [30, 55, 29, 60],\n",
    "    [28, 29, 33, 51],\n",
    "    [36, 56, 37, 62],\n",
    "    [29, 40, 27, 73]],\n",
    "    columns=['A', 'B', 'C', 'D'])\n",
    "df"
   ]
  },
  {
   "cell_type": "code",
   "execution_count": 3,
   "metadata": {},
   "outputs": [
    {
     "name": "stdout",
     "output_type": "stream",
     "text": [
      "Нулевая гипотеза: A=B=C=D\n",
      "Альтернативная гипотеза: !(A=B=C=D)\n",
      "Результат: p = 0.00264%\n",
      "отклоняем нулевую гипотезу\n",
      "Полученное f-значение 17.4928\n"
     ]
    },
    {
     "data": {
      "image/png": "[encoded data removed]",
      "text/plain": [
       "<Figure size 432x288 with 1 Axes>"
      ]
     },
     "metadata": {
      "needs_background": "light"
     },
     "output_type": "display_data"
    }
   ],
   "source": [
    "df.boxplot()\n",
    "print('Нулевая гипотеза:', '='.join(df))\n",
    "print('Альтернативная гипотеза:', f'!({\"=\".join(df)})')\n",
    "# общая средняя\n",
    "grand_mean = df.values.flatten().mean()\n",
    "# Общая сумма квадратов sst = ssb + ssw\n",
    "sst = sum((val - grand_mean)**2 for val in df.values.flatten())\n",
    "# отклонение групповых средний от общей средней\n",
    "ssb = sum(df[group].size * (group_mean - grand_mean) ** 2 for group, group_mean in df.mean().items())\n",
    "# отклонения значений внутри группы от средней группы\n",
    "ssw = sum(sum((x - group_mean)**2 for x in df[group]) for group, group_mean in df.mean().items())\n",
    "\n",
    "groups = df.shape[1]\n",
    "# Степени свободы\n",
    "dfb = groups - 1\n",
    "dfw = df.size - groups\n",
    "# межгрупповой средний квадрат\n",
    "mssb = ssb/dfb\n",
    "# внутригрупповой средний квадрат\n",
    "mssw = ssw/dfw\n",
    "\n",
    "f_value = mssb/mssw\n",
    "\n",
    "p = stats.f.sf(f_value, dfb, dfw)\n",
    "print(f'Результат: p = {p:.5%}')\n",
    "if p < 0.05:\n",
    "    print('отклоняем нулевую гипотезу')\n",
    "else:\n",
    "    print('НЕ отклоняем нулевую гипотезу')\n",
    "print(f\"Полученное f-значение {f_value:.4f}\")"
   ]
  },
  {
   "cell_type": "markdown",
   "metadata": {},
   "source": [
    "Попробуем вариант с другими библиотеками"
   ]
  },
  {
   "cell_type": "code",
   "execution_count": 4,
   "metadata": {},
   "outputs": [
    {
     "data": {
      "text/html": [
       "<div>\n",
       "<style scoped>\n",
       "    .dataframe tbody tr th:only-of-type {\n",
       "        vertical-align: middle;\n",
       "    }\n",
       "\n",
       "    .dataframe tbody tr th {\n",
       "        vertical-align: top;\n",
       "    }\n",
       "\n",
       "    .dataframe thead th {\n",
       "        text-align: right;\n",
       "    }\n",
       "</style>\n",
       "<table border=\"1\" class=\"dataframe\">\n",
       "  <thead>\n",
       "    <tr style=\"text-align: right;\">\n",
       "      <th></th>\n",
       "      <th>sum_sq</th>\n",
       "      <th>df</th>\n",
       "      <th>F</th>\n",
       "      <th>PR(&gt;F)</th>\n",
       "    </tr>\n",
       "  </thead>\n",
       "  <tbody>\n",
       "    <tr>\n",
       "      <th>C(treatments)</th>\n",
       "      <td>3010.95</td>\n",
       "      <td>3.0</td>\n",
       "      <td>17.49281</td>\n",
       "      <td>0.000026</td>\n",
       "    </tr>\n",
       "    <tr>\n",
       "      <th>Residual</th>\n",
       "      <td>918.00</td>\n",
       "      <td>16.0</td>\n",
       "      <td>NaN</td>\n",
       "      <td>NaN</td>\n",
       "    </tr>\n",
       "  </tbody>\n",
       "</table>\n",
       "</div>"
      ],
      "text/plain": [
       "                sum_sq    df         F    PR(>F)\n",
       "C(treatments)  3010.95   3.0  17.49281  0.000026\n",
       "Residual        918.00  16.0       NaN       NaN"
      ]
     },
     "execution_count": 4,
     "metadata": {},
     "output_type": "execute_result"
    }
   ],
   "source": [
    "df_melt = pd.melt(df.reset_index(), id_vars=['index'], value_vars=['A', 'B', 'C', 'D'])\n",
    "df_melt.columns = ['index', 'treatments', 'value']\n",
    "model = ols('value ~ C(treatments)', data=df_melt).fit()\n",
    "anova_table = sm.stats.anova_lm(model, typ=2)\n",
    "anova_table"
   ]
  },
  {
   "cell_type": "code",
   "execution_count": 5,
   "metadata": {},
   "outputs": [],
   "source": [
    "def f_test(df, *args, n=2):\n",
    "    try:\n",
    "        df.boxplot()\n",
    "    except:\n",
    "        pass\n",
    "    alpha = 0.05/((n*(n-1))/2)\n",
    "    f, p = stats.f_oneway(*args)\n",
    "    print('Нулевая гипотеза: все равны')\n",
    "    print('Альтернативная гипотеза: какие-то не равны')\n",
    "    print(f'Результат: p = {p:.5%}')\n",
    "    if p < alpha:\n",
    "        print('отклоняем нулевую гипотезу')\n",
    "    else:\n",
    "        print('НЕ отклоняем нулевую гипотезу')\n",
    "    print(f\"Полученное f-значение {f:.4f}\")"
   ]
  },
  {
   "cell_type": "code",
   "execution_count": 6,
   "metadata": {},
   "outputs": [
    {
     "name": "stdout",
     "output_type": "stream",
     "text": [
      "Нулевая гипотеза: все равны\n",
      "Альтернативная гипотеза: какие-то не равны\n",
      "Результат: p = 0.00264%\n",
      "отклоняем нулевую гипотезу\n",
      "Полученное f-значение 17.4928\n"
     ]
    },
    {
     "data": {
      "image/png": "[encoded data removed]",
      "text/plain": [
       "<Figure size 432x288 with 1 Axes>"
      ]
     },
     "metadata": {
      "needs_background": "light"
     },
     "output_type": "display_data"
    }
   ],
   "source": [
    "f_test(df, df['A'], df['B'], df['C'], df['D'])"
   ]
  },
  {
   "cell_type": "markdown",
   "metadata": {},
   "source": [
    "Все три метода возвращают одинаковый результат"
   ]
  },
  {
   "cell_type": "markdown",
   "metadata": {},
   "source": [
    "Тут может быть что угодно. Как вариант две группы с двумя подгруппами. Например время преодоления 100-метровки у мальчиков и девочек в старших и начальных классах."
   ]
  },
  {
   "cell_type": "markdown",
   "metadata": {},
   "source": [
    "<div class=\"alert alert-info\">\n",
    "<b>Задача: </b>    \n",
    "    \n",
    "Есть некоторые данные об измерении раковины  у мидии Mytilus trossulus из пяти мест: \n",
    "Тилламук, Ньюпорт, Петербург, Аляска, Магадан и Твермин.\n",
    "    \n",
    "Осуществить дисперсионный анализ, визуализируйте данные. \n",
    "    \n",
    "Если удастся визуально выделить данные в группы (например 2 города в одной, 3 в другой), сравнить выборки внутри полученных групп.   \n",
    "</div>"
   ]
  },
  {
   "cell_type": "code",
   "execution_count": 7,
   "metadata": {
    "ExecuteTime": {
     "end_time": "2022-03-01T11:31:20.320023Z",
     "start_time": "2022-03-01T11:31:20.310009Z"
    }
   },
   "outputs": [],
   "source": [
    "tillamook = [0.0571, 0.0813, 0.0831, 0.0976, 0.0817, 0.0859, 0.0735, 0.0659, 0.0923, 0.0836]\n",
    "newport = [0.0873, 0.0662, 0.0672, 0.0819, 0.0749, 0.0649, 0.0835, 0.0725]\n",
    "petersburg = [0.0974, 0.1352, 0.0817, 0.1016, 0.0968, 0.1064, 0.105]\n",
    "magadan = [0.1033, 0.0915, 0.0781, 0.0685, 0.0677, 0.0697, 0.0764, 0.0689]\n",
    "tvarminne = [0.0703, 0.1026, 0.0956, 0.0973, 0.1039, 0.1045]"
   ]
  },
  {
   "cell_type": "code",
   "execution_count": 8,
   "metadata": {},
   "outputs": [],
   "source": [
    "cities = [tillamook , newport, petersburg, magadan, tvarminne]"
   ]
  },
  {
   "cell_type": "code",
   "execution_count": 9,
   "metadata": {},
   "outputs": [],
   "source": [
    "mussels = pd.concat([pd.Series(i) for i in cities], axis=1)\n",
    "mussels.columns = ['tillamook', 'newport' , 'petersburg', 'magadan', 'tvarminne']"
   ]
  },
  {
   "cell_type": "code",
   "execution_count": 10,
   "metadata": {},
   "outputs": [
    {
     "data": {
      "image/png": "[encoded data removed]",
      "text/plain": [
       "<Figure size 432x288 with 1 Axes>"
      ]
     },
     "metadata": {
      "needs_background": "light"
     },
     "output_type": "display_data"
    }
   ],
   "source": [
    "mussels.boxplot()\n",
    "plt.show()"
   ]
  },
  {
   "cell_type": "markdown",
   "metadata": {},
   "source": [
    "Тут выделяются две подгруппы:  \n",
    "- tillamook , newport, magadan  \n",
    "- petersburg, tvarminne"
   ]
  },
  {
   "cell_type": "code",
   "execution_count": 11,
   "metadata": {},
   "outputs": [],
   "source": [
    "df1 = mussels[['tillamook', 'newport', 'magadan']].copy()\n",
    "df2 = mussels[['petersburg', 'tvarminne']].copy()"
   ]
  },
  {
   "cell_type": "code",
   "execution_count": 12,
   "metadata": {},
   "outputs": [
    {
     "name": "stdout",
     "output_type": "stream",
     "text": [
      "Нулевая гипотеза: все равны\n",
      "Альтернативная гипотеза: какие-то не равны\n",
      "Результат: p = 61.21698%\n",
      "НЕ отклоняем нулевую гипотезу\n",
      "Полученное f-значение 0.5014\n"
     ]
    },
    {
     "data": {
      "image/png": "[encoded data removed]",
      "text/plain": [
       "<Figure size 432x288 with 1 Axes>"
      ]
     },
     "metadata": {
      "needs_background": "light"
     },
     "output_type": "display_data"
    }
   ],
   "source": [
    "f_test(df1, tillamook, newport, magadan)"
   ]
  },
  {
   "cell_type": "code",
   "execution_count": 13,
   "metadata": {},
   "outputs": [
    {
     "name": "stdout",
     "output_type": "stream",
     "text": [
      "Нулевая гипотеза: все равны\n",
      "Альтернативная гипотеза: какие-то не равны\n",
      "Результат: p = 36.79008%\n",
      "НЕ отклоняем нулевую гипотезу\n",
      "Полученное f-значение 0.8817\n"
     ]
    },
    {
     "data": {
      "image/png": "[encoded data removed]",
      "text/plain": [
       "<Figure size 432x288 with 1 Axes>"
      ]
     },
     "metadata": {
      "needs_background": "light"
     },
     "output_type": "display_data"
    }
   ],
   "source": [
    "f_test(df2, petersburg, tvarminne)"
   ]
  },
  {
   "cell_type": "markdown",
   "metadata": {},
   "source": [
    "Как видно из тестов мидии в сгруппированных городах схожи"
   ]
  },
  {
   "cell_type": "markdown",
   "metadata": {},
   "source": [
    "# Задачи с самостоятельным выбором теста"
   ]
  },
  {
   "cell_type": "markdown",
   "metadata": {},
   "source": [
    "**Замечание: 1** Предполагается, что для решения заданий  № 1-3 будут использоваться разные тесты.\n",
    "\n",
    "Если возникают сложности по ходу решения - пиште свой вопрос в общий чат в Slack. Там всегда подскажут) \n",
    "\n",
    "\n"
   ]
  },
  {
   "cell_type": "markdown",
   "metadata": {},
   "source": [
    "<div class=\"alert alert-info\">\n",
    "<b>Задание № 1 </b>\n",
    "Вам даны результаты проверки двух препаратов.\n",
    "    \n",
    "Требуется:\n",
    "- Оценить, есть ли различие в эффекте у этих пациентов?\n",
    "- Визуально подтвердить результат\n",
    "    \n",
    "`A` - результаты для группы людей получающих препарат А.\n",
    "\n",
    "`B` - результаты для другой группы людей, получающих препарат B.\n",
    "    \n",
    "</div>"
   ]
  },
  {
   "cell_type": "markdown",
   "metadata": {},
   "source": [
    "На текущем датасете предполагается проведение трех тестов. Это число пригодится для корректировки альфы."
   ]
  },
  {
   "cell_type": "code",
   "execution_count": 14,
   "metadata": {},
   "outputs": [],
   "source": [
    "n = 3"
   ]
  },
  {
   "cell_type": "code",
   "execution_count": 15,
   "metadata": {
    "ExecuteTime": {
     "end_time": "2022-03-01T11:32:15.901529Z",
     "start_time": "2022-03-01T11:32:15.888526Z"
    }
   },
   "outputs": [
    {
     "data": {
      "image/png": "[encoded data removed]",
      "text/plain": [
       "<Figure size 432x288 with 1 Axes>"
      ]
     },
     "metadata": {
      "needs_background": "light"
     },
     "output_type": "display_data"
    }
   ],
   "source": [
    "np.random.seed(11)\n",
    "A = stats.norm.rvs(scale=30, loc=11, size=100)\n",
    "B = A + stats.norm.rvs(scale=54, loc=11, size=100)\n",
    "\n",
    "# Ваш код.\n",
    "plt.hist(pd.Series(A), alpha=.5);\n",
    "plt.hist(pd.Series(B), alpha=.5);"
   ]
  },
  {
   "cell_type": "code",
   "execution_count": 16,
   "metadata": {},
   "outputs": [],
   "source": [
    "def ttest(a, b, n=2, title=None):\n",
    "    results = stats.ttest_ind(pd.Series(a), pd.Series(b), equal_var=False)\n",
    "    alpha = 0.05/((n*(n-1))/2)\n",
    "    print(title)\n",
    "    print(f'p-значение: {(results.pvalue):.3%}')\n",
    "    if results.pvalue < alpha:\n",
    "        print('Отклоняем нулевую гипотезу - различия есть')\n",
    "    else:\n",
    "        print('Недостаточно оснований отклонить нулевую гипотезу')"
   ]
  },
  {
   "cell_type": "code",
   "execution_count": 17,
   "metadata": {},
   "outputs": [
    {
     "name": "stdout",
     "output_type": "stream",
     "text": [
      "Гипотеза об эффекте для групп А и В, принимающих разные препараты\n",
      "H0 - различий нет\n",
      "H1 - различия есть\n",
      "p-значение: 8.511%\n",
      "Недостаточно оснований отклонить нулевую гипотезу\n"
     ]
    }
   ],
   "source": [
    "ttest(A, B, n=3, title='Гипотеза об эффекте для групп А и В, принимающих разные препараты\\nH0 - различий нет\\nH1 - различия есть')"
   ]
  },
  {
   "cell_type": "markdown",
   "metadata": {},
   "source": [
    "Тут все понятно. Видимо на 2 группы препараты действуют одинаково"
   ]
  },
  {
   "cell_type": "markdown",
   "metadata": {},
   "source": [
    "<div class=\"alert alert-info\">\n",
    "<b>Задание № 2 </b>\n",
    "Вам даны результаты проверки двух препаратов. \n",
    "    \n",
    "Требуется: \n",
    "- Оценить, есть ли различие в эффекте у этих пациентов?\n",
    "- Визуально подтвердить результат\n",
    "    \n",
    "`А` - группа людей без препарата.\n",
    "\n",
    "`B` - та же группа людей, но получающая препарат\n",
    "</div>"
   ]
  },
  {
   "cell_type": "markdown",
   "metadata": {},
   "source": [
    "Условия очень похожи, выборки одинаковые. Скорее всего это в рамках одного исследования"
   ]
  },
  {
   "cell_type": "code",
   "execution_count": 18,
   "metadata": {
    "ExecuteTime": {
     "end_time": "2022-03-01T11:32:15.917578Z",
     "start_time": "2022-03-01T11:32:15.904528Z"
    }
   },
   "outputs": [
    {
     "data": {
      "text/plain": [
       "<AxesSubplot:>"
      ]
     },
     "execution_count": 18,
     "metadata": {},
     "output_type": "execute_result"
    },
    {
     "data": {
      "image/png": "[encoded data removed]",
      "text/plain": [
       "<Figure size 432x288 with 1 Axes>"
      ]
     },
     "metadata": {
      "needs_background": "light"
     },
     "output_type": "display_data"
    }
   ],
   "source": [
    "np.random.seed(11)\n",
    "A = stats.norm.rvs(scale=30, loc=11, size=100)\n",
    "B = A + stats.norm.rvs(scale=54, loc=11, size=100)\n",
    "\n",
    "# Ваш код\n",
    "pd.Series(A).hist(alpha = .5)\n",
    "pd.Series(B).hist(alpha = .5)"
   ]
  },
  {
   "cell_type": "markdown",
   "metadata": {},
   "source": [
    "Проверим гипотезу бутстрапом. \n",
    "- посчитаем разницу средних показателей в группах А и В\n",
    "- смешаем две группы, как будто никакого теста не проводим\n",
    "- случайно будем выводить две группы по сто человек, делать замеры, считать разницу средних показателей и возвращать их обратно\n",
    "- повторим такие замеры много раз и сравним ранее посчитанной разницей\n",
    "- посчитаем сколько раз случайно полученная разница превысила фактическую и поделим на количество всех замеров\n",
    "- полученная величина буде согласно ЗБЧ будет вероятностью получить такое или большее значение случайно, т.е. __p-value__"
   ]
  },
  {
   "cell_type": "code",
   "execution_count": 19,
   "metadata": {},
   "outputs": [
    {
     "data": {
      "text/html": [
       "<div>\n",
       "<style scoped>\n",
       "    .dataframe tbody tr th:only-of-type {\n",
       "        vertical-align: middle;\n",
       "    }\n",
       "\n",
       "    .dataframe tbody tr th {\n",
       "        vertical-align: top;\n",
       "    }\n",
       "\n",
       "    .dataframe thead th {\n",
       "        text-align: right;\n",
       "    }\n",
       "</style>\n",
       "<table border=\"1\" class=\"dataframe\">\n",
       "  <thead>\n",
       "    <tr style=\"text-align: right;\">\n",
       "      <th></th>\n",
       "      <th>value</th>\n",
       "      <th>group</th>\n",
       "    </tr>\n",
       "  </thead>\n",
       "  <tbody>\n",
       "    <tr>\n",
       "      <th>88</th>\n",
       "      <td>-14.900575</td>\n",
       "      <td>A</td>\n",
       "    </tr>\n",
       "    <tr>\n",
       "      <th>88</th>\n",
       "      <td>76.692885</td>\n",
       "      <td>B</td>\n",
       "    </tr>\n",
       "    <tr>\n",
       "      <th>37</th>\n",
       "      <td>61.663792</td>\n",
       "      <td>B</td>\n",
       "    </tr>\n",
       "  </tbody>\n",
       "</table>\n",
       "</div>"
      ],
      "text/plain": [
       "        value group\n",
       "88 -14.900575     A\n",
       "88  76.692885     B\n",
       "37  61.663792     B"
      ]
     },
     "execution_count": 19,
     "metadata": {},
     "output_type": "execute_result"
    }
   ],
   "source": [
    "a = pd.Series(A).rename('value').to_frame()\n",
    "b = pd.Series(B).rename('value').to_frame()\n",
    "a['group'] = 'A'\n",
    "b['group'] = 'B'\n",
    "df3 = pd.concat([a,b])\n",
    "df3.sample(3)"
   ]
  },
  {
   "cell_type": "code",
   "execution_count": null,
   "metadata": {},
   "outputs": [
    {
     "name": "stderr",
     "output_type": "stream",
     "text": [
      "  3%|▎         | 2553/100000 [00:00<00:11, 8575.29it/s]"
     ]
    }
   ],
   "source": [
    "boot = []\n",
    "diff = abs(pd.Series(A).mean() - pd.Series(B).mean())\n",
    "for i in tqdm(range(100000)):\n",
    "    a_1 = (df3['value'].sample(len(A), replace=True).mean())\n",
    "    b_1 = (df3['value'].sample(len(B), replace=True).mean())\n",
    "    boot.append(abs(a_1 - b_1) >= diff)\n",
    "p_val = pd.Series(boot).mean()\n",
    "alpha = 0.05/((n*(n-1))/2)\n",
    "print(f'Гипотеза об эффекте для группы А и В, принимающих препарат Х и не принимающих\\nH0 - различий нет\\nH1 - различия есть')\n",
    "print(f'p-значение: {p_val:.3%}')\n",
    "if p_val < alpha:\n",
    "    print('Отклоняем нулевую гипотезу - различия есть')\n",
    "else:\n",
    "    print('Недостаточно оснований отклонить нулевую гипотезу')\n",
    "    \n",
    "plt.figure(figsize=(12,4))\n",
    "(pd.Series(boot).cumsum() / (pd.Series(boot).index + 1)).plot()\n",
    "plt.title('Как с ростом количества выборок среднее случайное отклонение в эффекте превышает зафиксированное')\n",
    "plt.xlabel('количество экспериментов')\n",
    "plt.ylabel('процент превышения')\n",
    "plt.show()"
   ]
  },
  {
   "cell_type": "markdown",
   "metadata": {},
   "source": [
    "Проверим еще и Ф-тестом"
   ]
  },
  {
   "cell_type": "code",
   "execution_count": null,
   "metadata": {},
   "outputs": [],
   "source": [
    "f_test(None, A, B, n=n)"
   ]
  },
  {
   "cell_type": "markdown",
   "metadata": {},
   "source": [
    "Все три показывают похожий результат"
   ]
  },
  {
   "cell_type": "markdown",
   "metadata": {},
   "source": [
    "<div class=\"alert alert-info\">\n",
    "<b>Задание № 3 </b>\n",
    "Допустим вы решили устроить дачный эксперимент. Берем и поливаем одни огурцы водой, другие огурцы водой с удобнением, третью группу огурцов будем поливать минералкой. \n",
    "    \n",
    " - Используя дисперсионный анализ, сделайте выводы о распредлениях результатов. Есть ли эффект от удобрения по сравнению с минералкой? \n",
    " - Помимо результата статистического теста, продемонстрируйте отличия визуально с помощью `boxplot` или `hist`\n",
    "    \n",
    "</div>"
   ]
  },
  {
   "cell_type": "code",
   "execution_count": null,
   "metadata": {},
   "outputs": [],
   "source": [
    "n = 3"
   ]
  },
  {
   "cell_type": "code",
   "execution_count": null,
   "metadata": {
    "ExecuteTime": {
     "end_time": "2022-03-01T11:32:16.028527Z",
     "start_time": "2022-03-01T11:32:15.924532Z"
    }
   },
   "outputs": [],
   "source": [
    "water = [1, 2, 3, 4, 2, 4, 2, 4, 5, 2, 3, 4, 2, 1, 3, 4, 3, 2, 5, 1]\n",
    "nutri = [1, 2, 4, 6, 5, 6, 7, 5, 4, 5, 6, 7, 4, 3, 5, 5, 6, 5, 4, 3, 5]\n",
    "mineral = [2, 1, 1, 3, 2, 4, 2, 4, 5, 4, 3, 2, 3, 2, 3, 1, 3, 4, 5, 1, 4]\n",
    "\n",
    "# Ваш код.\n",
    "types = [water , nutri, mineral]"
   ]
  },
  {
   "cell_type": "code",
   "execution_count": null,
   "metadata": {},
   "outputs": [],
   "source": [
    "df4 = pd.concat([pd.Series(i) for i in types], axis=1)\n",
    "df4.columns = ['water', 'nutri' , 'mineral']\n",
    "df4.dropna(inplace=True)"
   ]
  },
  {
   "cell_type": "code",
   "execution_count": null,
   "metadata": {},
   "outputs": [],
   "source": [
    "def anova_test(df, n=2):\n",
    "    df.boxplot()\n",
    "    df.dropna(inplace=True)\n",
    "    alpha = 0.05/((n*(n-1))/2)\n",
    "    print('Нулевая гипотеза:', '='.join(df))\n",
    "    print('Альтернативная гипотеза:', f'!({\"=\".join(df)})')\n",
    "    grand_mean = df.values.flatten().mean()\n",
    "    sst = sum((val - grand_mean)**2 for val in df.values.flatten())\n",
    "    ssb = sum(df[group].size * (group_mean - grand_mean) ** 2 for group, group_mean in df.mean().items())\n",
    "    ssw = sum(sum((x - group_mean)**2 for x in df[group]) for group, group_mean in df.mean().items())\n",
    "    groups = df.shape[1]\n",
    "    dfb = groups - 1\n",
    "    dfw = df.size - groups\n",
    "    mssb = ssb/dfb\n",
    "    mssw = ssw/dfw\n",
    "    f_value = mssb/mssw\n",
    "    p = stats.f.sf(f_value, dfb, dfw)\n",
    "    print(f'Результат: p = {p:.5%}')\n",
    "    if p < alpha:\n",
    "        print('отклоняем нулевую гипотезу')\n",
    "    else:\n",
    "        print('НЕ отклоняем нулевую гипотезу')\n",
    "    print(f\"Полученное f-значение {f_value}\")"
   ]
  },
  {
   "cell_type": "markdown",
   "metadata": {},
   "source": [
    "Сперва проверим равенство трех способов, потом отдельно какие-нибудь два"
   ]
  },
  {
   "cell_type": "code",
   "execution_count": null,
   "metadata": {},
   "outputs": [],
   "source": [
    "anova_test(df4, n=n)"
   ]
  },
  {
   "cell_type": "code",
   "execution_count": null,
   "metadata": {},
   "outputs": [],
   "source": [
    "ttest(water, mineral, n=n, title='Гипотеза об эффекте от полива минералкой и простой водой\\nH0 - различий нет\\nH1 - различия есть')"
   ]
  },
  {
   "cell_type": "markdown",
   "metadata": {},
   "source": [
    "Если все три не равны согласно Ф-тесту, а Вода и минералка по Т-тесту равны, то __нутри__ уже можно не проверять. Он отличается от остальных"
   ]
  },
  {
   "cell_type": "markdown",
   "metadata": {},
   "source": [
    "<div class=\"alert alert-info\">\n",
    "<b>* Задание *</b>\n",
    "    \n",
    "Проанализируем ещё один датасет. Здесь снова данные по урожайности в зависимости от типа используемого удобрения. \n",
    "    \n",
    "Предлагаю самостоятельно исследовать данные и проверить гопотезы, используя тесты, изученные в течение курса\n",
    "Допустим, вы должны помочь агроному выбрать тип удобрения. Какой вы посоветуете и почему? \n",
    "\n"
   ]
  },
  {
   "cell_type": "code",
   "execution_count": null,
   "metadata": {
    "ExecuteTime": {
     "end_time": "2022-03-01T11:37:23.694558Z",
     "start_time": "2022-03-01T11:37:23.440560Z"
    }
   },
   "outputs": [],
   "source": [
    "df5 = pd.read_csv('Основы_pandas/PlantGrowth.csv', index_col=0)\n",
    "sns.boxplot(y=\"weight\", x='group', data=df5, orient='v')\n",
    "plt.show()"
   ]
  },
  {
   "cell_type": "markdown",
   "metadata": {},
   "source": [
    "Проверим на нормальность"
   ]
  },
  {
   "cell_type": "code",
   "execution_count": null,
   "metadata": {},
   "outputs": [],
   "source": [
    "alpha = 0.05\n",
    "for i in df5['group'].unique():\n",
    "    df5.query('group == @i')['weight'].hist(alpha = .5)\n",
    "    results = stats.shapiro(df5.query('group == @i')['weight'])\n",
    "    p_value = results[1]\n",
    "    print(f'p-значение для категории {i} {p_value:.5%}')\n",
    "    if p_value < alpha:\n",
    "        print('\\tОтвергаем нулевую гипотезу: распределение не нормально')\n",
    "    else:\n",
    "        print('\\tНе получилось отвергнуть нулевую гипотезу, распределение нормально') "
   ]
  },
  {
   "cell_type": "markdown",
   "metadata": {},
   "source": [
    "Тест указывает что выборки распределены нормально, хотя этого не заметно. Наверно потому что мало данных. Если данных мало Т-тест может дать неверный результат. посчитаем все Манном-Уитни"
   ]
  },
  {
   "cell_type": "markdown",
   "metadata": {},
   "source": [
    "Предварительно группируем удобрения в пары"
   ]
  },
  {
   "cell_type": "code",
   "execution_count": null,
   "metadata": {},
   "outputs": [],
   "source": [
    "pairs_of_categoryes = list(combinations(df5['group'].unique(), 2))\n",
    "pairs_of_categoryes"
   ]
  },
  {
   "cell_type": "code",
   "execution_count": null,
   "metadata": {},
   "outputs": [],
   "source": [
    "def tester(df, a, b, n=3):\n",
    "    alpha = 0.05/((n*(n-1))/2)\n",
    "    res = stats.mannwhitneyu(df[df['group'] == a]['weight'], df[df['group'] == b]['weight'])\n",
    "    print(f'Скорректированная альфа {alpha:.2f}')\n",
    "    print(f'Гипотеза об эффекте от удобрения {a} и удобрения {b}\\nH0 - различий нет\\nH1 - различия есть')\n",
    "    print('\\tp-значение: {0:.3f}'.format(res.pvalue))\n",
    "    if (res.pvalue < alpha):\n",
    "        print(\"\\tОтклоняем нулевую гипотезу - различия есть\")\n",
    "    else:\n",
    "        print(\"\\tНедостаточно оснований отклонить нулевую гипотезу\")\n",
    "    print()"
   ]
  },
  {
   "cell_type": "code",
   "execution_count": null,
   "metadata": {},
   "outputs": [],
   "source": [
    "for item in pairs_of_categoryes:\n",
    "    tester(df5, item[0], item[1], n=3)"
   ]
  },
  {
   "cell_type": "markdown",
   "metadata": {},
   "source": [
    "Если в магазине будут только __trt1__ и __trt2__ - пусть однозначно берет __trt2__   \n",
    "Если не будет этого можно __ctrl__ либо __trt1__, но там не понятно какое лучше, пусть по цене ориентируется"
   ]
  },
  {
   "cell_type": "markdown",
   "metadata": {},
   "source": [
    "# Покемоны и AB-тестирование \n",
    "(реальный кейс собеседования на позицию Аналитика).\n",
    "\n",
    "\n",
    "# Описание задачи\n",
    "\n",
    "Покемоны - это маленькие существа, которые сражаются друг с другом на соревнованиях. Все покемоны имеют разные характеристики (сила атаки, защиты и т. д.) И относятся к одному или двум так называемым классам (вода, огонь и т. д.).\n",
    "Профессор Оук является изобретателем Pokedex, портативного устройства, которое хранит информацию обо всех существующих покемонах. Как его ведущий специалист по данным, Вы только что получили от него запрос с просьбой осуществить аналитику данных на всех устройствах Pokedex. \n",
    "\n",
    "## Описание набора данных\n",
    "Профессор Оук скопировал все содержимое память одного устройства Pokedex, в результате чего получился набор данных, с которым Вы будете работать в этой задаче. В этом файле каждая строка представляет характеристики одного покемона:\n",
    "\n",
    "* `pid`: Numeric - ID покемона\n",
    "* `HP`: Numeric - Очки здоровья\n",
    "* `Attack`: Numeric - Сила обычной атаки\n",
    "* `Defense`: Numeric - Сила обычной защиты\n",
    "* `Sp. Atk`: Numeric - Сила специальной атаки\n",
    "* `Sp. Def`: Numeric - Сила специальной защиты\n",
    "* `Speed`: Numeric - Скорость движений\n",
    "* `Legendary`: Boolean - «True», если покемон редкий\n",
    "* `Class 1`: Categorical - Класс покемона\n",
    "* `Class 2`: Categorical - Класс покемона"
   ]
  },
  {
   "cell_type": "code",
   "execution_count": null,
   "metadata": {
    "ExecuteTime": {
     "end_time": "2022-03-01T11:32:33.039545Z",
     "start_time": "2022-03-01T11:32:33.004532Z"
    }
   },
   "outputs": [],
   "source": [
    "pokemon = pd.read_csv('Основы_pandas/pokemon.csv')  # Откроем датасет\n",
    "pokemon.head()\n",
    "# Обратите внимание, что у покемона может быть один или два класса.\n",
    "# Если у покемона два класса, считается, что они имеют одинаковую значимость.\n",
    "pokemon.columns = [i.lower().replace(' ', '_') for i in pokemon.columns]\n",
    "pokemon"
   ]
  },
  {
   "cell_type": "markdown",
   "metadata": {},
   "source": [
    "# Задачи"
   ]
  },
  {
   "cell_type": "markdown",
   "metadata": {},
   "source": [
    "<div class=\"alert alert-info\">\n",
    "<b>Задание № 1:</b>\n",
    "    \n",
    "Профессор Оук подозревает, что покемоны в классе `grass` имеют более сильную обычную атаку, чем у покемонов в классе `rock`. Проверьте, прав ли он, и убедите его в своем выводе статистически.\n",
    "    \n",
    "    \n",
    "Примечание: если есть покемоны, которые относятся к обоим классам, просто выбросьте их;\n",
    "    \n",
    "Вы можете предположить, что распределение обычных атак является нормальным для всех классов покемонов.\n",
    "\n",
    "</div>\n"
   ]
  },
  {
   "cell_type": "markdown",
   "metadata": {},
   "source": [
    "У нас предполагается 4 тестов на одном датасете и 1 на сравнение доверительного интервала"
   ]
  },
  {
   "cell_type": "code",
   "execution_count": null,
   "metadata": {},
   "outputs": [],
   "source": [
    "n = 4"
   ]
  },
  {
   "cell_type": "code",
   "execution_count": null,
   "metadata": {},
   "outputs": [],
   "source": [
    "pokemon[['class_1', 'class_2']].info()"
   ]
  },
  {
   "cell_type": "markdown",
   "metadata": {},
   "source": [
    "В __class_2__ очень много пропусков"
   ]
  },
  {
   "cell_type": "code",
   "execution_count": null,
   "metadata": {},
   "outputs": [],
   "source": [
    "pokemon.groupby('name').agg({'class_1':lambda x: x.count() > 1}).sum()"
   ]
  },
  {
   "cell_type": "markdown",
   "metadata": {},
   "source": [
    "Покемоны в классах не дублируются"
   ]
  },
  {
   "cell_type": "code",
   "execution_count": null,
   "metadata": {},
   "outputs": [],
   "source": [
    "df7 = pokemon[pokemon['class_1'].str.contains('grass|rock', case=False)][['class_1', 'attack']]\n",
    "df7['class_1'].value_counts()"
   ]
  },
  {
   "cell_type": "code",
   "execution_count": null,
   "metadata": {},
   "outputs": [],
   "source": [
    "alpha = 0.05\n",
    "for i in df7['class_1'].unique():\n",
    "    sns.histplot(data=df7, x='attack', hue='class_1', bins=10)\n",
    "    results = stats.shapiro(df7.query('class_1 == @i')['attack'])\n",
    "    p_value = results[1]\n",
    "    print(f'p-значение для категории {i} {p_value:.5%}')\n",
    "    if p_value < alpha:\n",
    "        print('\\tОтвергаем нулевую гипотезу: распределение не нормально')\n",
    "    else:\n",
    "        print('\\tНе получилось отвергнуть нулевую гипотезу, распределение нормально') "
   ]
  },
  {
   "cell_type": "code",
   "execution_count": null,
   "metadata": {},
   "outputs": [],
   "source": [
    "a = df7[df7['class_1'] == 'Grass']['attack']\n",
    "b = df7[df7['class_1'] == 'Rock']['attack']"
   ]
  },
  {
   "cell_type": "code",
   "execution_count": null,
   "metadata": {},
   "outputs": [],
   "source": [
    "ttest(a, b, n=n, title='Гипотеза о том, что покемоны в классе Grass \\nимеют более сильную обычную атаку, \\nчем у покемонов в классе Rock\\nH0 - различий нет\\nH1 - различия есть')"
   ]
  },
  {
   "cell_type": "markdown",
   "metadata": {},
   "source": [
    "<div class=\"alert alert-info\">\n",
    "<b>Задание № 2:</b>\n",
    "    \n",
    "Профессор Оук уже долго не может спать по ночам ведь его волнует вопрос, а правда, что покемоны что покемоны в классе `Water` в среднем более быстрые, чем покемоны в классе `Normal`. \n",
    "    \n",
    "    \n",
    "Проверьте, прав ли он, и убедите его в своем выводе статистически.\n",
    "    \n",
    "Примечание: если есть покемоны относятся к обоим классам, выбросьте их;\n",
    "    \n",
    "Вы можете предположить, что распределение скорости движения является нормальным для всех классов покемонов.\n",
    "\n",
    "</div>"
   ]
  },
  {
   "cell_type": "code",
   "execution_count": null,
   "metadata": {},
   "outputs": [],
   "source": [
    "df8 = pokemon[pokemon['class_1'].str.contains('Water|Normal', case=False)][['class_1', 'speed']]\n",
    "df8['class_1'].value_counts()"
   ]
  },
  {
   "cell_type": "code",
   "execution_count": null,
   "metadata": {},
   "outputs": [],
   "source": [
    "alpha = 0.05\n",
    "for i in df8['class_1'].unique():\n",
    "    sns.histplot(data=df8, x='speed', hue='class_1', bins=10)\n",
    "    results = stats.shapiro(df8.query('class_1 == @i')['speed'])\n",
    "    p_value = results[1]\n",
    "    print(f'p-значение для категории {i} {p_value:.5%}')\n",
    "    if p_value < alpha:\n",
    "        print('\\tОтвергаем нулевую гипотезу: распределение не нормально')\n",
    "    else:\n",
    "        print('\\tНе получилось отвергнуть нулевую гипотезу, распределение нормально') "
   ]
  },
  {
   "cell_type": "code",
   "execution_count": null,
   "metadata": {},
   "outputs": [],
   "source": [
    "a = df8[df8['class_1'] == 'Water']['speed']\n",
    "b = df8[df8['class_1'] == 'Normal']['speed']"
   ]
  },
  {
   "cell_type": "code",
   "execution_count": null,
   "metadata": {},
   "outputs": [],
   "source": [
    "ttest(a, b, n=n, title='Гипотеза о том, что покемоны в классе Water \\nбыстрее чем покемоноы в классе Normal\\nH0 - различий нет\\nH1 - различия есть')"
   ]
  },
  {
   "cell_type": "markdown",
   "metadata": {},
   "source": [
    "<div class=\"alert alert-info\">\n",
    "<b>Задание № 3:</b>\n",
    "    \n",
    "Профессор Оук тот еще безумец. Он изобрел сыворотку, способную ускорить покемона. Однако, мы усомнились в эффективности его вакцины. Професоор дал эту сыворотку следующим покемонам: смотри массив `treathed_pokemon`. Проверьте, работает ли вообще его сыворотка, убедите всех в своем выводе статистически.\n",
    "    \n",
    "    \n",
    "Вы можете предположить, что распределение скорости движения является нормальным для всех классов покемонов.\n",
    "\n",
    "</div>"
   ]
  },
  {
   "cell_type": "markdown",
   "metadata": {},
   "source": [
    "Для сравнения 4 тестовых покемонов со всеми остальными проверим попадает ли их средний замер в 99% доверительных интервал"
   ]
  },
  {
   "cell_type": "code",
   "execution_count": null,
   "metadata": {
    "ExecuteTime": {
     "end_time": "2022-03-01T11:32:33.055532Z",
     "start_time": "2022-03-01T11:32:33.044535Z"
    }
   },
   "outputs": [],
   "source": [
    "# Покемоны, которые принимали сыворотку увеличения скорости\n",
    "treathed_pokemon = ['Mega Beedrill', 'Mega Alakazam',\n",
    "                    'Deoxys Normal Forme', 'Mega Lopunny']"
   ]
  },
  {
   "cell_type": "code",
   "execution_count": null,
   "metadata": {},
   "outputs": [],
   "source": [
    "untreathed = pokemon.query('name not in @treathed_pokemon')['speed']"
   ]
  },
  {
   "cell_type": "code",
   "execution_count": null,
   "metadata": {},
   "outputs": [],
   "source": [
    "def mean_confidence_interval(data, confidence=0.95):\n",
    "    n = len(data)\n",
    "    m, se = np.mean(data), stats.sem(data)\n",
    "    h = se * stats.t.ppf((1 + confidence)/2, n)\n",
    "    return m-h, m, m+h"
   ]
  },
  {
   "cell_type": "code",
   "execution_count": null,
   "metadata": {},
   "outputs": [],
   "source": [
    "mean_confidence_interval(untreathed, confidence=0.99)"
   ]
  },
  {
   "cell_type": "code",
   "execution_count": null,
   "metadata": {},
   "outputs": [],
   "source": [
    "treathed = pokemon.query('name in @treathed_pokemon')['speed']\n",
    "treathed.mean()"
   ]
  },
  {
   "cell_type": "markdown",
   "metadata": {},
   "source": [
    "Покемоны с сывороткой в среднем быстрее чем границы 99% доверительного интервала скорости обычных покемонов"
   ]
  },
  {
   "cell_type": "markdown",
   "metadata": {},
   "source": [
    "<div class=\"alert alert-info\">\n",
    "<b>Задание № 4:</b>\n",
    "    \n",
    "Профессор Оук всегда любил истории про легендарных покемонов. Однако, профессор не очень уверен, что они самые лучшие относительно остальных покемонов. Оук предложил разобраться в этом нам. Проверьте, действительно ли сумма характеристик `HP`,`Attack`,`Defense` у легендарных покемонов выше, чем у других покемонов? А произведение этих же параметров?? Найдите ответы на эти вопросы и убедите всех в своем выводе статистически.\n",
    "   \n",
    "\n",
    "Вы можете предположить, что распределение сум и произведений этих параметров является нормальным для всех классов покемонов.\n",
    "\n",
    "</div>"
   ]
  },
  {
   "cell_type": "code",
   "execution_count": null,
   "metadata": {},
   "outputs": [],
   "source": [
    "pokemon['summa'] = pokemon[['hp','attack', 'defense']].sum(axis=1)\n",
    "pokemon['pover'] = pokemon[['hp','attack', 'defense']].prod(axis=1)"
   ]
  },
  {
   "cell_type": "code",
   "execution_count": null,
   "metadata": {},
   "outputs": [],
   "source": [
    "pokemon['legendary'].value_counts()"
   ]
  },
  {
   "cell_type": "markdown",
   "metadata": {},
   "source": [
    "Тут очень большой перекос в легендарных и нет. Так же пойдем по пути доверительных интервалов и Ф-теста"
   ]
  },
  {
   "cell_type": "code",
   "execution_count": null,
   "metadata": {},
   "outputs": [],
   "source": [
    "def some_test(df, column, n=2):\n",
    "    a = df[df['legendary'] == True][column]\n",
    "    b = df[df['legendary'] != True][column]\n",
    "    sns.boxplot(x=\"legendary\", y=column, data=df)\n",
    "    mci_a = mean_confidence_interval(a, confidence=0.99)\n",
    "    mci_b = mean_confidence_interval(b, confidence=0.99)\n",
    "    print(f'Доверительный интервал А - правый {mci_a[0]:.2f} средняя {mci_a[1]:.2f} левый {mci_a[2]:.2f}')\n",
    "    print(f'Доверительный интервал B - правый {mci_b[0]:.2f} средняя {mci_b[1]:.2f} левый {mci_b[2]:.2f}')\n",
    "    print()\n",
    "    f_test(None, a, b, n=n)"
   ]
  },
  {
   "cell_type": "code",
   "execution_count": null,
   "metadata": {},
   "outputs": [],
   "source": [
    "some_test(pokemon, 'summa', n=n)"
   ]
  },
  {
   "cell_type": "code",
   "execution_count": null,
   "metadata": {},
   "outputs": [],
   "source": [
    "some_test(pokemon, 'pover', n=n)"
   ]
  },
  {
   "cell_type": "markdown",
   "metadata": {},
   "source": [
    "Тут все понятно. Легендарные круче"
   ]
  },
  {
   "cell_type": "markdown",
   "metadata": {},
   "source": [
    "<div class=\"alert alert-info\">\n",
    "<b>Задание № 5:</b>\n",
    "    \n",
    "Профессор Оук частенько наблюдает за боями покемонов. После очередных таких боев Оук выделил три класса `best_defence_class`, которые на его взгляд одинаковы по \"силе обычной защиты\" `Defense`. Проверьте, действительно ли эти классы покемонов не отличаются по уровню защиты статистически значимо? Все та же статистика вам в помощь! \n",
    "   \n",
    "\n",
    "Вы можете предположить, что распределение сум и произведений этих параметров является нормальным для всех классов покемонов.\n",
    "\n",
    "</div>"
   ]
  },
  {
   "cell_type": "code",
   "execution_count": null,
   "metadata": {
    "ExecuteTime": {
     "end_time": "2022-03-01T11:32:33.070533Z",
     "start_time": "2022-03-01T11:32:33.060532Z"
    }
   },
   "outputs": [],
   "source": [
    "best_defence_class = ['Rock', 'Ground', 'Steel', 'Ice']\n",
    "best_defence_class"
   ]
  },
  {
   "cell_type": "code",
   "execution_count": null,
   "metadata": {},
   "outputs": [],
   "source": [
    "df9 = pokemon.query('class_1 in @best_defence_class')[['class_1','defense']]"
   ]
  },
  {
   "cell_type": "code",
   "execution_count": null,
   "metadata": {},
   "outputs": [],
   "source": [
    "best_defence = [df9[df9['class_1'] == i]['defense'] for i in df9.class_1.unique()]"
   ]
  },
  {
   "cell_type": "code",
   "execution_count": null,
   "metadata": {},
   "outputs": [],
   "source": [
    "sns.boxplot(y=\"defense\", x='class_1', data=df9, orient='v')\n",
    "plt.show()"
   ]
  },
  {
   "cell_type": "code",
   "execution_count": null,
   "metadata": {},
   "outputs": [],
   "source": [
    "f_test(*best_defence, n=n)"
   ]
  },
  {
   "cell_type": "markdown",
   "metadata": {},
   "source": [
    "Оказывается, некоторые из этих классов покемонов отличаются по уровню защиты статистически значимо"
   ]
  },
  {
   "cell_type": "code",
   "execution_count": null,
   "metadata": {},
   "outputs": [],
   "source": []
  }
 ],
 "metadata": {
  "kernelspec": {
   "display_name": "Python 3 (ipykernel)",
   "language": "python",
   "name": "python3"
  },
  "language_info": {
   "codemirror_mode": {
    "name": "ipython",
    "version": 3
   },
   "file_extension": ".py",
   "mimetype": "text/x-python",
   "name": "python",
   "nbconvert_exporter": "python",
   "pygments_lexer": "ipython3",
   "version": "3.9.12"
  },
  "toc": {
   "base_numbering": 1,
   "nav_menu": {},
   "number_sections": true,
   "sideBar": true,
   "skip_h1_title": false,
   "title_cell": "Table of Contents",
   "title_sidebar": "Contents",
   "toc_cell": false,
   "toc_position": {},
   "toc_section_display": true,
   "toc_window_display": false
  }
 },
 "nbformat": 4,
 "nbformat_minor": 4
}
