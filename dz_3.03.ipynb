{
 "cells": [
  {
   "cell_type": "markdown",
   "id": "890ae6e6",
   "metadata": {},
   "source": [
    "### Домашнее задание №3 к лекции «Случайные события. Случайные величины»"
   ]
  },
  {
   "cell_type": "code",
   "execution_count": 1,
   "id": "327da7ff",
   "metadata": {},
   "outputs": [],
   "source": [
    "import pandas as pd\n",
    "import numpy as np\n",
    "import matplotlib.pyplot as plt\n",
    "\n",
    "plt.style.use('fivethirtyeight')"
   ]
  },
  {
   "cell_type": "markdown",
   "id": "6839a507",
   "metadata": {},
   "source": [
    "Смоделировать игру против лотерейного автомата типа “777”. Игрок платит 1 руб., после чего выпадает случайное целое число, равномерно распределенное от 0 до 999. При некоторых значениях числа игрок получает выигрыш.  \n",
    "\n",
    "- 777: 200 руб.\n",
    "- 999: 100 руб.\n",
    "- 555: 50 руб.\n",
    "- 333: 15 руб.\n",
    "- 111: 10 руб.\n",
    "- *77: 5 руб.\n",
    "- **7: 3 руб.\n",
    "- *00: 2 руб.\n",
    "- **0: 1 руб.\n",
    "\n",
    "Вопросы:  \n",
    "\n",
    "Выгодна ли игра игроку?  \n",
    "Сколько в среднем приобретает или теряет игрок за одну игру?  "
   ]
  },
  {
   "cell_type": "markdown",
   "id": "f87eb373",
   "metadata": {},
   "source": [
    "### Монте-Карло"
   ]
  },
  {
   "cell_type": "markdown",
   "id": "c07a28f8",
   "metadata": {},
   "source": [
    "Напишем функцию имитирующую один поворот рычага аппарата для получения суммы выигрыша при каждом из исходов"
   ]
  },
  {
   "cell_type": "code",
   "execution_count": 2,
   "id": "7cec6a10",
   "metadata": {},
   "outputs": [],
   "source": [
    "def one_turn():\n",
    "    res = np.random.randint(low=0, high=1000, size=1)\n",
    "    if res == 777:\n",
    "        win = 200\n",
    "    elif res == 999:\n",
    "        win = 100\n",
    "    elif res == 555:\n",
    "        win = 50\n",
    "    elif res == 333:\n",
    "        win = 15\n",
    "    elif res == 111:\n",
    "        win = 10\n",
    "    elif res % 100 == 77: # 777 сюда уже не попадут\n",
    "        win = 5\n",
    "    elif res % 10 == 7: # 777, 77, 177, .... 977 сюда уже не попадут\n",
    "        win = 3\n",
    "    elif res % 100 == 0:\n",
    "        win = 2\n",
    "    elif res % 10 == 0:\n",
    "        win = 1\n",
    "    else:\n",
    "        win = 0\n",
    "    return win - 1"
   ]
  },
  {
   "cell_type": "code",
   "execution_count": 3,
   "id": "72bcb491",
   "metadata": {},
   "outputs": [
    {
     "name": "stdout",
     "output_type": "stream",
     "text": [
      "Сколько раз он выиграл денег при 1000000 экспериментах\n"
     ]
    },
    {
     "data": {
      "text/html": [
       "<div>\n",
       "<style scoped>\n",
       "    .dataframe tbody tr th:only-of-type {\n",
       "        vertical-align: middle;\n",
       "    }\n",
       "\n",
       "    .dataframe tbody tr th {\n",
       "        vertical-align: top;\n",
       "    }\n",
       "\n",
       "    .dataframe thead th {\n",
       "        text-align: right;\n",
       "    }\n",
       "</style>\n",
       "<table border=\"1\" class=\"dataframe\">\n",
       "  <thead>\n",
       "    <tr style=\"text-align: right;\">\n",
       "      <th></th>\n",
       "      <th>money</th>\n",
       "      <th>times</th>\n",
       "    </tr>\n",
       "  </thead>\n",
       "  <tbody>\n",
       "    <tr>\n",
       "      <th>0</th>\n",
       "      <td>-1</td>\n",
       "      <td>796404</td>\n",
       "    </tr>\n",
       "    <tr>\n",
       "      <th>1</th>\n",
       "      <td>0</td>\n",
       "      <td>89846</td>\n",
       "    </tr>\n",
       "    <tr>\n",
       "      <th>2</th>\n",
       "      <td>1</td>\n",
       "      <td>10118</td>\n",
       "    </tr>\n",
       "    <tr>\n",
       "      <th>3</th>\n",
       "      <td>2</td>\n",
       "      <td>89701</td>\n",
       "    </tr>\n",
       "    <tr>\n",
       "      <th>4</th>\n",
       "      <td>4</td>\n",
       "      <td>8991</td>\n",
       "    </tr>\n",
       "    <tr>\n",
       "      <th>5</th>\n",
       "      <td>9</td>\n",
       "      <td>973</td>\n",
       "    </tr>\n",
       "    <tr>\n",
       "      <th>6</th>\n",
       "      <td>14</td>\n",
       "      <td>1002</td>\n",
       "    </tr>\n",
       "    <tr>\n",
       "      <th>7</th>\n",
       "      <td>49</td>\n",
       "      <td>1003</td>\n",
       "    </tr>\n",
       "    <tr>\n",
       "      <th>8</th>\n",
       "      <td>99</td>\n",
       "      <td>964</td>\n",
       "    </tr>\n",
       "    <tr>\n",
       "      <th>9</th>\n",
       "      <td>199</td>\n",
       "      <td>998</td>\n",
       "    </tr>\n",
       "  </tbody>\n",
       "</table>\n",
       "</div>"
      ],
      "text/plain": [
       "   money   times\n",
       "0     -1  796404\n",
       "1      0   89846\n",
       "2      1   10118\n",
       "3      2   89701\n",
       "4      4    8991\n",
       "5      9     973\n",
       "6     14    1002\n",
       "7     49    1003\n",
       "8     99     964\n",
       "9    199     998"
      ]
     },
     "metadata": {},
     "output_type": "display_data"
    },
    {
     "name": "stdout",
     "output_type": "stream",
     "text": [
      "Средний выигрыш составил: -0.20495, если экперимент повторить 1000000 раз\n"
     ]
    },
    {
     "data": {
      "image/png": "[encoded data removed]",
      "text/plain": [
       "<Figure size 432x288 with 1 Axes>"
      ]
     },
     "metadata": {},
     "output_type": "display_data"
    }
   ],
   "source": [
    "n = 1000000\n",
    "win_se = pd.Series(([one_turn() for _ in range(n)])).rename('times')\n",
    "print(f'Сколько раз он выиграл денег при {n} экспериментах')\n",
    "win_df = win_se.value_counts().sort_index(ascending=True).to_frame().rename_axis('money').reset_index()\n",
    "display(win_df)\n",
    "print(f'Средний выигрыш составил: {win_se.mean()}, если экперимент повторить {n} раз')\n",
    "win_se.hist(bins=50)\n",
    "plt.show()"
   ]
  },
  {
   "cell_type": "code",
   "execution_count": 4,
   "id": "9639e984",
   "metadata": {},
   "outputs": [
    {
     "data": {
      "image/png": "[encoded data removed]",
      "text/plain": [
       "<Figure size 1296x576 with 1 Axes>"
      ]
     },
     "metadata": {},
     "output_type": "display_data"
    }
   ],
   "source": [
    "plt.figure(figsize=(18,8))\n",
    "(win_se.cumsum() / (win_se.index + 1)).plot()\n",
    "plt.title('Как с ростом количества экспериментов значение среднего выигрыша приближается к вероятному')\n",
    "plt.xlabel('количество экспериментов')\n",
    "plt.ylabel('средний выигрыш')\n",
    "plt.show()"
   ]
  },
  {
   "cell_type": "markdown",
   "id": "4684712c",
   "metadata": {},
   "source": [
    "Графически эксперименты выглядят правдоподобно. Сперва средний выигрыш сильно скачет, но чем дальше, тем он стабильней фиксируется в районе минус 20 коп."
   ]
  },
  {
   "cell_type": "markdown",
   "id": "0aebce98",
   "metadata": {},
   "source": [
    "### Расчет"
   ]
  },
  {
   "cell_type": "markdown",
   "id": "0d856826",
   "metadata": {},
   "source": [
    "Пропишем вероятности каждого выигрыша. Вероятность проигрыша рассчитаем в цикле как 1 - сумма вероятностей выигрышей"
   ]
  },
  {
   "cell_type": "code",
   "execution_count": 5,
   "id": "d6cf6aeb",
   "metadata": {},
   "outputs": [],
   "source": [
    "chance = (\n",
    "    [0.001, 200], # 777 -- 1 / 1000\n",
    "    [0.001, 100], # 999 -- 1 / 1000\n",
    "    [0.001, 50], # 555 -- 1 / 1000\n",
    "    [0.001, 15], # 333 -- 1 / 1000\n",
    "    [0.001, 10], # 111 -- 1 / 1000\n",
    "    [0.009, 5], # *77 -- (10-1) / 1000 (77, 177, 277, 377,.... 977 - 777) т.к. это другой исход\n",
    "    [0.09, 3], # **7 -- (100-10) / 1000 (7, 17, 27,....997) без предыдущих\n",
    "    [0.009, 2], # *00 -- 9 / 1000 (100, 200, 300, 400,.... 900)\n",
    "    [0.09, 1]) # **0 -- (99-9) / 1000 (10, 20, 30, 40,.... 990 ) без предыдущих"
   ]
  },
  {
   "cell_type": "code",
   "execution_count": 6,
   "id": "ab450142",
   "metadata": {},
   "outputs": [
    {
     "name": "stdout",
     "output_type": "stream",
     "text": [
      "Вероятность ничего не выиграть 0.797\n",
      "Средний выигрыш составил -0.20199999999999996\n"
     ]
    }
   ],
   "source": [
    "money = 0\n",
    "fail = 1\n",
    "for i in chance:\n",
    "    fail -= i[0]\n",
    "    money += (i[0] * (i[1] - 1))\n",
    "print(f'Вероятность ничего не выиграть {fail}') \n",
    "print(f'Средний выигрыш составил {money + (fail * - 1)}')"
   ]
  }
 ],
 "metadata": {
  "kernelspec": {
   "display_name": "Python 3 (ipykernel)",
   "language": "python",
   "name": "python3"
  },
  "language_info": {
   "codemirror_mode": {
    "name": "ipython",
    "version": 3
   },
   "file_extension": ".py",
   "mimetype": "text/x-python",
   "name": "python",
   "nbconvert_exporter": "python",
   "pygments_lexer": "ipython3",
   "version": "3.9.12"
  }
 },
 "nbformat": 4,
 "nbformat_minor": 5
}
