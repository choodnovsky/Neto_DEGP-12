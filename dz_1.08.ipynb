{
 "cells": [
  {
   "cell_type": "markdown",
   "id": "e589382b",
   "metadata": {},
   "source": [
    "### Домашнее задание №8 к лекции \"Регулярные выражения\""
   ]
  },
  {
   "cell_type": "code",
   "execution_count": 1,
   "id": "ed03b14e",
   "metadata": {},
   "outputs": [],
   "source": [
    "import re"
   ]
  },
  {
   "cell_type": "markdown",
   "id": "f744adcc",
   "metadata": {},
   "source": [
    "#### Задание 1\n",
    "Напишите функцию, которая принимает на вход строку и проверяет является ли она валидным транспортным номером (1 буква, 3 цифры, 2 буквы, 2-3 цифры). Обратите внимание, что не все буквы кириллического алфавита используются в транспортных номерах.\n",
    "\n",
    "Если номер валиден, то функция должна возвращать отдельно номер и регион."
   ]
  },
  {
   "cell_type": "markdown",
   "id": "79082f03",
   "metadata": {},
   "source": [
    "_Комбинации на стандартных номерных знаках строятся по принципу — 3 буквы, 3 цифры. Буквы означают серию номерного знака, а цифры — номер. ГОСТом для использования на знаках разрешены 12 букв кириллицы*, имеющие графические аналоги в латинском алфавите —   \n",
    "А, В, Е, К, М, Н, О, Р, С, Т, У и Х.__  \n",
    "*На всякий случай добавлю в паттерн и 12 латинских букв т.к. некоторые гос сервисы используют латинскую раскладку"
   ]
  },
  {
   "cell_type": "code",
   "execution_count": 2,
   "id": "8e7e7d7d",
   "metadata": {},
   "outputs": [],
   "source": [
    "def validator(car_id):\n",
    "    pattern = r\"([АВЕКМНОРСТУХABEKMHOPCTYX]{1}\\d{3}[АВЕКМНОРСТУХABEKMHOPCTYX]{2})(\\d{2,3})\"\n",
    "    if re.match(pattern, car_id):\n",
    "        print(\"Номер {} валиден Регион: {}\".format(\n",
    "            (re.sub(pattern, r'\\1', car_id)),\n",
    "            (re.sub(pattern, r'\\2', car_id))))\n",
    "    else:\n",
    "        print('Номер не валиден')"
   ]
  },
  {
   "cell_type": "code",
   "execution_count": 3,
   "id": "1e696169",
   "metadata": {},
   "outputs": [
    {
     "name": "stdout",
     "output_type": "stream",
     "text": [
      "Номер A222BC валиден Регион: 96\n"
     ]
    }
   ],
   "source": [
    "validator('A222BC96')"
   ]
  },
  {
   "cell_type": "code",
   "execution_count": 4,
   "id": "946dc8c9",
   "metadata": {},
   "outputs": [
    {
     "name": "stdout",
     "output_type": "stream",
     "text": [
      "Номер не валиден\n"
     ]
    }
   ],
   "source": [
    "validator('G787BM23')"
   ]
  },
  {
   "cell_type": "code",
   "execution_count": 5,
   "id": "76cacbcc",
   "metadata": {},
   "outputs": [
    {
     "name": "stdout",
     "output_type": "stream",
     "text": [
      "Номер не валиден\n"
     ]
    }
   ],
   "source": [
    "validator('АБ22ВВ193')"
   ]
  },
  {
   "cell_type": "markdown",
   "id": "e5d06116",
   "metadata": {},
   "source": [
    "#### Задание 2\n",
    "Напишите функцию, которая будет удалять все последовательные повторы слов из заданной строки при помощи регулярных выражений.\n",
    "\n",
    "Пример работы программы:"
   ]
  },
  {
   "cell_type": "code",
   "execution_count": 6,
   "id": "10fe22cb",
   "metadata": {},
   "outputs": [],
   "source": [
    "some_string = 'Напишите функцию функцию, которая будет будет будет будет удалять все все все все последовательные повторы слов из из из из заданной строки строки при помощи регулярных выражений.'"
   ]
  },
  {
   "cell_type": "code",
   "execution_count": 7,
   "id": "1d66f324",
   "metadata": {},
   "outputs": [],
   "source": [
    "def drop_duplicat(string):\n",
    "    return re.sub(r'(\\s\\w+)\\1+', r'\\1', string)"
   ]
  },
  {
   "cell_type": "code",
   "execution_count": 8,
   "id": "c09ec982",
   "metadata": {},
   "outputs": [
    {
     "data": {
      "text/plain": [
       "'Напишите функцию, которая будет удалять все последовательные повторы слов из заданной строки при помощи регулярных выражений.'"
      ]
     },
     "execution_count": 8,
     "metadata": {},
     "output_type": "execute_result"
    }
   ],
   "source": [
    "drop_duplicat(some_string)"
   ]
  },
  {
   "cell_type": "markdown",
   "id": "7d35c392",
   "metadata": {},
   "source": [
    "#### Задание 3\n",
    "Напишите функцию, которая будет возвращать акроним по переданной в нее строке со словами."
   ]
  },
  {
   "cell_type": "code",
   "execution_count": 9,
   "id": "71347829",
   "metadata": {},
   "outputs": [],
   "source": [
    "def acronym(string):\n",
    "    return re.sub(r'(\\w)\\w+\\s*', r'\\1', string.upper())"
   ]
  },
  {
   "cell_type": "code",
   "execution_count": 10,
   "id": "51dfb398",
   "metadata": {},
   "outputs": [
    {
     "data": {
      "text/plain": [
       "'NFC'"
      ]
     },
     "execution_count": 10,
     "metadata": {},
     "output_type": "execute_result"
    }
   ],
   "source": [
    "acronym('Near Field Communication')"
   ]
  },
  {
   "cell_type": "code",
   "execution_count": 11,
   "id": "627e8ec7",
   "metadata": {},
   "outputs": [
    {
     "data": {
      "text/plain": [
       "'ИТ'"
      ]
     },
     "execution_count": 11,
     "metadata": {},
     "output_type": "execute_result"
    }
   ],
   "source": [
    "acronym('Информационные технологии')"
   ]
  },
  {
   "cell_type": "markdown",
   "id": "7f8f2609",
   "metadata": {},
   "source": [
    "#### Задание 4\n",
    "Напишите функцию, которая будет принимать на вход список email-адресов и выводить их распределение по доменным зонам."
   ]
  },
  {
   "cell_type": "code",
   "execution_count": 12,
   "id": "f65bc887",
   "metadata": {},
   "outputs": [],
   "source": [
    "emails = ['test@gmail.com', 'xyz@test.in', 'test@ya.ru', 'xyz@mail.ru', 'xyz@ya.ru', 'xyz@gmail.com']"
   ]
  },
  {
   "cell_type": "code",
   "execution_count": 13,
   "id": "a8fc1d77",
   "metadata": {},
   "outputs": [],
   "source": [
    "def email_counter(lst):\n",
    "    maped_lst = list(map(lambda x: re.findall(r'@\\w+.\\w+', x)[0], lst)) # чистим список емейлов\n",
    "    result = {i: maped_lst.count(i) for i in maped_lst} # словарь-счетчик\n",
    "    for key,value in result.items(): # вывод результата\n",
    "        print(f'{key}: {value}')"
   ]
  },
  {
   "cell_type": "code",
   "execution_count": 14,
   "id": "fe40580f",
   "metadata": {},
   "outputs": [
    {
     "name": "stdout",
     "output_type": "stream",
     "text": [
      "@gmail.com: 2\n",
      "@test.in: 1\n",
      "@ya.ru: 2\n",
      "@mail.ru: 1\n"
     ]
    }
   ],
   "source": [
    "email_counter(emails)"
   ]
  },
  {
   "cell_type": "markdown",
   "id": "43ef421e",
   "metadata": {},
   "source": [
    "#### Задание 5 (необязательное)\n",
    "\n",
    "Напишите функцию, которая будет подсчитывать сколько слов начинается на гласные, а сколько на согласные буквы в тексте (текст может быть написан как с использованием букв кириллицы, так и латиницы)."
   ]
  },
  {
   "cell_type": "code",
   "execution_count": 15,
   "id": "d852adc4",
   "metadata": {},
   "outputs": [],
   "source": [
    "some_text = 'Эталонной реализацией Python является интерпретатор CPython, поддерживающий большинство активно используемых платформ. Он распространяется под свободной лицензией Python Software Foundation License, позволяющей использовать его без ограничений в любых приложениях, включая проприетарные.'"
   ]
  },
  {
   "cell_type": "code",
   "execution_count": 16,
   "id": "e74e97d2",
   "metadata": {},
   "outputs": [],
   "source": [
    "def some_func(text):\n",
    "    vowels = r'\\b[аиеёоуыэюяaeiouy]{1}'\n",
    "    consonants = r'\\b[^аиеёоуыэюяaeiouy\\d\\s\\.\\,]{1}'\n",
    "    print('Слов на гласные буквы: ', len(re.findall(vowels, text, flags=re.IGNORECASE)))\n",
    "    print('Слов на согласные буквы: ', len(re.findall(consonants, text, flags=re.IGNORECASE)))"
   ]
  },
  {
   "cell_type": "code",
   "execution_count": 17,
   "id": "755ceb77",
   "metadata": {},
   "outputs": [
    {
     "name": "stdout",
     "output_type": "stream",
     "text": [
      "Слов на гласные буквы:  9\n",
      "Слов на согласные буквы:  21\n"
     ]
    }
   ],
   "source": [
    "some_func(some_text)"
   ]
  },
  {
   "cell_type": "markdown",
   "id": "28db11bc",
   "metadata": {},
   "source": [
    "#### Задание 6 (необязательное)\n",
    "\n",
    "Напишите функцию, которая будет проверять номер сотового телефона на валидность (только для российского формата), если он валиден, то переводить его в формат:\n",
    "+7-xxx-xxx-xx-xx"
   ]
  },
  {
   "cell_type": "markdown",
   "id": "5b256394",
   "metadata": {},
   "source": [
    "По замыслу строка должна сматчить номера которые:\n",
    "- начинаются на +7,8,7\n",
    "- далее разделитель (но может и не быть)\n",
    "- группа из трех цифр, где первая - девятка\n",
    "- далее разделитель (но может и не быть)\n",
    "- группа из трех любых цифр\n",
    "- далее разделитель (но может и не быть)\n",
    "- группа из двух любых цифр\n",
    "- далее разделитель (но может и не быть)\n",
    "- группа из двух любых цифр\n",
    "- цифр без кода страны должно быть ровно 10"
   ]
  },
  {
   "cell_type": "code",
   "execution_count": 18,
   "id": "4e9ab83a",
   "metadata": {},
   "outputs": [],
   "source": [
    "phones =['+7(955)555-5555', '8(755)555-55-55', '+795555555000', '8955876-55-34', '7(955) 555-55-55', '7-955 550-58-55', '423-555-55-5555', '123-456-789']"
   ]
  },
  {
   "cell_type": "code",
   "execution_count": 19,
   "id": "13070ebb",
   "metadata": {},
   "outputs": [],
   "source": [
    "def rus_phone(phone):\n",
    "    validator = r'(^\\+7|8|7)\\W*(9\\d{2})\\W*(\\d{3})\\W*(\\d{2})\\W*(\\d{2})$'\n",
    "    \"\"\"\n",
    "    разбиваем номер на скобочные группы:\n",
    "    1) либо +7 либо 7 либо 8 ровно 1 раз \n",
    "    2) любой символ (разделитель) кроме латиницы, цифр или нижнего подчёркивания 0 и более раз\n",
    "    3) (девятка + 2 цифры) группа\n",
    "    4) любой символ (разделитель) кроме латиницы, цифр или нижнего подчёркивания 0 и более раз\n",
    "    5) (3 цифры) группа\n",
    "    6) любой символ (разделитель) кроме латиницы, цифр или нижнего подчёркивания 0 и более раз\n",
    "    7) (2 цифры) группа\n",
    "    8) любой символ (разделитель) кроме латиницы, цифр или нижнего подчёркивания 0 и более раз \n",
    "    9) (2 цифры) группа конец строки\n",
    "    \"\"\"\n",
    "    valid_find = re.findall(validator, phone)\n",
    "    valid_maker = re.sub(validator, r'+7-\\2-\\3-\\4-\\5', phone)\n",
    "    print(f'phone = {phone}')\n",
    "    if valid_find:\n",
    "        print(' '*8+valid_maker)\n",
    "    else:\n",
    "        print(' '*8+'Номер не валиден')"
   ]
  },
  {
   "cell_type": "code",
   "execution_count": 20,
   "id": "fa804e3c",
   "metadata": {},
   "outputs": [
    {
     "name": "stdout",
     "output_type": "stream",
     "text": [
      "phone = +7(955)555-5555\n",
      "        +7-955-555-55-55\n",
      "phone = 8(755)555-55-55\n",
      "        Номер не валиден\n",
      "phone = +795555555000\n",
      "        Номер не валиден\n",
      "phone = 8955876-55-34\n",
      "        +7-955-876-55-34\n",
      "phone = 7(955) 555-55-55\n",
      "        +7-955-555-55-55\n",
      "phone = 7-955 550-58-55\n",
      "        +7-955-550-58-55\n",
      "phone = 423-555-55-5555\n",
      "        Номер не валиден\n",
      "phone = 123-456-789\n",
      "        Номер не валиден\n"
     ]
    }
   ],
   "source": [
    "for i in phones:\n",
    "    rus_phone(i)"
   ]
  }
 ],
 "metadata": {
  "kernelspec": {
   "display_name": "Python 3 (ipykernel)",
   "language": "python",
   "name": "python3"
  },
  "language_info": {
   "codemirror_mode": {
    "name": "ipython",
    "version": 3
   },
   "file_extension": ".py",
   "mimetype": "text/x-python",
   "name": "python",
   "nbconvert_exporter": "python",
   "pygments_lexer": "ipython3",
   "version": "3.9.7"
  }
 },
 "nbformat": 4,
 "nbformat_minor": 5
}
