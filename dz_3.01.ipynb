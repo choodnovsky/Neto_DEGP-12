{
 "cells": [
  {
   "cell_type": "markdown",
   "id": "e589382b",
   "metadata": {},
   "source": [
    "### Домашнее задание №1 к лекции «Базовые понятия статистики»"
   ]
  },
  {
   "cell_type": "code",
   "execution_count": 1,
   "id": "ed03b14e",
   "metadata": {},
   "outputs": [],
   "source": [
    "import pandas as pd\n",
    "import numpy as np\n",
    "import matplotlib.pyplot as plt\n",
    "import seaborn as sns\n",
    "plt.style.use('fivethirtyeight')"
   ]
  },
  {
   "cell_type": "markdown",
   "id": "f744adcc",
   "metadata": {},
   "source": [
    "#### Задание 1\n",
    "Загрузка данных\n",
    "Изучить представленный набор данных на основе описания его столбцов, загрузить его и оставить 8 столбцов для дальнейшего изучения: __surgery?, age, rectal temperature, pulse, respiratory rate, temperature of extremities, pain, outcome.__"
   ]
  },
  {
   "cell_type": "markdown",
   "id": "42fe15ef",
   "metadata": {},
   "source": [
    "| название | русское название | допустимые значения | тип |\n",
    "|--------- | ---------- |--------- | ---------- |\n",
    "| surgery?| была ли операция | 1 да<br>2 нет | качественный |\n",
    "| age| возраст | любой<br>адекватный| количественный дискретный |\n",
    "| rectal temperature| температура в попе | 37.8 норм | количественный непрерывный |\n",
    "| pulse| пульс | 30-40 | количественный дискретный |\n",
    "| respiratory rate| частота дыхания | 8-10 | количественный дискретный |\n",
    "| temperature of extremities| температура конечностей | 1 норм<br>2 горячие<br>3 прохладны<br>4 холодные | качественный |\n",
    "| pain| боль |1 боли нет<br>2 депрессия<br>3 редкая легкая боль<br>4 редкая сильная боль<br>5 постоянная сильная боль | качественный |\n",
    "| outcome| причина списания  | 1 жив<br>2 умер<br>3 усыплен | качественный |"
   ]
  },
  {
   "cell_type": "code",
   "execution_count": 2,
   "id": "66582053",
   "metadata": {},
   "outputs": [],
   "source": [
    "df = pd.read_csv(\n",
    "    'https://raw.githubusercontent.com/obulygin/pyda_homeworks/master/statistics_basics/horse_data.csv',\n",
    "    header=None,\n",
    "    usecols=[0, 1, 3, 4, 5, 6, 10, 22],\n",
    "    names=['surgery',\n",
    "           'age',\n",
    "           'rectal_temperature',\n",
    "           'pulse',\n",
    "           'respiratory_rate',\n",
    "           'temperature_of_extremities',\n",
    "           'pain',\n",
    "           'outcome'], \n",
    "    na_values='?')"
   ]
  },
  {
   "cell_type": "code",
   "execution_count": 3,
   "id": "db52e519",
   "metadata": {},
   "outputs": [
    {
     "data": {
      "text/html": [
       "<div>\n",
       "<style scoped>\n",
       "    .dataframe tbody tr th:only-of-type {\n",
       "        vertical-align: middle;\n",
       "    }\n",
       "\n",
       "    .dataframe tbody tr th {\n",
       "        vertical-align: top;\n",
       "    }\n",
       "\n",
       "    .dataframe thead th {\n",
       "        text-align: right;\n",
       "    }\n",
       "</style>\n",
       "<table border=\"1\" class=\"dataframe\">\n",
       "  <thead>\n",
       "    <tr style=\"text-align: right;\">\n",
       "      <th></th>\n",
       "      <th>surgery</th>\n",
       "      <th>age</th>\n",
       "      <th>rectal_temperature</th>\n",
       "      <th>pulse</th>\n",
       "      <th>respiratory_rate</th>\n",
       "      <th>temperature_of_extremities</th>\n",
       "      <th>pain</th>\n",
       "      <th>outcome</th>\n",
       "    </tr>\n",
       "  </thead>\n",
       "  <tbody>\n",
       "    <tr>\n",
       "      <th>0</th>\n",
       "      <td>2.0</td>\n",
       "      <td>1</td>\n",
       "      <td>38.5</td>\n",
       "      <td>66.0</td>\n",
       "      <td>28.0</td>\n",
       "      <td>3.0</td>\n",
       "      <td>5.0</td>\n",
       "      <td>2.0</td>\n",
       "    </tr>\n",
       "    <tr>\n",
       "      <th>1</th>\n",
       "      <td>1.0</td>\n",
       "      <td>1</td>\n",
       "      <td>39.2</td>\n",
       "      <td>88.0</td>\n",
       "      <td>20.0</td>\n",
       "      <td>NaN</td>\n",
       "      <td>3.0</td>\n",
       "      <td>3.0</td>\n",
       "    </tr>\n",
       "    <tr>\n",
       "      <th>2</th>\n",
       "      <td>2.0</td>\n",
       "      <td>1</td>\n",
       "      <td>38.3</td>\n",
       "      <td>40.0</td>\n",
       "      <td>24.0</td>\n",
       "      <td>1.0</td>\n",
       "      <td>3.0</td>\n",
       "      <td>1.0</td>\n",
       "    </tr>\n",
       "    <tr>\n",
       "      <th>3</th>\n",
       "      <td>1.0</td>\n",
       "      <td>9</td>\n",
       "      <td>39.1</td>\n",
       "      <td>164.0</td>\n",
       "      <td>84.0</td>\n",
       "      <td>4.0</td>\n",
       "      <td>2.0</td>\n",
       "      <td>2.0</td>\n",
       "    </tr>\n",
       "    <tr>\n",
       "      <th>4</th>\n",
       "      <td>2.0</td>\n",
       "      <td>1</td>\n",
       "      <td>37.3</td>\n",
       "      <td>104.0</td>\n",
       "      <td>35.0</td>\n",
       "      <td>NaN</td>\n",
       "      <td>NaN</td>\n",
       "      <td>2.0</td>\n",
       "    </tr>\n",
       "  </tbody>\n",
       "</table>\n",
       "</div>"
      ],
      "text/plain": [
       "   surgery  age  rectal_temperature  pulse  respiratory_rate  \\\n",
       "0      2.0    1                38.5   66.0              28.0   \n",
       "1      1.0    1                39.2   88.0              20.0   \n",
       "2      2.0    1                38.3   40.0              24.0   \n",
       "3      1.0    9                39.1  164.0              84.0   \n",
       "4      2.0    1                37.3  104.0              35.0   \n",
       "\n",
       "   temperature_of_extremities  pain  outcome  \n",
       "0                         3.0   5.0      2.0  \n",
       "1                         NaN   3.0      3.0  \n",
       "2                         1.0   3.0      1.0  \n",
       "3                         4.0   2.0      2.0  \n",
       "4                         NaN   NaN      2.0  "
      ]
     },
     "execution_count": 3,
     "metadata": {},
     "output_type": "execute_result"
    }
   ],
   "source": [
    "df.head()"
   ]
  },
  {
   "cell_type": "code",
   "execution_count": 4,
   "id": "14d44f2f",
   "metadata": {},
   "outputs": [
    {
     "name": "stdout",
     "output_type": "stream",
     "text": [
      "<class 'pandas.core.frame.DataFrame'>\n",
      "RangeIndex: 300 entries, 0 to 299\n",
      "Data columns (total 8 columns):\n",
      " #   Column                      Non-Null Count  Dtype  \n",
      "---  ------                      --------------  -----  \n",
      " 0   surgery                     299 non-null    float64\n",
      " 1   age                         300 non-null    int64  \n",
      " 2   rectal_temperature          240 non-null    float64\n",
      " 3   pulse                       276 non-null    float64\n",
      " 4   respiratory_rate            242 non-null    float64\n",
      " 5   temperature_of_extremities  244 non-null    float64\n",
      " 6   pain                        245 non-null    float64\n",
      " 7   outcome                     299 non-null    float64\n",
      "dtypes: float64(7), int64(1)\n",
      "memory usage: 18.9 KB\n"
     ]
    }
   ],
   "source": [
    "df.info()"
   ]
  },
  {
   "cell_type": "markdown",
   "id": "501aedf8",
   "metadata": {},
   "source": [
    "- В таблице 300 строк. \n",
    "- Кроме `age` во всех столбцах есть пропуски.  \n",
    "- Все столбцы и качественные и количественные дискретные представлены как `float64`, только __age__ `int`. Это потому что `int` не может быть пустым. \n",
    "- Приводить все качественные и количественные дискретные к `int` пока не будем, это все равно ни к чему не приведет.\n",
    "- Качественные столбцы приводить к `object` тоже пока рано, этот тип сложен в обработке."
   ]
  },
  {
   "cell_type": "markdown",
   "id": "a9b83b47",
   "metadata": {},
   "source": [
    "#### Задание 2  \n",
    "Первичное изучение данных  \n",
    "Проанализировать значения по столбцам, рассчитать базовые статистики, найти выбросы."
   ]
  },
  {
   "cell_type": "markdown",
   "id": "ab656f6c",
   "metadata": {},
   "source": [
    "По качественным столбцам выводить статистики смысла мало. Выведем только по количественным, но добавим 5 и 95 персентили"
   ]
  },
  {
   "cell_type": "code",
   "execution_count": 5,
   "id": "7f0f2a07",
   "metadata": {},
   "outputs": [],
   "source": [
    "def print_stat(df):\n",
    "    col_list = ['age', 'rectal_temperature', 'pulse', 'respiratory_rate']\n",
    "\n",
    "    stat = df[col_list].describe(percentiles=[.05, .25, .5, .75, .95]).T\n",
    "    display(stat)\n",
    "\n",
    "    plt.figure(figsize=(18,5))\n",
    "    sns.boxplot(data=df[col_list], \n",
    "                orient='h', showfliers=True, showmeans=True,\n",
    "                meanprops={'marker':'o', \n",
    "                           'markerfacecolor':'white', # Добавим белую точку - среднюю\n",
    "                           'markeredgecolor':'black', \n",
    "                           'markersize':'10'})\n",
    "    plt.title('Боксплоты по количественным признакам')\n",
    "    plt.xlabel('Значения наблюдений')\n",
    "    plt.ylabel('')\n",
    "    plt.show()"
   ]
  },
  {
   "cell_type": "code",
   "execution_count": 6,
   "id": "43bd75e9",
   "metadata": {},
   "outputs": [
    {
     "data": {
      "text/html": [
       "<div>\n",
       "<style scoped>\n",
       "    .dataframe tbody tr th:only-of-type {\n",
       "        vertical-align: middle;\n",
       "    }\n",
       "\n",
       "    .dataframe tbody tr th {\n",
       "        vertical-align: top;\n",
       "    }\n",
       "\n",
       "    .dataframe thead th {\n",
       "        text-align: right;\n",
       "    }\n",
       "</style>\n",
       "<table border=\"1\" class=\"dataframe\">\n",
       "  <thead>\n",
       "    <tr style=\"text-align: right;\">\n",
       "      <th></th>\n",
       "      <th>count</th>\n",
       "      <th>mean</th>\n",
       "      <th>std</th>\n",
       "      <th>min</th>\n",
       "      <th>5%</th>\n",
       "      <th>25%</th>\n",
       "      <th>50%</th>\n",
       "      <th>75%</th>\n",
       "      <th>95%</th>\n",
       "      <th>max</th>\n",
       "    </tr>\n",
       "  </thead>\n",
       "  <tbody>\n",
       "    <tr>\n",
       "      <th>age</th>\n",
       "      <td>300.0</td>\n",
       "      <td>1.640000</td>\n",
       "      <td>2.173972</td>\n",
       "      <td>1.0</td>\n",
       "      <td>1.0</td>\n",
       "      <td>1.0</td>\n",
       "      <td>1.0</td>\n",
       "      <td>1.0</td>\n",
       "      <td>9.0</td>\n",
       "      <td>9.0</td>\n",
       "    </tr>\n",
       "    <tr>\n",
       "      <th>rectal_temperature</th>\n",
       "      <td>240.0</td>\n",
       "      <td>38.167917</td>\n",
       "      <td>0.732289</td>\n",
       "      <td>35.4</td>\n",
       "      <td>37.1</td>\n",
       "      <td>37.8</td>\n",
       "      <td>38.2</td>\n",
       "      <td>38.5</td>\n",
       "      <td>39.4</td>\n",
       "      <td>40.8</td>\n",
       "    </tr>\n",
       "    <tr>\n",
       "      <th>pulse</th>\n",
       "      <td>276.0</td>\n",
       "      <td>71.913043</td>\n",
       "      <td>28.630557</td>\n",
       "      <td>30.0</td>\n",
       "      <td>40.0</td>\n",
       "      <td>48.0</td>\n",
       "      <td>64.0</td>\n",
       "      <td>88.0</td>\n",
       "      <td>125.0</td>\n",
       "      <td>184.0</td>\n",
       "    </tr>\n",
       "    <tr>\n",
       "      <th>respiratory_rate</th>\n",
       "      <td>242.0</td>\n",
       "      <td>30.417355</td>\n",
       "      <td>17.642231</td>\n",
       "      <td>8.0</td>\n",
       "      <td>12.0</td>\n",
       "      <td>18.5</td>\n",
       "      <td>24.5</td>\n",
       "      <td>36.0</td>\n",
       "      <td>69.9</td>\n",
       "      <td>96.0</td>\n",
       "    </tr>\n",
       "  </tbody>\n",
       "</table>\n",
       "</div>"
      ],
      "text/plain": [
       "                    count       mean        std   min    5%   25%   50%   75%  \\\n",
       "age                 300.0   1.640000   2.173972   1.0   1.0   1.0   1.0   1.0   \n",
       "rectal_temperature  240.0  38.167917   0.732289  35.4  37.1  37.8  38.2  38.5   \n",
       "pulse               276.0  71.913043  28.630557  30.0  40.0  48.0  64.0  88.0   \n",
       "respiratory_rate    242.0  30.417355  17.642231   8.0  12.0  18.5  24.5  36.0   \n",
       "\n",
       "                      95%    max  \n",
       "age                   9.0    9.0  \n",
       "rectal_temperature   39.4   40.8  \n",
       "pulse               125.0  184.0  \n",
       "respiratory_rate     69.9   96.0  "
      ]
     },
     "metadata": {},
     "output_type": "display_data"
    },
    {
     "data": {
      "image/png": "[encoded data removed]",
      "text/plain": [
       "<Figure size 1296x360 with 1 Axes>"
      ]
     },
     "metadata": {},
     "output_type": "display_data"
    }
   ],
   "source": [
    "print_stat(df)"
   ]
  },
  {
   "cell_type": "markdown",
   "id": "3b27fb4b",
   "metadata": {},
   "source": [
    "В таблице пока выделяется выброс в возрасте - 9-летние лошади, по остальным надо присматриваться.  \n",
    "Для наглядности выводим ящики с усами по количественным столбцам"
   ]
  },
  {
   "cell_type": "markdown",
   "id": "0cf62780",
   "metadata": {},
   "source": [
    "В итоге:\n",
    "- В столбце __age__ таки выброс - 9. \n",
    "- В столбце __rectal_temperature__ размах крайне мал, поэтому и выбросы не так очевидны, и \"прижаты\" к центру. Температура обычно распределена нормально, следовательно выбросы двусторонние.\n",
    "- В столбце __pulse__ 4 выброса в большую сторону. На графике они смещают среднюю от медианы влево\n",
    "- В столбце __respiratory_rate__ выбросы тоже есть в большую сторону.\n",
    "-----\n",
    "Выведем уникальные значения выбросов по каждому количественному столбцу"
   ]
  },
  {
   "cell_type": "code",
   "execution_count": 7,
   "id": "712b4b43",
   "metadata": {},
   "outputs": [
    {
     "name": "stdout",
     "output_type": "stream",
     "text": [
      "-------------------------------------------------------------------------------------\n",
      "surgery -\n",
      "age - 9\n",
      "rectal_temperature - 35.4 36.4 36.5 36.0 39.7 40.3 39.9 39.6 36.1 36.6 40.8 40.0\n",
      "pulse - 160.0 164.0 150.0 184.0\n",
      "respiratory_rate - 96.0 66.0 68.0 70.0 72.0 80.0 84.0 88.0 90.0\n",
      "temperature_of_extremities -\n",
      "pain -\n",
      "outcome -\n"
     ]
    }
   ],
   "source": [
    "iqr = df.quantile(.75) - df.quantile(.25)\n",
    "low, high = df.quantile(.25) - 1.5 * iqr, df.quantile(.75) + 1.5 * iqr\n",
    "print('-'*85)\n",
    "\n",
    "for i in df.columns:\n",
    "    print(i,'-', *set(df.loc[(df[i] < low[i]) | (df[i] > high[i])][i]))"
   ]
  },
  {
   "cell_type": "markdown",
   "id": "cc4df9df",
   "metadata": {},
   "source": [
    "#### Задание 3. Работа с пропусками   \n",
    "Рассчитать количество пропусков для всех выбранных столбцов. Принять и обосновать решение о методе заполнения пропусков по каждому столбцу на основе рассчитанных статистик и возможной взаимосвязи значений в них. Сформировать датафрейм, в котором пропуски будут отсутствовать."
   ]
  },
  {
   "cell_type": "markdown",
   "id": "f07c0f98",
   "metadata": {},
   "source": [
    "Соберем функцию для выведения инфо и визуализацию пропусков"
   ]
  },
  {
   "cell_type": "code",
   "execution_count": 8,
   "id": "950f24ad",
   "metadata": {},
   "outputs": [],
   "source": [
    "def print_missing_data(df):\n",
    "    \"\"\"\n",
    "    Функция на вход примает датафрейм\n",
    "    на выходе стандартное инфо и тепловая карта с выбросами\n",
    "    \"\"\"\n",
    "    df.info()\n",
    "    plt.figure(figsize=(9, 4))\n",
    "    colours = ['#000099', '#ffff00'] \n",
    "    sns.heatmap(df[df.columns].isnull().T, cmap=sns.color_palette(colours), cbar=False)\n",
    "    plt.show()"
   ]
  },
  {
   "cell_type": "markdown",
   "id": "7e7c23a6",
   "metadata": {},
   "source": [
    "Посмотрим на количество пропусков и какую долю они занимают в данных"
   ]
  },
  {
   "cell_type": "code",
   "execution_count": 9,
   "id": "69c53ef6",
   "metadata": {},
   "outputs": [
    {
     "data": {
      "text/html": [
       "<div>\n",
       "<style scoped>\n",
       "    .dataframe tbody tr th:only-of-type {\n",
       "        vertical-align: middle;\n",
       "    }\n",
       "\n",
       "    .dataframe tbody tr th {\n",
       "        vertical-align: top;\n",
       "    }\n",
       "\n",
       "    .dataframe thead th {\n",
       "        text-align: right;\n",
       "    }\n",
       "</style>\n",
       "<table border=\"1\" class=\"dataframe\">\n",
       "  <thead>\n",
       "    <tr style=\"text-align: right;\">\n",
       "      <th></th>\n",
       "      <th>cnt</th>\n",
       "      <th>%</th>\n",
       "    </tr>\n",
       "  </thead>\n",
       "  <tbody>\n",
       "    <tr>\n",
       "      <th>surgery</th>\n",
       "      <td>1</td>\n",
       "      <td>0.333333</td>\n",
       "    </tr>\n",
       "    <tr>\n",
       "      <th>age</th>\n",
       "      <td>0</td>\n",
       "      <td>0.000000</td>\n",
       "    </tr>\n",
       "    <tr>\n",
       "      <th>rectal_temperature</th>\n",
       "      <td>60</td>\n",
       "      <td>20.000000</td>\n",
       "    </tr>\n",
       "    <tr>\n",
       "      <th>pulse</th>\n",
       "      <td>24</td>\n",
       "      <td>8.000000</td>\n",
       "    </tr>\n",
       "    <tr>\n",
       "      <th>respiratory_rate</th>\n",
       "      <td>58</td>\n",
       "      <td>19.333333</td>\n",
       "    </tr>\n",
       "    <tr>\n",
       "      <th>temperature_of_extremities</th>\n",
       "      <td>56</td>\n",
       "      <td>18.666667</td>\n",
       "    </tr>\n",
       "    <tr>\n",
       "      <th>pain</th>\n",
       "      <td>55</td>\n",
       "      <td>18.333333</td>\n",
       "    </tr>\n",
       "    <tr>\n",
       "      <th>outcome</th>\n",
       "      <td>1</td>\n",
       "      <td>0.333333</td>\n",
       "    </tr>\n",
       "  </tbody>\n",
       "</table>\n",
       "</div>"
      ],
      "text/plain": [
       "                            cnt          %\n",
       "surgery                       1   0.333333\n",
       "age                           0   0.000000\n",
       "rectal_temperature           60  20.000000\n",
       "pulse                        24   8.000000\n",
       "respiratory_rate             58  19.333333\n",
       "temperature_of_extremities   56  18.666667\n",
       "pain                         55  18.333333\n",
       "outcome                       1   0.333333"
      ]
     },
     "execution_count": 9,
     "metadata": {},
     "output_type": "execute_result"
    }
   ],
   "source": [
    "pd.concat([\n",
    "    df.isna().sum().rename('cnt'), \n",
    "    (df.isna().sum() / df.isna().count() * 100).rename('%')], \n",
    "    axis=1)"
   ]
  },
  {
   "cell_type": "markdown",
   "id": "796ee412",
   "metadata": {},
   "source": [
    "Из всех столбцов __age__ самый заполненный. В __surgery__ и __outcome__ по одному пропуску. Возможно это одна и та же лошадь. Среди остальных столбцов наименее пострадавший это __pulse__. Заполним пропуски медианой, чтобы выбросы не смещали среднее значение"
   ]
  },
  {
   "cell_type": "code",
   "execution_count": 10,
   "id": "9595f140",
   "metadata": {},
   "outputs": [],
   "source": [
    "df['pulse'] = df['pulse'].fillna(int(df['pulse'].median())) \n",
    "# если медиана придется по середине приведем к целому. пульс не может быть половинчатым"
   ]
  },
  {
   "cell_type": "code",
   "execution_count": 11,
   "id": "fb27cd03",
   "metadata": {},
   "outputs": [
    {
     "name": "stdout",
     "output_type": "stream",
     "text": [
      "<class 'pandas.core.frame.DataFrame'>\n",
      "RangeIndex: 300 entries, 0 to 299\n",
      "Data columns (total 8 columns):\n",
      " #   Column                      Non-Null Count  Dtype  \n",
      "---  ------                      --------------  -----  \n",
      " 0   surgery                     299 non-null    float64\n",
      " 1   age                         300 non-null    int64  \n",
      " 2   rectal_temperature          240 non-null    float64\n",
      " 3   pulse                       300 non-null    float64\n",
      " 4   respiratory_rate            242 non-null    float64\n",
      " 5   temperature_of_extremities  244 non-null    float64\n",
      " 6   pain                        245 non-null    float64\n",
      " 7   outcome                     299 non-null    float64\n",
      "dtypes: float64(7), int64(1)\n",
      "memory usage: 18.9 KB\n"
     ]
    },
    {
     "data": {
      "image/png": "[encoded data removed]",
      "text/plain": [
       "<Figure size 648x288 with 1 Axes>"
      ]
     },
     "metadata": {},
     "output_type": "display_data"
    }
   ],
   "source": [
    "print_missing_data(df)"
   ]
  },
  {
   "cell_type": "markdown",
   "id": "3aa6490b",
   "metadata": {},
   "source": [
    "Для оставшихся столбцов с применим следующую логику.  \n",
    "Сгруппируем по столбцу __pulse__ нужный столбец в своей агрегации\n",
    "Полученным значением заполним пропуски в каждой соответствующей группе. \n",
    "- для температуры это __среднее арифметическое__\n",
    "- для температуры конечностей, боли, частоты дыхания __мода__"
   ]
  },
  {
   "cell_type": "code",
   "execution_count": 12,
   "id": "9f906012",
   "metadata": {},
   "outputs": [],
   "source": [
    "df.loc[df['rectal_temperature'].isnull(), \n",
    "       'rectal_temperature'] = df.groupby('pulse')['rectal_temperature'].transform('mean')\n",
    "df.loc[df['temperature_of_extremities'].isna(), \n",
    "       'temperature_of_extremities'] = df.groupby('pulse')['temperature_of_extremities'].transform(lambda x: x.mode().max())\n",
    "df.loc[df['pain'].isna(), \n",
    "       'pain'] = df.groupby('pulse')['pain'].transform(lambda x: x.mode().max())\n",
    "df.loc[df['respiratory_rate'].isna(), \n",
    "       'respiratory_rate'] = df.groupby('pulse')['respiratory_rate'].transform(lambda x: x.mode().max())"
   ]
  },
  {
   "cell_type": "code",
   "execution_count": 13,
   "id": "be834f56",
   "metadata": {},
   "outputs": [
    {
     "name": "stdout",
     "output_type": "stream",
     "text": [
      "<class 'pandas.core.frame.DataFrame'>\n",
      "RangeIndex: 300 entries, 0 to 299\n",
      "Data columns (total 8 columns):\n",
      " #   Column                      Non-Null Count  Dtype  \n",
      "---  ------                      --------------  -----  \n",
      " 0   surgery                     299 non-null    float64\n",
      " 1   age                         300 non-null    int64  \n",
      " 2   rectal_temperature          298 non-null    float64\n",
      " 3   pulse                       300 non-null    float64\n",
      " 4   respiratory_rate            297 non-null    float64\n",
      " 5   temperature_of_extremities  293 non-null    float64\n",
      " 6   pain                        295 non-null    float64\n",
      " 7   outcome                     299 non-null    float64\n",
      "dtypes: float64(7), int64(1)\n",
      "memory usage: 18.9 KB\n"
     ]
    },
    {
     "data": {
      "image/png": "[encoded data removed]",
      "text/plain": [
       "<Figure size 648x288 with 1 Axes>"
      ]
     },
     "metadata": {},
     "output_type": "display_data"
    }
   ],
   "source": [
    "print_missing_data(df)"
   ]
  },
  {
   "cell_type": "markdown",
   "id": "a1049f59",
   "metadata": {},
   "source": [
    "Визуально остается 11 строк с пропусками. Это 3.7% от общего объема. Удаление этих строк не сильно сократит таблицу, а попытка их дозаполнения может исказить данные."
   ]
  },
  {
   "cell_type": "code",
   "execution_count": 14,
   "id": "25235ab0",
   "metadata": {},
   "outputs": [],
   "source": [
    "df.dropna(inplace=True)"
   ]
  },
  {
   "cell_type": "code",
   "execution_count": 15,
   "id": "72639b64",
   "metadata": {},
   "outputs": [],
   "source": [
    "for i in ['surgery','age', 'pulse', 'respiratory_rate','temperature_of_extremities', 'pain', 'outcome']:\n",
    "    df[i] = df[i].astype(\"int\")"
   ]
  },
  {
   "cell_type": "code",
   "execution_count": 16,
   "id": "dd004dff",
   "metadata": {},
   "outputs": [
    {
     "name": "stdout",
     "output_type": "stream",
     "text": [
      "<class 'pandas.core.frame.DataFrame'>\n",
      "Int64Index: 289 entries, 0 to 299\n",
      "Data columns (total 8 columns):\n",
      " #   Column                      Non-Null Count  Dtype  \n",
      "---  ------                      --------------  -----  \n",
      " 0   surgery                     289 non-null    int64  \n",
      " 1   age                         289 non-null    int64  \n",
      " 2   rectal_temperature          289 non-null    float64\n",
      " 3   pulse                       289 non-null    int64  \n",
      " 4   respiratory_rate            289 non-null    int64  \n",
      " 5   temperature_of_extremities  289 non-null    int64  \n",
      " 6   pain                        289 non-null    int64  \n",
      " 7   outcome                     289 non-null    int64  \n",
      "dtypes: float64(1), int64(7)\n",
      "memory usage: 20.3 KB\n"
     ]
    },
    {
     "data": {
      "image/png": "[encoded data removed]",
      "text/plain": [
       "<Figure size 648x288 with 1 Axes>"
      ]
     },
     "metadata": {},
     "output_type": "display_data"
    }
   ],
   "source": [
    "print_missing_data(df)"
   ]
  },
  {
   "cell_type": "code",
   "execution_count": 17,
   "id": "1675dff8",
   "metadata": {},
   "outputs": [
    {
     "data": {
      "text/html": [
       "<div>\n",
       "<style scoped>\n",
       "    .dataframe tbody tr th:only-of-type {\n",
       "        vertical-align: middle;\n",
       "    }\n",
       "\n",
       "    .dataframe tbody tr th {\n",
       "        vertical-align: top;\n",
       "    }\n",
       "\n",
       "    .dataframe thead th {\n",
       "        text-align: right;\n",
       "    }\n",
       "</style>\n",
       "<table border=\"1\" class=\"dataframe\">\n",
       "  <thead>\n",
       "    <tr style=\"text-align: right;\">\n",
       "      <th></th>\n",
       "      <th>count</th>\n",
       "      <th>mean</th>\n",
       "      <th>std</th>\n",
       "      <th>min</th>\n",
       "      <th>5%</th>\n",
       "      <th>25%</th>\n",
       "      <th>50%</th>\n",
       "      <th>75%</th>\n",
       "      <th>95%</th>\n",
       "      <th>max</th>\n",
       "    </tr>\n",
       "  </thead>\n",
       "  <tbody>\n",
       "    <tr>\n",
       "      <th>age</th>\n",
       "      <td>289.0</td>\n",
       "      <td>1.608997</td>\n",
       "      <td>2.125259</td>\n",
       "      <td>1.0</td>\n",
       "      <td>1.0</td>\n",
       "      <td>1.0</td>\n",
       "      <td>1.0</td>\n",
       "      <td>1.0</td>\n",
       "      <td>9.0</td>\n",
       "      <td>9.0</td>\n",
       "    </tr>\n",
       "    <tr>\n",
       "      <th>rectal_temperature</th>\n",
       "      <td>289.0</td>\n",
       "      <td>38.204360</td>\n",
       "      <td>0.675990</td>\n",
       "      <td>35.4</td>\n",
       "      <td>37.2</td>\n",
       "      <td>37.9</td>\n",
       "      <td>38.2</td>\n",
       "      <td>38.6</td>\n",
       "      <td>39.3</td>\n",
       "      <td>40.8</td>\n",
       "    </tr>\n",
       "    <tr>\n",
       "      <th>pulse</th>\n",
       "      <td>289.0</td>\n",
       "      <td>71.020761</td>\n",
       "      <td>26.852082</td>\n",
       "      <td>36.0</td>\n",
       "      <td>40.0</td>\n",
       "      <td>50.0</td>\n",
       "      <td>64.0</td>\n",
       "      <td>88.0</td>\n",
       "      <td>120.0</td>\n",
       "      <td>184.0</td>\n",
       "    </tr>\n",
       "    <tr>\n",
       "      <th>respiratory_rate</th>\n",
       "      <td>289.0</td>\n",
       "      <td>30.200692</td>\n",
       "      <td>16.697093</td>\n",
       "      <td>8.0</td>\n",
       "      <td>12.0</td>\n",
       "      <td>20.0</td>\n",
       "      <td>24.0</td>\n",
       "      <td>36.0</td>\n",
       "      <td>69.2</td>\n",
       "      <td>96.0</td>\n",
       "    </tr>\n",
       "  </tbody>\n",
       "</table>\n",
       "</div>"
      ],
      "text/plain": [
       "                    count       mean        std   min    5%   25%   50%   75%  \\\n",
       "age                 289.0   1.608997   2.125259   1.0   1.0   1.0   1.0   1.0   \n",
       "rectal_temperature  289.0  38.204360   0.675990  35.4  37.2  37.9  38.2  38.6   \n",
       "pulse               289.0  71.020761  26.852082  36.0  40.0  50.0  64.0  88.0   \n",
       "respiratory_rate    289.0  30.200692  16.697093   8.0  12.0  20.0  24.0  36.0   \n",
       "\n",
       "                      95%    max  \n",
       "age                   9.0    9.0  \n",
       "rectal_temperature   39.3   40.8  \n",
       "pulse               120.0  184.0  \n",
       "respiratory_rate     69.2   96.0  "
      ]
     },
     "metadata": {},
     "output_type": "display_data"
    },
    {
     "data": {
      "image/png": "[encoded data removed]",
      "text/plain": [
       "<Figure size 1296x360 with 1 Axes>"
      ]
     },
     "metadata": {},
     "output_type": "display_data"
    }
   ],
   "source": [
    "print_stat(df)"
   ]
  },
  {
   "cell_type": "markdown",
   "id": "0f97cfa7",
   "metadata": {},
   "source": [
    "Как видно на графиках наши преобразования не особо изменили основные статистики, разве что уменьшился 95-й персентиль по столбцу __pulse__, это от того что мы заполнили 24 пропуска медианой. По остальным полям изменения незначительны. Графики так же принципиально не изменились."
   ]
  }
 ],
 "metadata": {
  "kernelspec": {
   "display_name": "Python 3 (ipykernel)",
   "language": "python",
   "name": "python3"
  },
  "language_info": {
   "codemirror_mode": {
    "name": "ipython",
    "version": 3
   },
   "file_extension": ".py",
   "mimetype": "text/x-python",
   "name": "python",
   "nbconvert_exporter": "python",
   "pygments_lexer": "ipython3",
   "version": "3.9.12"
  }
 },
 "nbformat": 4,
 "nbformat_minor": 5
}
