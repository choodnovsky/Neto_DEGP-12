{
 "cells": [
  {
   "cell_type": "markdown",
   "id": "61bf5b9b",
   "metadata": {},
   "source": [
    "## Домашнее №1 задание к лекции \"Основы Python\""
   ]
  },
  {
   "cell_type": "markdown",
   "id": "f858f216",
   "metadata": {},
   "source": [
    "### Задание 1\n",
    "Даны 2 переменных, в которых хранятся строки произвольной длины: phrase_1 и phrase_2.\n",
    "Напишите код, который проверяет какая из этих строк длиннее."
   ]
  },
  {
   "cell_type": "code",
   "execution_count": 1,
   "id": "882ca095",
   "metadata": {},
   "outputs": [
    {
     "name": "stdout",
     "output_type": "stream",
     "text": [
      "гнн\n",
      "ш\n",
      "Фраза 1 длиннее фразы 2\n"
     ]
    }
   ],
   "source": [
    "phrase_1 = input()\n",
    "phrase_2 = input()\n",
    "\n",
    "if len(phrase_1) > len(phrase_2):\n",
    "    print('Фраза 1 длиннее фразы 2')\n",
    "elif len(phrase_1) < len(phrase_2):\n",
    "    print('Фраза 2 длиннее фразы 1')\n",
    "else:\n",
    "    print('Фразы равной длины')"
   ]
  },
  {
   "cell_type": "markdown",
   "id": "3668244b",
   "metadata": {},
   "source": [
    "### Задание 2\n",
    "Дана переменная, в которой хранится число (год). Необходимо написать программу, которая выведет, является ли данный год високосным или обычным."
   ]
  },
  {
   "cell_type": "markdown",
   "id": "f921d00b",
   "metadata": {},
   "source": [
    "- год, номер которого кратен 400, — високосный;  \n",
    "- остальные годы, номер которых кратен 100, — невисокосные (например, годы 1700, 1800, 1900, 2100, 2200, 2300);  \n",
    "- остальные годы, номер которых кратен 4, — високосные  \n",
    "- все остальные годы — невисокосные."
   ]
  },
  {
   "cell_type": "code",
   "execution_count": 2,
   "id": "956574e2",
   "metadata": {},
   "outputs": [
    {
     "name": "stdout",
     "output_type": "stream",
     "text": [
      "898\n",
      "Обычный год\n"
     ]
    }
   ],
   "source": [
    "year = int(input())\n",
    "\n",
    "if year % 4 == 0 and year % 100 != 0 or year % 400 == 0:\n",
    "    print('Високосный год')\n",
    "else:\n",
    "    print('Обычный год')"
   ]
  },
  {
   "cell_type": "markdown",
   "id": "2202dd6d",
   "metadata": {},
   "source": [
    "### Задание 3\n",
    "Необходимо написать программу, которая будет запрашивать у пользователя месяц и дату рождения и выводить соответствующий знак зодиака."
   ]
  },
  {
   "cell_type": "markdown",
   "id": "719aae8f",
   "metadata": {},
   "source": [
    "| Знак зодиака | Даты рождения |\n",
    "|--------- | ---------- |\n",
    "| Овен | 21 марта – 20 апреля |\n",
    "| Телец | 21 апреля – 21 мая |\n",
    "| Близнецы | 22 мая – 21 июня |\n",
    "| Рак | 22 июня – 22 июля |\n",
    "| Лев | 23 июля – 23 августа |\n",
    "| Дева | 24 августа – 22 сентября |\n",
    "| Весы | 23 сентября – 23 октября |\n",
    "| Скорпион | 24 октября – 22 ноября |\n",
    "| Стрелец | 23 ноября – 21 декабря |\n",
    "| Козерог | 22 декабря – 20 января |\n",
    "| Водолей | 21 января – 18 февраля |\n",
    "| Рыбы | 19 февраля – 20 марта |"
   ]
  },
  {
   "cell_type": "code",
   "execution_count": 3,
   "id": "1e3fdeb1",
   "metadata": {},
   "outputs": [
    {
     "name": "stdout",
     "output_type": "stream",
     "text": [
      "Введите день: 11\n",
      "Введите месяц: Май\n",
      "Ваш знак зодиака: Телец\n"
     ]
    }
   ],
   "source": [
    "day = int(input('Введите день: '))\n",
    "month = input('Введите месяц: ')\n",
    "\n",
    "if (month == 'Март' and 1 >= day >= 21) or (month == 'Апрель' and 1 <= day <= 20):\n",
    "    print('Ваш знак зодиака: Овен')\n",
    "elif (month == 'Апрель' and 1>= day >= 21) or (month == 'Май' and 1 <= day <= 21):\n",
    "    print('Ваш знак зодиака: Телец')\n",
    "elif (month == 'Май' and 1 >= day >= 22) or (month == 'Июнь' and 1 <= day <= 21):\n",
    "    print('Ваш знак зодиака: Близнецы')\n",
    "elif (month == 'Июнь' and 1 >= day >= 22) or (month == 'Июль' and 1 <= day <= 22):\n",
    "    print('Ваш знак зодиака: Рак')\n",
    "elif (month == 'Июль' and 1 >= day >= 23) or (month == 'Август' and 1 <= day <= 23):\n",
    "    print('Ваш знак зодиака: Лев')\n",
    "elif (month == 'Август' and 1 >= day >= 24) or (month == 'Сентябрь' and 1 <= day <= 22):\n",
    "    print('Ваш знак зодиака: Дева')\n",
    "elif (month == 'Сентябрь' and 1 >= day >= 23) or (month == 'Октябрь' and 1 <= day <= 23):\n",
    "    print('Ваш знак зодиака: Весы')\n",
    "elif (month == 'Октябрь' and 1 >= day >= 24) or (month == 'Ноябрь' and 1 <= day <= 22):\n",
    "    print('Ваш знак зодиака: Скорпион')\n",
    "elif (month == 'Ноябрь' and 1 >= day >= 23) or (month == 'Декабрь' and 1 <= day <= 21):\n",
    "    print('Ваш знак зодиака: Стрелец')\n",
    "elif (month == 'Декабрь' and 1 >= day >= 22) or (month == 'Январь' and 1 <= day <= 20):\n",
    "    print('Ваш знак зодиака: Козерог')\n",
    "elif (month == 'Январь' and 1 >= day >= 21) or (month == 'Февраль' and 1 <= day <= 18):\n",
    "    print('Ваш знак зодиака: Водолей')\n",
    "elif (month == 'Февраль' and 1 >= day >= 19) or (month == 'Март' and 1 <= day <= 20):\n",
    "    print('Ваш знак зодиака: Рыбы')\n",
    "else:\n",
    "    print('Некорректные данные')"
   ]
  },
  {
   "cell_type": "markdown",
   "id": "0091f58b",
   "metadata": {},
   "source": [
    "### Задание 4\n",
    "Вам нужно написать программу для подбора упаковок по размерам товара. Размеры (ширина, длина, высота) хранятся в переменных (в сантиметрах):"
   ]
  },
  {
   "cell_type": "code",
   "execution_count": 4,
   "id": "ee2987fa",
   "metadata": {},
   "outputs": [
    {
     "name": "stdout",
     "output_type": "stream",
     "text": [
      "12\n",
      "10\n",
      "45\n",
      "Коробка №2\n"
     ]
    }
   ],
   "source": [
    "width = int(input())\n",
    "length = int(input())\n",
    "height = int(input())\n",
    "\n",
    "if width <= 0 or length <= 0 or height <= 0:\n",
    "    print('Некорректные данные')\n",
    "elif width <= 15 and length <= 15 and height <= 15:\n",
    "    print('Коробка №1')\n",
    "elif 200 < length:\n",
    "    print('Ищите упаковку для лыж')\n",
    "elif 15 < width < 50 or 15 < length < 50 or 15 < height < 50:\n",
    "    print('Коробка №2')\n",
    "else:\n",
    "    print('Стандартная коробка №3')"
   ]
  },
  {
   "cell_type": "markdown",
   "id": "508774e3",
   "metadata": {},
   "source": [
    "### Задание 5 (необязательное)\n",
    "Дана переменная, в которой хранится шестизначное число (номер проездного билета). Напишите программу, которая будет определять, является ли данный билет “счастливым”.\n",
    "Билет считается счастливым, если сумма первых трех цифр совпадает с суммой последних трех цифр номера."
   ]
  },
  {
   "cell_type": "code",
   "execution_count": 9,
   "id": "d30c4695",
   "metadata": {},
   "outputs": [
    {
     "name": "stdout",
     "output_type": "stream",
     "text": [
      "764557\n",
      "Счастливый билет\n"
     ]
    }
   ],
   "source": [
    "ticket_number = int(input())\n",
    "\n",
    "dig_1 = ticket_number // 100000\n",
    "dig_2 = ticket_number // 10000 % 10\n",
    "dig_3 = ticket_number // 1000 % 100 % 10\n",
    "dig_4 = ticket_number // 100 % 1000 % 10\n",
    "dig_5 = ticket_number // 10 % 10000 % 10\n",
    "dig_6 = ticket_number % 10\n",
    "if len(str(ticket_number)) != 6:\n",
    "    print('Некорректные данные')\n",
    "elif dig_1 + dig_2 + dig_3 == dig_4 + dig_5 + dig_6:\n",
    "    print('Счастливый билет')\n",
    "else:\n",
    "    print('Несчастливый билет')"
   ]
  },
  {
   "cell_type": "markdown",
   "id": "d3c9ef55",
   "metadata": {},
   "source": [
    "### Задание 6 (необязательное)\n",
    "Напишите программу, которая сможет вычислять площади трех фигур (круг, треугольник и прямоугольник). Тип фигуры запрашиваем через пользовательский ввод, после чего делаем запрос характеристик фигуры:\n",
    "\n",
    "- если пользователь выбрал круг, запрашиваем его радиус, \n",
    "- если треугольник – длины трех его сторон; \n",
    "- если прямоугольник – длины двух его сторон."
   ]
  },
  {
   "cell_type": "code",
   "execution_count": 14,
   "id": "73cc6df4",
   "metadata": {},
   "outputs": [],
   "source": [
    "from math import pi, sqrt # импортируем из нужной библиотеки пи и квадратный корень"
   ]
  },
  {
   "cell_type": "code",
   "execution_count": 17,
   "id": "7895da46",
   "metadata": {},
   "outputs": [
    {
     "name": "stdout",
     "output_type": "stream",
     "text": [
      "Введите тип фигуры: Прямоугольник\n",
      "Введите длину стороны A: 8\n",
      "Введите длину стороны B: 0\n",
      "Некорректные данные\n"
     ]
    }
   ],
   "source": [
    "figura = input('Введите тип фигуры: ')\n",
    "\n",
    "if figura == 'Круг':\n",
    "    radius = int(input('Введите радиус круга: '))\n",
    "    if radius <= 0:\n",
    "        print('Некорректные данные')\n",
    "    else:\n",
    "        square = pi * radius**2 \n",
    "        print('Площадь круга: ', round(square, 2))\n",
    "elif figura == 'Треугольник':\n",
    "    a = int(input('Введите длину стороны A: '))\n",
    "    b = int(input('Введите длину стороны B: '))\n",
    "    c = int(input('Введите длину стороны C: '))\n",
    "    if a <=0 or b <= 0 or c <= 0:\n",
    "        print('Некорректные данные')\n",
    "    else:\n",
    "        p = (a + b + c) / 2 # полупериметр треугольника\n",
    "        square = sqrt(p * (p - a) * (p - b) * (p - c)) # формула Герона\n",
    "        print('Площадь треугольника:  ', round(square, 2))\n",
    "elif figura == 'Прямоугольник':\n",
    "    a = int(input('Введите длину стороны A: '))\n",
    "    b = int(input('Введите длину стороны B: '))\n",
    "    if a <=0 or b <= 0:\n",
    "        print('Некорректные данные')\n",
    "    else:\n",
    "        square = a * b\n",
    "        print('Площадь прямоугольника:  ', round(square, 2))\n",
    "else:\n",
    "    print('Нет такой фигуры')"
   ]
  },
  {
   "cell_type": "code",
   "execution_count": null,
   "id": "ae2d745d",
   "metadata": {},
   "outputs": [],
   "source": []
  }
 ],
 "metadata": {
  "kernelspec": {
   "display_name": "Python 3 (ipykernel)",
   "language": "python",
   "name": "python3"
  },
  "language_info": {
   "codemirror_mode": {
    "name": "ipython",
    "version": 3
   },
   "file_extension": ".py",
   "mimetype": "text/x-python",
   "name": "python",
   "nbconvert_exporter": "python",
   "pygments_lexer": "ipython3",
   "version": "3.9.7"
  }
 },
 "nbformat": 4,
 "nbformat_minor": 5
}
