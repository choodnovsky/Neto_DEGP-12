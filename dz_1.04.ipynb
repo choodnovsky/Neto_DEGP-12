{
 "cells": [
  {
   "cell_type": "markdown",
   "id": "30539688",
   "metadata": {},
   "source": [
    "## Домашнее задание №4 к лекции «Функции»"
   ]
  },
  {
   "cell_type": "code",
   "execution_count": 1,
   "id": "d27e1bde",
   "metadata": {},
   "outputs": [],
   "source": [
    "documents = [\n",
    "{'type': 'passport', 'number': '2207 876234', 'name': 'Василий Гупкин'},\n",
    "{'type': 'invoice', 'number': '11-2', 'name': 'Геннадий Покемонов'},\n",
    "{'type': 'insurance', 'number': '10006', 'name': 'Аристарх Павлов'}\n",
    "]\n",
    "\n",
    "directories = {\n",
    "'1': ['2207 876234', '11-2'],\n",
    "'2': ['10006'],\n",
    "'3': []\n",
    "}"
   ]
  },
  {
   "cell_type": "code",
   "execution_count": 2,
   "id": "bcc0d565",
   "metadata": {},
   "outputs": [],
   "source": [
    "def directories_list():\n",
    "    \"\"\"Функция, возвращающая список полок\n",
    "    \"\"\"\n",
    "    return (','.join(list(directories.keys())))"
   ]
  },
  {
   "cell_type": "markdown",
   "id": "b2a66dc8",
   "metadata": {},
   "source": [
    "#### Общие требования к программе:\n",
    "\n",
    "- код должен быть грамотно декомпозирован (каждая функция отвечает за свою конкретную задачу, дублирующийся функционал переиспользуется, а его код не повторяется);\n",
    "- в коде отсутствуют глобальные переменные (за исключением `documents` и `directories`);\n",
    "- пользовательский ввод обрабатывается в цикле `while` до тех пор, пока пользователь явно не завершит программу (вводом команды “q”)."
   ]
  },
  {
   "cell_type": "markdown",
   "id": "496c3467",
   "metadata": {},
   "source": [
    "### Задание 1"
   ]
  },
  {
   "cell_type": "markdown",
   "id": "bef3198d",
   "metadata": {},
   "source": [
    "#### Пункт 1.   \n",
    "Пользователь по команде “p” может узнать владельца документа по его номеру"
   ]
  },
  {
   "cell_type": "code",
   "execution_count": 3,
   "id": "249cd62c",
   "metadata": {},
   "outputs": [],
   "source": [
    "def cmd_p(doc):\n",
    "    \"\"\"Функция, возвращающая владельца документа либо метку для альтернативного принта\n",
    "    \"\"\"\n",
    "    result = 0\n",
    "    for line in documents:\n",
    "        if line['number'] == doc:\n",
    "            result += 1\n",
    "            return line['name']\n",
    "    if result == 0:\n",
    "        return False"
   ]
  },
  {
   "cell_type": "markdown",
   "id": "8dc4b699",
   "metadata": {},
   "source": [
    "#### Пункт 2.  \n",
    "Пользователь по команде “s” может по номеру документа узнать на какой полке он хранится"
   ]
  },
  {
   "cell_type": "code",
   "execution_count": 4,
   "id": "11295186",
   "metadata": {},
   "outputs": [],
   "source": [
    "def cmd_s(doc):\n",
    "    \"\"\"Функция, возвращающая полку документа либо метку для альтернативного принта\n",
    "    \"\"\"\n",
    "    result = 0\n",
    "    for directory,value in directories.items():\n",
    "        if doc in value:\n",
    "            result += 1\n",
    "            return directory\n",
    "    if result == 0:\n",
    "        return False"
   ]
  },
  {
   "cell_type": "markdown",
   "id": "61f2f670",
   "metadata": {},
   "source": [
    "#### Пункт 3.   \n",
    "Пользователь по команде “l” может увидеть полную информацию по всем документам"
   ]
  },
  {
   "cell_type": "code",
   "execution_count": 5,
   "id": "df3acff1",
   "metadata": {},
   "outputs": [],
   "source": [
    "def cmd_l():\n",
    "    \"\"\"Функция, возвращающая реестр документов с полками\n",
    "    \"\"\"\n",
    "    documents_new = []\n",
    "    for i in documents:\n",
    "        documents_new.append([i['number'], i['type'], i['name'],cmd_s(i['number'])])\n",
    "    for line in documents_new:\n",
    "        print(f'№: {line[0]}, тип: {line[1]}, владелец: {line[2]}, полка хранения: {line[3]}')"
   ]
  },
  {
   "cell_type": "markdown",
   "id": "e9f8ed25",
   "metadata": {},
   "source": [
    "#### Пункт 4. \n",
    "Пользователь по команде “ads” может добавить новую полку"
   ]
  },
  {
   "cell_type": "code",
   "execution_count": 6,
   "id": "e621bcc4",
   "metadata": {},
   "outputs": [],
   "source": [
    "def cmd_ads(new_dir):\n",
    "    \"\"\"Функция, добавляющая полку и возвращающая соответствующее сообщение\n",
    "    \"\"\"\n",
    "    if new_dir not in directories:\n",
    "        directories[new_dir] = []\n",
    "        return 'Полка добавлена. Текущий перечень полок: '\n",
    "    else:\n",
    "        return 'Такая полка уже существует. Текущий перечень полок: '"
   ]
  },
  {
   "cell_type": "markdown",
   "id": "4079af17",
   "metadata": {},
   "source": [
    "#### Пункт 5. \n",
    "Пользователь по команде “ds” может удалить существующую полку из данных (только если она пустая)"
   ]
  },
  {
   "cell_type": "code",
   "execution_count": 7,
   "id": "d62316bc",
   "metadata": {},
   "outputs": [],
   "source": [
    "def cmd_ds(del_dir):\n",
    "    \"\"\"Функция, удаляющая полку и возвращающая соответствующее сообщение\n",
    "    \"\"\"\n",
    "    if del_dir not in directories:\n",
    "        return directories.get(del_dir, 'Такой полки не существует. Текущий перечень полок:')\n",
    "    elif len(directories[del_dir]) == 0:\n",
    "        del(directories[del_dir])\n",
    "        return 'Полка удалена. Текущий перечень полок:'\n",
    "    elif len(directories[del_dir]) > 0:\n",
    "        return 'На полке есть документы, удалите их перед удалением полки. Текущий перечень полок:'"
   ]
  },
  {
   "cell_type": "markdown",
   "id": "a3d1beea",
   "metadata": {},
   "source": [
    "#### Итоговая программа  ч.1\n",
    "Выполняет действие в зависимости от команды"
   ]
  },
  {
   "cell_type": "code",
   "execution_count": 8,
   "id": "5a4fcaeb",
   "metadata": {},
   "outputs": [],
   "source": [
    "def main_1():\n",
    "    \"\"\"Итоговая функция, выполняющая определенное действие в зависимости\n",
    "    от введенной команды\n",
    "    \"\"\"\n",
    "    command = ''\n",
    "    while command != 'q':\n",
    "        command = input('Введите команду:')\n",
    "        if command == 'p':\n",
    "            ouner = cmd_p(input('Введите номер документа'))\n",
    "            if ouner:\n",
    "                print(f'Владелец документа: {ouner}')\n",
    "            else:\n",
    "                print('Документ не найден в базе')\n",
    "        elif command == 's':\n",
    "            directory = cmd_s(input('Введите номер документа'))\n",
    "            if directory:\n",
    "                print(f'Документ хранится на полке: {directory}')\n",
    "            else:\n",
    "                print('Документ не найден в базе')\n",
    "        elif command == 'l':\n",
    "            cmd_l()\n",
    "        elif command == 'ads':\n",
    "            print(cmd_ads(input('Введите номер полки:')), directories_list())           \n",
    "        elif command == 'ds':\n",
    "            print(cmd_ds(input('Введите номер полки:')), directories_list())\n",
    "        elif command not in ['p', 's', 'l', 'ads', 'ds', 'q']:\n",
    "            print('Введите допустимую команду')\n",
    "    print('Работа завершена')"
   ]
  },
  {
   "cell_type": "code",
   "execution_count": 9,
   "id": "bb3affb1",
   "metadata": {},
   "outputs": [
    {
     "name": "stdout",
     "output_type": "stream",
     "text": [
      "Введите команду:p\n",
      "Введите номер документа00\n",
      "Документ не найден в базе\n",
      "Введите команду:p\n",
      "Введите номер документа11-2\n",
      "Владелец документа: Геннадий Покемонов\n",
      "Введите команду:p\n",
      "Введите номер документа10006\n",
      "Владелец документа: Аристарх Павлов\n",
      "Введите команду:l\n",
      "№: 2207 876234, тип: passport, владелец: Василий Гупкин, полка хранения: 1\n",
      "№: 11-2, тип: invoice, владелец: Геннадий Покемонов, полка хранения: 1\n",
      "№: 10006, тип: insurance, владелец: Аристарх Павлов, полка хранения: 2\n",
      "Введите команду:s\n",
      "Введите номер документа8\n",
      "Документ не найден в базе\n",
      "Введите команду:s\n",
      "Введите номер документа11-2\n",
      "Документ хранится на полке: 1\n",
      "Введите команду:ads\n",
      "Введите номер полки:7\n",
      "Полка добавлена. Текущий перечень полок:  1,2,3,7\n",
      "Введите команду:ds\n",
      "Введите номер полки:2\n",
      "На полке есть документы, удалите их перед удалением полки. Текущий перечень полок: 1,2,3,7\n",
      "Введите команду:ds\n",
      "Введите номер полки:7\n",
      "Полка удалена. Текущий перечень полок: 1,2,3\n",
      "Введите команду:q\n",
      "Работа завершена\n"
     ]
    }
   ],
   "source": [
    "main_1()"
   ]
  },
  {
   "cell_type": "markdown",
   "id": "43072f01",
   "metadata": {},
   "source": [
    "### Задание 2 (необязательное)\n",
    "Вам необходимо дополнить программу из задания 1 более продвинутыми командами."
   ]
  },
  {
   "cell_type": "markdown",
   "id": "9d266bd0",
   "metadata": {},
   "source": [
    "#### Пункт 1. \n",
    "Пользователь по команде “ad” может добавить новый документ в данные"
   ]
  },
  {
   "cell_type": "code",
   "execution_count": 10,
   "id": "e894fcfd",
   "metadata": {},
   "outputs": [],
   "source": [
    "def cmd_ad():\n",
    "    new_doc_num = input('Введите номер документа:')\n",
    "    new_doc_type = input('Введите тип документа:')\n",
    "    new_doc_owner = input('Введите владельца документа:')\n",
    "    new_doc_dir = input('Введите полку документа:')\n",
    "    documents.append({'type': new_doc_type, 'number': new_doc_num, 'name': new_doc_owner})\n",
    "    if new_doc_dir in directories:\n",
    "        directories[new_doc_dir] += [new_doc_num]\n",
    "    else:\n",
    "        print('Такой полки не существует. Добавьте полку командой ads.')\n",
    "        del(documents[-1])\n",
    "    print('Текущий список документов:')\n",
    "    cmd_l()"
   ]
  },
  {
   "cell_type": "markdown",
   "id": "854822af",
   "metadata": {},
   "source": [
    "#### Пункт 2. \n",
    "Пользователь по команде “d” может удалить документ из данных"
   ]
  },
  {
   "cell_type": "code",
   "execution_count": 11,
   "id": "88c7ce33",
   "metadata": {},
   "outputs": [],
   "source": [
    "def cmd_d(num):\n",
    "    result = 0\n",
    "    for i, line in enumerate(documents):\n",
    "        if line['number'] == num:\n",
    "            print('Документ удален')\n",
    "            del(documents[i])\n",
    "            result += 1\n",
    "    if result == 0:\n",
    "        print('Документ не найден в базе.')\n",
    "    print('Текущий список документов')\n",
    "    cmd_l()"
   ]
  },
  {
   "cell_type": "markdown",
   "id": "d765cf18",
   "metadata": {},
   "source": [
    "#### Итоговая программа  ч.2\n",
    "Выполняет действие в зависимости от команды"
   ]
  },
  {
   "cell_type": "code",
   "execution_count": 12,
   "id": "cbe252f9",
   "metadata": {},
   "outputs": [],
   "source": [
    "def main_2():\n",
    "    \"\"\"Итоговая функция, выполняющая определенное действие в зависимости\n",
    "    от введенной команды\n",
    "    \"\"\"\n",
    "    command = ''\n",
    "    while command != 'q':\n",
    "        command = input('Введите команду:')\n",
    "        if command == 'p':\n",
    "            ouner = cmd_p(input('Введите номер документа:'))\n",
    "            if ouner:\n",
    "                print(f'Владелец документа: {ouner}')\n",
    "            else:\n",
    "                print('Документ не найден в базе')\n",
    "        elif command == 's':\n",
    "            directory = cmd_s(input('Введите номер документа:'))\n",
    "            if directory:\n",
    "                print(f'Документ хранится на полке: {directory}')\n",
    "            else:\n",
    "                print('Документ не найден в базе')\n",
    "        elif command == 'l':\n",
    "            cmd_l()\n",
    "        elif command == 'ads':\n",
    "            print(cmd_ads(input('Введите номер полки:')), directories_list())           \n",
    "        elif command == 'ds':\n",
    "            print(cmd_ds(input('Введите номер полки:')), directories_list())\n",
    "        elif command == 'ad':\n",
    "            cmd_ad()\n",
    "        elif command == 'd':\n",
    "            cmd_d(input('Введите номер документа:'))\n",
    "        elif command not in ['p', 's', 'l', 'ads', 'ds', 'ad', 'd', 'q']:\n",
    "            print('Введите допустимую команду')\n",
    "    print('Работа завершена')"
   ]
  },
  {
   "cell_type": "code",
   "execution_count": 13,
   "id": "1b9d1cd3",
   "metadata": {},
   "outputs": [
    {
     "name": "stdout",
     "output_type": "stream",
     "text": [
      "Введите команду:ad\n",
      "Введите номер документа:84\n",
      "Введите тип документа:ксива\n",
      "Введите владельца документа:Гена\n",
      "Введите полку документа:3\n",
      "Текущий список документов:\n",
      "№: 2207 876234, тип: passport, владелец: Василий Гупкин, полка хранения: 1\n",
      "№: 11-2, тип: invoice, владелец: Геннадий Покемонов, полка хранения: 1\n",
      "№: 10006, тип: insurance, владелец: Аристарх Павлов, полка хранения: 2\n",
      "№: 84, тип: ксива, владелец: Гена, полка хранения: 3\n",
      "Введите команду:d\n",
      "Введите номер документа:84\n",
      "Документ удален\n",
      "Текущий список документов\n",
      "№: 2207 876234, тип: passport, владелец: Василий Гупкин, полка хранения: 1\n",
      "№: 11-2, тип: invoice, владелец: Геннадий Покемонов, полка хранения: 1\n",
      "№: 10006, тип: insurance, владелец: Аристарх Павлов, полка хранения: 2\n",
      "Введите команду:q\n",
      "Работа завершена\n"
     ]
    }
   ],
   "source": [
    "main_2()"
   ]
  }
 ],
 "metadata": {
  "kernelspec": {
   "display_name": "Python 3 (ipykernel)",
   "language": "python",
   "name": "python3"
  },
  "language_info": {
   "codemirror_mode": {
    "name": "ipython",
    "version": 3
   },
   "file_extension": ".py",
   "mimetype": "text/x-python",
   "name": "python",
   "nbconvert_exporter": "python",
   "pygments_lexer": "ipython3",
   "version": "3.9.7"
  }
 },
 "nbformat": 4,
 "nbformat_minor": 5
}
