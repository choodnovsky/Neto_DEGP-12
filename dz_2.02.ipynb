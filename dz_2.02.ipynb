{
 "cells": [
  {
   "cell_type": "markdown",
   "id": "e589382b",
   "metadata": {},
   "source": [
    "### Домашнее задание №2 к лекции «Библиотека Pandas»\n"
   ]
  },
  {
   "cell_type": "code",
   "execution_count": 1,
   "id": "ed03b14e",
   "metadata": {},
   "outputs": [],
   "source": [
    "import pandas as pd\n",
    "import numpy as np\n",
    "import os"
   ]
  },
  {
   "cell_type": "markdown",
   "id": "f744adcc",
   "metadata": {},
   "source": [
    "#### Задание 1\n",
    "Скачайте с сайта https://grouplens.org/datasets/movielens/ датасет любого размера. Определите, какому фильму было выставлено больше всего оценок 5.0."
   ]
  },
  {
   "cell_type": "markdown",
   "id": "b364a5a5",
   "metadata": {},
   "source": [
    "Сперва посмотрим какие в этих папках файлы и вспомним библиотеку `os`  \n",
    "Что бы не забивать ноутбук выводить `info` получаемых датафреймов не будем"
   ]
  },
  {
   "cell_type": "code",
   "execution_count": 2,
   "id": "1f1ae872",
   "metadata": {},
   "outputs": [
    {
     "data": {
      "text/plain": [
       "['links.csv', 'tags.csv', 'ratings.csv', 'keywords.csv', 'movies.csv']"
      ]
     },
     "execution_count": 2,
     "metadata": {},
     "output_type": "execute_result"
    }
   ],
   "source": [
    "task_1_files = [file for file in os.listdir('ml-latest') if '.csv' in file]\n",
    "# распакованный архив с этого сайта кладем в папку с ноутбуком\n",
    "task_1_files"
   ]
  },
  {
   "cell_type": "code",
   "execution_count": 3,
   "id": "1b6bf164",
   "metadata": {},
   "outputs": [
    {
     "data": {
      "text/plain": [
       "'Имя файла:links.csv'"
      ]
     },
     "metadata": {},
     "output_type": "display_data"
    },
    {
     "data": {
      "text/html": [
       "<div>\n",
       "<style scoped>\n",
       "    .dataframe tbody tr th:only-of-type {\n",
       "        vertical-align: middle;\n",
       "    }\n",
       "\n",
       "    .dataframe tbody tr th {\n",
       "        vertical-align: top;\n",
       "    }\n",
       "\n",
       "    .dataframe thead th {\n",
       "        text-align: right;\n",
       "    }\n",
       "</style>\n",
       "<table border=\"1\" class=\"dataframe\">\n",
       "  <thead>\n",
       "    <tr style=\"text-align: right;\">\n",
       "      <th></th>\n",
       "      <th>movieId</th>\n",
       "      <th>imdbId</th>\n",
       "      <th>tmdbId</th>\n",
       "    </tr>\n",
       "  </thead>\n",
       "  <tbody>\n",
       "    <tr>\n",
       "      <th>0</th>\n",
       "      <td>1</td>\n",
       "      <td>114709</td>\n",
       "      <td>862.0</td>\n",
       "    </tr>\n",
       "    <tr>\n",
       "      <th>1</th>\n",
       "      <td>2</td>\n",
       "      <td>113497</td>\n",
       "      <td>8844.0</td>\n",
       "    </tr>\n",
       "    <tr>\n",
       "      <th>2</th>\n",
       "      <td>3</td>\n",
       "      <td>113228</td>\n",
       "      <td>15602.0</td>\n",
       "    </tr>\n",
       "  </tbody>\n",
       "</table>\n",
       "</div>"
      ],
      "text/plain": [
       "   movieId  imdbId   tmdbId\n",
       "0        1  114709    862.0\n",
       "1        2  113497   8844.0\n",
       "2        3  113228  15602.0"
      ]
     },
     "metadata": {},
     "output_type": "display_data"
    },
    {
     "data": {
      "text/plain": [
       "'Имя файла:tags.csv'"
      ]
     },
     "metadata": {},
     "output_type": "display_data"
    },
    {
     "data": {
      "text/html": [
       "<div>\n",
       "<style scoped>\n",
       "    .dataframe tbody tr th:only-of-type {\n",
       "        vertical-align: middle;\n",
       "    }\n",
       "\n",
       "    .dataframe tbody tr th {\n",
       "        vertical-align: top;\n",
       "    }\n",
       "\n",
       "    .dataframe thead th {\n",
       "        text-align: right;\n",
       "    }\n",
       "</style>\n",
       "<table border=\"1\" class=\"dataframe\">\n",
       "  <thead>\n",
       "    <tr style=\"text-align: right;\">\n",
       "      <th></th>\n",
       "      <th>userId</th>\n",
       "      <th>movieId</th>\n",
       "      <th>tag</th>\n",
       "      <th>timestamp</th>\n",
       "    </tr>\n",
       "  </thead>\n",
       "  <tbody>\n",
       "    <tr>\n",
       "      <th>0</th>\n",
       "      <td>15</td>\n",
       "      <td>339</td>\n",
       "      <td>sandra 'boring' bullock</td>\n",
       "      <td>1138537770</td>\n",
       "    </tr>\n",
       "    <tr>\n",
       "      <th>1</th>\n",
       "      <td>15</td>\n",
       "      <td>1955</td>\n",
       "      <td>dentist</td>\n",
       "      <td>1193435061</td>\n",
       "    </tr>\n",
       "    <tr>\n",
       "      <th>2</th>\n",
       "      <td>15</td>\n",
       "      <td>7478</td>\n",
       "      <td>Cambodia</td>\n",
       "      <td>1170560997</td>\n",
       "    </tr>\n",
       "  </tbody>\n",
       "</table>\n",
       "</div>"
      ],
      "text/plain": [
       "   userId  movieId                      tag   timestamp\n",
       "0      15      339  sandra 'boring' bullock  1138537770\n",
       "1      15     1955                  dentist  1193435061\n",
       "2      15     7478                 Cambodia  1170560997"
      ]
     },
     "metadata": {},
     "output_type": "display_data"
    },
    {
     "data": {
      "text/plain": [
       "'Имя файла:ratings.csv'"
      ]
     },
     "metadata": {},
     "output_type": "display_data"
    },
    {
     "data": {
      "text/html": [
       "<div>\n",
       "<style scoped>\n",
       "    .dataframe tbody tr th:only-of-type {\n",
       "        vertical-align: middle;\n",
       "    }\n",
       "\n",
       "    .dataframe tbody tr th {\n",
       "        vertical-align: top;\n",
       "    }\n",
       "\n",
       "    .dataframe thead th {\n",
       "        text-align: right;\n",
       "    }\n",
       "</style>\n",
       "<table border=\"1\" class=\"dataframe\">\n",
       "  <thead>\n",
       "    <tr style=\"text-align: right;\">\n",
       "      <th></th>\n",
       "      <th>userId</th>\n",
       "      <th>movieId</th>\n",
       "      <th>rating</th>\n",
       "      <th>timestamp</th>\n",
       "    </tr>\n",
       "  </thead>\n",
       "  <tbody>\n",
       "    <tr>\n",
       "      <th>0</th>\n",
       "      <td>1</td>\n",
       "      <td>31</td>\n",
       "      <td>2.5</td>\n",
       "      <td>1260759144</td>\n",
       "    </tr>\n",
       "    <tr>\n",
       "      <th>1</th>\n",
       "      <td>1</td>\n",
       "      <td>1029</td>\n",
       "      <td>3.0</td>\n",
       "      <td>1260759179</td>\n",
       "    </tr>\n",
       "    <tr>\n",
       "      <th>2</th>\n",
       "      <td>1</td>\n",
       "      <td>1061</td>\n",
       "      <td>3.0</td>\n",
       "      <td>1260759182</td>\n",
       "    </tr>\n",
       "  </tbody>\n",
       "</table>\n",
       "</div>"
      ],
      "text/plain": [
       "   userId  movieId  rating   timestamp\n",
       "0       1       31     2.5  1260759144\n",
       "1       1     1029     3.0  1260759179\n",
       "2       1     1061     3.0  1260759182"
      ]
     },
     "metadata": {},
     "output_type": "display_data"
    },
    {
     "data": {
      "text/plain": [
       "'Имя файла:keywords.csv'"
      ]
     },
     "metadata": {},
     "output_type": "display_data"
    },
    {
     "data": {
      "text/html": [
       "<div>\n",
       "<style scoped>\n",
       "    .dataframe tbody tr th:only-of-type {\n",
       "        vertical-align: middle;\n",
       "    }\n",
       "\n",
       "    .dataframe tbody tr th {\n",
       "        vertical-align: top;\n",
       "    }\n",
       "\n",
       "    .dataframe thead th {\n",
       "        text-align: right;\n",
       "    }\n",
       "</style>\n",
       "<table border=\"1\" class=\"dataframe\">\n",
       "  <thead>\n",
       "    <tr style=\"text-align: right;\">\n",
       "      <th></th>\n",
       "      <th>keyword</th>\n",
       "      <th>shows</th>\n",
       "    </tr>\n",
       "  </thead>\n",
       "  <tbody>\n",
       "    <tr>\n",
       "      <th>0</th>\n",
       "      <td>вк</td>\n",
       "      <td>64292779</td>\n",
       "    </tr>\n",
       "    <tr>\n",
       "      <th>1</th>\n",
       "      <td>одноклассники</td>\n",
       "      <td>63810309</td>\n",
       "    </tr>\n",
       "    <tr>\n",
       "      <th>2</th>\n",
       "      <td>порно</td>\n",
       "      <td>41747114</td>\n",
       "    </tr>\n",
       "  </tbody>\n",
       "</table>\n",
       "</div>"
      ],
      "text/plain": [
       "         keyword     shows\n",
       "0             вк  64292779\n",
       "1  одноклассники  63810309\n",
       "2          порно  41747114"
      ]
     },
     "metadata": {},
     "output_type": "display_data"
    },
    {
     "data": {
      "text/plain": [
       "'Имя файла:movies.csv'"
      ]
     },
     "metadata": {},
     "output_type": "display_data"
    },
    {
     "data": {
      "text/html": [
       "<div>\n",
       "<style scoped>\n",
       "    .dataframe tbody tr th:only-of-type {\n",
       "        vertical-align: middle;\n",
       "    }\n",
       "\n",
       "    .dataframe tbody tr th {\n",
       "        vertical-align: top;\n",
       "    }\n",
       "\n",
       "    .dataframe thead th {\n",
       "        text-align: right;\n",
       "    }\n",
       "</style>\n",
       "<table border=\"1\" class=\"dataframe\">\n",
       "  <thead>\n",
       "    <tr style=\"text-align: right;\">\n",
       "      <th></th>\n",
       "      <th>movieId</th>\n",
       "      <th>title</th>\n",
       "      <th>genres</th>\n",
       "    </tr>\n",
       "  </thead>\n",
       "  <tbody>\n",
       "    <tr>\n",
       "      <th>0</th>\n",
       "      <td>1</td>\n",
       "      <td>Toy Story (1995)</td>\n",
       "      <td>Adventure|Animation|Children|Comedy|Fantasy</td>\n",
       "    </tr>\n",
       "    <tr>\n",
       "      <th>1</th>\n",
       "      <td>2</td>\n",
       "      <td>Jumanji (1995)</td>\n",
       "      <td>Adventure|Children|Fantasy</td>\n",
       "    </tr>\n",
       "    <tr>\n",
       "      <th>2</th>\n",
       "      <td>3</td>\n",
       "      <td>Grumpier Old Men (1995)</td>\n",
       "      <td>Comedy|Romance</td>\n",
       "    </tr>\n",
       "  </tbody>\n",
       "</table>\n",
       "</div>"
      ],
      "text/plain": [
       "   movieId                    title  \\\n",
       "0        1         Toy Story (1995)   \n",
       "1        2           Jumanji (1995)   \n",
       "2        3  Grumpier Old Men (1995)   \n",
       "\n",
       "                                        genres  \n",
       "0  Adventure|Animation|Children|Comedy|Fantasy  \n",
       "1                   Adventure|Children|Fantasy  \n",
       "2                               Comedy|Romance  "
      ]
     },
     "metadata": {},
     "output_type": "display_data"
    },
    {
     "name": "stdout",
     "output_type": "stream",
     "text": [
      "CPU times: user 196 ms, sys: 22.5 ms, total: 219 ms\n",
      "Wall time: 221 ms\n"
     ]
    }
   ],
   "source": [
    "%%time\n",
    "for i,n in enumerate(task_1_files):\n",
    "    display('Имя файла:' + n, (pd.read_csv(os.getcwd() + '/ml-latest/' + task_1_files[i]).head(3)))"
   ]
  },
  {
   "cell_type": "markdown",
   "id": "a4bc9d10",
   "metadata": {},
   "source": [
    "Нам понадобятся файлы __ratings.csv__ и __movies.csv__"
   ]
  },
  {
   "cell_type": "code",
   "execution_count": 4,
   "id": "aa78d5f3",
   "metadata": {},
   "outputs": [],
   "source": [
    "ratings = pd.read_csv(os.getcwd() + '/ml-latest/' + task_1_files[2])\n",
    "movies = pd.read_csv(os.getcwd() + '/ml-latest/' + task_1_files[4])"
   ]
  },
  {
   "cell_type": "markdown",
   "id": "7890cb37",
   "metadata": {},
   "source": [
    "Получим название искомого фильма двумя способами:  \n",
    "- получим его `id`, после чего отфильтруем по нему названия фильмов\n",
    "- отфильтруем только оценки 5, после чего соединим таблицу рейтингов с таблицей фильмов по `id`, посчитаем количества каждого фильма, отсортируем серию, и выведем индекс последнего значения"
   ]
  },
  {
   "cell_type": "markdown",
   "id": "1f2d6b97",
   "metadata": {},
   "source": [
    "1 вариант"
   ]
  },
  {
   "cell_type": "code",
   "execution_count": 5,
   "id": "8fefd574",
   "metadata": {},
   "outputs": [
    {
     "name": "stdout",
     "output_type": "stream",
     "text": [
      "CPU times: user 13.6 ms, sys: 5.42 ms, total: 19 ms\n",
      "Wall time: 16.3 ms\n"
     ]
    },
    {
     "data": {
      "text/plain": [
       "'Shawshank Redemption, The (1994)'"
      ]
     },
     "execution_count": 5,
     "metadata": {},
     "output_type": "execute_result"
    }
   ],
   "source": [
    "%%time\n",
    "best_movie_id = ratings.query('rating == 5.0')['movieId'].value_counts().idxmax()\n",
    "movies.query('movieId == @best_movie_id')['title'].values[0]"
   ]
  },
  {
   "cell_type": "markdown",
   "id": "93368166",
   "metadata": {},
   "source": [
    "2 вариант"
   ]
  },
  {
   "cell_type": "code",
   "execution_count": 6,
   "id": "95c19d69",
   "metadata": {},
   "outputs": [
    {
     "name": "stdout",
     "output_type": "stream",
     "text": [
      "CPU times: user 19 ms, sys: 3.83 ms, total: 22.8 ms\n",
      "Wall time: 20.1 ms\n"
     ]
    },
    {
     "data": {
      "text/plain": [
       "'Shawshank Redemption, The (1994)'"
      ]
     },
     "execution_count": 6,
     "metadata": {},
     "output_type": "execute_result"
    }
   ],
   "source": [
    "%%time\n",
    "result = pd.merge(ratings.query('rating == 5.0'), movies, how='left', on = 'movieId')\n",
    "result['title'].value_counts().sort_values().tail(1).index[0]"
   ]
  },
  {
   "cell_type": "markdown",
   "id": "0a1bb011",
   "metadata": {},
   "source": [
    "Оба варианта возвращают одно название, но первый немного быстрее"
   ]
  },
  {
   "cell_type": "markdown",
   "id": "69223265",
   "metadata": {},
   "source": [
    "#### Задание 2\n",
    "По данным файла power.csv посчитайте суммарное потребление стран Прибалтики (Латвия, Литва и Эстония) категорий 4, 12 и 21 за период с 2005 по 2010 года. Не учитывайте в расчетах отрицательные значения quantity."
   ]
  },
  {
   "cell_type": "code",
   "execution_count": 7,
   "id": "480374fb",
   "metadata": {},
   "outputs": [
    {
     "data": {
      "text/plain": [
       "['visit_log.csv',\n",
       " 'power.csv',\n",
       " 'transactions.csv',\n",
       " 'keywords.csv',\n",
       " 'sales_db.csv']"
      ]
     },
     "execution_count": 7,
     "metadata": {},
     "output_type": "execute_result"
    }
   ],
   "source": [
    "task_2_files = [file for file in os.listdir('Основы_pandas') if '.csv' in file]\n",
    "# распакованный архив с дополнительными файлами этого блока кладем в папку с ноутбуком\n",
    "task_2_files"
   ]
  },
  {
   "cell_type": "code",
   "execution_count": 8,
   "id": "b20a789f",
   "metadata": {},
   "outputs": [
    {
     "data": {
      "text/plain": [
       "'Имя файла:visit_log.csv'"
      ]
     },
     "metadata": {},
     "output_type": "display_data"
    },
    {
     "data": {
      "text/html": [
       "<div>\n",
       "<style scoped>\n",
       "    .dataframe tbody tr th:only-of-type {\n",
       "        vertical-align: middle;\n",
       "    }\n",
       "\n",
       "    .dataframe tbody tr th {\n",
       "        vertical-align: top;\n",
       "    }\n",
       "\n",
       "    .dataframe thead th {\n",
       "        text-align: right;\n",
       "    }\n",
       "</style>\n",
       "<table border=\"1\" class=\"dataframe\">\n",
       "  <thead>\n",
       "    <tr style=\"text-align: right;\">\n",
       "      <th></th>\n",
       "      <th>timestamp;visit_id;url;region;user_id;traffic_source</th>\n",
       "    </tr>\n",
       "  </thead>\n",
       "  <tbody>\n",
       "    <tr>\n",
       "      <th>0</th>\n",
       "      <td>1549980692;e3b0c44298;https://host.ru/3c19b4ef...</td>\n",
       "    </tr>\n",
       "    <tr>\n",
       "      <th>1</th>\n",
       "      <td>1549980704;6e340b9cff;https://host.ru/c8d9213a...</td>\n",
       "    </tr>\n",
       "    <tr>\n",
       "      <th>2</th>\n",
       "      <td>1549980715;96a296d224;https://host.ru/b8b58337...</td>\n",
       "    </tr>\n",
       "  </tbody>\n",
       "</table>\n",
       "</div>"
      ],
      "text/plain": [
       "  timestamp;visit_id;url;region;user_id;traffic_source\n",
       "0  1549980692;e3b0c44298;https://host.ru/3c19b4ef...  \n",
       "1  1549980704;6e340b9cff;https://host.ru/c8d9213a...  \n",
       "2  1549980715;96a296d224;https://host.ru/b8b58337...  "
      ]
     },
     "metadata": {},
     "output_type": "display_data"
    },
    {
     "data": {
      "text/plain": [
       "'Имя файла:power.csv'"
      ]
     },
     "metadata": {},
     "output_type": "display_data"
    },
    {
     "data": {
      "text/html": [
       "<div>\n",
       "<style scoped>\n",
       "    .dataframe tbody tr th:only-of-type {\n",
       "        vertical-align: middle;\n",
       "    }\n",
       "\n",
       "    .dataframe tbody tr th {\n",
       "        vertical-align: top;\n",
       "    }\n",
       "\n",
       "    .dataframe thead th {\n",
       "        text-align: right;\n",
       "    }\n",
       "</style>\n",
       "<table border=\"1\" class=\"dataframe\">\n",
       "  <thead>\n",
       "    <tr style=\"text-align: right;\">\n",
       "      <th></th>\n",
       "      <th>country</th>\n",
       "      <th>year</th>\n",
       "      <th>quantity</th>\n",
       "      <th>category</th>\n",
       "    </tr>\n",
       "  </thead>\n",
       "  <tbody>\n",
       "    <tr>\n",
       "      <th>0</th>\n",
       "      <td>Austria</td>\n",
       "      <td>1996</td>\n",
       "      <td>5.0</td>\n",
       "      <td>1</td>\n",
       "    </tr>\n",
       "    <tr>\n",
       "      <th>1</th>\n",
       "      <td>Austria</td>\n",
       "      <td>1995</td>\n",
       "      <td>17.0</td>\n",
       "      <td>1</td>\n",
       "    </tr>\n",
       "    <tr>\n",
       "      <th>2</th>\n",
       "      <td>Belgium</td>\n",
       "      <td>2014</td>\n",
       "      <td>0.0</td>\n",
       "      <td>1</td>\n",
       "    </tr>\n",
       "  </tbody>\n",
       "</table>\n",
       "</div>"
      ],
      "text/plain": [
       "   country  year  quantity  category\n",
       "0  Austria  1996       5.0         1\n",
       "1  Austria  1995      17.0         1\n",
       "2  Belgium  2014       0.0         1"
      ]
     },
     "metadata": {},
     "output_type": "display_data"
    },
    {
     "data": {
      "text/plain": [
       "'Имя файла:transactions.csv'"
      ]
     },
     "metadata": {},
     "output_type": "display_data"
    },
    {
     "data": {
      "text/html": [
       "<div>\n",
       "<style scoped>\n",
       "    .dataframe tbody tr th:only-of-type {\n",
       "        vertical-align: middle;\n",
       "    }\n",
       "\n",
       "    .dataframe tbody tr th {\n",
       "        vertical-align: top;\n",
       "    }\n",
       "\n",
       "    .dataframe thead th {\n",
       "        text-align: right;\n",
       "    }\n",
       "</style>\n",
       "<table border=\"1\" class=\"dataframe\">\n",
       "  <thead>\n",
       "    <tr style=\"text-align: right;\">\n",
       "      <th></th>\n",
       "      <th>Year</th>\n",
       "      <th>Month</th>\n",
       "      <th>ID</th>\n",
       "      <th>Product</th>\n",
       "      <th>Amount</th>\n",
       "      <th>Price</th>\n",
       "      <th>Total</th>\n",
       "      <th>Cost</th>\n",
       "    </tr>\n",
       "  </thead>\n",
       "  <tbody>\n",
       "    <tr>\n",
       "      <th>0</th>\n",
       "      <td>2017</td>\n",
       "      <td>1</td>\n",
       "      <td>t001</td>\n",
       "      <td>A1</td>\n",
       "      <td>7</td>\n",
       "      <td>2904</td>\n",
       "      <td>20328</td>\n",
       "      <td>1200</td>\n",
       "    </tr>\n",
       "    <tr>\n",
       "      <th>1</th>\n",
       "      <td>2017</td>\n",
       "      <td>1</td>\n",
       "      <td>t002</td>\n",
       "      <td>A2</td>\n",
       "      <td>2</td>\n",
       "      <td>1896</td>\n",
       "      <td>3792</td>\n",
       "      <td>1100</td>\n",
       "    </tr>\n",
       "    <tr>\n",
       "      <th>2</th>\n",
       "      <td>2017</td>\n",
       "      <td>2</td>\n",
       "      <td>t003</td>\n",
       "      <td>A1</td>\n",
       "      <td>5</td>\n",
       "      <td>2904</td>\n",
       "      <td>14520</td>\n",
       "      <td>1200</td>\n",
       "    </tr>\n",
       "  </tbody>\n",
       "</table>\n",
       "</div>"
      ],
      "text/plain": [
       "   Year  Month    ID Product  Amount  Price  Total  Cost\n",
       "0  2017      1  t001      A1       7   2904  20328  1200\n",
       "1  2017      1  t002      A2       2   1896   3792  1100\n",
       "2  2017      2  t003      A1       5   2904  14520  1200"
      ]
     },
     "metadata": {},
     "output_type": "display_data"
    },
    {
     "data": {
      "text/plain": [
       "'Имя файла:keywords.csv'"
      ]
     },
     "metadata": {},
     "output_type": "display_data"
    },
    {
     "data": {
      "text/html": [
       "<div>\n",
       "<style scoped>\n",
       "    .dataframe tbody tr th:only-of-type {\n",
       "        vertical-align: middle;\n",
       "    }\n",
       "\n",
       "    .dataframe tbody tr th {\n",
       "        vertical-align: top;\n",
       "    }\n",
       "\n",
       "    .dataframe thead th {\n",
       "        text-align: right;\n",
       "    }\n",
       "</style>\n",
       "<table border=\"1\" class=\"dataframe\">\n",
       "  <thead>\n",
       "    <tr style=\"text-align: right;\">\n",
       "      <th></th>\n",
       "      <th>keyword</th>\n",
       "      <th>shows</th>\n",
       "    </tr>\n",
       "  </thead>\n",
       "  <tbody>\n",
       "    <tr>\n",
       "      <th>0</th>\n",
       "      <td>вк</td>\n",
       "      <td>64292779</td>\n",
       "    </tr>\n",
       "    <tr>\n",
       "      <th>1</th>\n",
       "      <td>одноклассники</td>\n",
       "      <td>63810309</td>\n",
       "    </tr>\n",
       "    <tr>\n",
       "      <th>2</th>\n",
       "      <td>порно</td>\n",
       "      <td>41747114</td>\n",
       "    </tr>\n",
       "  </tbody>\n",
       "</table>\n",
       "</div>"
      ],
      "text/plain": [
       "         keyword     shows\n",
       "0             вк  64292779\n",
       "1  одноклассники  63810309\n",
       "2          порно  41747114"
      ]
     },
     "metadata": {},
     "output_type": "display_data"
    },
    {
     "data": {
      "text/plain": [
       "'Имя файла:sales_db.csv'"
      ]
     },
     "metadata": {},
     "output_type": "display_data"
    },
    {
     "data": {
      "text/html": [
       "<div>\n",
       "<style scoped>\n",
       "    .dataframe tbody tr th:only-of-type {\n",
       "        vertical-align: middle;\n",
       "    }\n",
       "\n",
       "    .dataframe tbody tr th {\n",
       "        vertical-align: top;\n",
       "    }\n",
       "\n",
       "    .dataframe thead th {\n",
       "        text-align: right;\n",
       "    }\n",
       "</style>\n",
       "<table border=\"1\" class=\"dataframe\">\n",
       "  <thead>\n",
       "    <tr style=\"text-align: right;\">\n",
       "      <th></th>\n",
       "      <th>user_id</th>\n",
       "      <th>category</th>\n",
       "      <th>cost</th>\n",
       "    </tr>\n",
       "  </thead>\n",
       "  <tbody>\n",
       "    <tr>\n",
       "      <th>0</th>\n",
       "      <td>1</td>\n",
       "      <td>Электроника</td>\n",
       "      <td>87</td>\n",
       "    </tr>\n",
       "    <tr>\n",
       "      <th>1</th>\n",
       "      <td>1</td>\n",
       "      <td>Дача</td>\n",
       "      <td>10</td>\n",
       "    </tr>\n",
       "    <tr>\n",
       "      <th>2</th>\n",
       "      <td>1</td>\n",
       "      <td>Дети</td>\n",
       "      <td>2</td>\n",
       "    </tr>\n",
       "  </tbody>\n",
       "</table>\n",
       "</div>"
      ],
      "text/plain": [
       "   user_id     category  cost\n",
       "0        1  Электроника    87\n",
       "1        1         Дача    10\n",
       "2        1         Дети     2"
      ]
     },
     "metadata": {},
     "output_type": "display_data"
    }
   ],
   "source": [
    "for i,n in enumerate(task_2_files):\n",
    "    display('Имя файла:' + n, (pd.read_csv(os.getcwd() + '/Основы_pandas/' + task_2_files[i]).head(3)))"
   ]
  },
  {
   "cell_type": "code",
   "execution_count": 9,
   "id": "75eac0e4",
   "metadata": {},
   "outputs": [],
   "source": [
    "power = pd.read_csv(os.getcwd() + '/Основы_pandas/' + task_2_files[1])"
   ]
  },
  {
   "cell_type": "markdown",
   "id": "46694fd1",
   "metadata": {},
   "source": [
    "Проверим отсортированный список стран"
   ]
  },
  {
   "cell_type": "code",
   "execution_count": 10,
   "id": "92e022a8",
   "metadata": {},
   "outputs": [
    {
     "data": {
      "text/plain": [
       "array(['Afghanistan', 'Albania', 'Algeria', 'American Samoa', 'Andorra',\n",
       "       'Angola', 'Anguilla', 'Antarctic Fisheries', 'Antigua and Barbuda',\n",
       "       'Argentina', 'Armenia', 'Aruba', 'Australia', 'Austria',\n",
       "       'Azerbaijan', 'Bahamas', 'Bahrain', 'Bangladesh', 'Barbados',\n",
       "       'Belarus', 'Belgium', 'Belize', 'Benin', 'Bermuda', 'Bhutan',\n",
       "       'Bolivia (Plur. State of)', 'Bonaire, St Eustatius, Saba',\n",
       "       'Bosnia and Herzegovina', 'Botswana', 'Brazil',\n",
       "       'British Virgin Islands', 'Brunei Darussalam', 'Bulgaria',\n",
       "       'Burkina Faso', 'Burundi', 'Cabo Verde', 'Cambodia', 'Cameroon',\n",
       "       'Canada', 'Cayman Islands', 'Central African Rep.', 'Chad',\n",
       "       'Chile', 'China', 'China, Hong Kong SAR', 'China, Macao SAR',\n",
       "       'Colombia', 'Commonwealth of Independent States (CIS)', 'Comoros',\n",
       "       'Congo', 'Cook Islands', 'Costa Rica', 'Croatia', 'Cuba',\n",
       "       'Curaçao', 'Cyprus', 'Czechia', 'Czechoslovakia (former)',\n",
       "       \"Côte d'Ivoire\", 'Dem. Rep. of the Congo', 'Denmark', 'Djibouti',\n",
       "       'Dominica', 'Dominican Republic', 'Ecuador', 'Egypt',\n",
       "       'El Salvador', 'Equatorial Guinea', 'Eritrea', 'Estonia',\n",
       "       'Ethiopia', 'Ethiopia, incl. Eritrea', 'Faeroe Islands',\n",
       "       'Falkland Is. (Malvinas)', 'Fiji', 'Finland', 'France',\n",
       "       'French Guiana', 'French Polynesia', 'Gabon', 'Gambia', 'Georgia',\n",
       "       'German Dem. R. (former)', 'Germany', 'Germany, Fed. R. (former)',\n",
       "       'Ghana', 'Gibraltar', 'Greece', 'Greenland', 'Grenada',\n",
       "       'Guadeloupe', 'Guam', 'Guatemala', 'Guernsey', 'Guinea',\n",
       "       'Guinea-Bissau', 'Guyana', 'Haiti', 'Honduras', 'Hungary',\n",
       "       'Iceland', 'India', 'Indonesia', 'Iran (Islamic Rep. of)', 'Iraq',\n",
       "       'Ireland', 'Isle of Man', 'Israel', 'Italy', 'Jamaica', 'Japan',\n",
       "       'Jersey', 'Jordan', 'Kazakhstan', 'Kenya', 'Kiribati',\n",
       "       \"Korea, Dem.Ppl's.Rep.\", 'Korea, Republic of', 'Kuwait',\n",
       "       'Kyrgyzstan', \"Lao People's Dem. Rep.\", 'Latvia', 'Lebanon',\n",
       "       'Lesotho', 'Liberia', 'Libya', 'Liechtenstein', 'Lithuania',\n",
       "       'Luxembourg', 'Madagascar', 'Malawi', 'Malaysia', 'Maldives',\n",
       "       'Mali', 'Malta', 'Marshall Islands', 'Martinique', 'Mauritania',\n",
       "       'Mauritius', 'Mayotte', 'Mexico', 'Micronesia (Fed. States of)',\n",
       "       'Mongolia', 'Montenegro', 'Montserrat', 'Morocco', 'Mozambique',\n",
       "       'Myanmar', 'Namibia', 'Nauru', 'Nepal', 'Neth. Antilles (former)',\n",
       "       'Netherlands', 'New Caledonia', 'New Zealand', 'Nicaragua',\n",
       "       'Niger', 'Nigeria', 'Niue', 'Northern Mariana Islands', 'Norway',\n",
       "       'Oman', 'Other Asia', 'Pacific Islands (former)', 'Pakistan',\n",
       "       'Palau', 'Panama', 'Papua New Guinea', 'Paraguay', 'Peru',\n",
       "       'Philippines', 'Poland', 'Portugal', 'Puerto Rico', 'Qatar',\n",
       "       'Republic of Moldova', 'Romania', 'Russian Federation', 'Rwanda',\n",
       "       'Réunion', 'Samoa', 'Sao Tome and Principe', 'Saudi Arabia',\n",
       "       'Senegal', 'Serbia', 'Serbia and Montenegro', 'Seychelles',\n",
       "       'Sierra Leone', 'Singapore', 'Sint Maarten (Dutch part)',\n",
       "       'Slovakia', 'Slovenia', 'Solomon Islands', 'Somalia',\n",
       "       'South Africa', 'South Sudan', 'Spain', 'Sri Lanka',\n",
       "       'St. Helena and Depend.', 'St. Kitts-Nevis', 'St. Lucia',\n",
       "       'St. Pierre-Miquelon', 'St. Vincent-Grenadines',\n",
       "       'State of Palestine', 'Sudan', 'Sudan (former)', 'Suriname',\n",
       "       'Swaziland', 'Sweden', 'Switzerland', 'Syrian Arab Republic',\n",
       "       'T.F.Yug.Rep. Macedonia', 'Tajikistan', 'Thailand', 'Timor-Leste',\n",
       "       'Togo', 'Tonga', 'Trinidad and Tobago', 'Tunisia', 'Turkey',\n",
       "       'Turkmenistan', 'Turks and Caicos Islands', 'Tuvalu',\n",
       "       'USSR (former)', 'Uganda', 'Ukraine', 'United Arab Emirates',\n",
       "       'United Kingdom', 'United Rep. of Tanzania', 'United States',\n",
       "       'United States Virgin Is.', 'Uruguay', 'Uzbekistan', 'Vanuatu',\n",
       "       'Venezuela (Bolivar. Rep.)', 'Viet Nam', 'Wallis and Futuna Is.',\n",
       "       'Yemen', 'Yemen Arab Rep. (former)', 'Yemen, Dem. (former)',\n",
       "       'Yugoslavia, SFR (former)', 'Zambia', 'Zimbabwe'], dtype=object)"
      ]
     },
     "execution_count": 10,
     "metadata": {},
     "output_type": "execute_result"
    }
   ],
   "source": [
    "np.sort(power['country'].unique())"
   ]
  },
  {
   "cell_type": "markdown",
   "id": "be177209",
   "metadata": {},
   "source": [
    "Проверим список с отфильтрованными странами"
   ]
  },
  {
   "cell_type": "code",
   "execution_count": 11,
   "id": "fc99f7dd",
   "metadata": {},
   "outputs": [
    {
     "data": {
      "text/plain": [
       "array(['Lithuania', 'Latvia', 'Estonia'], dtype=object)"
      ]
     },
     "execution_count": 11,
     "metadata": {},
     "output_type": "execute_result"
    }
   ],
   "source": [
    "power[\n",
    "    power['country'].str.contains('lat|lit|esto', case=False)\n",
    "]['country'].unique()"
   ]
  },
  {
   "cell_type": "markdown",
   "id": "bc289fa7",
   "metadata": {},
   "source": [
    "Получим суммарное потребление стран Прибалтики согласно условию двумя способами:  \n",
    "- фильтруя страны по нескольким буквам\n",
    "- фильтруя страны по полным названиям"
   ]
  },
  {
   "cell_type": "code",
   "execution_count": 12,
   "id": "ccf7b80e",
   "metadata": {},
   "outputs": [
    {
     "data": {
      "text/plain": [
       "240580.0"
      ]
     },
     "execution_count": 12,
     "metadata": {},
     "output_type": "execute_result"
    }
   ],
   "source": [
    "power[\n",
    "    power['country'].str.contains('lat|lit|esto', case=False)\n",
    "].query('2005 <=year <= 2010 & quantity > 0 & category in [4,12,21]')['quantity'].sum()"
   ]
  },
  {
   "cell_type": "code",
   "execution_count": 13,
   "id": "a2097801",
   "metadata": {},
   "outputs": [
    {
     "data": {
      "text/plain": [
       "240580.0"
      ]
     },
     "execution_count": 13,
     "metadata": {},
     "output_type": "execute_result"
    }
   ],
   "source": [
    "power[\n",
    "    power['country'].isin(['Lithuania', 'Latvia', 'Estonia'])\n",
    "].query('2005 <=year <= 2010 & quantity > 0 & category in [4,12,21]')['quantity'].sum()"
   ]
  },
  {
   "cell_type": "markdown",
   "id": "a533830a",
   "metadata": {},
   "source": [
    "#### Задание 3\n",
    "Выберите страницу любого сайта с табличными данными. Импортируйте таблицы в pandas dataframe.\n",
    "Примеры страниц (необязательно брать именно эти):  \n",
    "https://fortrader.org/currencyrates  \n",
    "https://www.finanz.ru/aktsii/realnom-vremeni-spisok/nasdaq_100"
   ]
  },
  {
   "cell_type": "code",
   "execution_count": 14,
   "id": "2b59a073",
   "metadata": {},
   "outputs": [],
   "source": [
    "url_1 = \"https://fortrader.org/currencyrates\"\n",
    "url_2 = \"https://www.finanz.ru/aktsii/realnom-vremeni-spisok/nasdaq_100\""
   ]
  },
  {
   "cell_type": "code",
   "execution_count": 15,
   "id": "315ffd47",
   "metadata": {},
   "outputs": [],
   "source": [
    "fortrader = pd.read_html(url_1, encoding='utf-8')[0]"
   ]
  },
  {
   "cell_type": "code",
   "execution_count": 16,
   "id": "b5f6943e",
   "metadata": {},
   "outputs": [
    {
     "data": {
      "text/html": [
       "<div>\n",
       "<style scoped>\n",
       "    .dataframe tbody tr th:only-of-type {\n",
       "        vertical-align: middle;\n",
       "    }\n",
       "\n",
       "    .dataframe tbody tr th {\n",
       "        vertical-align: top;\n",
       "    }\n",
       "\n",
       "    .dataframe thead th {\n",
       "        text-align: right;\n",
       "    }\n",
       "</style>\n",
       "<table border=\"1\" class=\"dataframe\">\n",
       "  <thead>\n",
       "    <tr style=\"text-align: right;\">\n",
       "      <th></th>\n",
       "      <th>Код</th>\n",
       "      <th>Количество</th>\n",
       "      <th>Название</th>\n",
       "      <th>RUB</th>\n",
       "      <th>Изменение</th>\n",
       "    </tr>\n",
       "  </thead>\n",
       "  <tbody>\n",
       "    <tr>\n",
       "      <th>0</th>\n",
       "      <td>USD</td>\n",
       "      <td>1</td>\n",
       "      <td>Доллар США</td>\n",
       "      <td>66.2378</td>\n",
       "      <td>-3.1782</td>\n",
       "    </tr>\n",
       "    <tr>\n",
       "      <th>1</th>\n",
       "      <td>EUR</td>\n",
       "      <td>1</td>\n",
       "      <td>Евро</td>\n",
       "      <td>70.0662</td>\n",
       "      <td>-2.7153</td>\n",
       "    </tr>\n",
       "    <tr>\n",
       "      <th>2</th>\n",
       "      <td>CNY</td>\n",
       "      <td>10</td>\n",
       "      <td>Китайский юань</td>\n",
       "      <td>99.9646</td>\n",
       "      <td>89.4769</td>\n",
       "    </tr>\n",
       "    <tr>\n",
       "      <th>3</th>\n",
       "      <td>TJS</td>\n",
       "      <td>10</td>\n",
       "      <td>Таджикский сомони</td>\n",
       "      <td>53.0114</td>\n",
       "      <td>-2.5436</td>\n",
       "    </tr>\n",
       "    <tr>\n",
       "      <th>4</th>\n",
       "      <td>GBP</td>\n",
       "      <td>1</td>\n",
       "      <td>Фунт стерлингов</td>\n",
       "      <td>82.7906</td>\n",
       "      <td>-4.0766</td>\n",
       "    </tr>\n",
       "    <tr>\n",
       "      <th>5</th>\n",
       "      <td>KZT</td>\n",
       "      <td>100</td>\n",
       "      <td>Казахстанский тенге</td>\n",
       "      <td>15.1626</td>\n",
       "      <td>-0.5552</td>\n",
       "    </tr>\n",
       "    <tr>\n",
       "      <th>6</th>\n",
       "      <td>TRY</td>\n",
       "      <td>10</td>\n",
       "      <td>Турецкая лира</td>\n",
       "      <td>44.7598</td>\n",
       "      <td>-2.1477</td>\n",
       "    </tr>\n",
       "    <tr>\n",
       "      <th>7</th>\n",
       "      <td>UAH</td>\n",
       "      <td>10</td>\n",
       "      <td>Украинская гривна</td>\n",
       "      <td>22.4185</td>\n",
       "      <td>-1.0757</td>\n",
       "    </tr>\n",
       "    <tr>\n",
       "      <th>8</th>\n",
       "      <td>PLN</td>\n",
       "      <td>1</td>\n",
       "      <td>Польский злотый</td>\n",
       "      <td>14.9951</td>\n",
       "      <td>-0.6205</td>\n",
       "    </tr>\n",
       "    <tr>\n",
       "      <th>9</th>\n",
       "      <td>BYN</td>\n",
       "      <td>1</td>\n",
       "      <td>Белорусский рубль</td>\n",
       "      <td>26.0031</td>\n",
       "      <td>-0.6288</td>\n",
       "    </tr>\n",
       "  </tbody>\n",
       "</table>\n",
       "</div>"
      ],
      "text/plain": [
       "   Код  Количество             Название      RUB  Изменение\n",
       "0  USD           1           Доллар США  66.2378    -3.1782\n",
       "1  EUR           1                 Евро  70.0662    -2.7153\n",
       "2  CNY          10       Китайский юань  99.9646    89.4769\n",
       "3  TJS          10    Таджикский сомони  53.0114    -2.5436\n",
       "4  GBP           1      Фунт стерлингов  82.7906    -4.0766\n",
       "5  KZT         100  Казахстанский тенге  15.1626    -0.5552\n",
       "6  TRY          10        Турецкая лира  44.7598    -2.1477\n",
       "7  UAH          10    Украинская гривна  22.4185    -1.0757\n",
       "8  PLN           1      Польский злотый  14.9951    -0.6205\n",
       "9  BYN           1    Белорусский рубль  26.0031    -0.6288"
      ]
     },
     "execution_count": 16,
     "metadata": {},
     "output_type": "execute_result"
    }
   ],
   "source": [
    "fortrader.head(10)"
   ]
  },
  {
   "cell_type": "code",
   "execution_count": 17,
   "id": "073135d1",
   "metadata": {},
   "outputs": [
    {
     "data": {
      "text/html": [
       "<div>\n",
       "<style scoped>\n",
       "    .dataframe tbody tr th:only-of-type {\n",
       "        vertical-align: middle;\n",
       "    }\n",
       "\n",
       "    .dataframe tbody tr th {\n",
       "        vertical-align: top;\n",
       "    }\n",
       "\n",
       "    .dataframe thead th {\n",
       "        text-align: right;\n",
       "    }\n",
       "</style>\n",
       "<table border=\"1\" class=\"dataframe\">\n",
       "  <thead>\n",
       "    <tr style=\"text-align: right;\">\n",
       "      <th></th>\n",
       "      <th>Unnamed: 0</th>\n",
       "      <th>Имя  function __handleSortingClick(componentName, fieldName, sortOrder) {  $.ajax({  url: \"/Ajax/IndexShareListForRealtime/Nasdaq_100\",  type: \"post\",  data: \"orderBy=\" + componentName + \":\" + fieldName + \":\" + sortOrder,  success: function (v, x) {  $('#index-list-container').html(v);  try { trackPI(); } catch (e) { }  },  error: function () {  }  });  }</th>\n",
       "      <th>ISIN</th>\n",
       "      <th>Пред. закр.</th>\n",
       "      <th>Посл. зн.</th>\n",
       "      <th>Объём</th>\n",
       "      <th>%</th>\n",
       "      <th>+/-</th>\n",
       "      <th>Время</th>\n",
       "    </tr>\n",
       "  </thead>\n",
       "  <tbody>\n",
       "    <tr>\n",
       "      <th>0</th>\n",
       "      <td>NaN</td>\n",
       "      <td>Activision Blizzard</td>\n",
       "      <td>US00507V1098</td>\n",
       "      <td>7876</td>\n",
       "      <td>7876</td>\n",
       "      <td>0</td>\n",
       "      <td>-0,61%</td>\n",
       "      <td>-48</td>\n",
       "      <td>05.05.2022</td>\n",
       "    </tr>\n",
       "    <tr>\n",
       "      <th>1</th>\n",
       "      <td>NaN</td>\n",
       "      <td>Adobe</td>\n",
       "      <td>US00724F1012</td>\n",
       "      <td>40051</td>\n",
       "      <td>40051</td>\n",
       "      <td>0</td>\n",
       "      <td>-5,40%</td>\n",
       "      <td>-2284</td>\n",
       "      <td>05.05.2022</td>\n",
       "    </tr>\n",
       "  </tbody>\n",
       "</table>\n",
       "</div>"
      ],
      "text/plain": [
       "   Unnamed: 0  \\\n",
       "0         NaN   \n",
       "1         NaN   \n",
       "\n",
       "  Имя  function __handleSortingClick(componentName, fieldName, sortOrder) {  $.ajax({  url: \"/Ajax/IndexShareListForRealtime/Nasdaq_100\",  type: \"post\",  data: \"orderBy=\" + componentName + \":\" + fieldName + \":\" + sortOrder,  success: function (v, x) {  $('#index-list-container').html(v);  try { trackPI(); } catch (e) { }  },  error: function () {  }  });  }  \\\n",
       "0                                Activision Blizzard                                                                                                                                                                                                                                                                                                                      \n",
       "1                                              Adobe                                                                                                                                                                                                                                                                                                                      \n",
       "\n",
       "           ISIN Пред. закр. Посл. зн.  Объём       %   +/-       Время  \n",
       "0  US00507V1098        7876      7876      0  -0,61%   -48  05.05.2022  \n",
       "1  US00724F1012       40051     40051      0  -5,40% -2284  05.05.2022  "
      ]
     },
     "execution_count": 17,
     "metadata": {},
     "output_type": "execute_result"
    }
   ],
   "source": [
    "finanz = pd.read_html(url_2, attrs={'class':'quote_list'}, encoding='utf-8')[0]\n",
    "finanz.head(2)"
   ]
  },
  {
   "cell_type": "markdown",
   "id": "488a8e79",
   "metadata": {},
   "source": [
    "Для `finanz` метод выводит странное название столбца __\"Имя\"__ и странный пустой столбец. Название столбца надо восстановить, от столбца __\"Unnamed: 0\"__ - избавиться"
   ]
  },
  {
   "cell_type": "code",
   "execution_count": 18,
   "id": "10273897",
   "metadata": {},
   "outputs": [],
   "source": [
    "finanz = pd.read_html(url_2, attrs={'class':'quote_list'}, encoding='utf-8', index_col=0)[0].reset_index(drop=True)"
   ]
  },
  {
   "cell_type": "code",
   "execution_count": 19,
   "id": "2aff85d8",
   "metadata": {},
   "outputs": [],
   "source": [
    "finanz.columns = ['Имя','ISIN', 'Пред. закр.', 'Посл. зн.', 'Объём', '%', '+/-', 'Время']"
   ]
  },
  {
   "cell_type": "code",
   "execution_count": 20,
   "id": "911b54f2",
   "metadata": {},
   "outputs": [
    {
     "data": {
      "text/html": [
       "<div>\n",
       "<style scoped>\n",
       "    .dataframe tbody tr th:only-of-type {\n",
       "        vertical-align: middle;\n",
       "    }\n",
       "\n",
       "    .dataframe tbody tr th {\n",
       "        vertical-align: top;\n",
       "    }\n",
       "\n",
       "    .dataframe thead th {\n",
       "        text-align: right;\n",
       "    }\n",
       "</style>\n",
       "<table border=\"1\" class=\"dataframe\">\n",
       "  <thead>\n",
       "    <tr style=\"text-align: right;\">\n",
       "      <th></th>\n",
       "      <th>Имя</th>\n",
       "      <th>ISIN</th>\n",
       "      <th>Пред. закр.</th>\n",
       "      <th>Посл. зн.</th>\n",
       "      <th>Объём</th>\n",
       "      <th>%</th>\n",
       "      <th>+/-</th>\n",
       "      <th>Время</th>\n",
       "    </tr>\n",
       "  </thead>\n",
       "  <tbody>\n",
       "    <tr>\n",
       "      <th>0</th>\n",
       "      <td>Activision Blizzard</td>\n",
       "      <td>US00507V1098</td>\n",
       "      <td>7876</td>\n",
       "      <td>7876</td>\n",
       "      <td>0</td>\n",
       "      <td>-0,61%</td>\n",
       "      <td>-48</td>\n",
       "      <td>05.05.2022</td>\n",
       "    </tr>\n",
       "    <tr>\n",
       "      <th>1</th>\n",
       "      <td>Adobe</td>\n",
       "      <td>US00724F1012</td>\n",
       "      <td>40051</td>\n",
       "      <td>40051</td>\n",
       "      <td>0</td>\n",
       "      <td>-5,40%</td>\n",
       "      <td>-2284</td>\n",
       "      <td>05.05.2022</td>\n",
       "    </tr>\n",
       "    <tr>\n",
       "      <th>2</th>\n",
       "      <td>Align Technology</td>\n",
       "      <td>US0162551016</td>\n",
       "      <td>28372</td>\n",
       "      <td>28372</td>\n",
       "      <td>0</td>\n",
       "      <td>-8,74%</td>\n",
       "      <td>-2717</td>\n",
       "      <td>05.05.2022</td>\n",
       "    </tr>\n",
       "    <tr>\n",
       "      <th>3</th>\n",
       "      <td>Alphabet A</td>\n",
       "      <td>US02079K3059</td>\n",
       "      <td>2 330,11</td>\n",
       "      <td>2 330,11</td>\n",
       "      <td>0</td>\n",
       "      <td>-4,71%</td>\n",
       "      <td>-11511</td>\n",
       "      <td>05.05.2022</td>\n",
       "    </tr>\n",
       "    <tr>\n",
       "      <th>4</th>\n",
       "      <td>Alphabet C</td>\n",
       "      <td>US02079K1079</td>\n",
       "      <td>2 334,93</td>\n",
       "      <td>2 334,93</td>\n",
       "      <td>0</td>\n",
       "      <td>-4,76%</td>\n",
       "      <td>-11657</td>\n",
       "      <td>05.05.2022</td>\n",
       "    </tr>\n",
       "    <tr>\n",
       "      <th>5</th>\n",
       "      <td>Amazon</td>\n",
       "      <td>US0231351067</td>\n",
       "      <td>2 328,14</td>\n",
       "      <td>2 328,14</td>\n",
       "      <td>0</td>\n",
       "      <td>-7,56%</td>\n",
       "      <td>-19043</td>\n",
       "      <td>05.05.2022</td>\n",
       "    </tr>\n",
       "    <tr>\n",
       "      <th>6</th>\n",
       "      <td>AMD</td>\n",
       "      <td>US0079031078</td>\n",
       "      <td>9387</td>\n",
       "      <td>9387</td>\n",
       "      <td>0</td>\n",
       "      <td>-5,58%</td>\n",
       "      <td>-555</td>\n",
       "      <td>05.05.2022</td>\n",
       "    </tr>\n",
       "    <tr>\n",
       "      <th>7</th>\n",
       "      <td>American Electric Power</td>\n",
       "      <td>US0255371017</td>\n",
       "      <td>9966</td>\n",
       "      <td>9966</td>\n",
       "      <td>0</td>\n",
       "      <td>-1,05%</td>\n",
       "      <td>-106</td>\n",
       "      <td>05.05.2022</td>\n",
       "    </tr>\n",
       "    <tr>\n",
       "      <th>8</th>\n",
       "      <td>Amgen</td>\n",
       "      <td>US0311621009</td>\n",
       "      <td>23435</td>\n",
       "      <td>23435</td>\n",
       "      <td>0</td>\n",
       "      <td>-0,74%</td>\n",
       "      <td>-175</td>\n",
       "      <td>05.05.2022</td>\n",
       "    </tr>\n",
       "    <tr>\n",
       "      <th>9</th>\n",
       "      <td>Analog Devices</td>\n",
       "      <td>US0326541051</td>\n",
       "      <td>15824</td>\n",
       "      <td>15824</td>\n",
       "      <td>0</td>\n",
       "      <td>-3,96%</td>\n",
       "      <td>-653</td>\n",
       "      <td>05.05.2022</td>\n",
       "    </tr>\n",
       "  </tbody>\n",
       "</table>\n",
       "</div>"
      ],
      "text/plain": [
       "                       Имя          ISIN Пред. закр. Посл. зн.  Объём       %  \\\n",
       "0      Activision Blizzard  US00507V1098        7876      7876      0  -0,61%   \n",
       "1                    Adobe  US00724F1012       40051     40051      0  -5,40%   \n",
       "2         Align Technology  US0162551016       28372     28372      0  -8,74%   \n",
       "3               Alphabet A  US02079K3059    2 330,11  2 330,11      0  -4,71%   \n",
       "4               Alphabet C  US02079K1079    2 334,93  2 334,93      0  -4,76%   \n",
       "5                   Amazon  US0231351067    2 328,14  2 328,14      0  -7,56%   \n",
       "6                      AMD  US0079031078        9387      9387      0  -5,58%   \n",
       "7  American Electric Power  US0255371017        9966      9966      0  -1,05%   \n",
       "8                    Amgen  US0311621009       23435     23435      0  -0,74%   \n",
       "9           Analog Devices  US0326541051       15824     15824      0  -3,96%   \n",
       "\n",
       "     +/-       Время  \n",
       "0    -48  05.05.2022  \n",
       "1  -2284  05.05.2022  \n",
       "2  -2717  05.05.2022  \n",
       "3 -11511  05.05.2022  \n",
       "4 -11657  05.05.2022  \n",
       "5 -19043  05.05.2022  \n",
       "6   -555  05.05.2022  \n",
       "7   -106  05.05.2022  \n",
       "8   -175  05.05.2022  \n",
       "9   -653  05.05.2022  "
      ]
     },
     "execution_count": 20,
     "metadata": {},
     "output_type": "execute_result"
    }
   ],
   "source": [
    "finanz.head(10)"
   ]
  }
 ],
 "metadata": {
  "kernelspec": {
   "display_name": "Python 3 (ipykernel)",
   "language": "python",
   "name": "python3"
  },
  "language_info": {
   "codemirror_mode": {
    "name": "ipython",
    "version": 3
   },
   "file_extension": ".py",
   "mimetype": "text/x-python",
   "name": "python",
   "nbconvert_exporter": "python",
   "pygments_lexer": "ipython3",
   "version": "3.9.7"
  }
 },
 "nbformat": 4,
 "nbformat_minor": 5
}
