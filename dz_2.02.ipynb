{
 "cells": [
  {
   "cell_type": "markdown",
   "id": "e589382b",
   "metadata": {},
   "source": [
    "### Домашнее задание №2 к лекции «Библиотека Pandas»\n"
   ]
  },
  {
   "cell_type": "code",
   "execution_count": 1,
   "id": "ed03b14e",
   "metadata": {},
   "outputs": [],
   "source": [
    "import pandas as pd\n",
    "import numpy as np\n",
    "import os"
   ]
  },
  {
   "cell_type": "markdown",
   "id": "f744adcc",
   "metadata": {},
   "source": [
    "#### Задание 1\n",
    "Скачайте с сайта https://grouplens.org/datasets/movielens/ датасет любого размера. Определите, какому фильму было выставлено больше всего оценок 5.0."
   ]
  },
  {
   "cell_type": "markdown",
   "id": "b364a5a5",
   "metadata": {},
   "source": [
    "Сперва посмотрим какие в этих папках файлы и вспомним библиотеку __`os`__  \n",
    "Что бы не забивать ноутбук выводить `info` получаемых датафреймов не будем"
   ]
  },
  {
   "cell_type": "code",
   "execution_count": 2,
   "id": "1f1ae872",
   "metadata": {},
   "outputs": [
    {
     "data": {
      "text/plain": [
       "['links.csv',\n",
       " 'tags.csv',\n",
       " 'genome-tags.csv',\n",
       " 'ratings.csv',\n",
       " 'genome-scores.csv',\n",
       " 'movies.csv']"
      ]
     },
     "execution_count": 2,
     "metadata": {},
     "output_type": "execute_result"
    }
   ],
   "source": [
    "task_1_files = [file for file in os.listdir('ml-latest') if '.csv' in file]\n",
    "task_1_files"
   ]
  },
  {
   "cell_type": "code",
   "execution_count": 3,
   "id": "1b6bf164",
   "metadata": {},
   "outputs": [
    {
     "data": {
      "text/plain": [
       "'Имя файла:links.csv'"
      ]
     },
     "metadata": {},
     "output_type": "display_data"
    },
    {
     "data": {
      "text/html": [
       "<div>\n",
       "<style scoped>\n",
       "    .dataframe tbody tr th:only-of-type {\n",
       "        vertical-align: middle;\n",
       "    }\n",
       "\n",
       "    .dataframe tbody tr th {\n",
       "        vertical-align: top;\n",
       "    }\n",
       "\n",
       "    .dataframe thead th {\n",
       "        text-align: right;\n",
       "    }\n",
       "</style>\n",
       "<table border=\"1\" class=\"dataframe\">\n",
       "  <thead>\n",
       "    <tr style=\"text-align: right;\">\n",
       "      <th></th>\n",
       "      <th>movieId</th>\n",
       "      <th>imdbId</th>\n",
       "      <th>tmdbId</th>\n",
       "    </tr>\n",
       "  </thead>\n",
       "  <tbody>\n",
       "    <tr>\n",
       "      <th>0</th>\n",
       "      <td>1</td>\n",
       "      <td>114709</td>\n",
       "      <td>862.0</td>\n",
       "    </tr>\n",
       "    <tr>\n",
       "      <th>1</th>\n",
       "      <td>2</td>\n",
       "      <td>113497</td>\n",
       "      <td>8844.0</td>\n",
       "    </tr>\n",
       "    <tr>\n",
       "      <th>2</th>\n",
       "      <td>3</td>\n",
       "      <td>113228</td>\n",
       "      <td>15602.0</td>\n",
       "    </tr>\n",
       "  </tbody>\n",
       "</table>\n",
       "</div>"
      ],
      "text/plain": [
       "   movieId  imdbId   tmdbId\n",
       "0        1  114709    862.0\n",
       "1        2  113497   8844.0\n",
       "2        3  113228  15602.0"
      ]
     },
     "metadata": {},
     "output_type": "display_data"
    },
    {
     "data": {
      "text/plain": [
       "'Имя файла:tags.csv'"
      ]
     },
     "metadata": {},
     "output_type": "display_data"
    },
    {
     "data": {
      "text/html": [
       "<div>\n",
       "<style scoped>\n",
       "    .dataframe tbody tr th:only-of-type {\n",
       "        vertical-align: middle;\n",
       "    }\n",
       "\n",
       "    .dataframe tbody tr th {\n",
       "        vertical-align: top;\n",
       "    }\n",
       "\n",
       "    .dataframe thead th {\n",
       "        text-align: right;\n",
       "    }\n",
       "</style>\n",
       "<table border=\"1\" class=\"dataframe\">\n",
       "  <thead>\n",
       "    <tr style=\"text-align: right;\">\n",
       "      <th></th>\n",
       "      <th>userId</th>\n",
       "      <th>movieId</th>\n",
       "      <th>tag</th>\n",
       "      <th>timestamp</th>\n",
       "    </tr>\n",
       "  </thead>\n",
       "  <tbody>\n",
       "    <tr>\n",
       "      <th>0</th>\n",
       "      <td>14</td>\n",
       "      <td>110</td>\n",
       "      <td>epic</td>\n",
       "      <td>1443148538</td>\n",
       "    </tr>\n",
       "    <tr>\n",
       "      <th>1</th>\n",
       "      <td>14</td>\n",
       "      <td>110</td>\n",
       "      <td>Medieval</td>\n",
       "      <td>1443148532</td>\n",
       "    </tr>\n",
       "    <tr>\n",
       "      <th>2</th>\n",
       "      <td>14</td>\n",
       "      <td>260</td>\n",
       "      <td>sci-fi</td>\n",
       "      <td>1442169410</td>\n",
       "    </tr>\n",
       "  </tbody>\n",
       "</table>\n",
       "</div>"
      ],
      "text/plain": [
       "   userId  movieId       tag   timestamp\n",
       "0      14      110      epic  1443148538\n",
       "1      14      110  Medieval  1443148532\n",
       "2      14      260    sci-fi  1442169410"
      ]
     },
     "metadata": {},
     "output_type": "display_data"
    },
    {
     "data": {
      "text/plain": [
       "'Имя файла:genome-tags.csv'"
      ]
     },
     "metadata": {},
     "output_type": "display_data"
    },
    {
     "data": {
      "text/html": [
       "<div>\n",
       "<style scoped>\n",
       "    .dataframe tbody tr th:only-of-type {\n",
       "        vertical-align: middle;\n",
       "    }\n",
       "\n",
       "    .dataframe tbody tr th {\n",
       "        vertical-align: top;\n",
       "    }\n",
       "\n",
       "    .dataframe thead th {\n",
       "        text-align: right;\n",
       "    }\n",
       "</style>\n",
       "<table border=\"1\" class=\"dataframe\">\n",
       "  <thead>\n",
       "    <tr style=\"text-align: right;\">\n",
       "      <th></th>\n",
       "      <th>tagId</th>\n",
       "      <th>tag</th>\n",
       "    </tr>\n",
       "  </thead>\n",
       "  <tbody>\n",
       "    <tr>\n",
       "      <th>0</th>\n",
       "      <td>1</td>\n",
       "      <td>007</td>\n",
       "    </tr>\n",
       "    <tr>\n",
       "      <th>1</th>\n",
       "      <td>2</td>\n",
       "      <td>007 (series)</td>\n",
       "    </tr>\n",
       "    <tr>\n",
       "      <th>2</th>\n",
       "      <td>3</td>\n",
       "      <td>18th century</td>\n",
       "    </tr>\n",
       "  </tbody>\n",
       "</table>\n",
       "</div>"
      ],
      "text/plain": [
       "   tagId           tag\n",
       "0      1           007\n",
       "1      2  007 (series)\n",
       "2      3  18th century"
      ]
     },
     "metadata": {},
     "output_type": "display_data"
    },
    {
     "data": {
      "text/plain": [
       "'Имя файла:ratings.csv'"
      ]
     },
     "metadata": {},
     "output_type": "display_data"
    },
    {
     "data": {
      "text/html": [
       "<div>\n",
       "<style scoped>\n",
       "    .dataframe tbody tr th:only-of-type {\n",
       "        vertical-align: middle;\n",
       "    }\n",
       "\n",
       "    .dataframe tbody tr th {\n",
       "        vertical-align: top;\n",
       "    }\n",
       "\n",
       "    .dataframe thead th {\n",
       "        text-align: right;\n",
       "    }\n",
       "</style>\n",
       "<table border=\"1\" class=\"dataframe\">\n",
       "  <thead>\n",
       "    <tr style=\"text-align: right;\">\n",
       "      <th></th>\n",
       "      <th>userId</th>\n",
       "      <th>movieId</th>\n",
       "      <th>rating</th>\n",
       "      <th>timestamp</th>\n",
       "    </tr>\n",
       "  </thead>\n",
       "  <tbody>\n",
       "    <tr>\n",
       "      <th>0</th>\n",
       "      <td>1</td>\n",
       "      <td>307</td>\n",
       "      <td>3.5</td>\n",
       "      <td>1256677221</td>\n",
       "    </tr>\n",
       "    <tr>\n",
       "      <th>1</th>\n",
       "      <td>1</td>\n",
       "      <td>481</td>\n",
       "      <td>3.5</td>\n",
       "      <td>1256677456</td>\n",
       "    </tr>\n",
       "    <tr>\n",
       "      <th>2</th>\n",
       "      <td>1</td>\n",
       "      <td>1091</td>\n",
       "      <td>1.5</td>\n",
       "      <td>1256677471</td>\n",
       "    </tr>\n",
       "  </tbody>\n",
       "</table>\n",
       "</div>"
      ],
      "text/plain": [
       "   userId  movieId  rating   timestamp\n",
       "0       1      307     3.5  1256677221\n",
       "1       1      481     3.5  1256677456\n",
       "2       1     1091     1.5  1256677471"
      ]
     },
     "metadata": {},
     "output_type": "display_data"
    },
    {
     "data": {
      "text/plain": [
       "'Имя файла:genome-scores.csv'"
      ]
     },
     "metadata": {},
     "output_type": "display_data"
    },
    {
     "data": {
      "text/html": [
       "<div>\n",
       "<style scoped>\n",
       "    .dataframe tbody tr th:only-of-type {\n",
       "        vertical-align: middle;\n",
       "    }\n",
       "\n",
       "    .dataframe tbody tr th {\n",
       "        vertical-align: top;\n",
       "    }\n",
       "\n",
       "    .dataframe thead th {\n",
       "        text-align: right;\n",
       "    }\n",
       "</style>\n",
       "<table border=\"1\" class=\"dataframe\">\n",
       "  <thead>\n",
       "    <tr style=\"text-align: right;\">\n",
       "      <th></th>\n",
       "      <th>movieId</th>\n",
       "      <th>tagId</th>\n",
       "      <th>relevance</th>\n",
       "    </tr>\n",
       "  </thead>\n",
       "  <tbody>\n",
       "    <tr>\n",
       "      <th>0</th>\n",
       "      <td>1</td>\n",
       "      <td>1</td>\n",
       "      <td>0.02900</td>\n",
       "    </tr>\n",
       "    <tr>\n",
       "      <th>1</th>\n",
       "      <td>1</td>\n",
       "      <td>2</td>\n",
       "      <td>0.02375</td>\n",
       "    </tr>\n",
       "    <tr>\n",
       "      <th>2</th>\n",
       "      <td>1</td>\n",
       "      <td>3</td>\n",
       "      <td>0.05425</td>\n",
       "    </tr>\n",
       "  </tbody>\n",
       "</table>\n",
       "</div>"
      ],
      "text/plain": [
       "   movieId  tagId  relevance\n",
       "0        1      1    0.02900\n",
       "1        1      2    0.02375\n",
       "2        1      3    0.05425"
      ]
     },
     "metadata": {},
     "output_type": "display_data"
    },
    {
     "data": {
      "text/plain": [
       "'Имя файла:movies.csv'"
      ]
     },
     "metadata": {},
     "output_type": "display_data"
    },
    {
     "data": {
      "text/html": [
       "<div>\n",
       "<style scoped>\n",
       "    .dataframe tbody tr th:only-of-type {\n",
       "        vertical-align: middle;\n",
       "    }\n",
       "\n",
       "    .dataframe tbody tr th {\n",
       "        vertical-align: top;\n",
       "    }\n",
       "\n",
       "    .dataframe thead th {\n",
       "        text-align: right;\n",
       "    }\n",
       "</style>\n",
       "<table border=\"1\" class=\"dataframe\">\n",
       "  <thead>\n",
       "    <tr style=\"text-align: right;\">\n",
       "      <th></th>\n",
       "      <th>movieId</th>\n",
       "      <th>title</th>\n",
       "      <th>genres</th>\n",
       "    </tr>\n",
       "  </thead>\n",
       "  <tbody>\n",
       "    <tr>\n",
       "      <th>0</th>\n",
       "      <td>1</td>\n",
       "      <td>Toy Story (1995)</td>\n",
       "      <td>Adventure|Animation|Children|Comedy|Fantasy</td>\n",
       "    </tr>\n",
       "    <tr>\n",
       "      <th>1</th>\n",
       "      <td>2</td>\n",
       "      <td>Jumanji (1995)</td>\n",
       "      <td>Adventure|Children|Fantasy</td>\n",
       "    </tr>\n",
       "    <tr>\n",
       "      <th>2</th>\n",
       "      <td>3</td>\n",
       "      <td>Grumpier Old Men (1995)</td>\n",
       "      <td>Comedy|Romance</td>\n",
       "    </tr>\n",
       "  </tbody>\n",
       "</table>\n",
       "</div>"
      ],
      "text/plain": [
       "   movieId                    title  \\\n",
       "0        1         Toy Story (1995)   \n",
       "1        2           Jumanji (1995)   \n",
       "2        3  Grumpier Old Men (1995)   \n",
       "\n",
       "                                        genres  \n",
       "0  Adventure|Animation|Children|Comedy|Fantasy  \n",
       "1                   Adventure|Children|Fantasy  \n",
       "2                               Comedy|Romance  "
      ]
     },
     "metadata": {},
     "output_type": "display_data"
    }
   ],
   "source": [
    "for i,n in enumerate(task_1_files):\n",
    "    display('Имя файла:' + n, (pd.read_csv(os.getcwd() + '/ml-latest/' + task_1_files[i]).head(3)))"
   ]
  },
  {
   "cell_type": "markdown",
   "id": "a4bc9d10",
   "metadata": {},
   "source": [
    "Нам понадобятся файлы __ratings.csv__ и __movies.csv__"
   ]
  },
  {
   "cell_type": "code",
   "execution_count": 4,
   "id": "aa78d5f3",
   "metadata": {},
   "outputs": [],
   "source": [
    "ratings = pd.read_csv(os.getcwd() + '/ml-latest/' + task_1_files[3])\n",
    "movies = pd.read_csv(os.getcwd() + '/ml-latest/' + task_1_files[5])"
   ]
  },
  {
   "cell_type": "markdown",
   "id": "7890cb37",
   "metadata": {},
   "source": [
    "Получим название искомого фильма двумя способами:  \n",
    "- получим его `id`, после чего отфильтруем по нему названия фильмов\n",
    "- соединим таблицу рейтингов с таблицей фильмов по `id`, после чего проделаем те же действия"
   ]
  },
  {
   "cell_type": "markdown",
   "id": "1f2d6b97",
   "metadata": {},
   "source": [
    "1 вариант"
   ]
  },
  {
   "cell_type": "code",
   "execution_count": 5,
   "id": "8fefd574",
   "metadata": {},
   "outputs": [],
   "source": [
    "best_movie_id = ratings.query('rating == 5.0')['movieId'].value_counts().idxmax()"
   ]
  },
  {
   "cell_type": "code",
   "execution_count": 6,
   "id": "6799aa4d",
   "metadata": {},
   "outputs": [
    {
     "data": {
      "text/plain": [
       "'Shawshank Redemption, The (1994)'"
      ]
     },
     "execution_count": 6,
     "metadata": {},
     "output_type": "execute_result"
    }
   ],
   "source": [
    "movies.query('movieId == @best_movie_id')['title'].values[0]"
   ]
  },
  {
   "cell_type": "markdown",
   "id": "93368166",
   "metadata": {},
   "source": [
    "2 вариант"
   ]
  },
  {
   "cell_type": "code",
   "execution_count": 7,
   "id": "95c19d69",
   "metadata": {},
   "outputs": [
    {
     "data": {
      "text/html": [
       "<div>\n",
       "<style scoped>\n",
       "    .dataframe tbody tr th:only-of-type {\n",
       "        vertical-align: middle;\n",
       "    }\n",
       "\n",
       "    .dataframe tbody tr th {\n",
       "        vertical-align: top;\n",
       "    }\n",
       "\n",
       "    .dataframe thead th {\n",
       "        text-align: right;\n",
       "    }\n",
       "</style>\n",
       "<table border=\"1\" class=\"dataframe\">\n",
       "  <thead>\n",
       "    <tr style=\"text-align: right;\">\n",
       "      <th></th>\n",
       "      <th>userId</th>\n",
       "      <th>movieId</th>\n",
       "      <th>rating</th>\n",
       "      <th>timestamp</th>\n",
       "      <th>title</th>\n",
       "      <th>genres</th>\n",
       "    </tr>\n",
       "  </thead>\n",
       "  <tbody>\n",
       "    <tr>\n",
       "      <th>0</th>\n",
       "      <td>1</td>\n",
       "      <td>307</td>\n",
       "      <td>3.5</td>\n",
       "      <td>1256677221</td>\n",
       "      <td>Three Colors: Blue (Trois couleurs: Bleu) (1993)</td>\n",
       "      <td>Drama</td>\n",
       "    </tr>\n",
       "    <tr>\n",
       "      <th>1</th>\n",
       "      <td>1</td>\n",
       "      <td>481</td>\n",
       "      <td>3.5</td>\n",
       "      <td>1256677456</td>\n",
       "      <td>Kalifornia (1993)</td>\n",
       "      <td>Drama|Thriller</td>\n",
       "    </tr>\n",
       "    <tr>\n",
       "      <th>2</th>\n",
       "      <td>1</td>\n",
       "      <td>1091</td>\n",
       "      <td>1.5</td>\n",
       "      <td>1256677471</td>\n",
       "      <td>Weekend at Bernie's (1989)</td>\n",
       "      <td>Comedy</td>\n",
       "    </tr>\n",
       "  </tbody>\n",
       "</table>\n",
       "</div>"
      ],
      "text/plain": [
       "   userId  movieId  rating   timestamp  \\\n",
       "0       1      307     3.5  1256677221   \n",
       "1       1      481     3.5  1256677456   \n",
       "2       1     1091     1.5  1256677471   \n",
       "\n",
       "                                              title          genres  \n",
       "0  Three Colors: Blue (Trois couleurs: Bleu) (1993)           Drama  \n",
       "1                                 Kalifornia (1993)  Drama|Thriller  \n",
       "2                        Weekend at Bernie's (1989)          Comedy  "
      ]
     },
     "execution_count": 7,
     "metadata": {},
     "output_type": "execute_result"
    }
   ],
   "source": [
    "result = pd.merge(ratings, movies, how='left', on = 'movieId')\n",
    "result.head(3)"
   ]
  },
  {
   "cell_type": "code",
   "execution_count": 8,
   "id": "fbd0c70c",
   "metadata": {},
   "outputs": [
    {
     "data": {
      "text/plain": [
       "'Shawshank Redemption, The (1994)'"
      ]
     },
     "execution_count": 8,
     "metadata": {},
     "output_type": "execute_result"
    }
   ],
   "source": [
    "result.query('rating == 5.0')['title'].value_counts().idxmax()"
   ]
  },
  {
   "cell_type": "markdown",
   "id": "0a1bb011",
   "metadata": {},
   "source": [
    "Оба варианта возвращают одно название"
   ]
  },
  {
   "cell_type": "markdown",
   "id": "69223265",
   "metadata": {},
   "source": [
    "#### Задание 2\n",
    "По данным файла power.csv посчитайте суммарное потребление стран Прибалтики (Латвия, Литва и Эстония) категорий 4, 12 и 21 за период с 2005 по 2010 года. Не учитывайте в расчетах отрицательные значения quantity."
   ]
  },
  {
   "cell_type": "code",
   "execution_count": 9,
   "id": "480374fb",
   "metadata": {},
   "outputs": [
    {
     "data": {
      "text/plain": [
       "['power.csv', 'transactions.csv']"
      ]
     },
     "execution_count": 9,
     "metadata": {},
     "output_type": "execute_result"
    }
   ],
   "source": [
    "task_2_files = [file for file in os.listdir('Основы_pandas') if '.csv' in file]\n",
    "task_2_files"
   ]
  },
  {
   "cell_type": "code",
   "execution_count": 10,
   "id": "b20a789f",
   "metadata": {},
   "outputs": [
    {
     "data": {
      "text/plain": [
       "'Имя файла:power.csv'"
      ]
     },
     "metadata": {},
     "output_type": "display_data"
    },
    {
     "data": {
      "text/html": [
       "<div>\n",
       "<style scoped>\n",
       "    .dataframe tbody tr th:only-of-type {\n",
       "        vertical-align: middle;\n",
       "    }\n",
       "\n",
       "    .dataframe tbody tr th {\n",
       "        vertical-align: top;\n",
       "    }\n",
       "\n",
       "    .dataframe thead th {\n",
       "        text-align: right;\n",
       "    }\n",
       "</style>\n",
       "<table border=\"1\" class=\"dataframe\">\n",
       "  <thead>\n",
       "    <tr style=\"text-align: right;\">\n",
       "      <th></th>\n",
       "      <th>country</th>\n",
       "      <th>year</th>\n",
       "      <th>quantity</th>\n",
       "      <th>category</th>\n",
       "    </tr>\n",
       "  </thead>\n",
       "  <tbody>\n",
       "    <tr>\n",
       "      <th>0</th>\n",
       "      <td>Austria</td>\n",
       "      <td>1996</td>\n",
       "      <td>5.0</td>\n",
       "      <td>1</td>\n",
       "    </tr>\n",
       "    <tr>\n",
       "      <th>1</th>\n",
       "      <td>Austria</td>\n",
       "      <td>1995</td>\n",
       "      <td>17.0</td>\n",
       "      <td>1</td>\n",
       "    </tr>\n",
       "    <tr>\n",
       "      <th>2</th>\n",
       "      <td>Belgium</td>\n",
       "      <td>2014</td>\n",
       "      <td>0.0</td>\n",
       "      <td>1</td>\n",
       "    </tr>\n",
       "  </tbody>\n",
       "</table>\n",
       "</div>"
      ],
      "text/plain": [
       "   country  year  quantity  category\n",
       "0  Austria  1996       5.0         1\n",
       "1  Austria  1995      17.0         1\n",
       "2  Belgium  2014       0.0         1"
      ]
     },
     "metadata": {},
     "output_type": "display_data"
    },
    {
     "data": {
      "text/plain": [
       "'Имя файла:transactions.csv'"
      ]
     },
     "metadata": {},
     "output_type": "display_data"
    },
    {
     "data": {
      "text/html": [
       "<div>\n",
       "<style scoped>\n",
       "    .dataframe tbody tr th:only-of-type {\n",
       "        vertical-align: middle;\n",
       "    }\n",
       "\n",
       "    .dataframe tbody tr th {\n",
       "        vertical-align: top;\n",
       "    }\n",
       "\n",
       "    .dataframe thead th {\n",
       "        text-align: right;\n",
       "    }\n",
       "</style>\n",
       "<table border=\"1\" class=\"dataframe\">\n",
       "  <thead>\n",
       "    <tr style=\"text-align: right;\">\n",
       "      <th></th>\n",
       "      <th>Year</th>\n",
       "      <th>Month</th>\n",
       "      <th>ID</th>\n",
       "      <th>Product</th>\n",
       "      <th>Amount</th>\n",
       "      <th>Price</th>\n",
       "      <th>Total</th>\n",
       "      <th>Cost</th>\n",
       "    </tr>\n",
       "  </thead>\n",
       "  <tbody>\n",
       "    <tr>\n",
       "      <th>0</th>\n",
       "      <td>2017</td>\n",
       "      <td>1</td>\n",
       "      <td>t001</td>\n",
       "      <td>A1</td>\n",
       "      <td>7</td>\n",
       "      <td>2904</td>\n",
       "      <td>20328</td>\n",
       "      <td>1200</td>\n",
       "    </tr>\n",
       "    <tr>\n",
       "      <th>1</th>\n",
       "      <td>2017</td>\n",
       "      <td>1</td>\n",
       "      <td>t002</td>\n",
       "      <td>A2</td>\n",
       "      <td>2</td>\n",
       "      <td>1896</td>\n",
       "      <td>3792</td>\n",
       "      <td>1100</td>\n",
       "    </tr>\n",
       "    <tr>\n",
       "      <th>2</th>\n",
       "      <td>2017</td>\n",
       "      <td>2</td>\n",
       "      <td>t003</td>\n",
       "      <td>A1</td>\n",
       "      <td>5</td>\n",
       "      <td>2904</td>\n",
       "      <td>14520</td>\n",
       "      <td>1200</td>\n",
       "    </tr>\n",
       "  </tbody>\n",
       "</table>\n",
       "</div>"
      ],
      "text/plain": [
       "   Year  Month    ID Product  Amount  Price  Total  Cost\n",
       "0  2017      1  t001      A1       7   2904  20328  1200\n",
       "1  2017      1  t002      A2       2   1896   3792  1100\n",
       "2  2017      2  t003      A1       5   2904  14520  1200"
      ]
     },
     "metadata": {},
     "output_type": "display_data"
    }
   ],
   "source": [
    "for i,n in enumerate(task_2_files):\n",
    "    display('Имя файла:' + n, (pd.read_csv(os.getcwd() + '/Основы_pandas/' + task_2_files[i]).head(3)))"
   ]
  },
  {
   "cell_type": "code",
   "execution_count": 11,
   "id": "75eac0e4",
   "metadata": {},
   "outputs": [],
   "source": [
    "power = pd.read_csv(os.getcwd() + '/Основы_pandas/' + task_2_files[0])"
   ]
  },
  {
   "cell_type": "markdown",
   "id": "46694fd1",
   "metadata": {},
   "source": [
    "Проверим отсортированный список стран"
   ]
  },
  {
   "cell_type": "code",
   "execution_count": 12,
   "id": "92e022a8",
   "metadata": {},
   "outputs": [
    {
     "data": {
      "text/plain": [
       "array(['Afghanistan', 'Albania', 'Algeria', 'American Samoa', 'Andorra',\n",
       "       'Angola', 'Anguilla', 'Antarctic Fisheries', 'Antigua and Barbuda',\n",
       "       'Argentina', 'Armenia', 'Aruba', 'Australia', 'Austria',\n",
       "       'Azerbaijan', 'Bahamas', 'Bahrain', 'Bangladesh', 'Barbados',\n",
       "       'Belarus', 'Belgium', 'Belize', 'Benin', 'Bermuda', 'Bhutan',\n",
       "       'Bolivia (Plur. State of)', 'Bonaire, St Eustatius, Saba',\n",
       "       'Bosnia and Herzegovina', 'Botswana', 'Brazil',\n",
       "       'British Virgin Islands', 'Brunei Darussalam', 'Bulgaria',\n",
       "       'Burkina Faso', 'Burundi', 'Cabo Verde', 'Cambodia', 'Cameroon',\n",
       "       'Canada', 'Cayman Islands', 'Central African Rep.', 'Chad',\n",
       "       'Chile', 'China', 'China, Hong Kong SAR', 'China, Macao SAR',\n",
       "       'Colombia', 'Commonwealth of Independent States (CIS)', 'Comoros',\n",
       "       'Congo', 'Cook Islands', 'Costa Rica', 'Croatia', 'Cuba',\n",
       "       'Curaçao', 'Cyprus', 'Czechia', 'Czechoslovakia (former)',\n",
       "       \"Côte d'Ivoire\", 'Dem. Rep. of the Congo', 'Denmark', 'Djibouti',\n",
       "       'Dominica', 'Dominican Republic', 'Ecuador', 'Egypt',\n",
       "       'El Salvador', 'Equatorial Guinea', 'Eritrea', 'Estonia',\n",
       "       'Ethiopia', 'Ethiopia, incl. Eritrea', 'Faeroe Islands',\n",
       "       'Falkland Is. (Malvinas)', 'Fiji', 'Finland', 'France',\n",
       "       'French Guiana', 'French Polynesia', 'Gabon', 'Gambia', 'Georgia',\n",
       "       'German Dem. R. (former)', 'Germany', 'Germany, Fed. R. (former)',\n",
       "       'Ghana', 'Gibraltar', 'Greece', 'Greenland', 'Grenada',\n",
       "       'Guadeloupe', 'Guam', 'Guatemala', 'Guernsey', 'Guinea',\n",
       "       'Guinea-Bissau', 'Guyana', 'Haiti', 'Honduras', 'Hungary',\n",
       "       'Iceland', 'India', 'Indonesia', 'Iran (Islamic Rep. of)', 'Iraq',\n",
       "       'Ireland', 'Isle of Man', 'Israel', 'Italy', 'Jamaica', 'Japan',\n",
       "       'Jersey', 'Jordan', 'Kazakhstan', 'Kenya', 'Kiribati',\n",
       "       \"Korea, Dem.Ppl's.Rep.\", 'Korea, Republic of', 'Kuwait',\n",
       "       'Kyrgyzstan', \"Lao People's Dem. Rep.\", 'Latvia', 'Lebanon',\n",
       "       'Lesotho', 'Liberia', 'Libya', 'Liechtenstein', 'Lithuania',\n",
       "       'Luxembourg', 'Madagascar', 'Malawi', 'Malaysia', 'Maldives',\n",
       "       'Mali', 'Malta', 'Marshall Islands', 'Martinique', 'Mauritania',\n",
       "       'Mauritius', 'Mayotte', 'Mexico', 'Micronesia (Fed. States of)',\n",
       "       'Mongolia', 'Montenegro', 'Montserrat', 'Morocco', 'Mozambique',\n",
       "       'Myanmar', 'Namibia', 'Nauru', 'Nepal', 'Neth. Antilles (former)',\n",
       "       'Netherlands', 'New Caledonia', 'New Zealand', 'Nicaragua',\n",
       "       'Niger', 'Nigeria', 'Niue', 'Northern Mariana Islands', 'Norway',\n",
       "       'Oman', 'Other Asia', 'Pacific Islands (former)', 'Pakistan',\n",
       "       'Palau', 'Panama', 'Papua New Guinea', 'Paraguay', 'Peru',\n",
       "       'Philippines', 'Poland', 'Portugal', 'Puerto Rico', 'Qatar',\n",
       "       'Republic of Moldova', 'Romania', 'Russian Federation', 'Rwanda',\n",
       "       'Réunion', 'Samoa', 'Sao Tome and Principe', 'Saudi Arabia',\n",
       "       'Senegal', 'Serbia', 'Serbia and Montenegro', 'Seychelles',\n",
       "       'Sierra Leone', 'Singapore', 'Sint Maarten (Dutch part)',\n",
       "       'Slovakia', 'Slovenia', 'Solomon Islands', 'Somalia',\n",
       "       'South Africa', 'South Sudan', 'Spain', 'Sri Lanka',\n",
       "       'St. Helena and Depend.', 'St. Kitts-Nevis', 'St. Lucia',\n",
       "       'St. Pierre-Miquelon', 'St. Vincent-Grenadines',\n",
       "       'State of Palestine', 'Sudan', 'Sudan (former)', 'Suriname',\n",
       "       'Swaziland', 'Sweden', 'Switzerland', 'Syrian Arab Republic',\n",
       "       'T.F.Yug.Rep. Macedonia', 'Tajikistan', 'Thailand', 'Timor-Leste',\n",
       "       'Togo', 'Tonga', 'Trinidad and Tobago', 'Tunisia', 'Turkey',\n",
       "       'Turkmenistan', 'Turks and Caicos Islands', 'Tuvalu',\n",
       "       'USSR (former)', 'Uganda', 'Ukraine', 'United Arab Emirates',\n",
       "       'United Kingdom', 'United Rep. of Tanzania', 'United States',\n",
       "       'United States Virgin Is.', 'Uruguay', 'Uzbekistan', 'Vanuatu',\n",
       "       'Venezuela (Bolivar. Rep.)', 'Viet Nam', 'Wallis and Futuna Is.',\n",
       "       'Yemen', 'Yemen Arab Rep. (former)', 'Yemen, Dem. (former)',\n",
       "       'Yugoslavia, SFR (former)', 'Zambia', 'Zimbabwe'], dtype=object)"
      ]
     },
     "execution_count": 12,
     "metadata": {},
     "output_type": "execute_result"
    }
   ],
   "source": [
    "np.sort(power['country'].unique())"
   ]
  },
  {
   "cell_type": "markdown",
   "id": "be177209",
   "metadata": {},
   "source": [
    "Проверим список с отфильтрованными странами"
   ]
  },
  {
   "cell_type": "code",
   "execution_count": 13,
   "id": "fc99f7dd",
   "metadata": {},
   "outputs": [
    {
     "data": {
      "text/plain": [
       "array(['Lithuania', 'Latvia', 'Estonia'], dtype=object)"
      ]
     },
     "execution_count": 13,
     "metadata": {},
     "output_type": "execute_result"
    }
   ],
   "source": [
    "power[\n",
    "    power['country'].str.contains('lat|lit|esto', case=False)\n",
    "]['country'].unique()"
   ]
  },
  {
   "cell_type": "markdown",
   "id": "bc289fa7",
   "metadata": {},
   "source": [
    "Получим суммарное потребление стран Прибалтики согласно условию"
   ]
  },
  {
   "cell_type": "code",
   "execution_count": 14,
   "id": "ccf7b80e",
   "metadata": {},
   "outputs": [
    {
     "data": {
      "text/plain": [
       "240580.0"
      ]
     },
     "execution_count": 14,
     "metadata": {},
     "output_type": "execute_result"
    }
   ],
   "source": [
    "power[\n",
    "    power['country'].str.contains('lat|lit|esto', case=False)\n",
    "].query('2005 <=year <= 2010 & quantity > 0 & category in [4,12,21]')['quantity'].sum()"
   ]
  },
  {
   "cell_type": "markdown",
   "id": "a533830a",
   "metadata": {},
   "source": [
    "#### Задание 3\n",
    "Выберите страницу любого сайта с табличными данными. Импортируйте таблицы в pandas dataframe.\n",
    "Примеры страниц (необязательно брать именно эти):  \n",
    "https://fortrader.org/quotes  \n",
    "www.finanz.ru...om-vremeni"
   ]
  },
  {
   "cell_type": "code",
   "execution_count": 15,
   "id": "2b59a073",
   "metadata": {},
   "outputs": [],
   "source": [
    "url_1 = \"https://fortrader.org/currencyrates\"\n",
    "url_2 = \"https://www.finanz.ru/aktsii/realnom-vremeni-spisok/nasdaq_100\""
   ]
  },
  {
   "cell_type": "code",
   "execution_count": 16,
   "id": "315ffd47",
   "metadata": {},
   "outputs": [],
   "source": [
    "fortrader = pd.read_html(url_1, encoding='utf-8')[0]"
   ]
  },
  {
   "cell_type": "code",
   "execution_count": 17,
   "id": "b5f6943e",
   "metadata": {},
   "outputs": [
    {
     "data": {
      "text/html": [
       "<div>\n",
       "<style scoped>\n",
       "    .dataframe tbody tr th:only-of-type {\n",
       "        vertical-align: middle;\n",
       "    }\n",
       "\n",
       "    .dataframe tbody tr th {\n",
       "        vertical-align: top;\n",
       "    }\n",
       "\n",
       "    .dataframe thead th {\n",
       "        text-align: right;\n",
       "    }\n",
       "</style>\n",
       "<table border=\"1\" class=\"dataframe\">\n",
       "  <thead>\n",
       "    <tr style=\"text-align: right;\">\n",
       "      <th></th>\n",
       "      <th>Код</th>\n",
       "      <th>Количество</th>\n",
       "      <th>Название</th>\n",
       "      <th>RUB</th>\n",
       "      <th>Изменение</th>\n",
       "    </tr>\n",
       "  </thead>\n",
       "  <tbody>\n",
       "    <tr>\n",
       "      <th>0</th>\n",
       "      <td>USD</td>\n",
       "      <td>1</td>\n",
       "      <td>Доллар США</td>\n",
       "      <td>72.8764</td>\n",
       "      <td>0.1675</td>\n",
       "    </tr>\n",
       "    <tr>\n",
       "      <th>1</th>\n",
       "      <td>EUR</td>\n",
       "      <td>1</td>\n",
       "      <td>Евро</td>\n",
       "      <td>75.9224</td>\n",
       "      <td>-0.7446</td>\n",
       "    </tr>\n",
       "    <tr>\n",
       "      <th>2</th>\n",
       "      <td>CNY</td>\n",
       "      <td>1</td>\n",
       "      <td>Китайский юань</td>\n",
       "      <td>11.1223</td>\n",
       "      <td>-0.0353</td>\n",
       "    </tr>\n",
       "    <tr>\n",
       "      <th>3</th>\n",
       "      <td>TJS</td>\n",
       "      <td>10</td>\n",
       "      <td>Таджикский сомони</td>\n",
       "      <td>58.3244</td>\n",
       "      <td>0.1922</td>\n",
       "    </tr>\n",
       "    <tr>\n",
       "      <th>4</th>\n",
       "      <td>GBP</td>\n",
       "      <td>1</td>\n",
       "      <td>Фунт стерлингов</td>\n",
       "      <td>91.9773</td>\n",
       "      <td>-0.4866</td>\n",
       "    </tr>\n",
       "    <tr>\n",
       "      <th>5</th>\n",
       "      <td>KZT</td>\n",
       "      <td>100</td>\n",
       "      <td>Казахстанский тенге</td>\n",
       "      <td>16.0687</td>\n",
       "      <td>-0.1516</td>\n",
       "    </tr>\n",
       "    <tr>\n",
       "      <th>6</th>\n",
       "      <td>TRY</td>\n",
       "      <td>10</td>\n",
       "      <td>Турецкая лира</td>\n",
       "      <td>49.3064</td>\n",
       "      <td>0.0363</td>\n",
       "    </tr>\n",
       "    <tr>\n",
       "      <th>7</th>\n",
       "      <td>UAH</td>\n",
       "      <td>10</td>\n",
       "      <td>Украинская гривна</td>\n",
       "      <td>24.5811</td>\n",
       "      <td>0.5529</td>\n",
       "    </tr>\n",
       "    <tr>\n",
       "      <th>8</th>\n",
       "      <td>PLN</td>\n",
       "      <td>1</td>\n",
       "      <td>Польский злотый</td>\n",
       "      <td>16.3723</td>\n",
       "      <td>-0.3175</td>\n",
       "    </tr>\n",
       "    <tr>\n",
       "      <th>9</th>\n",
       "      <td>BYN</td>\n",
       "      <td>1</td>\n",
       "      <td>Белорусский рубль</td>\n",
       "      <td>27.3611</td>\n",
       "      <td>0.0259</td>\n",
       "    </tr>\n",
       "  </tbody>\n",
       "</table>\n",
       "</div>"
      ],
      "text/plain": [
       "   Код  Количество             Название      RUB  Изменение\n",
       "0  USD           1           Доллар США  72.8764     0.1675\n",
       "1  EUR           1                 Евро  75.9224    -0.7446\n",
       "2  CNY           1       Китайский юань  11.1223    -0.0353\n",
       "3  TJS          10    Таджикский сомони  58.3244     0.1922\n",
       "4  GBP           1      Фунт стерлингов  91.9773    -0.4866\n",
       "5  KZT         100  Казахстанский тенге  16.0687    -0.1516\n",
       "6  TRY          10        Турецкая лира  49.3064     0.0363\n",
       "7  UAH          10    Украинская гривна  24.5811     0.5529\n",
       "8  PLN           1      Польский злотый  16.3723    -0.3175\n",
       "9  BYN           1    Белорусский рубль  27.3611     0.0259"
      ]
     },
     "execution_count": 17,
     "metadata": {},
     "output_type": "execute_result"
    }
   ],
   "source": [
    "fortrader.head(10)"
   ]
  },
  {
   "cell_type": "markdown",
   "id": "488a8e79",
   "metadata": {},
   "source": [
    "Для `finanz` метод выводит странное название столбца __\"Имя\"__ и странный пустой столбец. От него проще избавиться"
   ]
  },
  {
   "cell_type": "code",
   "execution_count": 18,
   "id": "10273897",
   "metadata": {},
   "outputs": [],
   "source": [
    "finanz = pd.read_html(url_2, attrs={'class':'quote_list'}, encoding='utf-8', index_col=0)[0].reset_index(drop=True)"
   ]
  },
  {
   "cell_type": "code",
   "execution_count": 19,
   "id": "2aff85d8",
   "metadata": {},
   "outputs": [],
   "source": [
    "finanz.columns = ['Имя','ISIN', 'Пред. закр.', 'Посл. зн.', 'Объём', '%', '+/-', 'Время']"
   ]
  },
  {
   "cell_type": "code",
   "execution_count": 20,
   "id": "911b54f2",
   "metadata": {},
   "outputs": [
    {
     "data": {
      "text/html": [
       "<div>\n",
       "<style scoped>\n",
       "    .dataframe tbody tr th:only-of-type {\n",
       "        vertical-align: middle;\n",
       "    }\n",
       "\n",
       "    .dataframe tbody tr th {\n",
       "        vertical-align: top;\n",
       "    }\n",
       "\n",
       "    .dataframe thead th {\n",
       "        text-align: right;\n",
       "    }\n",
       "</style>\n",
       "<table border=\"1\" class=\"dataframe\">\n",
       "  <thead>\n",
       "    <tr style=\"text-align: right;\">\n",
       "      <th></th>\n",
       "      <th>Имя</th>\n",
       "      <th>ISIN</th>\n",
       "      <th>Пред. закр.</th>\n",
       "      <th>Посл. зн.</th>\n",
       "      <th>Объём</th>\n",
       "      <th>%</th>\n",
       "      <th>+/-</th>\n",
       "      <th>Время</th>\n",
       "    </tr>\n",
       "  </thead>\n",
       "  <tbody>\n",
       "    <tr>\n",
       "      <th>0</th>\n",
       "      <td>Activision Blizzard</td>\n",
       "      <td>US00507V1098</td>\n",
       "      <td>7610</td>\n",
       "      <td>7692</td>\n",
       "      <td>0</td>\n",
       "      <td>1,07%</td>\n",
       "      <td>82</td>\n",
       "      <td>21:16:11</td>\n",
       "    </tr>\n",
       "    <tr>\n",
       "      <th>1</th>\n",
       "      <td>Adobe</td>\n",
       "      <td>US00724F1012</td>\n",
       "      <td>39790</td>\n",
       "      <td>41121</td>\n",
       "      <td>0</td>\n",
       "      <td>3,35%</td>\n",
       "      <td>1331</td>\n",
       "      <td>21:16:25</td>\n",
       "    </tr>\n",
       "    <tr>\n",
       "      <th>2</th>\n",
       "      <td>Align Technology</td>\n",
       "      <td>US0162551016</td>\n",
       "      <td>36043</td>\n",
       "      <td>29569</td>\n",
       "      <td>0</td>\n",
       "      <td>-17,96%</td>\n",
       "      <td>-6474</td>\n",
       "      <td>21:16:21</td>\n",
       "    </tr>\n",
       "    <tr>\n",
       "      <th>3</th>\n",
       "      <td>Alphabet A</td>\n",
       "      <td>US02079K3059</td>\n",
       "      <td>2 285,89</td>\n",
       "      <td>2 373,95</td>\n",
       "      <td>0</td>\n",
       "      <td>3,85%</td>\n",
       "      <td>8806</td>\n",
       "      <td>21:16:25</td>\n",
       "    </tr>\n",
       "    <tr>\n",
       "      <th>4</th>\n",
       "      <td>Alphabet C</td>\n",
       "      <td>US02079K1079</td>\n",
       "      <td>2 300,41</td>\n",
       "      <td>2 390,66</td>\n",
       "      <td>0</td>\n",
       "      <td>3,92%</td>\n",
       "      <td>9025</td>\n",
       "      <td>21:14:47</td>\n",
       "    </tr>\n",
       "    <tr>\n",
       "      <th>5</th>\n",
       "      <td>Amazon</td>\n",
       "      <td>US0231351067</td>\n",
       "      <td>2 763,34</td>\n",
       "      <td>2 893,94</td>\n",
       "      <td>0</td>\n",
       "      <td>4,73%</td>\n",
       "      <td>13060</td>\n",
       "      <td>21:16:13</td>\n",
       "    </tr>\n",
       "    <tr>\n",
       "      <th>6</th>\n",
       "      <td>AMD</td>\n",
       "      <td>US0079031078</td>\n",
       "      <td>8491</td>\n",
       "      <td>8930</td>\n",
       "      <td>0</td>\n",
       "      <td>5,17%</td>\n",
       "      <td>439</td>\n",
       "      <td>21:16:30</td>\n",
       "    </tr>\n",
       "    <tr>\n",
       "      <th>7</th>\n",
       "      <td>American Electric Power</td>\n",
       "      <td>US0255371017</td>\n",
       "      <td>9953</td>\n",
       "      <td>10175</td>\n",
       "      <td>0</td>\n",
       "      <td>2,23%</td>\n",
       "      <td>222</td>\n",
       "      <td>21:16:28</td>\n",
       "    </tr>\n",
       "    <tr>\n",
       "      <th>8</th>\n",
       "      <td>Amgen</td>\n",
       "      <td>US0311621009</td>\n",
       "      <td>24879</td>\n",
       "      <td>23687</td>\n",
       "      <td>0</td>\n",
       "      <td>-4,79%</td>\n",
       "      <td>-1193</td>\n",
       "      <td>21:16:30</td>\n",
       "    </tr>\n",
       "    <tr>\n",
       "      <th>9</th>\n",
       "      <td>Analog Devices</td>\n",
       "      <td>US0326541051</td>\n",
       "      <td>15172</td>\n",
       "      <td>15996</td>\n",
       "      <td>0</td>\n",
       "      <td>5,43%</td>\n",
       "      <td>824</td>\n",
       "      <td>21:16:28</td>\n",
       "    </tr>\n",
       "  </tbody>\n",
       "</table>\n",
       "</div>"
      ],
      "text/plain": [
       "                       Имя          ISIN Пред. закр. Посл. зн.  Объём  \\\n",
       "0      Activision Blizzard  US00507V1098        7610      7692      0   \n",
       "1                    Adobe  US00724F1012       39790     41121      0   \n",
       "2         Align Technology  US0162551016       36043     29569      0   \n",
       "3               Alphabet A  US02079K3059    2 285,89  2 373,95      0   \n",
       "4               Alphabet C  US02079K1079    2 300,41  2 390,66      0   \n",
       "5                   Amazon  US0231351067    2 763,34  2 893,94      0   \n",
       "6                      AMD  US0079031078        8491      8930      0   \n",
       "7  American Electric Power  US0255371017        9953     10175      0   \n",
       "8                    Amgen  US0311621009       24879     23687      0   \n",
       "9           Analog Devices  US0326541051       15172     15996      0   \n",
       "\n",
       "         %    +/-     Время  \n",
       "0    1,07%     82  21:16:11  \n",
       "1    3,35%   1331  21:16:25  \n",
       "2  -17,96%  -6474  21:16:21  \n",
       "3    3,85%   8806  21:16:25  \n",
       "4    3,92%   9025  21:14:47  \n",
       "5    4,73%  13060  21:16:13  \n",
       "6    5,17%    439  21:16:30  \n",
       "7    2,23%    222  21:16:28  \n",
       "8   -4,79%  -1193  21:16:30  \n",
       "9    5,43%    824  21:16:28  "
      ]
     },
     "execution_count": 20,
     "metadata": {},
     "output_type": "execute_result"
    }
   ],
   "source": [
    "finanz.head(10)"
   ]
  }
 ],
 "metadata": {
  "kernelspec": {
   "display_name": "Python 3 (ipykernel)",
   "language": "python",
   "name": "python3"
  },
  "language_info": {
   "codemirror_mode": {
    "name": "ipython",
    "version": 3
   },
   "file_extension": ".py",
   "mimetype": "text/x-python",
   "name": "python",
   "nbconvert_exporter": "python",
   "pygments_lexer": "ipython3",
   "version": "3.9.7"
  }
 },
 "nbformat": 4,
 "nbformat_minor": 5
}
