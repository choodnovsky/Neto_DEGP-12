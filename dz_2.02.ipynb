{
 "cells": [
  {
   "cell_type": "markdown",
   "id": "e589382b",
   "metadata": {},
   "source": [
    "### Домашнее задание №2 к лекции «Библиотека Pandas»\n"
   ]
  },
  {
   "cell_type": "code",
   "execution_count": 1,
   "id": "ed03b14e",
   "metadata": {},
   "outputs": [],
   "source": [
    "import pandas as pd\n",
    "import numpy as np\n",
    "import os"
   ]
  },
  {
   "cell_type": "markdown",
   "id": "f744adcc",
   "metadata": {},
   "source": [
    "#### Задание 1\n",
    "Скачайте с сайта https://grouplens.org/datasets/movielens/ датасет любого размера. Определите, какому фильму было выставлено больше всего оценок 5.0."
   ]
  },
  {
   "cell_type": "markdown",
   "id": "b364a5a5",
   "metadata": {},
   "source": [
    "Сперва посмотрим какие в этих папках файлы и вспомним библиотеку `os`  \n",
    "Что бы не забивать ноутбук выводить `info` получаемых датафреймов не будем"
   ]
  },
  {
   "cell_type": "code",
   "execution_count": 2,
   "id": "1f1ae872",
   "metadata": {},
   "outputs": [
    {
     "data": {
      "text/plain": [
       "['links.csv',\n",
       " 'tags.csv',\n",
       " 'genome-tags.csv',\n",
       " 'ratings.csv',\n",
       " 'genome-scores.csv',\n",
       " 'movies.csv']"
      ]
     },
     "execution_count": 2,
     "metadata": {},
     "output_type": "execute_result"
    }
   ],
   "source": [
    "task_1_files = [file for file in os.listdir('ml-latest') if '.csv' in file]\n",
    "# распакованный архив с этого сайта кладем в папку с ноутбуком\n",
    "task_1_files"
   ]
  },
  {
   "cell_type": "code",
   "execution_count": 3,
   "id": "1b6bf164",
   "metadata": {},
   "outputs": [
    {
     "data": {
      "text/plain": [
       "'Имя файла:links.csv'"
      ]
     },
     "metadata": {},
     "output_type": "display_data"
    },
    {
     "data": {
      "text/html": [
       "<div>\n",
       "<style scoped>\n",
       "    .dataframe tbody tr th:only-of-type {\n",
       "        vertical-align: middle;\n",
       "    }\n",
       "\n",
       "    .dataframe tbody tr th {\n",
       "        vertical-align: top;\n",
       "    }\n",
       "\n",
       "    .dataframe thead th {\n",
       "        text-align: right;\n",
       "    }\n",
       "</style>\n",
       "<table border=\"1\" class=\"dataframe\">\n",
       "  <thead>\n",
       "    <tr style=\"text-align: right;\">\n",
       "      <th></th>\n",
       "      <th>movieId</th>\n",
       "      <th>imdbId</th>\n",
       "      <th>tmdbId</th>\n",
       "    </tr>\n",
       "  </thead>\n",
       "  <tbody>\n",
       "    <tr>\n",
       "      <th>0</th>\n",
       "      <td>1</td>\n",
       "      <td>114709</td>\n",
       "      <td>862.0</td>\n",
       "    </tr>\n",
       "    <tr>\n",
       "      <th>1</th>\n",
       "      <td>2</td>\n",
       "      <td>113497</td>\n",
       "      <td>8844.0</td>\n",
       "    </tr>\n",
       "    <tr>\n",
       "      <th>2</th>\n",
       "      <td>3</td>\n",
       "      <td>113228</td>\n",
       "      <td>15602.0</td>\n",
       "    </tr>\n",
       "  </tbody>\n",
       "</table>\n",
       "</div>"
      ],
      "text/plain": [
       "   movieId  imdbId   tmdbId\n",
       "0        1  114709    862.0\n",
       "1        2  113497   8844.0\n",
       "2        3  113228  15602.0"
      ]
     },
     "metadata": {},
     "output_type": "display_data"
    },
    {
     "data": {
      "text/plain": [
       "'Имя файла:tags.csv'"
      ]
     },
     "metadata": {},
     "output_type": "display_data"
    },
    {
     "data": {
      "text/html": [
       "<div>\n",
       "<style scoped>\n",
       "    .dataframe tbody tr th:only-of-type {\n",
       "        vertical-align: middle;\n",
       "    }\n",
       "\n",
       "    .dataframe tbody tr th {\n",
       "        vertical-align: top;\n",
       "    }\n",
       "\n",
       "    .dataframe thead th {\n",
       "        text-align: right;\n",
       "    }\n",
       "</style>\n",
       "<table border=\"1\" class=\"dataframe\">\n",
       "  <thead>\n",
       "    <tr style=\"text-align: right;\">\n",
       "      <th></th>\n",
       "      <th>userId</th>\n",
       "      <th>movieId</th>\n",
       "      <th>tag</th>\n",
       "      <th>timestamp</th>\n",
       "    </tr>\n",
       "  </thead>\n",
       "  <tbody>\n",
       "    <tr>\n",
       "      <th>0</th>\n",
       "      <td>14</td>\n",
       "      <td>110</td>\n",
       "      <td>epic</td>\n",
       "      <td>1443148538</td>\n",
       "    </tr>\n",
       "    <tr>\n",
       "      <th>1</th>\n",
       "      <td>14</td>\n",
       "      <td>110</td>\n",
       "      <td>Medieval</td>\n",
       "      <td>1443148532</td>\n",
       "    </tr>\n",
       "    <tr>\n",
       "      <th>2</th>\n",
       "      <td>14</td>\n",
       "      <td>260</td>\n",
       "      <td>sci-fi</td>\n",
       "      <td>1442169410</td>\n",
       "    </tr>\n",
       "  </tbody>\n",
       "</table>\n",
       "</div>"
      ],
      "text/plain": [
       "   userId  movieId       tag   timestamp\n",
       "0      14      110      epic  1443148538\n",
       "1      14      110  Medieval  1443148532\n",
       "2      14      260    sci-fi  1442169410"
      ]
     },
     "metadata": {},
     "output_type": "display_data"
    },
    {
     "data": {
      "text/plain": [
       "'Имя файла:genome-tags.csv'"
      ]
     },
     "metadata": {},
     "output_type": "display_data"
    },
    {
     "data": {
      "text/html": [
       "<div>\n",
       "<style scoped>\n",
       "    .dataframe tbody tr th:only-of-type {\n",
       "        vertical-align: middle;\n",
       "    }\n",
       "\n",
       "    .dataframe tbody tr th {\n",
       "        vertical-align: top;\n",
       "    }\n",
       "\n",
       "    .dataframe thead th {\n",
       "        text-align: right;\n",
       "    }\n",
       "</style>\n",
       "<table border=\"1\" class=\"dataframe\">\n",
       "  <thead>\n",
       "    <tr style=\"text-align: right;\">\n",
       "      <th></th>\n",
       "      <th>tagId</th>\n",
       "      <th>tag</th>\n",
       "    </tr>\n",
       "  </thead>\n",
       "  <tbody>\n",
       "    <tr>\n",
       "      <th>0</th>\n",
       "      <td>1</td>\n",
       "      <td>007</td>\n",
       "    </tr>\n",
       "    <tr>\n",
       "      <th>1</th>\n",
       "      <td>2</td>\n",
       "      <td>007 (series)</td>\n",
       "    </tr>\n",
       "    <tr>\n",
       "      <th>2</th>\n",
       "      <td>3</td>\n",
       "      <td>18th century</td>\n",
       "    </tr>\n",
       "  </tbody>\n",
       "</table>\n",
       "</div>"
      ],
      "text/plain": [
       "   tagId           tag\n",
       "0      1           007\n",
       "1      2  007 (series)\n",
       "2      3  18th century"
      ]
     },
     "metadata": {},
     "output_type": "display_data"
    },
    {
     "data": {
      "text/plain": [
       "'Имя файла:ratings.csv'"
      ]
     },
     "metadata": {},
     "output_type": "display_data"
    },
    {
     "data": {
      "text/html": [
       "<div>\n",
       "<style scoped>\n",
       "    .dataframe tbody tr th:only-of-type {\n",
       "        vertical-align: middle;\n",
       "    }\n",
       "\n",
       "    .dataframe tbody tr th {\n",
       "        vertical-align: top;\n",
       "    }\n",
       "\n",
       "    .dataframe thead th {\n",
       "        text-align: right;\n",
       "    }\n",
       "</style>\n",
       "<table border=\"1\" class=\"dataframe\">\n",
       "  <thead>\n",
       "    <tr style=\"text-align: right;\">\n",
       "      <th></th>\n",
       "      <th>userId</th>\n",
       "      <th>movieId</th>\n",
       "      <th>rating</th>\n",
       "      <th>timestamp</th>\n",
       "    </tr>\n",
       "  </thead>\n",
       "  <tbody>\n",
       "    <tr>\n",
       "      <th>0</th>\n",
       "      <td>1</td>\n",
       "      <td>307</td>\n",
       "      <td>3.5</td>\n",
       "      <td>1256677221</td>\n",
       "    </tr>\n",
       "    <tr>\n",
       "      <th>1</th>\n",
       "      <td>1</td>\n",
       "      <td>481</td>\n",
       "      <td>3.5</td>\n",
       "      <td>1256677456</td>\n",
       "    </tr>\n",
       "    <tr>\n",
       "      <th>2</th>\n",
       "      <td>1</td>\n",
       "      <td>1091</td>\n",
       "      <td>1.5</td>\n",
       "      <td>1256677471</td>\n",
       "    </tr>\n",
       "  </tbody>\n",
       "</table>\n",
       "</div>"
      ],
      "text/plain": [
       "   userId  movieId  rating   timestamp\n",
       "0       1      307     3.5  1256677221\n",
       "1       1      481     3.5  1256677456\n",
       "2       1     1091     1.5  1256677471"
      ]
     },
     "metadata": {},
     "output_type": "display_data"
    },
    {
     "data": {
      "text/plain": [
       "'Имя файла:genome-scores.csv'"
      ]
     },
     "metadata": {},
     "output_type": "display_data"
    },
    {
     "data": {
      "text/html": [
       "<div>\n",
       "<style scoped>\n",
       "    .dataframe tbody tr th:only-of-type {\n",
       "        vertical-align: middle;\n",
       "    }\n",
       "\n",
       "    .dataframe tbody tr th {\n",
       "        vertical-align: top;\n",
       "    }\n",
       "\n",
       "    .dataframe thead th {\n",
       "        text-align: right;\n",
       "    }\n",
       "</style>\n",
       "<table border=\"1\" class=\"dataframe\">\n",
       "  <thead>\n",
       "    <tr style=\"text-align: right;\">\n",
       "      <th></th>\n",
       "      <th>movieId</th>\n",
       "      <th>tagId</th>\n",
       "      <th>relevance</th>\n",
       "    </tr>\n",
       "  </thead>\n",
       "  <tbody>\n",
       "    <tr>\n",
       "      <th>0</th>\n",
       "      <td>1</td>\n",
       "      <td>1</td>\n",
       "      <td>0.02900</td>\n",
       "    </tr>\n",
       "    <tr>\n",
       "      <th>1</th>\n",
       "      <td>1</td>\n",
       "      <td>2</td>\n",
       "      <td>0.02375</td>\n",
       "    </tr>\n",
       "    <tr>\n",
       "      <th>2</th>\n",
       "      <td>1</td>\n",
       "      <td>3</td>\n",
       "      <td>0.05425</td>\n",
       "    </tr>\n",
       "  </tbody>\n",
       "</table>\n",
       "</div>"
      ],
      "text/plain": [
       "   movieId  tagId  relevance\n",
       "0        1      1    0.02900\n",
       "1        1      2    0.02375\n",
       "2        1      3    0.05425"
      ]
     },
     "metadata": {},
     "output_type": "display_data"
    },
    {
     "data": {
      "text/plain": [
       "'Имя файла:movies.csv'"
      ]
     },
     "metadata": {},
     "output_type": "display_data"
    },
    {
     "data": {
      "text/html": [
       "<div>\n",
       "<style scoped>\n",
       "    .dataframe tbody tr th:only-of-type {\n",
       "        vertical-align: middle;\n",
       "    }\n",
       "\n",
       "    .dataframe tbody tr th {\n",
       "        vertical-align: top;\n",
       "    }\n",
       "\n",
       "    .dataframe thead th {\n",
       "        text-align: right;\n",
       "    }\n",
       "</style>\n",
       "<table border=\"1\" class=\"dataframe\">\n",
       "  <thead>\n",
       "    <tr style=\"text-align: right;\">\n",
       "      <th></th>\n",
       "      <th>movieId</th>\n",
       "      <th>title</th>\n",
       "      <th>genres</th>\n",
       "    </tr>\n",
       "  </thead>\n",
       "  <tbody>\n",
       "    <tr>\n",
       "      <th>0</th>\n",
       "      <td>1</td>\n",
       "      <td>Toy Story (1995)</td>\n",
       "      <td>Adventure|Animation|Children|Comedy|Fantasy</td>\n",
       "    </tr>\n",
       "    <tr>\n",
       "      <th>1</th>\n",
       "      <td>2</td>\n",
       "      <td>Jumanji (1995)</td>\n",
       "      <td>Adventure|Children|Fantasy</td>\n",
       "    </tr>\n",
       "    <tr>\n",
       "      <th>2</th>\n",
       "      <td>3</td>\n",
       "      <td>Grumpier Old Men (1995)</td>\n",
       "      <td>Comedy|Romance</td>\n",
       "    </tr>\n",
       "  </tbody>\n",
       "</table>\n",
       "</div>"
      ],
      "text/plain": [
       "   movieId                    title  \\\n",
       "0        1         Toy Story (1995)   \n",
       "1        2           Jumanji (1995)   \n",
       "2        3  Grumpier Old Men (1995)   \n",
       "\n",
       "                                        genres  \n",
       "0  Adventure|Animation|Children|Comedy|Fantasy  \n",
       "1                   Adventure|Children|Fantasy  \n",
       "2                               Comedy|Romance  "
      ]
     },
     "metadata": {},
     "output_type": "display_data"
    },
    {
     "name": "stdout",
     "output_type": "stream",
     "text": [
      "CPU times: user 11.7 s, sys: 1.98 s, total: 13.7 s\n",
      "Wall time: 14 s\n"
     ]
    }
   ],
   "source": [
    "%%time\n",
    "for i,n in enumerate(task_1_files):\n",
    "    display('Имя файла:' + n, (pd.read_csv(os.getcwd() + '/ml-latest/' + task_1_files[i]).head(3)))"
   ]
  },
  {
   "cell_type": "markdown",
   "id": "a4bc9d10",
   "metadata": {},
   "source": [
    "Нам понадобятся файлы __ratings.csv__ и __movies.csv__"
   ]
  },
  {
   "cell_type": "code",
   "execution_count": null,
   "id": "aa78d5f3",
   "metadata": {},
   "outputs": [],
   "source": [
    "ratings = pd.read_csv(os.getcwd() + '/ml-latest/' + task_1_files[3])\n",
    "movies = pd.read_csv(os.getcwd() + '/ml-latest/' + task_1_files[5])"
   ]
  },
  {
   "cell_type": "markdown",
   "id": "7890cb37",
   "metadata": {},
   "source": [
    "Получим название искомого фильма двумя способами:  \n",
    "- получим его `id`, после чего отфильтруем по нему названия фильмов\n",
    "- отфильтруем только оценки 5, после чего соединим таблицу рейтингов с таблицей фильмов по `id`, посчитаем количества каждого фильма, отсортируем серию, и выведем индекс последнего значения"
   ]
  },
  {
   "cell_type": "markdown",
   "id": "1f2d6b97",
   "metadata": {},
   "source": [
    "1 вариант"
   ]
  },
  {
   "cell_type": "code",
   "execution_count": null,
   "id": "8fefd574",
   "metadata": {},
   "outputs": [],
   "source": [
    "%%time\n",
    "best_movie_id = ratings.query('rating == 5.0')['movieId'].value_counts().idxmax()\n",
    "movies.query('movieId == @best_movie_id')['title'].values[0]"
   ]
  },
  {
   "cell_type": "markdown",
   "id": "93368166",
   "metadata": {},
   "source": [
    "2 вариант"
   ]
  },
  {
   "cell_type": "code",
   "execution_count": null,
   "id": "95c19d69",
   "metadata": {},
   "outputs": [],
   "source": [
    "%%time\n",
    "result = pd.merge(ratings.query('rating == 5.0'), movies, how='left', on = 'movieId')\n",
    "result['title'].value_counts().sort_values().tail(1).index[0]"
   ]
  },
  {
   "cell_type": "markdown",
   "id": "0a1bb011",
   "metadata": {},
   "source": [
    "Оба варианта возвращают одно название, но первый немного быстрее"
   ]
  },
  {
   "cell_type": "markdown",
   "id": "69223265",
   "metadata": {},
   "source": [
    "#### Задание 2\n",
    "По данным файла power.csv посчитайте суммарное потребление стран Прибалтики (Латвия, Литва и Эстония) категорий 4, 12 и 21 за период с 2005 по 2010 года. Не учитывайте в расчетах отрицательные значения quantity."
   ]
  },
  {
   "cell_type": "code",
   "execution_count": null,
   "id": "480374fb",
   "metadata": {},
   "outputs": [],
   "source": [
    "task_2_files = [file for file in os.listdir('Основы_pandas') if '.csv' in file]\n",
    "# распакованный архив с дополнительными файлами этого блока кладем в папку с ноутбуком\n",
    "task_2_files"
   ]
  },
  {
   "cell_type": "code",
   "execution_count": null,
   "id": "b20a789f",
   "metadata": {},
   "outputs": [],
   "source": [
    "for i,n in enumerate(task_2_files):\n",
    "    display('Имя файла:' + n, (pd.read_csv(os.getcwd() + '/Основы_pandas/' + task_2_files[i]).head(3)))"
   ]
  },
  {
   "cell_type": "code",
   "execution_count": null,
   "id": "75eac0e4",
   "metadata": {},
   "outputs": [],
   "source": [
    "power = pd.read_csv(os.getcwd() + '/Основы_pandas/' + task_2_files[0])"
   ]
  },
  {
   "cell_type": "markdown",
   "id": "46694fd1",
   "metadata": {},
   "source": [
    "Проверим отсортированный список стран"
   ]
  },
  {
   "cell_type": "code",
   "execution_count": null,
   "id": "92e022a8",
   "metadata": {},
   "outputs": [],
   "source": [
    "np.sort(power['country'].unique())"
   ]
  },
  {
   "cell_type": "markdown",
   "id": "be177209",
   "metadata": {},
   "source": [
    "Проверим список с отфильтрованными странами"
   ]
  },
  {
   "cell_type": "code",
   "execution_count": null,
   "id": "fc99f7dd",
   "metadata": {},
   "outputs": [],
   "source": [
    "power[\n",
    "    power['country'].str.contains('lat|lit|esto', case=False)\n",
    "]['country'].unique()"
   ]
  },
  {
   "cell_type": "markdown",
   "id": "bc289fa7",
   "metadata": {},
   "source": [
    "Получим суммарное потребление стран Прибалтики согласно условию двумя способами:  \n",
    "- фильтруя страны по нескольким буквам\n",
    "- фильтруя страны по полным названиям"
   ]
  },
  {
   "cell_type": "code",
   "execution_count": null,
   "id": "ccf7b80e",
   "metadata": {},
   "outputs": [],
   "source": [
    "power[\n",
    "    power['country'].str.contains('lat|lit|esto', case=False)\n",
    "].query('2005 <=year <= 2010 & quantity > 0 & category in [4,12,21]')['quantity'].sum()"
   ]
  },
  {
   "cell_type": "code",
   "execution_count": null,
   "id": "67e0b23d",
   "metadata": {},
   "outputs": [],
   "source": [
    "power[\n",
    "    power['country'].isin(['Lithuania', 'Latvia', 'Estonia'])\n",
    "].query('2005 <=year <= 2010 & quantity > 0 & category in [4,12,21]')['quantity'].sum()"
   ]
  },
  {
   "cell_type": "markdown",
   "id": "a533830a",
   "metadata": {},
   "source": [
    "#### Задание 3\n",
    "Выберите страницу любого сайта с табличными данными. Импортируйте таблицы в pandas dataframe.\n",
    "Примеры страниц (необязательно брать именно эти):  \n",
    "https://fortrader.org/currencyrates  \n",
    "https://www.finanz.ru/aktsii/realnom-vremeni-spisok/nasdaq_100"
   ]
  },
  {
   "cell_type": "code",
   "execution_count": null,
   "id": "2b59a073",
   "metadata": {},
   "outputs": [],
   "source": [
    "url_1 = \"https://fortrader.org/currencyrates\"\n",
    "url_2 = \"https://www.finanz.ru/aktsii/realnom-vremeni-spisok/nasdaq_100\""
   ]
  },
  {
   "cell_type": "code",
   "execution_count": null,
   "id": "315ffd47",
   "metadata": {},
   "outputs": [],
   "source": [
    "fortrader = pd.read_html(url_1, encoding='utf-8')[0]"
   ]
  },
  {
   "cell_type": "code",
   "execution_count": null,
   "id": "b5f6943e",
   "metadata": {},
   "outputs": [],
   "source": [
    "fortrader.head(10)"
   ]
  },
  {
   "cell_type": "code",
   "execution_count": null,
   "id": "073135d1",
   "metadata": {},
   "outputs": [],
   "source": [
    "finanz = pd.read_html(url_2, attrs={'class':'quote_list'}, encoding='utf-8')[0]\n",
    "finanz.head(2)"
   ]
  },
  {
   "cell_type": "markdown",
   "id": "488a8e79",
   "metadata": {},
   "source": [
    "Для `finanz` метод выводит странное название столбца __\"Имя\"__ и странный пустой столбец. Название столбца надо восстановить, от столбца __\"Unnamed: 0\"__ - избавиться"
   ]
  },
  {
   "cell_type": "code",
   "execution_count": null,
   "id": "10273897",
   "metadata": {},
   "outputs": [],
   "source": [
    "finanz = pd.read_html(url_2, attrs={'class':'quote_list'}, encoding='utf-8', index_col=0)[0].reset_index(drop=True)"
   ]
  },
  {
   "cell_type": "code",
   "execution_count": null,
   "id": "2aff85d8",
   "metadata": {},
   "outputs": [],
   "source": [
    "finanz.columns = ['Имя','ISIN', 'Пред. закр.', 'Посл. зн.', 'Объём', '%', '+/-', 'Время']"
   ]
  },
  {
   "cell_type": "code",
   "execution_count": null,
   "id": "911b54f2",
   "metadata": {},
   "outputs": [],
   "source": [
    "finanz.head(10)"
   ]
  }
 ],
 "metadata": {
  "kernelspec": {
   "display_name": "Python 3 (ipykernel)",
   "language": "python",
   "name": "python3"
  },
  "language_info": {
   "codemirror_mode": {
    "name": "ipython",
    "version": 3
   },
   "file_extension": ".py",
   "mimetype": "text/x-python",
   "name": "python",
   "nbconvert_exporter": "python",
   "pygments_lexer": "ipython3",
   "version": "3.9.7"
  }
 },
 "nbformat": 4,
 "nbformat_minor": 5
}
