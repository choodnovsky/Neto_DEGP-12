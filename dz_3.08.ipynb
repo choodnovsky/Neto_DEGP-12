{
 "cells": [
  {
   "cell_type": "markdown",
   "id": "890ae6e6",
   "metadata": {},
   "source": [
    "### Домашнее задание №8 к лекции «Кейс-стади»"
   ]
  },
  {
   "cell_type": "code",
   "execution_count": 1,
   "id": "327da7ff",
   "metadata": {},
   "outputs": [],
   "source": [
    "import pandas as pd\n",
    "import numpy as np\n",
    "import matplotlib.pyplot as plt\n",
    "import seaborn as sns\n",
    "from scipy import stats\n",
    "# from sklearn.feature_extraction.text import TfidfVectorizer\n",
    "import warnings # отключим предупреждения анаконды\n",
    "warnings.filterwarnings('ignore')\n",
    "import re\n",
    "import nltk\n",
    "from nltk.corpus import stopwords\n",
    "from nltk.stem import WordNetLemmatizer\n",
    "from gensim import corpora\n",
    "from gensim.models import TfidfModel\n",
    "from sklearn.model_selection import train_test_split\n",
    "from sklearn.preprocessing import StandardScaler\n",
    "from sklearn.linear_model import LogisticRegression\n",
    "from sklearn.metrics import (accuracy_score, precision_score, recall_score, \n",
    "                             f1_score, roc_auc_score, confusion_matrix)"
   ]
  },
  {
   "cell_type": "markdown",
   "id": "e3757e8e",
   "metadata": {},
   "source": [
    "### Задание 1\n",
    "Вернемся к набору данных о видеоиграх.\n",
    "\n",
    "Ответьте на следующие вопросы:  \n",
    "\n",
    "1. Как критики относятся к спортивным играм?  \n",
    "2. Критикам нравятся больше игры на PC или на PS4?  \n",
    "3. Критикам больше нравятся стрелялки или стратегии?  \n",
    "\n",
    "Для каждого вопроса:  \n",
    "\n",
    "- сформулируйте нулевую и альтернативную гипотезы;  \n",
    "- выберите пороговый уровень статистической значимости;  \n",
    "- опишите полученные результаты статистического теста.  "
   ]
  },
  {
   "cell_type": "code",
   "execution_count": 2,
   "id": "91e6dd31",
   "metadata": {},
   "outputs": [
    {
     "data": {
      "text/html": [
       "<div>\n",
       "<style scoped>\n",
       "    .dataframe tbody tr th:only-of-type {\n",
       "        vertical-align: middle;\n",
       "    }\n",
       "\n",
       "    .dataframe tbody tr th {\n",
       "        vertical-align: top;\n",
       "    }\n",
       "\n",
       "    .dataframe thead th {\n",
       "        text-align: right;\n",
       "    }\n",
       "</style>\n",
       "<table border=\"1\" class=\"dataframe\">\n",
       "  <thead>\n",
       "    <tr style=\"text-align: right;\">\n",
       "      <th></th>\n",
       "      <th>Name</th>\n",
       "      <th>Platform</th>\n",
       "      <th>Year_of_Release</th>\n",
       "      <th>Genre</th>\n",
       "      <th>Publisher</th>\n",
       "      <th>NA_Sales</th>\n",
       "      <th>EU_Sales</th>\n",
       "      <th>JP_Sales</th>\n",
       "      <th>Other_Sales</th>\n",
       "      <th>Global_Sales</th>\n",
       "      <th>Critic_Score</th>\n",
       "      <th>Critic_Count</th>\n",
       "      <th>User_Score</th>\n",
       "      <th>User_Count</th>\n",
       "      <th>Developer</th>\n",
       "      <th>Rating</th>\n",
       "    </tr>\n",
       "  </thead>\n",
       "  <tbody>\n",
       "    <tr>\n",
       "      <th>0</th>\n",
       "      <td>Wii Sports</td>\n",
       "      <td>Wii</td>\n",
       "      <td>2006.0</td>\n",
       "      <td>Sports</td>\n",
       "      <td>Nintendo</td>\n",
       "      <td>41.36</td>\n",
       "      <td>28.96</td>\n",
       "      <td>3.77</td>\n",
       "      <td>8.45</td>\n",
       "      <td>82.53</td>\n",
       "      <td>76.0</td>\n",
       "      <td>51.0</td>\n",
       "      <td>8</td>\n",
       "      <td>322.0</td>\n",
       "      <td>Nintendo</td>\n",
       "      <td>E</td>\n",
       "    </tr>\n",
       "    <tr>\n",
       "      <th>1</th>\n",
       "      <td>Super Mario Bros.</td>\n",
       "      <td>NES</td>\n",
       "      <td>1985.0</td>\n",
       "      <td>Platform</td>\n",
       "      <td>Nintendo</td>\n",
       "      <td>29.08</td>\n",
       "      <td>3.58</td>\n",
       "      <td>6.81</td>\n",
       "      <td>0.77</td>\n",
       "      <td>40.24</td>\n",
       "      <td>NaN</td>\n",
       "      <td>NaN</td>\n",
       "      <td>NaN</td>\n",
       "      <td>NaN</td>\n",
       "      <td>NaN</td>\n",
       "      <td>NaN</td>\n",
       "    </tr>\n",
       "    <tr>\n",
       "      <th>2</th>\n",
       "      <td>Mario Kart Wii</td>\n",
       "      <td>Wii</td>\n",
       "      <td>2008.0</td>\n",
       "      <td>Racing</td>\n",
       "      <td>Nintendo</td>\n",
       "      <td>15.68</td>\n",
       "      <td>12.76</td>\n",
       "      <td>3.79</td>\n",
       "      <td>3.29</td>\n",
       "      <td>35.52</td>\n",
       "      <td>82.0</td>\n",
       "      <td>73.0</td>\n",
       "      <td>8.3</td>\n",
       "      <td>709.0</td>\n",
       "      <td>Nintendo</td>\n",
       "      <td>E</td>\n",
       "    </tr>\n",
       "    <tr>\n",
       "      <th>3</th>\n",
       "      <td>Wii Sports Resort</td>\n",
       "      <td>Wii</td>\n",
       "      <td>2009.0</td>\n",
       "      <td>Sports</td>\n",
       "      <td>Nintendo</td>\n",
       "      <td>15.61</td>\n",
       "      <td>10.93</td>\n",
       "      <td>3.28</td>\n",
       "      <td>2.95</td>\n",
       "      <td>32.77</td>\n",
       "      <td>80.0</td>\n",
       "      <td>73.0</td>\n",
       "      <td>8</td>\n",
       "      <td>192.0</td>\n",
       "      <td>Nintendo</td>\n",
       "      <td>E</td>\n",
       "    </tr>\n",
       "    <tr>\n",
       "      <th>4</th>\n",
       "      <td>Pokemon Red/Pokemon Blue</td>\n",
       "      <td>GB</td>\n",
       "      <td>1996.0</td>\n",
       "      <td>Role-Playing</td>\n",
       "      <td>Nintendo</td>\n",
       "      <td>11.27</td>\n",
       "      <td>8.89</td>\n",
       "      <td>10.22</td>\n",
       "      <td>1.00</td>\n",
       "      <td>31.37</td>\n",
       "      <td>NaN</td>\n",
       "      <td>NaN</td>\n",
       "      <td>NaN</td>\n",
       "      <td>NaN</td>\n",
       "      <td>NaN</td>\n",
       "      <td>NaN</td>\n",
       "    </tr>\n",
       "  </tbody>\n",
       "</table>\n",
       "</div>"
      ],
      "text/plain": [
       "                       Name Platform  Year_of_Release         Genre Publisher  \\\n",
       "0                Wii Sports      Wii           2006.0        Sports  Nintendo   \n",
       "1         Super Mario Bros.      NES           1985.0      Platform  Nintendo   \n",
       "2            Mario Kart Wii      Wii           2008.0        Racing  Nintendo   \n",
       "3         Wii Sports Resort      Wii           2009.0        Sports  Nintendo   \n",
       "4  Pokemon Red/Pokemon Blue       GB           1996.0  Role-Playing  Nintendo   \n",
       "\n",
       "   NA_Sales  EU_Sales  JP_Sales  Other_Sales  Global_Sales  Critic_Score  \\\n",
       "0     41.36     28.96      3.77         8.45         82.53          76.0   \n",
       "1     29.08      3.58      6.81         0.77         40.24           NaN   \n",
       "2     15.68     12.76      3.79         3.29         35.52          82.0   \n",
       "3     15.61     10.93      3.28         2.95         32.77          80.0   \n",
       "4     11.27      8.89     10.22         1.00         31.37           NaN   \n",
       "\n",
       "   Critic_Count User_Score  User_Count Developer Rating  \n",
       "0          51.0          8       322.0  Nintendo      E  \n",
       "1           NaN        NaN         NaN       NaN    NaN  \n",
       "2          73.0        8.3       709.0  Nintendo      E  \n",
       "3          73.0          8       192.0  Nintendo      E  \n",
       "4           NaN        NaN         NaN       NaN    NaN  "
      ]
     },
     "metadata": {},
     "output_type": "display_data"
    }
   ],
   "source": [
    "games = pd.read_csv('https://raw.githubusercontent.com/obulygin/pyda_homeworks/master/stat_case_study/vgsales.csv')\n",
    "display(games.head())"
   ]
  },
  {
   "cell_type": "code",
   "execution_count": 3,
   "id": "cd228453",
   "metadata": {},
   "outputs": [
    {
     "name": "stdout",
     "output_type": "stream",
     "text": [
      "<class 'pandas.core.frame.DataFrame'>\n",
      "RangeIndex: 16719 entries, 0 to 16718\n",
      "Data columns (total 16 columns):\n",
      " #   Column           Non-Null Count  Dtype  \n",
      "---  ------           --------------  -----  \n",
      " 0   Name             16717 non-null  object \n",
      " 1   Platform         16719 non-null  object \n",
      " 2   Year_of_Release  16450 non-null  float64\n",
      " 3   Genre            16717 non-null  object \n",
      " 4   Publisher        16665 non-null  object \n",
      " 5   NA_Sales         16719 non-null  float64\n",
      " 6   EU_Sales         16719 non-null  float64\n",
      " 7   JP_Sales         16719 non-null  float64\n",
      " 8   Other_Sales      16719 non-null  float64\n",
      " 9   Global_Sales     16719 non-null  float64\n",
      " 10  Critic_Score     8137 non-null   float64\n",
      " 11  Critic_Count     8137 non-null   float64\n",
      " 12  User_Score       10015 non-null  object \n",
      " 13  User_Count       7590 non-null   float64\n",
      " 14  Developer        10096 non-null  object \n",
      " 15  Rating           9950 non-null   object \n",
      "dtypes: float64(9), object(7)\n",
      "memory usage: 2.0+ MB\n"
     ]
    }
   ],
   "source": [
    "games.info()"
   ]
  },
  {
   "cell_type": "markdown",
   "id": "519ff67b",
   "metadata": {},
   "source": [
    "#### 1.1 Как критики относятся к спортивным играм?"
   ]
  },
  {
   "cell_type": "markdown",
   "id": "39d31842",
   "metadata": {},
   "source": [
    "Проверим выборки на нормальность и на количество наблюдений. Если они не нормальны и/не равны применим __U-тест__"
   ]
  },
  {
   "cell_type": "code",
   "execution_count": 4,
   "id": "20441b9d",
   "metadata": {},
   "outputs": [
    {
     "data": {
      "text/plain": [
       "Action          1890\n",
       "Sports          1194\n",
       "Shooter          944\n",
       "Racing           742\n",
       "Role-Playing     737\n",
       "Misc             523\n",
       "Platform         497\n",
       "Fighting         409\n",
       "Simulation       352\n",
       "Adventure        323\n",
       "Strategy         302\n",
       "Puzzle           224\n",
       "Name: Genre, dtype: int64"
      ]
     },
     "execution_count": 4,
     "metadata": {},
     "output_type": "execute_result"
    }
   ],
   "source": [
    "games[~games['Critic_Score'].isna()]['Genre'].value_counts()"
   ]
  },
  {
   "cell_type": "code",
   "execution_count": 5,
   "id": "32ef8d21",
   "metadata": {},
   "outputs": [],
   "source": [
    "x = games.loc[games['Genre'] == 'Sports']['Critic_Score'].dropna()\n",
    "y = games.loc[games['Genre'] != 'Sports']['Critic_Score'].dropna()"
   ]
  },
  {
   "cell_type": "code",
   "execution_count": 6,
   "id": "4f647ae5",
   "metadata": {
    "scrolled": false
   },
   "outputs": [
    {
     "name": "stdout",
     "output_type": "stream",
     "text": [
      "Для sport p-значение 0.000% распределение не нормально\n",
      "Для other p-значение 0.000% распределение не нормально\n"
     ]
    },
    {
     "data": {
      "image/png": "[encoded data removed]",
      "text/plain": [
       "<Figure size 432x288 with 1 Axes>"
      ]
     },
     "metadata": {
      "needs_background": "light"
     },
     "output_type": "display_data"
    }
   ],
   "source": [
    "alpha = 0.05\n",
    "for key,val in dict(zip(['sport', 'other'], [x, y])).items():\n",
    "    results = stats.shapiro(val)\n",
    "    p_value = results[1]\n",
    "    if p_value < alpha:\n",
    "        res = f'Для {key} p-значение {p_value:.3%} распределение не нормально'\n",
    "    else:\n",
    "        res = f'Для {key} p-значение {p_value:.3%} распределение нормально'\n",
    "    print(res)\n",
    "x.hist(alpha=.5)\n",
    "y.hist(alpha=.5)\n",
    "plt.show()"
   ]
  },
  {
   "cell_type": "markdown",
   "id": "627c0162",
   "metadata": {},
   "source": [
    "Выборки не нормальные, и разные по количеству. Применим непараметрический тест Манна-Уитни"
   ]
  },
  {
   "cell_type": "code",
   "execution_count": 7,
   "id": "efc42ab4",
   "metadata": {},
   "outputs": [
    {
     "name": "stdout",
     "output_type": "stream",
     "text": [
      "альфа 5%\n",
      "Гипотеза об отношении критиков к спортивным играм и остальным\n",
      "H0 - различий нет\n",
      "H1 - различия есть\n",
      "p-значение:0.00000000000000000002\n",
      "Отклоняем нулевую гипотезу - различия есть\n"
     ]
    }
   ],
   "source": [
    "alpha = 0.05\n",
    "res = stats.mannwhitneyu(x, y)\n",
    "print(f'альфа {alpha:.0%}')\n",
    "print(f'Гипотеза об отношении критиков к спортивным играм и остальным\\nH0 - различий нет\\nH1 - различия есть')\n",
    "print(f'p-значение:{res.pvalue:.20f}')\n",
    "if (res.pvalue < alpha):\n",
    "    print(\"Отклоняем нулевую гипотезу - различия есть\")\n",
    "else:\n",
    "    print(\"Недостаточно оснований отклонить нулевую гипотезу\")"
   ]
  },
  {
   "cell_type": "markdown",
   "id": "d68e4c4b",
   "metadata": {},
   "source": [
    "Согласно __p-значения__, критики к спортивным играм относятся не так как к остальным, а судя по средней оценке, к спортивным играм они относятся лучше."
   ]
  },
  {
   "cell_type": "markdown",
   "id": "c49724d1",
   "metadata": {},
   "source": [
    "#### 1.2 Критикам нравятся больше игры на PC или на PS4?"
   ]
  },
  {
   "cell_type": "markdown",
   "id": "35f499cf",
   "metadata": {},
   "source": [
    "Так же проверим выборки на нормальность и посмотрим на их средние"
   ]
  },
  {
   "cell_type": "code",
   "execution_count": 8,
   "id": "5de7a944",
   "metadata": {},
   "outputs": [
    {
     "data": {
      "text/plain": [
       "(75.92867132867133, 68.86785034876347)"
      ]
     },
     "execution_count": 8,
     "metadata": {},
     "output_type": "execute_result"
    }
   ],
   "source": [
    "x = games.loc[games['Platform'] == 'PC']['Critic_Score'].dropna()\n",
    "y = games.loc[games['Platform'] != 'PS4']['Critic_Score'].dropna()\n",
    "x.mean(), y.mean()"
   ]
  },
  {
   "cell_type": "code",
   "execution_count": 9,
   "id": "a48afeae",
   "metadata": {},
   "outputs": [
    {
     "name": "stdout",
     "output_type": "stream",
     "text": [
      "Для PC p-значение 0.000% распределение не нормально\n",
      "Для PS4 p-значение 0.000% распределение не нормально\n"
     ]
    },
    {
     "data": {
      "image/png": "[encoded data removed]",
      "text/plain": [
       "<Figure size 432x288 with 1 Axes>"
      ]
     },
     "metadata": {
      "needs_background": "light"
     },
     "output_type": "display_data"
    }
   ],
   "source": [
    "alpha = 0.05\n",
    "for key,val in dict(zip(['PC', 'PS4'], [x, y])).items():\n",
    "    results = stats.shapiro(val)\n",
    "    p_value = results[1]\n",
    "    if p_value < alpha:\n",
    "        res = f'Для {key} p-значение {p_value:.3%} распределение не нормально'\n",
    "    else:\n",
    "        res = f'Для {key} p-значение {p_value:.3%} распределение нормально'\n",
    "    print(res)\n",
    "x.hist(alpha=.5)\n",
    "y.hist(alpha=.5)\n",
    "plt.show()"
   ]
  },
  {
   "cell_type": "markdown",
   "id": "030d1d1b",
   "metadata": {},
   "source": [
    "Как и ожидалось выборки не равны и не нормальны. Применим бутстрап.  \n",
    "1. Будем случайно вынимать две группы равные группам А и Б, \n",
    "2. Вычислять разницу их средних,  \n",
    "3. Сравнивать с реальной разницей,  \n",
    "4. Если по модулю они превышают фактическую среднюю,  \n",
    "5. Будем записывать этот факт в отдельный список  \n",
    "Средняя этого списка будет __p-значением__"
   ]
  },
  {
   "cell_type": "code",
   "execution_count": 10,
   "id": "b2548eb9",
   "metadata": {},
   "outputs": [
    {
     "name": "stdout",
     "output_type": "stream",
     "text": [
      "альфа 5%\n",
      "Гипотеза об отношении критиков к PC и PS4\n",
      "H0 - различий нет\n",
      "H1 - различия есть\n",
      "p-значение: 0.00000000000000000000\n",
      "Отклоняем нулевую гипотезу - различия есть\n"
     ]
    }
   ],
   "source": [
    "diff = abs(x.mean() - y.mean())\n",
    "alpha = .05\n",
    "boot = []\n",
    "all_scores = pd.concat([x, y])\n",
    "for i in range(10000):\n",
    "    x_sample = all_scores.sample(len(x), replace=True)\n",
    "    y_sample = all_scores.sample(len(y), replace=True)\n",
    "    s = abs(x_sample.mean() - y_sample.mean()) >= diff\n",
    "    boot.append(s)\n",
    "p_value = pd.Series(boot).mean()\n",
    "print(f'альфа {alpha:.0%}')\n",
    "print('Гипотеза об отношении критиков к PC и PS4\\nH0 - различий нет\\nH1 - различия есть')\n",
    "print(f'p-значение: {p_value:.20f}')\n",
    "if (p_value < alpha):\n",
    "    print(\"Отклоняем нулевую гипотезу - различия есть\")\n",
    "else:\n",
    "    print(\"Недостаточно оснований отклонить нулевую гипотезу\")"
   ]
  },
  {
   "cell_type": "markdown",
   "id": "769957fe",
   "metadata": {},
   "source": [
    "Критикам больше нравятся игры на PC"
   ]
  },
  {
   "cell_type": "markdown",
   "id": "93cd5f25",
   "metadata": {},
   "source": [
    "#### 1.3 Критикам больше нравятся стрелялки или стратегии?"
   ]
  },
  {
   "cell_type": "markdown",
   "id": "22fda41e",
   "metadata": {},
   "source": [
    "Аналогично проверим выборки на нормальность и равность. Если это не так (что скорее всего), преобразуем их бутстрапом. Будем с выдергивать все строки в случайном порядке, находить средние по стрелялкам или стратегиям и записывать их в отдельный список. Средние значения каждой подвыборки будут распределены нормально вокруг реальной средней согласно __ЦПТ__, таким образом мы приведем их к нормальному распределению и равными по количеству. Потом проверим гипотезу __t-тестом__"
   ]
  },
  {
   "cell_type": "code",
   "execution_count": 11,
   "id": "9473c7eb",
   "metadata": {},
   "outputs": [],
   "source": [
    "x = games.loc[games['Genre'] == 'Shooter']['Critic_Score'].dropna()\n",
    "y = games.loc[games['Genre'] == 'Strategy']['Critic_Score'].dropna()"
   ]
  },
  {
   "cell_type": "code",
   "execution_count": 12,
   "id": "ef82884f",
   "metadata": {},
   "outputs": [
    {
     "name": "stdout",
     "output_type": "stream",
     "text": [
      "Для Shooter p-значение 0.000% распределение не нормально\n",
      "Для Strategy p-значение 0.003% распределение не нормально\n"
     ]
    },
    {
     "data": {
      "image/png": "[encoded data removed]",
      "text/plain": [
       "<Figure size 432x288 with 1 Axes>"
      ]
     },
     "metadata": {
      "needs_background": "light"
     },
     "output_type": "display_data"
    }
   ],
   "source": [
    "alpha = 0.05\n",
    "for key,val in dict(zip(['Shooter', 'Strategy'], [x, y])).items():\n",
    "    results = stats.shapiro(val)\n",
    "    p_value = results[1]\n",
    "    if p_value < alpha:\n",
    "        res = f'Для {key} p-значение {p_value:.3%} распределение не нормально'\n",
    "    else:\n",
    "        res = f'Для {key} p-значение {p_value:.3%} распределение нормально'\n",
    "    print(res)\n",
    "x.hist(alpha=.5)\n",
    "y.hist(alpha=.5)\n",
    "plt.show()"
   ]
  },
  {
   "cell_type": "code",
   "execution_count": 13,
   "id": "e2ae61b8",
   "metadata": {},
   "outputs": [
    {
     "data": {
      "text/plain": [
       "<Figure size 1080x720 with 0 Axes>"
      ]
     },
     "metadata": {},
     "output_type": "display_data"
    },
    {
     "data": {
      "image/png": "[encoded data removed]",
      "text/plain": [
       "<Figure size 432x288 with 1 Axes>"
      ]
     },
     "metadata": {
      "needs_background": "light"
     },
     "output_type": "display_data"
    },
    {
     "name": "stdout",
     "output_type": "stream",
     "text": [
      "p-значение: 0.003%\n",
      "Гипотеза об отношении критиков к стрелялкам и стратегиям\n",
      "H0 - различий нет\n",
      "H1 - различия есть\n",
      "Отклоняем нулевую гипотезу - различия есть\n"
     ]
    }
   ],
   "source": [
    "plt.figure(figsize=(15, 10))\n",
    "boot_1d = []\n",
    "for i in range(10000):\n",
    "    boot_mean = games[games['Genre'].isin(['Shooter', 'Strategy'])].sample(\n",
    "        frac=1, replace=True).groupby('Genre')['Critic_Score'].mean()\n",
    "    boot_1d.append(boot_mean)\n",
    "boot_1d = pd.DataFrame(boot_1d)\n",
    "boot_1d.plot(kind='density')\n",
    "stats.ttest_ind(boot_1d['Shooter'], boot_1d['Strategy'], equal_var=False)\n",
    "plt.show()\n",
    "\n",
    "alpha = 0.05\n",
    "print(f'p-значение: {(results.pvalue):.3%}')\n",
    "print('Гипотеза об отношении критиков к стрелялкам и стратегиям\\nH0 - различий нет\\nH1 - различия есть')\n",
    "if results.pvalue < alpha:\n",
    "    print('Отклоняем нулевую гипотезу - различия есть')\n",
    "else:\n",
    "    print('Недостаточно оснований отклонить нулевую гипотезу')"
   ]
  },
  {
   "cell_type": "markdown",
   "id": "f4bef0fd",
   "metadata": {},
   "source": [
    "Критикам больше нравятся стратегии"
   ]
  },
  {
   "cell_type": "markdown",
   "id": "d962e168",
   "metadata": {},
   "source": [
    "### Задание 2  \n",
    "Реализуйте базовую модель логистической регрессии для классификации текстовых сообщений по признаку спама. Для этого:  \n",
    "\n",
    "1. Привидите весь текст к нижнему регистру;\n",
    "2. Удалите мусорные символы;\n",
    "3. Удалите стоп-слова;\n",
    "4. Привидите все слова к нормальной форме;\n",
    "5. Преобразуйте все сообщения в вектора TF-IDF.\n",
    "6. Разделите данные на тестовые и тренировочные в соотношении 30/70, укажите random_state=42. Используйте train_test_split;\n",
    "7. Постройте модель логистической регрессии, укажите random_state=42, оцените ее точность на тестовых данных;\n",
    "8. Опишите результаты при помощи confusion_matrix;\n",
    "9. Постройте датафрейм, который будет содержать все исходные тексты сообщений, классифицированные неправильно (с указанием фактического и предсказанного). "
   ]
  },
  {
   "cell_type": "code",
   "execution_count": 14,
   "id": "5d7a70f2",
   "metadata": {},
   "outputs": [
    {
     "data": {
      "text/html": [
       "<div>\n",
       "<style scoped>\n",
       "    .dataframe tbody tr th:only-of-type {\n",
       "        vertical-align: middle;\n",
       "    }\n",
       "\n",
       "    .dataframe tbody tr th {\n",
       "        vertical-align: top;\n",
       "    }\n",
       "\n",
       "    .dataframe thead th {\n",
       "        text-align: right;\n",
       "    }\n",
       "</style>\n",
       "<table border=\"1\" class=\"dataframe\">\n",
       "  <thead>\n",
       "    <tr style=\"text-align: right;\">\n",
       "      <th></th>\n",
       "      <th>Category</th>\n",
       "      <th>Message</th>\n",
       "    </tr>\n",
       "  </thead>\n",
       "  <tbody>\n",
       "    <tr>\n",
       "      <th>350</th>\n",
       "      <td>ham</td>\n",
       "      <td>Just checking in on you. Really do miss seeing...</td>\n",
       "    </tr>\n",
       "    <tr>\n",
       "      <th>459</th>\n",
       "      <td>ham</td>\n",
       "      <td>1.20 that call cost. Which i guess isnt bad. M...</td>\n",
       "    </tr>\n",
       "    <tr>\n",
       "      <th>5482</th>\n",
       "      <td>spam</td>\n",
       "      <td>URGENT We are trying to contact you Last weeke...</td>\n",
       "    </tr>\n",
       "    <tr>\n",
       "      <th>4156</th>\n",
       "      <td>spam</td>\n",
       "      <td>Want a new Video Phone? 750 anytime any networ...</td>\n",
       "    </tr>\n",
       "    <tr>\n",
       "      <th>5514</th>\n",
       "      <td>ham</td>\n",
       "      <td>Oh... Okie lor...We go on sat...</td>\n",
       "    </tr>\n",
       "    <tr>\n",
       "      <th>4598</th>\n",
       "      <td>ham</td>\n",
       "      <td>Full heat pa:-) i have applyed oil pa.</td>\n",
       "    </tr>\n",
       "    <tr>\n",
       "      <th>1125</th>\n",
       "      <td>ham</td>\n",
       "      <td>Aiyar sorry lor forgot 2 tell u...</td>\n",
       "    </tr>\n",
       "    <tr>\n",
       "      <th>4122</th>\n",
       "      <td>ham</td>\n",
       "      <td>Yunny... I'm goin to be late</td>\n",
       "    </tr>\n",
       "    <tr>\n",
       "      <th>1628</th>\n",
       "      <td>spam</td>\n",
       "      <td>You have been selected to stay in 1 of 250 top...</td>\n",
       "    </tr>\n",
       "    <tr>\n",
       "      <th>839</th>\n",
       "      <td>spam</td>\n",
       "      <td>We tried to contact you re our offer of New Vi...</td>\n",
       "    </tr>\n",
       "  </tbody>\n",
       "</table>\n",
       "</div>"
      ],
      "text/plain": [
       "     Category                                            Message\n",
       "350       ham  Just checking in on you. Really do miss seeing...\n",
       "459       ham  1.20 that call cost. Which i guess isnt bad. M...\n",
       "5482     spam  URGENT We are trying to contact you Last weeke...\n",
       "4156     spam  Want a new Video Phone? 750 anytime any networ...\n",
       "5514      ham                   Oh... Okie lor...We go on sat...\n",
       "4598      ham             Full heat pa:-) i have applyed oil pa.\n",
       "1125      ham                 Aiyar sorry lor forgot 2 tell u...\n",
       "4122      ham                       Yunny... I'm goin to be late\n",
       "1628     spam  You have been selected to stay in 1 of 250 top...\n",
       "839      spam  We tried to contact you re our offer of New Vi..."
      ]
     },
     "metadata": {},
     "output_type": "display_data"
    },
    {
     "name": "stdout",
     "output_type": "stream",
     "text": [
      "<class 'pandas.core.frame.DataFrame'>\n",
      "RangeIndex: 5572 entries, 0 to 5571\n",
      "Data columns (total 2 columns):\n",
      " #   Column    Non-Null Count  Dtype \n",
      "---  ------    --------------  ----- \n",
      " 0   Category  5572 non-null   object\n",
      " 1   Message   5572 non-null   object\n",
      "dtypes: object(2)\n",
      "memory usage: 87.2+ KB\n"
     ]
    },
    {
     "data": {
      "text/plain": [
       "None"
      ]
     },
     "metadata": {},
     "output_type": "display_data"
    }
   ],
   "source": [
    "spam = pd.read_csv('https://raw.githubusercontent.com/obulygin/pyda_homeworks/master/stat_case_study/spam.csv')\n",
    "display(spam.sample(10))\n",
    "display(spam.info())"
   ]
  },
  {
   "cell_type": "code",
   "execution_count": 15,
   "id": "e38491cd",
   "metadata": {},
   "outputs": [
    {
     "name": "stderr",
     "output_type": "stream",
     "text": [
      "[nltk_data] Downloading package omw-1.4 to\n",
      "[nltk_data]     /Users/victorchudnovskiy/nltk_data...\n",
      "[nltk_data]   Package omw-1.4 is already up-to-date!\n",
      "[nltk_data] Downloading package wordnet to\n",
      "[nltk_data]     /Users/victorchudnovskiy/nltk_data...\n",
      "[nltk_data]   Package wordnet is already up-to-date!\n"
     ]
    },
    {
     "data": {
      "text/plain": [
       "True"
      ]
     },
     "execution_count": 15,
     "metadata": {},
     "output_type": "execute_result"
    }
   ],
   "source": [
    "nltk.download('omw-1.4')\n",
    "nltk.download('wordnet')"
   ]
  },
  {
   "cell_type": "markdown",
   "id": "17e6eca5",
   "metadata": {},
   "source": [
    "Сразу же преобразуем значения __spam__ и __ham__ в __0__ и __1__"
   ]
  },
  {
   "cell_type": "code",
   "execution_count": 16,
   "id": "a78ae009",
   "metadata": {},
   "outputs": [],
   "source": [
    "spam.loc[spam['Category'] == 'spam', 'Category'] = 0\n",
    "spam.loc[spam['Category'] == 'ham', 'Category'] = 1"
   ]
  },
  {
   "cell_type": "markdown",
   "id": "7777af5a",
   "metadata": {},
   "source": [
    "Напишем функцию преобразования текста:  \n",
    "1. Оставим только символы входящие в состав слов\n",
    "2. Только буквы англ алфавита.\n",
    "3. Удалим цифры\n",
    "4. Приведем все к начальной форме\n",
    "5. Удалим слова состоящие из менее чем 2 букв\n",
    "6. Преобразуем фразу в список отдельных слов"
   ]
  },
  {
   "cell_type": "code",
   "execution_count": 17,
   "id": "206e3d16",
   "metadata": {},
   "outputs": [
    {
     "data": {
      "text/plain": [
       "'Your unique user ID is 1172. For removal send STOP to 87239 customer services 08708034412'"
      ]
     },
     "execution_count": 17,
     "metadata": {},
     "output_type": "execute_result"
    }
   ],
   "source": [
    "test = spam.loc[4768, 'Message']\n",
    "test"
   ]
  },
  {
   "cell_type": "code",
   "execution_count": 18,
   "id": "d8eaa0d8",
   "metadata": {},
   "outputs": [],
   "source": [
    "def spec_fun(row):\n",
    "    stopwords_set = set(stopwords.words('english'))\n",
    "    wordnet_lemmatizer = WordNetLemmatizer()\n",
    "    res = row.lower()\n",
    "    res = re.sub('[0-9]|[^a-zA-Z]|[\\W_]+', ' ', res)\n",
    "    res = res.split()\n",
    "    res = [wordnet_lemmatizer.lemmatize(word) for word in res if word not in stopwords_set and len(word) > 2]\n",
    "    return res"
   ]
  },
  {
   "cell_type": "code",
   "execution_count": 19,
   "id": "ba4b0169",
   "metadata": {},
   "outputs": [
    {
     "data": {
      "text/plain": [
       "['unique', 'user', 'removal', 'send', 'stop', 'customer', 'service']"
      ]
     },
     "execution_count": 19,
     "metadata": {},
     "output_type": "execute_result"
    }
   ],
   "source": [
    "spec_fun(test)"
   ]
  },
  {
   "cell_type": "code",
   "execution_count": 20,
   "id": "9f0937c4",
   "metadata": {},
   "outputs": [],
   "source": [
    "spam['Message_proc'] = spam['Message'].apply(spec_fun)"
   ]
  },
  {
   "cell_type": "code",
   "execution_count": 21,
   "id": "314f3f0d",
   "metadata": {},
   "outputs": [
    {
     "data": {
      "text/html": [
       "<div>\n",
       "<style scoped>\n",
       "    .dataframe tbody tr th:only-of-type {\n",
       "        vertical-align: middle;\n",
       "    }\n",
       "\n",
       "    .dataframe tbody tr th {\n",
       "        vertical-align: top;\n",
       "    }\n",
       "\n",
       "    .dataframe thead th {\n",
       "        text-align: right;\n",
       "    }\n",
       "</style>\n",
       "<table border=\"1\" class=\"dataframe\">\n",
       "  <thead>\n",
       "    <tr style=\"text-align: right;\">\n",
       "      <th></th>\n",
       "      <th>Category</th>\n",
       "      <th>Message</th>\n",
       "      <th>Message_proc</th>\n",
       "    </tr>\n",
       "  </thead>\n",
       "  <tbody>\n",
       "    <tr>\n",
       "      <th>0</th>\n",
       "      <td>1</td>\n",
       "      <td>Go until jurong point, crazy.. Available only ...</td>\n",
       "      <td>[jurong, point, crazy, available, bugis, great...</td>\n",
       "    </tr>\n",
       "    <tr>\n",
       "      <th>1</th>\n",
       "      <td>1</td>\n",
       "      <td>Ok lar... Joking wif u oni...</td>\n",
       "      <td>[lar, joking, wif, oni]</td>\n",
       "    </tr>\n",
       "    <tr>\n",
       "      <th>2</th>\n",
       "      <td>0</td>\n",
       "      <td>Free entry in 2 a wkly comp to win FA Cup fina...</td>\n",
       "      <td>[free, entry, wkly, comp, win, cup, final, tkt...</td>\n",
       "    </tr>\n",
       "    <tr>\n",
       "      <th>3</th>\n",
       "      <td>1</td>\n",
       "      <td>U dun say so early hor... U c already then say...</td>\n",
       "      <td>[dun, say, early, hor, already, say]</td>\n",
       "    </tr>\n",
       "    <tr>\n",
       "      <th>4</th>\n",
       "      <td>1</td>\n",
       "      <td>Nah I don't think he goes to usf, he lives aro...</td>\n",
       "      <td>[nah, think, go, usf, life, around, though]</td>\n",
       "    </tr>\n",
       "    <tr>\n",
       "      <th>...</th>\n",
       "      <td>...</td>\n",
       "      <td>...</td>\n",
       "      <td>...</td>\n",
       "    </tr>\n",
       "    <tr>\n",
       "      <th>5567</th>\n",
       "      <td>0</td>\n",
       "      <td>This is the 2nd time we have tried 2 contact u...</td>\n",
       "      <td>[time, tried, contact, pound, prize, claim, ea...</td>\n",
       "    </tr>\n",
       "    <tr>\n",
       "      <th>5568</th>\n",
       "      <td>1</td>\n",
       "      <td>Will ü b going to esplanade fr home?</td>\n",
       "      <td>[going, esplanade, home]</td>\n",
       "    </tr>\n",
       "    <tr>\n",
       "      <th>5569</th>\n",
       "      <td>1</td>\n",
       "      <td>Pity, * was in mood for that. So...any other s...</td>\n",
       "      <td>[pity, mood, suggestion]</td>\n",
       "    </tr>\n",
       "    <tr>\n",
       "      <th>5570</th>\n",
       "      <td>1</td>\n",
       "      <td>The guy did some bitching but I acted like i'd...</td>\n",
       "      <td>[guy, bitching, acted, like, interested, buyin...</td>\n",
       "    </tr>\n",
       "    <tr>\n",
       "      <th>5571</th>\n",
       "      <td>1</td>\n",
       "      <td>Rofl. Its true to its name</td>\n",
       "      <td>[rofl, true, name]</td>\n",
       "    </tr>\n",
       "  </tbody>\n",
       "</table>\n",
       "<p>5572 rows × 3 columns</p>\n",
       "</div>"
      ],
      "text/plain": [
       "     Category                                            Message  \\\n",
       "0           1  Go until jurong point, crazy.. Available only ...   \n",
       "1           1                      Ok lar... Joking wif u oni...   \n",
       "2           0  Free entry in 2 a wkly comp to win FA Cup fina...   \n",
       "3           1  U dun say so early hor... U c already then say...   \n",
       "4           1  Nah I don't think he goes to usf, he lives aro...   \n",
       "...       ...                                                ...   \n",
       "5567        0  This is the 2nd time we have tried 2 contact u...   \n",
       "5568        1               Will ü b going to esplanade fr home?   \n",
       "5569        1  Pity, * was in mood for that. So...any other s...   \n",
       "5570        1  The guy did some bitching but I acted like i'd...   \n",
       "5571        1                         Rofl. Its true to its name   \n",
       "\n",
       "                                           Message_proc  \n",
       "0     [jurong, point, crazy, available, bugis, great...  \n",
       "1                               [lar, joking, wif, oni]  \n",
       "2     [free, entry, wkly, comp, win, cup, final, tkt...  \n",
       "3                  [dun, say, early, hor, already, say]  \n",
       "4           [nah, think, go, usf, life, around, though]  \n",
       "...                                                 ...  \n",
       "5567  [time, tried, contact, pound, prize, claim, ea...  \n",
       "5568                           [going, esplanade, home]  \n",
       "5569                           [pity, mood, suggestion]  \n",
       "5570  [guy, bitching, acted, like, interested, buyin...  \n",
       "5571                                 [rofl, true, name]  \n",
       "\n",
       "[5572 rows x 3 columns]"
      ]
     },
     "execution_count": 21,
     "metadata": {},
     "output_type": "execute_result"
    }
   ],
   "source": [
    "spam"
   ]
  },
  {
   "cell_type": "markdown",
   "id": "66aceaa4",
   "metadata": {},
   "source": [
    "Составим словарь слов, после чего для каждого сообщения составим модель `TF-IDF`"
   ]
  },
  {
   "cell_type": "code",
   "execution_count": 22,
   "id": "a1fe1620",
   "metadata": {},
   "outputs": [
    {
     "name": "stdout",
     "output_type": "stream",
     "text": [
      "Dictionary(6873 unique tokens: ['amore', 'available', 'buffet', 'bugis', 'cine']...)\n"
     ]
    }
   ],
   "source": [
    "dct = corpora.Dictionary(spam['Message_proc'])\n",
    "print(dct)"
   ]
  },
  {
   "cell_type": "code",
   "execution_count": 23,
   "id": "cf04551f",
   "metadata": {},
   "outputs": [],
   "source": [
    "spam['bows'] = spam['Message_proc'].apply(lambda x: dct.doc2bow(x))\n",
    "model = TfidfModel(spam['bows'].to_list())\n",
    "spam['tfidf'] = spam['bows'].apply(lambda x: model[x])"
   ]
  },
  {
   "cell_type": "markdown",
   "id": "daf917f4",
   "metadata": {},
   "source": [
    "Преобразуем полученную таблицу в матрицу, где строками будут id сообщений а столбцами номера слов. На пересечении будут веса конкретных слов в конкретном сообщении. Эту матрицу и будем использовать в классификации"
   ]
  },
  {
   "cell_type": "code",
   "execution_count": 24,
   "id": "904ad7b1",
   "metadata": {},
   "outputs": [],
   "source": [
    "df = spam.explode('tfidf')\n",
    "df[['word_id', 'word_coeff']] = pd.DataFrame(df['tfidf'].tolist(), index=df.index)\n",
    "df.dropna(inplace=True)\n",
    "df = df.astype({'word_id': 'int'})\n",
    "df_matrix = df.reset_index().pivot_table(index=['index', 'Category'], columns='word_id', values='word_coeff', fill_value=0).reset_index()"
   ]
  },
  {
   "cell_type": "code",
   "execution_count": 25,
   "id": "4bd0924f",
   "metadata": {},
   "outputs": [
    {
     "data": {
      "text/html": [
       "<div>\n",
       "<style scoped>\n",
       "    .dataframe tbody tr th:only-of-type {\n",
       "        vertical-align: middle;\n",
       "    }\n",
       "\n",
       "    .dataframe tbody tr th {\n",
       "        vertical-align: top;\n",
       "    }\n",
       "\n",
       "    .dataframe thead th {\n",
       "        text-align: right;\n",
       "    }\n",
       "</style>\n",
       "<table border=\"1\" class=\"dataframe\">\n",
       "  <thead>\n",
       "    <tr style=\"text-align: right;\">\n",
       "      <th>word_id</th>\n",
       "      <th>index</th>\n",
       "      <th>Category</th>\n",
       "      <th>0</th>\n",
       "      <th>1</th>\n",
       "      <th>2</th>\n",
       "      <th>3</th>\n",
       "      <th>4</th>\n",
       "      <th>5</th>\n",
       "      <th>6</th>\n",
       "      <th>7</th>\n",
       "      <th>...</th>\n",
       "      <th>6863</th>\n",
       "      <th>6864</th>\n",
       "      <th>6865</th>\n",
       "      <th>6866</th>\n",
       "      <th>6867</th>\n",
       "      <th>6868</th>\n",
       "      <th>6869</th>\n",
       "      <th>6870</th>\n",
       "      <th>6871</th>\n",
       "      <th>6872</th>\n",
       "    </tr>\n",
       "  </thead>\n",
       "  <tbody>\n",
       "    <tr>\n",
       "      <th>0</th>\n",
       "      <td>0</td>\n",
       "      <td>1</td>\n",
       "      <td>0.400926</td>\n",
       "      <td>0.266577</td>\n",
       "      <td>0.368707</td>\n",
       "      <td>0.310477</td>\n",
       "      <td>0.310477</td>\n",
       "      <td>0.278259</td>\n",
       "      <td>0.148156</td>\n",
       "      <td>0.183294</td>\n",
       "      <td>...</td>\n",
       "      <td>0.0</td>\n",
       "      <td>0.0</td>\n",
       "      <td>0.0</td>\n",
       "      <td>0.0</td>\n",
       "      <td>0.0</td>\n",
       "      <td>0.0</td>\n",
       "      <td>0.0</td>\n",
       "      <td>0.0</td>\n",
       "      <td>0.0</td>\n",
       "      <td>0.0</td>\n",
       "    </tr>\n",
       "    <tr>\n",
       "      <th>1</th>\n",
       "      <td>1</td>\n",
       "      <td>1</td>\n",
       "      <td>0.000000</td>\n",
       "      <td>0.000000</td>\n",
       "      <td>0.000000</td>\n",
       "      <td>0.000000</td>\n",
       "      <td>0.000000</td>\n",
       "      <td>0.000000</td>\n",
       "      <td>0.000000</td>\n",
       "      <td>0.000000</td>\n",
       "      <td>...</td>\n",
       "      <td>0.0</td>\n",
       "      <td>0.0</td>\n",
       "      <td>0.0</td>\n",
       "      <td>0.0</td>\n",
       "      <td>0.0</td>\n",
       "      <td>0.0</td>\n",
       "      <td>0.0</td>\n",
       "      <td>0.0</td>\n",
       "      <td>0.0</td>\n",
       "      <td>0.0</td>\n",
       "    </tr>\n",
       "    <tr>\n",
       "      <th>2</th>\n",
       "      <td>2</td>\n",
       "      <td>0</td>\n",
       "      <td>0.000000</td>\n",
       "      <td>0.000000</td>\n",
       "      <td>0.000000</td>\n",
       "      <td>0.000000</td>\n",
       "      <td>0.000000</td>\n",
       "      <td>0.000000</td>\n",
       "      <td>0.000000</td>\n",
       "      <td>0.000000</td>\n",
       "      <td>...</td>\n",
       "      <td>0.0</td>\n",
       "      <td>0.0</td>\n",
       "      <td>0.0</td>\n",
       "      <td>0.0</td>\n",
       "      <td>0.0</td>\n",
       "      <td>0.0</td>\n",
       "      <td>0.0</td>\n",
       "      <td>0.0</td>\n",
       "      <td>0.0</td>\n",
       "      <td>0.0</td>\n",
       "    </tr>\n",
       "    <tr>\n",
       "      <th>3</th>\n",
       "      <td>3</td>\n",
       "      <td>1</td>\n",
       "      <td>0.000000</td>\n",
       "      <td>0.000000</td>\n",
       "      <td>0.000000</td>\n",
       "      <td>0.000000</td>\n",
       "      <td>0.000000</td>\n",
       "      <td>0.000000</td>\n",
       "      <td>0.000000</td>\n",
       "      <td>0.000000</td>\n",
       "      <td>...</td>\n",
       "      <td>0.0</td>\n",
       "      <td>0.0</td>\n",
       "      <td>0.0</td>\n",
       "      <td>0.0</td>\n",
       "      <td>0.0</td>\n",
       "      <td>0.0</td>\n",
       "      <td>0.0</td>\n",
       "      <td>0.0</td>\n",
       "      <td>0.0</td>\n",
       "      <td>0.0</td>\n",
       "    </tr>\n",
       "    <tr>\n",
       "      <th>4</th>\n",
       "      <td>4</td>\n",
       "      <td>1</td>\n",
       "      <td>0.000000</td>\n",
       "      <td>0.000000</td>\n",
       "      <td>0.000000</td>\n",
       "      <td>0.000000</td>\n",
       "      <td>0.000000</td>\n",
       "      <td>0.000000</td>\n",
       "      <td>0.000000</td>\n",
       "      <td>0.000000</td>\n",
       "      <td>...</td>\n",
       "      <td>0.0</td>\n",
       "      <td>0.0</td>\n",
       "      <td>0.0</td>\n",
       "      <td>0.0</td>\n",
       "      <td>0.0</td>\n",
       "      <td>0.0</td>\n",
       "      <td>0.0</td>\n",
       "      <td>0.0</td>\n",
       "      <td>0.0</td>\n",
       "      <td>0.0</td>\n",
       "    </tr>\n",
       "  </tbody>\n",
       "</table>\n",
       "<p>5 rows × 6875 columns</p>\n",
       "</div>"
      ],
      "text/plain": [
       "word_id  index  Category         0         1         2         3         4  \\\n",
       "0            0         1  0.400926  0.266577  0.368707  0.310477  0.310477   \n",
       "1            1         1  0.000000  0.000000  0.000000  0.000000  0.000000   \n",
       "2            2         0  0.000000  0.000000  0.000000  0.000000  0.000000   \n",
       "3            3         1  0.000000  0.000000  0.000000  0.000000  0.000000   \n",
       "4            4         1  0.000000  0.000000  0.000000  0.000000  0.000000   \n",
       "\n",
       "word_id         5         6         7  ...  6863  6864  6865  6866  6867  \\\n",
       "0        0.278259  0.148156  0.183294  ...   0.0   0.0   0.0   0.0   0.0   \n",
       "1        0.000000  0.000000  0.000000  ...   0.0   0.0   0.0   0.0   0.0   \n",
       "2        0.000000  0.000000  0.000000  ...   0.0   0.0   0.0   0.0   0.0   \n",
       "3        0.000000  0.000000  0.000000  ...   0.0   0.0   0.0   0.0   0.0   \n",
       "4        0.000000  0.000000  0.000000  ...   0.0   0.0   0.0   0.0   0.0   \n",
       "\n",
       "word_id  6868  6869  6870  6871  6872  \n",
       "0         0.0   0.0   0.0   0.0   0.0  \n",
       "1         0.0   0.0   0.0   0.0   0.0  \n",
       "2         0.0   0.0   0.0   0.0   0.0  \n",
       "3         0.0   0.0   0.0   0.0   0.0  \n",
       "4         0.0   0.0   0.0   0.0   0.0  \n",
       "\n",
       "[5 rows x 6875 columns]"
      ]
     },
     "execution_count": 25,
     "metadata": {},
     "output_type": "execute_result"
    }
   ],
   "source": [
    "df_matrix.head()"
   ]
  },
  {
   "cell_type": "markdown",
   "id": "8b1c37ae",
   "metadata": {},
   "source": [
    "Обучим модель __Логистической регрессии__ на 30%"
   ]
  },
  {
   "cell_type": "code",
   "execution_count": 26,
   "id": "d761824d",
   "metadata": {},
   "outputs": [],
   "source": [
    "y = df_matrix['Category']\n",
    "X = df_matrix.drop(['Category'], axis = 1) \n",
    "X_train, X_test, y_train, y_test = train_test_split(X, y, test_size=0.3, random_state=42)\n",
    "model = LogisticRegression(random_state=42)\n",
    "scaler = StandardScaler()\n",
    "scaler.fit(X_train)\n",
    "X_train_st = scaler.transform(X_train)\n",
    "X_test_st = scaler.transform(X_test)\n",
    "model.fit(X_train_st, y_train)\n",
    "y_pred = model.predict(X_test_st)\n",
    "y_proba = model.predict_proba(X_test_st)[:, 1]"
   ]
  },
  {
   "cell_type": "code",
   "execution_count": 27,
   "id": "f2c7006a",
   "metadata": {},
   "outputs": [
    {
     "data": {
      "text/plain": [
       "(1660, 47)"
      ]
     },
     "execution_count": 27,
     "metadata": {},
     "output_type": "execute_result"
    }
   ],
   "source": [
    "len(y_test), abs(y_test - y_pred).sum()"
   ]
  },
  {
   "cell_type": "markdown",
   "id": "93f5c51c",
   "metadata": {},
   "source": [
    "Если бегло, то модель ошиблась в 47 случаях из 1660\n",
    "Проверим это метриками"
   ]
  },
  {
   "cell_type": "code",
   "execution_count": 28,
   "id": "36e82c7b",
   "metadata": {},
   "outputs": [
    {
     "data": {
      "text/plain": [
       "{'Accuracy': 0.9716867469879518,\n",
       " 'Precision': 0.9700272479564033,\n",
       " 'Recall': 0.9978976874562018,\n",
       " 'F1': 0.9837651122625215}"
      ]
     },
     "execution_count": 28,
     "metadata": {},
     "output_type": "execute_result"
    }
   ],
   "source": [
    "metrics = {}\n",
    "metrics['Accuracy'] = (accuracy_score(y_test, y_pred))\n",
    "metrics['Precision'] = (precision_score(y_test, y_pred))\n",
    "metrics['Recall'] = (recall_score(y_test, y_pred))\n",
    "metrics['F1'] = (f1_score(y_test, y_pred))\n",
    "metrics"
   ]
  },
  {
   "cell_type": "markdown",
   "id": "3a4f579c",
   "metadata": {},
   "source": [
    "Все метрики показывают лучший результат приближаясь к __1__. Дополнительно оценим правильные и неправильные предсказания матрицей ошибок \n",
    "____\n",
    "false positive + false negative в сумме должны дать 47"
   ]
  },
  {
   "cell_type": "code",
   "execution_count": 29,
   "id": "c5015355",
   "metadata": {},
   "outputs": [
    {
     "name": "stdout",
     "output_type": "stream",
     "text": [
      "true negative = 189\n",
      "false positive = 44\n",
      "false negative = 3\n",
      "true positive = 1424\n"
     ]
    },
    {
     "data": {
      "image/png": "[encoded data removed]",
      "text/plain": [
       "<Figure size 432x288 with 2 Axes>"
      ]
     },
     "metadata": {
      "needs_background": "light"
     },
     "output_type": "display_data"
    }
   ],
   "source": [
    "cm = confusion_matrix(y_test,y_pred)\n",
    "tn, fp, fn, tp = cm.ravel()\n",
    "print(f'true negative = {tn}\\nfalse positive = {fp}\\nfalse negative = {fn}\\ntrue positive = {tp}')\n",
    "sns.heatmap(cm, annot=True, fmt=\"d\")\n",
    "plt.show()"
   ]
  },
  {
   "cell_type": "markdown",
   "id": "7973c486",
   "metadata": {},
   "source": [
    "Отберем неверно предсказанные категории 47-ми сообщений"
   ]
  },
  {
   "cell_type": "code",
   "execution_count": 30,
   "id": "791e23d8",
   "metadata": {},
   "outputs": [
    {
     "data": {
      "text/html": [
       "<div>\n",
       "<style scoped>\n",
       "    .dataframe tbody tr th:only-of-type {\n",
       "        vertical-align: middle;\n",
       "    }\n",
       "\n",
       "    .dataframe tbody tr th {\n",
       "        vertical-align: top;\n",
       "    }\n",
       "\n",
       "    .dataframe thead th {\n",
       "        text-align: right;\n",
       "    }\n",
       "</style>\n",
       "<table border=\"1\" class=\"dataframe\">\n",
       "  <thead>\n",
       "    <tr style=\"text-align: right;\">\n",
       "      <th></th>\n",
       "      <th>cat</th>\n",
       "      <th>cat_pred</th>\n",
       "      <th>Message</th>\n",
       "    </tr>\n",
       "    <tr>\n",
       "      <th>index</th>\n",
       "      <th></th>\n",
       "      <th></th>\n",
       "      <th></th>\n",
       "    </tr>\n",
       "  </thead>\n",
       "  <tbody>\n",
       "    <tr>\n",
       "      <th>2770</th>\n",
       "      <td>0</td>\n",
       "      <td>1</td>\n",
       "      <td>Burger King - Wanna play footy at a top stadiu...</td>\n",
       "    </tr>\n",
       "    <tr>\n",
       "      <th>4953</th>\n",
       "      <td>0</td>\n",
       "      <td>1</td>\n",
       "      <td>Welcome to Select, an O2 service with added be...</td>\n",
       "    </tr>\n",
       "    <tr>\n",
       "      <th>3302</th>\n",
       "      <td>0</td>\n",
       "      <td>1</td>\n",
       "      <td>RCT' THNQ Adrian for U text. Rgds Vatian</td>\n",
       "    </tr>\n",
       "    <tr>\n",
       "      <th>5427</th>\n",
       "      <td>0</td>\n",
       "      <td>1</td>\n",
       "      <td>Santa Calling! Would your little ones like a c...</td>\n",
       "    </tr>\n",
       "    <tr>\n",
       "      <th>713</th>\n",
       "      <td>0</td>\n",
       "      <td>1</td>\n",
       "      <td>08714712388 between 10am-7pm Cost 10p</td>\n",
       "    </tr>\n",
       "    <tr>\n",
       "      <th>3864</th>\n",
       "      <td>0</td>\n",
       "      <td>1</td>\n",
       "      <td>Oh my god! I've found your number again! I'm s...</td>\n",
       "    </tr>\n",
       "    <tr>\n",
       "      <th>326</th>\n",
       "      <td>1</td>\n",
       "      <td>0</td>\n",
       "      <td>No calls..messages..missed calls</td>\n",
       "    </tr>\n",
       "    <tr>\n",
       "      <th>1893</th>\n",
       "      <td>0</td>\n",
       "      <td>1</td>\n",
       "      <td>CALL 09090900040 &amp; LISTEN TO EXTREME DIRTY LIV...</td>\n",
       "    </tr>\n",
       "    <tr>\n",
       "      <th>420</th>\n",
       "      <td>0</td>\n",
       "      <td>1</td>\n",
       "      <td>Send a logo 2 ur lover - 2 names joined by a h...</td>\n",
       "    </tr>\n",
       "    <tr>\n",
       "      <th>4514</th>\n",
       "      <td>0</td>\n",
       "      <td>1</td>\n",
       "      <td>Money i have won wining number 946 wot do i do...</td>\n",
       "    </tr>\n",
       "    <tr>\n",
       "      <th>3885</th>\n",
       "      <td>0</td>\n",
       "      <td>1</td>\n",
       "      <td>A link to your picture has been sent. You can ...</td>\n",
       "    </tr>\n",
       "    <tr>\n",
       "      <th>4249</th>\n",
       "      <td>0</td>\n",
       "      <td>1</td>\n",
       "      <td>accordingly. I repeat, just text the word ok o...</td>\n",
       "    </tr>\n",
       "    <tr>\n",
       "      <th>2830</th>\n",
       "      <td>0</td>\n",
       "      <td>1</td>\n",
       "      <td>Send a logo 2 ur lover - 2 names joined by a h...</td>\n",
       "    </tr>\n",
       "    <tr>\n",
       "      <th>815</th>\n",
       "      <td>0</td>\n",
       "      <td>1</td>\n",
       "      <td>U were outbid by simonwatson5120 on the Shinco...</td>\n",
       "    </tr>\n",
       "    <tr>\n",
       "      <th>2115</th>\n",
       "      <td>0</td>\n",
       "      <td>1</td>\n",
       "      <td>Sunshine Hols. To claim ur med holiday send a ...</td>\n",
       "    </tr>\n",
       "    <tr>\n",
       "      <th>955</th>\n",
       "      <td>0</td>\n",
       "      <td>1</td>\n",
       "      <td>Filthy stories and GIRLS waiting for your</td>\n",
       "    </tr>\n",
       "    <tr>\n",
       "      <th>4676</th>\n",
       "      <td>0</td>\n",
       "      <td>1</td>\n",
       "      <td>Hi babe its Chloe, how r u? I was smashed on s...</td>\n",
       "    </tr>\n",
       "    <tr>\n",
       "      <th>227</th>\n",
       "      <td>0</td>\n",
       "      <td>1</td>\n",
       "      <td>Will u meet ur dream partner soon? Is ur caree...</td>\n",
       "    </tr>\n",
       "    <tr>\n",
       "      <th>3425</th>\n",
       "      <td>0</td>\n",
       "      <td>1</td>\n",
       "      <td>Am new 2 club &amp; dont fink we met yet Will B gr...</td>\n",
       "    </tr>\n",
       "    <tr>\n",
       "      <th>2189</th>\n",
       "      <td>0</td>\n",
       "      <td>1</td>\n",
       "      <td>FREE camera phones with linerental from 4.49/m...</td>\n",
       "    </tr>\n",
       "    <tr>\n",
       "      <th>1430</th>\n",
       "      <td>0</td>\n",
       "      <td>1</td>\n",
       "      <td>For sale - arsenal dartboard. Good condition b...</td>\n",
       "    </tr>\n",
       "    <tr>\n",
       "      <th>1328</th>\n",
       "      <td>0</td>\n",
       "      <td>1</td>\n",
       "      <td>Ur balance is now £500. Ur next question is: W...</td>\n",
       "    </tr>\n",
       "    <tr>\n",
       "      <th>3792</th>\n",
       "      <td>0</td>\n",
       "      <td>1</td>\n",
       "      <td>Twinks, bears, scallies, skins and jocks are c...</td>\n",
       "    </tr>\n",
       "    <tr>\n",
       "      <th>3092</th>\n",
       "      <td>0</td>\n",
       "      <td>1</td>\n",
       "      <td>LORD OF THE RINGS:RETURN OF THE KING in store ...</td>\n",
       "    </tr>\n",
       "    <tr>\n",
       "      <th>2247</th>\n",
       "      <td>0</td>\n",
       "      <td>1</td>\n",
       "      <td>Hi ya babe x u 4goten bout me?' scammers getti...</td>\n",
       "    </tr>\n",
       "    <tr>\n",
       "      <th>5370</th>\n",
       "      <td>0</td>\n",
       "      <td>1</td>\n",
       "      <td>dating:i have had two of these. Only started a...</td>\n",
       "    </tr>\n",
       "    <tr>\n",
       "      <th>1663</th>\n",
       "      <td>0</td>\n",
       "      <td>1</td>\n",
       "      <td>Hi if ur lookin 4 saucy daytime fun wiv busty ...</td>\n",
       "    </tr>\n",
       "    <tr>\n",
       "      <th>607</th>\n",
       "      <td>0</td>\n",
       "      <td>1</td>\n",
       "      <td>XCLUSIVE@CLUBSAISAI 2MOROW 28/5 SOIREE SPECIAL...</td>\n",
       "    </tr>\n",
       "    <tr>\n",
       "      <th>1048</th>\n",
       "      <td>0</td>\n",
       "      <td>1</td>\n",
       "      <td>1000's flirting NOW! Txt GIRL or BLOKE &amp; ur NA...</td>\n",
       "    </tr>\n",
       "    <tr>\n",
       "      <th>529</th>\n",
       "      <td>0</td>\n",
       "      <td>1</td>\n",
       "      <td>You will recieve your tone within the next 24h...</td>\n",
       "    </tr>\n",
       "    <tr>\n",
       "      <th>4373</th>\n",
       "      <td>0</td>\n",
       "      <td>1</td>\n",
       "      <td>Ur balance is now £600. Next question: Complet...</td>\n",
       "    </tr>\n",
       "    <tr>\n",
       "      <th>672</th>\n",
       "      <td>0</td>\n",
       "      <td>1</td>\n",
       "      <td>SMS. ac sun0819 posts HELLO:\"You seem cool, wa...</td>\n",
       "    </tr>\n",
       "    <tr>\n",
       "      <th>4906</th>\n",
       "      <td>0</td>\n",
       "      <td>1</td>\n",
       "      <td>Warner Village 83118 C Colin Farrell in SWAT t...</td>\n",
       "    </tr>\n",
       "    <tr>\n",
       "      <th>3848</th>\n",
       "      <td>0</td>\n",
       "      <td>1</td>\n",
       "      <td>Fantasy Football is back on your TV. Go to Sky...</td>\n",
       "    </tr>\n",
       "    <tr>\n",
       "      <th>1045</th>\n",
       "      <td>0</td>\n",
       "      <td>1</td>\n",
       "      <td>We know someone who you know that fancies you....</td>\n",
       "    </tr>\n",
       "    <tr>\n",
       "      <th>4298</th>\n",
       "      <td>0</td>\n",
       "      <td>1</td>\n",
       "      <td>thesmszone.com lets you send free anonymous an...</td>\n",
       "    </tr>\n",
       "    <tr>\n",
       "      <th>1988</th>\n",
       "      <td>1</td>\n",
       "      <td>0</td>\n",
       "      <td>No calls..messages..missed calls</td>\n",
       "    </tr>\n",
       "    <tr>\n",
       "      <th>4798</th>\n",
       "      <td>0</td>\n",
       "      <td>1</td>\n",
       "      <td>Santa calling! Would your little ones like a c...</td>\n",
       "    </tr>\n",
       "    <tr>\n",
       "      <th>68</th>\n",
       "      <td>0</td>\n",
       "      <td>1</td>\n",
       "      <td>Did you hear about the new \"Divorce Barbie\"? I...</td>\n",
       "    </tr>\n",
       "    <tr>\n",
       "      <th>45</th>\n",
       "      <td>1</td>\n",
       "      <td>0</td>\n",
       "      <td>No calls..messages..missed calls</td>\n",
       "    </tr>\n",
       "    <tr>\n",
       "      <th>2146</th>\n",
       "      <td>0</td>\n",
       "      <td>1</td>\n",
       "      <td>Sunshine Hols. To claim ur med holiday send a ...</td>\n",
       "    </tr>\n",
       "    <tr>\n",
       "      <th>19</th>\n",
       "      <td>0</td>\n",
       "      <td>1</td>\n",
       "      <td>England v Macedonia - dont miss the goals/team...</td>\n",
       "    </tr>\n",
       "    <tr>\n",
       "      <th>761</th>\n",
       "      <td>0</td>\n",
       "      <td>1</td>\n",
       "      <td>Romantic Paris. 2 nights, 2 flights from £79 B...</td>\n",
       "    </tr>\n",
       "    <tr>\n",
       "      <th>2364</th>\n",
       "      <td>0</td>\n",
       "      <td>1</td>\n",
       "      <td>Fantasy Football is back on your TV. Go to Sky...</td>\n",
       "    </tr>\n",
       "    <tr>\n",
       "      <th>4200</th>\n",
       "      <td>0</td>\n",
       "      <td>1</td>\n",
       "      <td>cmon babe, make me horny, *turn* me on! Txt me...</td>\n",
       "    </tr>\n",
       "    <tr>\n",
       "      <th>191</th>\n",
       "      <td>0</td>\n",
       "      <td>1</td>\n",
       "      <td>Are you unique enough? Find out from 30th Augu...</td>\n",
       "    </tr>\n",
       "    <tr>\n",
       "      <th>1118</th>\n",
       "      <td>0</td>\n",
       "      <td>1</td>\n",
       "      <td>449050000301 You have won a £2,000 price! To c...</td>\n",
       "    </tr>\n",
       "  </tbody>\n",
       "</table>\n",
       "</div>"
      ],
      "text/plain": [
       "       cat  cat_pred                                            Message\n",
       "index                                                                  \n",
       "2770     0         1  Burger King - Wanna play footy at a top stadiu...\n",
       "4953     0         1  Welcome to Select, an O2 service with added be...\n",
       "3302     0         1           RCT' THNQ Adrian for U text. Rgds Vatian\n",
       "5427     0         1  Santa Calling! Would your little ones like a c...\n",
       "713      0         1              08714712388 between 10am-7pm Cost 10p\n",
       "3864     0         1  Oh my god! I've found your number again! I'm s...\n",
       "326      1         0                   No calls..messages..missed calls\n",
       "1893     0         1  CALL 09090900040 & LISTEN TO EXTREME DIRTY LIV...\n",
       "420      0         1  Send a logo 2 ur lover - 2 names joined by a h...\n",
       "4514     0         1  Money i have won wining number 946 wot do i do...\n",
       "3885     0         1  A link to your picture has been sent. You can ...\n",
       "4249     0         1  accordingly. I repeat, just text the word ok o...\n",
       "2830     0         1  Send a logo 2 ur lover - 2 names joined by a h...\n",
       "815      0         1  U were outbid by simonwatson5120 on the Shinco...\n",
       "2115     0         1  Sunshine Hols. To claim ur med holiday send a ...\n",
       "955      0         1          Filthy stories and GIRLS waiting for your\n",
       "4676     0         1  Hi babe its Chloe, how r u? I was smashed on s...\n",
       "227      0         1  Will u meet ur dream partner soon? Is ur caree...\n",
       "3425     0         1  Am new 2 club & dont fink we met yet Will B gr...\n",
       "2189     0         1  FREE camera phones with linerental from 4.49/m...\n",
       "1430     0         1  For sale - arsenal dartboard. Good condition b...\n",
       "1328     0         1  Ur balance is now £500. Ur next question is: W...\n",
       "3792     0         1  Twinks, bears, scallies, skins and jocks are c...\n",
       "3092     0         1  LORD OF THE RINGS:RETURN OF THE KING in store ...\n",
       "2247     0         1  Hi ya babe x u 4goten bout me?' scammers getti...\n",
       "5370     0         1  dating:i have had two of these. Only started a...\n",
       "1663     0         1  Hi if ur lookin 4 saucy daytime fun wiv busty ...\n",
       "607      0         1  XCLUSIVE@CLUBSAISAI 2MOROW 28/5 SOIREE SPECIAL...\n",
       "1048     0         1  1000's flirting NOW! Txt GIRL or BLOKE & ur NA...\n",
       "529      0         1  You will recieve your tone within the next 24h...\n",
       "4373     0         1  Ur balance is now £600. Next question: Complet...\n",
       "672      0         1  SMS. ac sun0819 posts HELLO:\"You seem cool, wa...\n",
       "4906     0         1  Warner Village 83118 C Colin Farrell in SWAT t...\n",
       "3848     0         1  Fantasy Football is back on your TV. Go to Sky...\n",
       "1045     0         1  We know someone who you know that fancies you....\n",
       "4298     0         1  thesmszone.com lets you send free anonymous an...\n",
       "1988     1         0                   No calls..messages..missed calls\n",
       "4798     0         1  Santa calling! Would your little ones like a c...\n",
       "68       0         1  Did you hear about the new \"Divorce Barbie\"? I...\n",
       "45       1         0                   No calls..messages..missed calls\n",
       "2146     0         1  Sunshine Hols. To claim ur med holiday send a ...\n",
       "19       0         1  England v Macedonia - dont miss the goals/team...\n",
       "761      0         1  Romantic Paris. 2 nights, 2 flights from £79 B...\n",
       "2364     0         1  Fantasy Football is back on your TV. Go to Sky...\n",
       "4200     0         1  cmon babe, make me horny, *turn* me on! Txt me...\n",
       "191      0         1  Are you unique enough? Find out from 30th Augu...\n",
       "1118     0         1  449050000301 You have won a £2,000 price! To c..."
      ]
     },
     "execution_count": 30,
     "metadata": {},
     "output_type": "execute_result"
    }
   ],
   "source": [
    "X_test['cat'] = y_test\n",
    "X_test['cat_pred'] = y_pred\n",
    "df_test = X_test[['index', 'cat', 'cat_pred']].set_index('index')\n",
    "df_test.loc[df_test['cat'] != df_test['cat_pred']].join(spam['Message'])"
   ]
  }
 ],
 "metadata": {
  "kernelspec": {
   "display_name": "Python 3 (ipykernel)",
   "language": "python",
   "name": "python3"
  },
  "language_info": {
   "codemirror_mode": {
    "name": "ipython",
    "version": 3
   },
   "file_extension": ".py",
   "mimetype": "text/x-python",
   "name": "python",
   "nbconvert_exporter": "python",
   "pygments_lexer": "ipython3",
   "version": "3.9.12"
  }
 },
 "nbformat": 4,
 "nbformat_minor": 5
}
