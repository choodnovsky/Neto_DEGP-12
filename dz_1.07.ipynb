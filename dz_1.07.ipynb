{
 "cells": [
  {
   "cell_type": "code",
   "execution_count": 1,
   "id": "0015554d",
   "metadata": {},
   "outputs": [],
   "source": [
    "import requests"
   ]
  },
  {
   "cell_type": "code",
   "execution_count": 2,
   "id": "a6b0a476",
   "metadata": {},
   "outputs": [],
   "source": [
    "url = 'https://www.cbr-xml-daily.ru/daily_json.js' # вынесем ссылку на ресурс в переменную"
   ]
  },
  {
   "cell_type": "markdown",
   "id": "664ae8b8",
   "metadata": {},
   "source": [
    "### Задание 1\n",
    "Напишите функцию, которая возвращает название валюты (поле ‘Name’) с максимальным значением курса с помощью сервиса https://www.cbr-xml-daily.ru/daily_json.js"
   ]
  },
  {
   "cell_type": "markdown",
   "id": "4366f667",
   "metadata": {},
   "source": [
    "Сперва придумаем функцию, выполняющую условие. Либо через словарь либо через список кортежей"
   ]
  },
  {
   "cell_type": "code",
   "execution_count": 3,
   "id": "5e5d69b3",
   "metadata": {},
   "outputs": [],
   "source": [
    "def max_rate(url):\n",
    "    raw_data = requests.get(url).json()['Valute']\n",
    "    currency_dict = {val['Name']:val['Value'] for val in raw_data.values()}\n",
    "    result = {key for key,val in currency_dict.items() if val == max(currency_dict.values())}\n",
    "    return list(result)[0]"
   ]
  },
  {
   "cell_type": "code",
   "execution_count": 4,
   "id": "1d60322a",
   "metadata": {},
   "outputs": [],
   "source": [
    "def max_rate(url):\n",
    "    raw_data = requests.get(url).json()['Valute']\n",
    "    currency_list = [(val['Name'], val['Value']) for val in raw_data.values()]\n",
    "    result = max(currency_list, key=lambda x: x[1])\n",
    "    return result[0]"
   ]
  },
  {
   "cell_type": "code",
   "execution_count": 5,
   "id": "019d0ca8",
   "metadata": {},
   "outputs": [],
   "source": [
    "def max_rate(url):\n",
    "    raw_data = requests.get(url).json()['Valute']\n",
    "    return max((v['Value'], v['Name'] ) for v in raw_data.values())[1]"
   ]
  },
  {
   "cell_type": "code",
   "execution_count": 6,
   "id": "92454a6e",
   "metadata": {},
   "outputs": [
    {
     "data": {
      "text/plain": [
       "'СДР (специальные права заимствования)'"
      ]
     },
     "execution_count": 6,
     "metadata": {},
     "output_type": "execute_result"
    }
   ],
   "source": [
    "max_rate(url)"
   ]
  },
  {
   "cell_type": "markdown",
   "id": "042c2e32",
   "metadata": {},
   "source": [
    "За основу возьмем класс из лекции и добавим в него функцию `max_rate` из задания"
   ]
  },
  {
   "cell_type": "code",
   "execution_count": 7,
   "id": "33cb4270",
   "metadata": {},
   "outputs": [],
   "source": [
    "class Rate:\n",
    "    \"\"\"\n",
    "    Добавление формата по-умалчанию каждому объекту класса\n",
    "    По умалчанию краткий формат - выведет значение текущего курса.\n",
    "    Если задать формат full - выведет полную информацию о валюте\n",
    "    \"\"\"\n",
    "    def __init__(self, url, format_='value'):\n",
    "        self.url = url\n",
    "        self.format = format_\n",
    "    \n",
    "    def excange_data(self):\n",
    "        \"\"\"\n",
    "        Загрузка сырых данных о всех курсах валют\n",
    "        \"\"\"\n",
    "        self.raw_data = requests.get(self.url)\n",
    "        return self.raw_data.json()['Valute']\n",
    "    \n",
    "    def report(self, curr):\n",
    "        \"\"\"\n",
    "        Вывод отчета по какой-либо валюте по ее коду ЗАГЛАВНЫМИ буквами\n",
    "        Если формат full - полную информацию\n",
    "        Если формат value - только значение курса на последнюю дату\n",
    "        Если код валюты неверный - выведется сообщение\n",
    "        \"\"\"\n",
    "        response = self.excange_data()\n",
    "        if curr in response:\n",
    "            if self.format == 'value':\n",
    "                return response[curr]['Value']\n",
    "            elif self.format == 'full':\n",
    "                return response[curr]\n",
    "            else:\n",
    "                return 'Не верный формат'\n",
    "        else:\n",
    "            return 'Нет такой валюты'\n",
    "        \n",
    "    def max_rate(self): # добавляем функцию\n",
    "        \"\"\"\n",
    "        Если надо вывести название валюты с максимальным значением\n",
    "        \"\"\"\n",
    "        return max((val['Value'], val['Name'] ) for val in self.excange_data().values())[1]\n",
    "        \n",
    "    def eur(self):\n",
    "        \"\"\"частный метод для вывода информации по евро\"\"\"\n",
    "        return self.report('EUR')\n",
    "    def mdl(self):\n",
    "        \"\"\"частный метод для вывода информации по леям\"\"\"\n",
    "        return self.report('MDL')\n",
    "    def usd(self):\n",
    "        \"\"\"частный метод для вывода информации по долларам\"\"\"\n",
    "        return self.report('USD')"
   ]
  },
  {
   "cell_type": "code",
   "execution_count": 8,
   "id": "3d35884c",
   "metadata": {},
   "outputs": [],
   "source": [
    "obj_1 = Rate(url, format_='cool')"
   ]
  },
  {
   "cell_type": "code",
   "execution_count": 9,
   "id": "ffca4095",
   "metadata": {},
   "outputs": [
    {
     "data": {
      "text/plain": [
       "'СДР (специальные права заимствования)'"
      ]
     },
     "execution_count": 9,
     "metadata": {},
     "output_type": "execute_result"
    }
   ],
   "source": [
    "obj_1.max_rate()"
   ]
  },
  {
   "cell_type": "code",
   "execution_count": 10,
   "id": "22186db7",
   "metadata": {},
   "outputs": [
    {
     "data": {
      "text/plain": [
       "'Не верный формат'"
      ]
     },
     "execution_count": 10,
     "metadata": {},
     "output_type": "execute_result"
    }
   ],
   "source": [
    "obj_1.report('USD')"
   ]
  },
  {
   "cell_type": "markdown",
   "id": "731433a8",
   "metadata": {},
   "source": [
    "### Задание 2\n",
    "Добавьте в класс Rate параметр diff (со значениями True или False), который в случае значения True в методах курсов валют (eur, usd итд) будет возвращать не курс валюты, а изменение по сравнению в прошлым значением. Считайте, self.diff будет принимать значение True только при возврате значения курса. При отображении всей информации о валюте он не используется."
   ]
  },
  {
   "cell_type": "markdown",
   "id": "9c078db1",
   "metadata": {},
   "source": [
    "За основу возьмем класс `Rate`и добавим параметр `diff` и обновим метод `report`. По идее этот метод должен вернуть результат, который будет использоваться в частных методах для валют."
   ]
  },
  {
   "cell_type": "code",
   "execution_count": 11,
   "id": "a5152ac5",
   "metadata": {},
   "outputs": [],
   "source": [
    "class RateDiff(Rate):\n",
    "    \"\"\"Класс наследует признаки родителя (Rate), \n",
    "    К нему добавляем признак diff\n",
    "    По умолчанию diff=True - вместо значения курса выведет разницу между текущим и предыдущим\n",
    "    \"\"\"\n",
    "    def __init__(self, url, format_='value', diff=True):\n",
    "        super().__init__(url, format_)\n",
    "        self.diff = diff\n",
    "    \n",
    "    def report(self, curr):\n",
    "        \"\"\"\n",
    "        Вывод отчета по какой-либо валюте по ее коду ЗАГЛАВНЫМИ буквами\n",
    "        Если формат full - полную информацию\n",
    "        Если формат value - только значение курса на последнюю дату\n",
    "        Если код валюты неверный - выведется сообщение\n",
    "        Если во входных параметрах diff=True, то выведет разнице текущего и предыдущего курсов\n",
    "        При формате full просто выведет информацию по валюте \n",
    "        \"\"\"\n",
    "        response = self.excange_data()\n",
    "        if curr in response:\n",
    "            if self.format == 'value':\n",
    "                if self.diff == True:\n",
    "                    return round((response[curr]['Value'] - response[curr]['Previous']), 4)\n",
    "                else:\n",
    "                    return response[curr]['Value']\n",
    "            elif self.format == 'full':\n",
    "                return response[curr]\n",
    "            else:\n",
    "                return 'Не верный формат'           \n",
    "        else:\n",
    "            return 'Нет такой валюты'\n",
    "        "
   ]
  },
  {
   "cell_type": "code",
   "execution_count": 12,
   "id": "c475982a",
   "metadata": {},
   "outputs": [],
   "source": [
    "obj_2 = RateDiff(url)"
   ]
  },
  {
   "cell_type": "code",
   "execution_count": 13,
   "id": "6d9226c0",
   "metadata": {},
   "outputs": [
    {
     "name": "stdout",
     "output_type": "stream",
     "text": [
      "EUR 1.2805\n"
     ]
    }
   ],
   "source": [
    "print('EUR', obj_2.report('EUR'))"
   ]
  },
  {
   "cell_type": "code",
   "execution_count": 14,
   "id": "ef23af7e",
   "metadata": {},
   "outputs": [
    {
     "data": {
      "text/plain": [
       "1.2805"
      ]
     },
     "execution_count": 14,
     "metadata": {},
     "output_type": "execute_result"
    }
   ],
   "source": [
    "obj_2.eur()"
   ]
  },
  {
   "cell_type": "code",
   "execution_count": 15,
   "id": "c2172b50",
   "metadata": {},
   "outputs": [],
   "source": [
    "obj_3 = RateDiff(url, format_='full')"
   ]
  },
  {
   "cell_type": "code",
   "execution_count": 16,
   "id": "ffb210ac",
   "metadata": {},
   "outputs": [
    {
     "data": {
      "text/plain": [
       "{'ID': 'R01235',\n",
       " 'NumCode': '840',\n",
       " 'CharCode': 'USD',\n",
       " 'Nominal': 1,\n",
       " 'Name': 'Доллар США',\n",
       " 'Value': 81.288,\n",
       " 'Previous': 79.8471}"
      ]
     },
     "execution_count": 16,
     "metadata": {},
     "output_type": "execute_result"
    }
   ],
   "source": [
    "obj_3.usd()"
   ]
  },
  {
   "cell_type": "code",
   "execution_count": 17,
   "id": "36b595cb",
   "metadata": {},
   "outputs": [],
   "source": [
    "obj_4 = RateDiff(url, format_='cool')"
   ]
  },
  {
   "cell_type": "code",
   "execution_count": 18,
   "id": "e57bae2a",
   "metadata": {},
   "outputs": [
    {
     "data": {
      "text/plain": [
       "'Не верный формат'"
      ]
     },
     "execution_count": 18,
     "metadata": {},
     "output_type": "execute_result"
    }
   ],
   "source": [
    "obj_4.usd()"
   ]
  },
  {
   "cell_type": "markdown",
   "id": "5020bd6c",
   "metadata": {},
   "source": [
    "### Задание 3\n",
    "Напишите класс Designer, \n",
    "- Который учитывает количество международных премий для дизайнеров (из презентации: “Повышение на 1 грейд за каждые 7 баллов. \n",
    "- Получение международной премии – это +2 балла”). \n",
    "- Считайте, что при выходе на работу сотрудник уже имеет две премии и их количество не меняется со стажем (конечно если хотите это можно вручную менять)."
   ]
  },
  {
   "cell_type": "markdown",
   "id": "03e8bc68",
   "metadata": {},
   "source": [
    "За основу берем класс `Employee`"
   ]
  },
  {
   "cell_type": "code",
   "execution_count": 19,
   "id": "c3110001",
   "metadata": {},
   "outputs": [],
   "source": [
    "class Employee:\n",
    "    \"\"\"Заводим парметры класса \n",
    "    имя и сеньёрити сотрудника\n",
    "    По умлочанию грейд = 1\"\"\"\n",
    "    def __init__(self, name, seniority):\n",
    "        self.name = name\n",
    "        self.seniority = seniority        \n",
    "        self.grade = 1\n",
    "    \n",
    "    def grade_up(self):\n",
    "        \"\"\"Повышает уровень сотрудника\"\"\"\n",
    "        self.grade += 1\n",
    "    \n",
    "    def publish_grade(self):\n",
    "        \"\"\"Публикация результатов аккредитации сотрудников\"\"\"\n",
    "        print(self.name, self.grade)"
   ]
  },
  {
   "cell_type": "markdown",
   "id": "54c0a0c3",
   "metadata": {},
   "source": [
    "Создаем дочерний класс `Developer`, который:\n",
    "- Наследует признаки родительского класса `Employee`\n",
    "- При каждом запуске метода `check_if_it_is_time_for_upgrade` сеньёрити увеличивается на 1 пункт, дойдя до 5 пунктов прибавит 1 грейд\n",
    "- Фиксирует апгрейд и возвращает в родительский класс на печать"
   ]
  },
  {
   "cell_type": "code",
   "execution_count": 20,
   "id": "cc5a885d",
   "metadata": {},
   "outputs": [],
   "source": [
    "class Developer(Employee):\n",
    "    \"\"\"\n",
    "    Наследует признаки родительского класса Employee\n",
    "    При каждом запуске метода check_if_it_is_time_for_upgrade сеньёрити увеличивается на 1 пункт, \n",
    "    дойдя до 5 пунктов прибавит 1 грейд\n",
    "    Фиксирует апгрейд и возвращает в родительский класс на печать\n",
    "    \"\"\"\n",
    "    def __init__(self, name, seniority):\n",
    "        super().__init__(name, seniority)\n",
    "    \n",
    "    def check_if_it_is_time_for_upgrade(self):\n",
    "        # для каждой аккредитации увеличиваем счетчик на 1\n",
    "        # пока считаем, что все разработчики проходят аккредитацию\n",
    "        self.seniority += 1\n",
    "        if self.seniority % 5 == 0:\n",
    "            self.grade_up()\n",
    "        \n",
    "        # публикация результатов\n",
    "        return self.publish_grade()"
   ]
  },
  {
   "cell_type": "code",
   "execution_count": 21,
   "id": "1afe5c21",
   "metadata": {},
   "outputs": [],
   "source": [
    "iwan = Developer('Иван', 0)"
   ]
  },
  {
   "cell_type": "code",
   "execution_count": 22,
   "id": "cece6780",
   "metadata": {},
   "outputs": [
    {
     "name": "stdout",
     "output_type": "stream",
     "text": [
      "Иван 1\n",
      "Период: 0, Сеньорити: 1, Грейд: 1 \n",
      " --------------------------------------------------\n",
      "Иван 1\n",
      "Период: 1, Сеньорити: 2, Грейд: 1 \n",
      " --------------------------------------------------\n",
      "Иван 1\n",
      "Период: 2, Сеньорити: 3, Грейд: 1 \n",
      " --------------------------------------------------\n",
      "Иван 1\n",
      "Период: 3, Сеньорити: 4, Грейд: 1 \n",
      " --------------------------------------------------\n",
      "Иван 2\n",
      "Период: 4, Сеньорити: 5, Грейд: 2 \n",
      " --------------------------------------------------\n",
      "Иван 2\n",
      "Период: 5, Сеньорити: 6, Грейд: 2 \n",
      " --------------------------------------------------\n",
      "Иван 2\n",
      "Период: 6, Сеньорити: 7, Грейд: 2 \n",
      " --------------------------------------------------\n",
      "Иван 2\n",
      "Период: 7, Сеньорити: 8, Грейд: 2 \n",
      " --------------------------------------------------\n",
      "Иван 2\n",
      "Период: 8, Сеньорити: 9, Грейд: 2 \n",
      " --------------------------------------------------\n",
      "Иван 3\n",
      "Период: 9, Сеньорити: 10, Грейд: 3 \n",
      " --------------------------------------------------\n",
      "Иван 3\n",
      "Период: 10, Сеньорити: 11, Грейд: 3 \n",
      " --------------------------------------------------\n",
      "Иван 3\n",
      "Период: 11, Сеньорити: 12, Грейд: 3 \n",
      " --------------------------------------------------\n",
      "Иван 3\n",
      "Период: 12, Сеньорити: 13, Грейд: 3 \n",
      " --------------------------------------------------\n",
      "Иван 3\n",
      "Период: 13, Сеньорити: 14, Грейд: 3 \n",
      " --------------------------------------------------\n",
      "Иван 4\n",
      "Период: 14, Сеньорити: 15, Грейд: 4 \n",
      " --------------------------------------------------\n",
      "Иван 4\n",
      "Период: 15, Сеньорити: 16, Грейд: 4 \n",
      " --------------------------------------------------\n",
      "Иван 4\n",
      "Период: 16, Сеньорити: 17, Грейд: 4 \n",
      " --------------------------------------------------\n",
      "Иван 4\n",
      "Период: 17, Сеньорити: 18, Грейд: 4 \n",
      " --------------------------------------------------\n",
      "Иван 4\n",
      "Период: 18, Сеньорити: 19, Грейд: 4 \n",
      " --------------------------------------------------\n",
      "Иван 5\n",
      "Период: 19, Сеньорити: 20, Грейд: 5 \n",
      " --------------------------------------------------\n"
     ]
    }
   ],
   "source": [
    "for i in range(20):\n",
    "    iwan.check_if_it_is_time_for_upgrade()\n",
    "    print(f'Период: {i}, Сеньорити: {iwan.seniority}, Грейд: {1 + iwan.seniority // 5}', '\\n', '-'*50)"
   ]
  },
  {
   "cell_type": "markdown",
   "id": "5dc6b221",
   "metadata": {},
   "source": [
    "Создаем дочерний класс `Designer`, который:\n",
    "- Наследует признаки родительского класса `Employee`\n",
    "- Добавляем собственный параметр `awd` - количество наград\n",
    "- При каждом запуске метода `check_if_it_is_time_for_upgrade` сеньёрити увеличивается на 1 пункт, за награды добавляется 2 пункта. На количество наград запуск метода не влияет. Их количество прописывается в параметрах. Дойдя до 7 пунктов прибавит 1 грейд\n",
    "- Фиксирует апгрейд и возвращает в родительский класс на печать"
   ]
  },
  {
   "cell_type": "code",
   "execution_count": 23,
   "id": "60963119",
   "metadata": {},
   "outputs": [],
   "source": [
    "class Designer(Employee):\n",
    "    \"\"\"\n",
    "    Наследует признаки родительского класса Employee\n",
    "    Добавляем собственный параметр awd - количество наград\n",
    "    При каждом запуске метода check_if_it_is_time_for_upgrade сеньёрити увеличивается на 1 пункт, \n",
    "    за награды добавляется 2 пункта. \n",
    "    На количество наград запуск метода не влияет. Их количество прописывается в параметрах. \n",
    "    Дойдя до 7 пунктов прибавит 1 грейд\n",
    "    Фиксирует апгрейд и возвращает в родительский класс на печать\n",
    "    \"\"\"\n",
    "    def __init__(self, name, seniority, awd):\n",
    "        super().__init__(name, seniority)\n",
    "        self.awd = awd\n",
    "    \n",
    "    def check_if_it_is_time_for_upgrade(self):\n",
    "        # для каждой аккредитации увеличиваем счетчик на 1\n",
    "        # пока считаем, что все дизайнеры проходят аккредитацию\n",
    "        self.seniority += 1\n",
    "        # заводим счетчик общих пунктов как сумму сеньёрити + 2 пункта за награду\n",
    "        self.total = self.awd * 2 + self.seniority        \n",
    "        if self.total % 7 == 0:\n",
    "            self.grade_up()\n",
    "        \n",
    "        # публикация результатов\n",
    "        return self.publish_grade()"
   ]
  },
  {
   "cell_type": "code",
   "execution_count": 24,
   "id": "06fc2ae8",
   "metadata": {},
   "outputs": [],
   "source": [
    "stephan = Designer('Степан', 0, 2)"
   ]
  },
  {
   "cell_type": "code",
   "execution_count": 25,
   "id": "240c76d6",
   "metadata": {},
   "outputs": [
    {
     "name": "stdout",
     "output_type": "stream",
     "text": [
      "Степан 1\n",
      "Период: 0, Сеньорити: 1, Награды: 2, Грейд: 1 \n",
      " --------------------------------------------------\n",
      "Степан 1\n",
      "Период: 1, Сеньорити: 2, Награды: 2, Грейд: 1 \n",
      " --------------------------------------------------\n",
      "Степан 2\n",
      "Период: 2, Сеньорити: 3, Награды: 2, Грейд: 2 \n",
      " --------------------------------------------------\n",
      "Степан 2\n",
      "Период: 3, Сеньорити: 4, Награды: 2, Грейд: 2 \n",
      " --------------------------------------------------\n",
      "Степан 2\n",
      "Период: 4, Сеньорити: 5, Награды: 2, Грейд: 2 \n",
      " --------------------------------------------------\n",
      "Степан 2\n",
      "Период: 5, Сеньорити: 6, Награды: 2, Грейд: 2 \n",
      " --------------------------------------------------\n",
      "Степан 2\n",
      "Период: 6, Сеньорити: 7, Награды: 2, Грейд: 2 \n",
      " --------------------------------------------------\n",
      "Степан 2\n",
      "Период: 7, Сеньорити: 8, Награды: 2, Грейд: 2 \n",
      " --------------------------------------------------\n",
      "Степан 2\n",
      "Период: 8, Сеньорити: 9, Награды: 2, Грейд: 2 \n",
      " --------------------------------------------------\n",
      "Степан 3\n",
      "Период: 9, Сеньорити: 10, Награды: 2, Грейд: 3 \n",
      " --------------------------------------------------\n",
      "Степан 3\n",
      "Период: 10, Сеньорити: 11, Награды: 2, Грейд: 3 \n",
      " --------------------------------------------------\n",
      "Степан 3\n",
      "Период: 11, Сеньорити: 12, Награды: 2, Грейд: 3 \n",
      " --------------------------------------------------\n",
      "Степан 3\n",
      "Период: 12, Сеньорити: 13, Награды: 2, Грейд: 3 \n",
      " --------------------------------------------------\n",
      "Степан 3\n",
      "Период: 13, Сеньорити: 14, Награды: 2, Грейд: 3 \n",
      " --------------------------------------------------\n",
      "Степан 3\n",
      "Период: 14, Сеньорити: 15, Награды: 2, Грейд: 3 \n",
      " --------------------------------------------------\n",
      "Степан 3\n",
      "Период: 15, Сеньорити: 16, Награды: 2, Грейд: 3 \n",
      " --------------------------------------------------\n",
      "Степан 4\n",
      "Период: 16, Сеньорити: 17, Награды: 2, Грейд: 4 \n",
      " --------------------------------------------------\n",
      "Степан 4\n",
      "Период: 17, Сеньорити: 18, Награды: 2, Грейд: 4 \n",
      " --------------------------------------------------\n",
      "Степан 4\n",
      "Период: 18, Сеньорити: 19, Награды: 2, Грейд: 4 \n",
      " --------------------------------------------------\n",
      "Степан 4\n",
      "Период: 19, Сеньорити: 20, Награды: 2, Грейд: 4 \n",
      " --------------------------------------------------\n"
     ]
    }
   ],
   "source": [
    "for i in range(20):\n",
    "    stephan.check_if_it_is_time_for_upgrade()\n",
    "    print(f'Период: {i}, Сеньорити: {stephan.seniority}, Награды: {stephan.awd}, Грейд: {1 + (stephan.awd * 2 + stephan.seniority) // 7}', '\\n', '-'*50)"
   ]
  },
  {
   "cell_type": "code",
   "execution_count": null,
   "id": "7507ada8",
   "metadata": {},
   "outputs": [],
   "source": []
  }
 ],
 "metadata": {
  "kernelspec": {
   "display_name": "Python 3 (ipykernel)",
   "language": "python",
   "name": "python3"
  },
  "language_info": {
   "codemirror_mode": {
    "name": "ipython",
    "version": 3
   },
   "file_extension": ".py",
   "mimetype": "text/x-python",
   "name": "python",
   "nbconvert_exporter": "python",
   "pygments_lexer": "ipython3",
   "version": "3.9.7"
  }
 },
 "nbformat": 4,
 "nbformat_minor": 5
}
