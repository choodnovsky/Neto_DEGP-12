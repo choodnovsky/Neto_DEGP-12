{
 "cells": [
  {
   "cell_type": "markdown",
   "id": "890ae6e6",
   "metadata": {},
   "source": [
    "### Домашнее задание №5 к лекции «Задачи классификации и кластеризации»"
   ]
  },
  {
   "cell_type": "code",
   "execution_count": 26,
   "id": "327da7ff",
   "metadata": {},
   "outputs": [],
   "source": [
    "import pandas as pd\n",
    "import numpy as np\n",
    "import matplotlib.pyplot as plt\n",
    "import seaborn as sns\n",
    "from sklearn.datasets import load_iris\n",
    "from sklearn.model_selection import train_test_split\n",
    "from sklearn.preprocessing import StandardScaler\n",
    "from sklearn.discriminant_analysis import LinearDiscriminantAnalysis\n",
    "from sklearn.metrics import (accuracy_score, precision_score, recall_score, \n",
    "                             f1_score, roc_auc_score, \n",
    "                             roc_curve, auc, silhouette_score)"
   ]
  },
  {
   "cell_type": "markdown",
   "id": "ad2342b0",
   "metadata": {},
   "source": [
    "#### Задание.\n",
    "1. Возьмите датасет с цветками iris’а (функция load_iris из библиотеки sklearn)  \n",
    "2. Оставьте два признака - sepal_length и sepal_width и целевую переменную - variety\n",
    "3. Разделите данные на выборку для обучения и тестирования\n",
    "4. Постройте модель LDA\n",
    "5. Визуализируйте предсказания для тестовой выборки и центры классов\n",
    "6. Отбросьте целевую переменную и оставьте только два признака - sepal_length и sepal_width\n",
    "7. Подберите оптимальное число кластеров для алгоритма kmeans и визуализируйте полученную кластеризацию"
   ]
  },
  {
   "cell_type": "code",
   "execution_count": 2,
   "id": "1b868f0b",
   "metadata": {},
   "outputs": [],
   "source": [
    "iris = load_iris(as_frame=True)"
   ]
  },
  {
   "cell_type": "code",
   "execution_count": 7,
   "id": "735919c6",
   "metadata": {},
   "outputs": [],
   "source": [
    "df = pd.DataFrame(data=iris.data, columns=iris.feature_names)\n",
    "df['variety'] = iris.target"
   ]
  },
  {
   "cell_type": "code",
   "execution_count": 8,
   "id": "9e8bf495",
   "metadata": {},
   "outputs": [
    {
     "data": {
      "text/html": [
       "<div>\n",
       "<style scoped>\n",
       "    .dataframe tbody tr th:only-of-type {\n",
       "        vertical-align: middle;\n",
       "    }\n",
       "\n",
       "    .dataframe tbody tr th {\n",
       "        vertical-align: top;\n",
       "    }\n",
       "\n",
       "    .dataframe thead th {\n",
       "        text-align: right;\n",
       "    }\n",
       "</style>\n",
       "<table border=\"1\" class=\"dataframe\">\n",
       "  <thead>\n",
       "    <tr style=\"text-align: right;\">\n",
       "      <th></th>\n",
       "      <th>sepal length (cm)</th>\n",
       "      <th>sepal width (cm)</th>\n",
       "      <th>petal length (cm)</th>\n",
       "      <th>petal width (cm)</th>\n",
       "      <th>variety</th>\n",
       "    </tr>\n",
       "  </thead>\n",
       "  <tbody>\n",
       "    <tr>\n",
       "      <th>0</th>\n",
       "      <td>5.1</td>\n",
       "      <td>3.5</td>\n",
       "      <td>1.4</td>\n",
       "      <td>0.2</td>\n",
       "      <td>0</td>\n",
       "    </tr>\n",
       "    <tr>\n",
       "      <th>1</th>\n",
       "      <td>4.9</td>\n",
       "      <td>3.0</td>\n",
       "      <td>1.4</td>\n",
       "      <td>0.2</td>\n",
       "      <td>0</td>\n",
       "    </tr>\n",
       "    <tr>\n",
       "      <th>2</th>\n",
       "      <td>4.7</td>\n",
       "      <td>3.2</td>\n",
       "      <td>1.3</td>\n",
       "      <td>0.2</td>\n",
       "      <td>0</td>\n",
       "    </tr>\n",
       "    <tr>\n",
       "      <th>3</th>\n",
       "      <td>4.6</td>\n",
       "      <td>3.1</td>\n",
       "      <td>1.5</td>\n",
       "      <td>0.2</td>\n",
       "      <td>0</td>\n",
       "    </tr>\n",
       "    <tr>\n",
       "      <th>4</th>\n",
       "      <td>5.0</td>\n",
       "      <td>3.6</td>\n",
       "      <td>1.4</td>\n",
       "      <td>0.2</td>\n",
       "      <td>0</td>\n",
       "    </tr>\n",
       "  </tbody>\n",
       "</table>\n",
       "</div>"
      ],
      "text/plain": [
       "   sepal length (cm)  sepal width (cm)  petal length (cm)  petal width (cm)  \\\n",
       "0                5.1               3.5                1.4               0.2   \n",
       "1                4.9               3.0                1.4               0.2   \n",
       "2                4.7               3.2                1.3               0.2   \n",
       "3                4.6               3.1                1.5               0.2   \n",
       "4                5.0               3.6                1.4               0.2   \n",
       "\n",
       "   variety  \n",
       "0        0  \n",
       "1        0  \n",
       "2        0  \n",
       "3        0  \n",
       "4        0  "
      ]
     },
     "execution_count": 8,
     "metadata": {},
     "output_type": "execute_result"
    }
   ],
   "source": [
    "df.head()"
   ]
  },
  {
   "cell_type": "code",
   "execution_count": 5,
   "id": "03c7bd8f",
   "metadata": {},
   "outputs": [
    {
     "data": {
      "text/plain": [
       "0    50\n",
       "1    50\n",
       "2    50\n",
       "Name: target, dtype: int64"
      ]
     },
     "execution_count": 5,
     "metadata": {},
     "output_type": "execute_result"
    }
   ],
   "source": [
    "df['target'].value_counts()"
   ]
  },
  {
   "cell_type": "code",
   "execution_count": 9,
   "id": "bae36c66",
   "metadata": {},
   "outputs": [],
   "source": [
    "df_1 = df[['sepal length (cm)', 'sepal width (cm)', 'variety']]"
   ]
  },
  {
   "cell_type": "code",
   "execution_count": 11,
   "id": "c5d80fec",
   "metadata": {},
   "outputs": [
    {
     "data": {
      "text/html": [
       "<div>\n",
       "<style scoped>\n",
       "    .dataframe tbody tr th:only-of-type {\n",
       "        vertical-align: middle;\n",
       "    }\n",
       "\n",
       "    .dataframe tbody tr th {\n",
       "        vertical-align: top;\n",
       "    }\n",
       "\n",
       "    .dataframe thead th {\n",
       "        text-align: right;\n",
       "    }\n",
       "</style>\n",
       "<table border=\"1\" class=\"dataframe\">\n",
       "  <thead>\n",
       "    <tr style=\"text-align: right;\">\n",
       "      <th></th>\n",
       "      <th>sepal length (cm)</th>\n",
       "      <th>sepal width (cm)</th>\n",
       "      <th>variety</th>\n",
       "    </tr>\n",
       "  </thead>\n",
       "  <tbody>\n",
       "    <tr>\n",
       "      <th>0</th>\n",
       "      <td>5.1</td>\n",
       "      <td>3.5</td>\n",
       "      <td>0</td>\n",
       "    </tr>\n",
       "    <tr>\n",
       "      <th>1</th>\n",
       "      <td>4.9</td>\n",
       "      <td>3.0</td>\n",
       "      <td>0</td>\n",
       "    </tr>\n",
       "    <tr>\n",
       "      <th>2</th>\n",
       "      <td>4.7</td>\n",
       "      <td>3.2</td>\n",
       "      <td>0</td>\n",
       "    </tr>\n",
       "    <tr>\n",
       "      <th>3</th>\n",
       "      <td>4.6</td>\n",
       "      <td>3.1</td>\n",
       "      <td>0</td>\n",
       "    </tr>\n",
       "    <tr>\n",
       "      <th>4</th>\n",
       "      <td>5.0</td>\n",
       "      <td>3.6</td>\n",
       "      <td>0</td>\n",
       "    </tr>\n",
       "  </tbody>\n",
       "</table>\n",
       "</div>"
      ],
      "text/plain": [
       "   sepal length (cm)  sepal width (cm)  variety\n",
       "0                5.1               3.5        0\n",
       "1                4.9               3.0        0\n",
       "2                4.7               3.2        0\n",
       "3                4.6               3.1        0\n",
       "4                5.0               3.6        0"
      ]
     },
     "execution_count": 11,
     "metadata": {},
     "output_type": "execute_result"
    }
   ],
   "source": [
    "df_1.head()"
   ]
  },
  {
   "cell_type": "code",
   "execution_count": 28,
   "id": "88389827",
   "metadata": {},
   "outputs": [],
   "source": [
    "X = df[['sepal length (cm)', 'sepal width (cm)']]\n",
    "y = df['variety']"
   ]
  },
  {
   "cell_type": "code",
   "execution_count": 30,
   "id": "261740fa",
   "metadata": {},
   "outputs": [],
   "source": [
    "X_train, X_test, y_train, y_test = train_test_split(X, y, test_size=0.25, random_state=42)"
   ]
  },
  {
   "cell_type": "code",
   "execution_count": 31,
   "id": "c9414941",
   "metadata": {},
   "outputs": [
    {
     "data": {
      "text/plain": [
       "38"
      ]
     },
     "execution_count": 31,
     "metadata": {},
     "output_type": "execute_result"
    }
   ],
   "source": [
    "len(y_test)"
   ]
  },
  {
   "cell_type": "code",
   "execution_count": 32,
   "id": "66d49e29",
   "metadata": {},
   "outputs": [],
   "source": [
    "lda = LinearDiscriminantAnalysis()"
   ]
  },
  {
   "cell_type": "code",
   "execution_count": 33,
   "id": "a6360661",
   "metadata": {},
   "outputs": [
    {
     "data": {
      "text/plain": [
       "LinearDiscriminantAnalysis()"
      ]
     },
     "execution_count": 33,
     "metadata": {},
     "output_type": "execute_result"
    }
   ],
   "source": [
    "lda.fit(X_train, y_train)"
   ]
  },
  {
   "cell_type": "code",
   "execution_count": 51,
   "id": "1582e7b1",
   "metadata": {},
   "outputs": [],
   "source": [
    "y_pred = lda.predict(X_test)"
   ]
  },
  {
   "cell_type": "code",
   "execution_count": 78,
   "id": "5a08ad76",
   "metadata": {},
   "outputs": [
    {
     "data": {
      "text/plain": [
       "array([[1.18640942e-04, 5.71170483e-01, 4.28710876e-01],\n",
       "       [9.98305477e-01, 1.29689718e-03, 3.97626130e-04],\n",
       "       [4.65740470e-12, 3.31288153e-02, 9.66871185e-01],\n",
       "       [9.16238393e-04, 6.25138562e-01, 3.73945200e-01],\n",
       "       [2.54918739e-07, 2.11414585e-01, 7.88585160e-01],\n",
       "       [9.78902076e-01, 1.82992290e-02, 2.79869482e-03],\n",
       "       [2.19308787e-02, 7.89212788e-01, 1.88856333e-01],\n",
       "       [3.90623726e-06, 1.74836227e-01, 8.25159867e-01],\n",
       "       [3.44635665e-08, 5.17588278e-01, 4.82411688e-01],\n",
       "       [4.05227643e-04, 7.26045565e-01, 2.73549208e-01],\n",
       "       [4.95052155e-04, 3.45611436e-01, 6.53893512e-01],\n",
       "       [9.70175212e-01, 2.87225421e-02, 1.10224549e-03],\n",
       "       [9.86427963e-01, 1.13791654e-02, 2.19287163e-03],\n",
       "       [9.81207135e-01, 1.79260620e-02, 8.66802978e-04],\n",
       "       [9.99983043e-01, 1.57358477e-05, 1.22072591e-06],\n",
       "       [9.49906973e-03, 4.50399010e-01, 5.40101920e-01],\n",
       "       [4.34330666e-05, 3.46712511e-01, 6.53244055e-01],\n",
       "       [1.71745723e-04, 8.08067712e-01, 1.91760542e-01],\n",
       "       [3.01962725e-03, 7.66751761e-01, 2.30228612e-01],\n",
       "       [9.17305975e-06, 4.01252437e-01, 5.98738390e-01],\n",
       "       [9.98722801e-01, 1.23921986e-03, 3.79789746e-05],\n",
       "       [1.35248343e-03, 5.69444300e-01, 4.29203217e-01],\n",
       "       [9.98954799e-01, 9.84939732e-04, 6.02612554e-05],\n",
       "       [9.17305975e-06, 4.01252437e-01, 5.98738390e-01],\n",
       "       [1.49356029e-06, 2.06979970e-02, 9.79300509e-01],\n",
       "       [7.23056262e-06, 2.51325163e-01, 7.48667607e-01],\n",
       "       [1.64829293e-08, 2.53295781e-01, 7.46704203e-01],\n",
       "       [3.31092505e-05, 2.10019098e-01, 7.89947792e-01],\n",
       "       [9.70175212e-01, 2.87225421e-02, 1.10224549e-03],\n",
       "       [9.90990015e-01, 8.67632964e-03, 3.33655268e-04],\n",
       "       [9.99995340e-01, 4.54799734e-06, 1.11780863e-07],\n",
       "       [9.99998861e-01, 8.68972399e-07, 2.69782808e-07],\n",
       "       [2.44113460e-05, 2.50928316e-01, 7.49047273e-01],\n",
       "       [9.99764855e-01, 2.26384571e-04, 8.76048651e-06],\n",
       "       [9.99861352e-01, 1.36543455e-04, 2.10496599e-06],\n",
       "       [5.66132071e-07, 4.58861473e-01, 5.41137961e-01],\n",
       "       [1.19192615e-03, 3.98776048e-01, 6.00032026e-01],\n",
       "       [9.98609249e-01, 1.26785133e-03, 1.22899595e-04]])"
      ]
     },
     "execution_count": 78,
     "metadata": {},
     "output_type": "execute_result"
    }
   ],
   "source": [
    "y_proba = lda.predict_proba(X_test)\n",
    "y_proba"
   ]
  },
  {
   "cell_type": "code",
   "execution_count": 52,
   "id": "75572abe",
   "metadata": {},
   "outputs": [],
   "source": [
    "result = pd.DataFrame([np.array(y_test), y_pred]).T"
   ]
  },
  {
   "cell_type": "code",
   "execution_count": 113,
   "id": "abee779a",
   "metadata": {},
   "outputs": [],
   "source": [
    "def metrics_dict(y_test, y_pred, y_proba):\n",
    "    metrics = {}\n",
    "    metrics['Accuracy'] = (accuracy_score(y_test, y_pred))\n",
    "    metrics['Precision'] = (precision_score(y_test, y_pred, average='weighted'))\n",
    "    metrics['Recall'] = (recall_score(y_test, y_pred, average='weighted'))\n",
    "    metrics['F1'] = (f1_score(y_test, y_pred, average='weighted'))\n",
    "    metrics['ROC AUC'] = (roc_auc_score(y_test, y_proba, multi_class='ovr'))\n",
    "    return pd.DataFrame.from_dict(metrics, orient='index', columns=['value'])"
   ]
  },
  {
   "cell_type": "code",
   "execution_count": 117,
   "id": "23a0b359",
   "metadata": {},
   "outputs": [],
   "source": [
    "def model(df, filtr=None):\n",
    "    X = df[['sepal length (cm)', 'sepal width (cm)']]\n",
    "    y = df['variety']\n",
    "    X_train, X_test, y_train, y_test = train_test_split(X, y, test_size=0.25, random_state=42)\n",
    "    lda = LinearDiscriminantAnalysis()\n",
    "    lda.fit(X_train, y_train)\n",
    "    y_pred = lda.predict(X_test)\n",
    "    y_proba = lda.predict_proba(X_test)\n",
    "    display(metrics_dict(y_test, y_pred, y_proba))\n",
    "    plt.scatter(\n",
    "        x = X_train['sepal length (cm)'],\n",
    "        y = X_train['sepal width (cm)'], \n",
    "        c = y_train)\n",
    "    plt.scatter(lda.means_[:,0], lda.means_[:,1], c='r', s=100)"
   ]
  },
  {
   "cell_type": "code",
   "execution_count": 118,
   "id": "f9b2f9f0",
   "metadata": {},
   "outputs": [
    {
     "data": {
      "text/html": [
       "<div>\n",
       "<style scoped>\n",
       "    .dataframe tbody tr th:only-of-type {\n",
       "        vertical-align: middle;\n",
       "    }\n",
       "\n",
       "    .dataframe tbody tr th {\n",
       "        vertical-align: top;\n",
       "    }\n",
       "\n",
       "    .dataframe thead th {\n",
       "        text-align: right;\n",
       "    }\n",
       "</style>\n",
       "<table border=\"1\" class=\"dataframe\">\n",
       "  <thead>\n",
       "    <tr style=\"text-align: right;\">\n",
       "      <th></th>\n",
       "      <th>value</th>\n",
       "    </tr>\n",
       "  </thead>\n",
       "  <tbody>\n",
       "    <tr>\n",
       "      <th>Accuracy</th>\n",
       "      <td>0.868421</td>\n",
       "    </tr>\n",
       "    <tr>\n",
       "      <th>Precision</th>\n",
       "      <td>0.879605</td>\n",
       "    </tr>\n",
       "    <tr>\n",
       "      <th>Recall</th>\n",
       "      <td>0.868421</td>\n",
       "    </tr>\n",
       "    <tr>\n",
       "      <th>F1</th>\n",
       "      <td>0.865343</td>\n",
       "    </tr>\n",
       "    <tr>\n",
       "      <th>ROC AUC</th>\n",
       "      <td>0.950682</td>\n",
       "    </tr>\n",
       "  </tbody>\n",
       "</table>\n",
       "</div>"
      ],
      "text/plain": [
       "              value\n",
       "Accuracy   0.868421\n",
       "Precision  0.879605\n",
       "Recall     0.868421\n",
       "F1         0.865343\n",
       "ROC AUC    0.950682"
      ]
     },
     "metadata": {},
     "output_type": "display_data"
    },
    {
     "data": {
      "image/png": "[encoded data removed]",
      "text/plain": [
       "<Figure size 432x288 with 1 Axes>"
      ]
     },
     "metadata": {
      "needs_background": "light"
     },
     "output_type": "display_data"
    }
   ],
   "source": [
    "model(df_1)"
   ]
  },
  {
   "cell_type": "code",
   "execution_count": null,
   "id": "b663334f",
   "metadata": {},
   "outputs": [],
   "source": []
  },
  {
   "cell_type": "code",
   "execution_count": 77,
   "id": "b94e3bd6",
   "metadata": {},
   "outputs": [
    {
     "data": {
      "text/html": [
       "<div>\n",
       "<style scoped>\n",
       "    .dataframe tbody tr th:only-of-type {\n",
       "        vertical-align: middle;\n",
       "    }\n",
       "\n",
       "    .dataframe tbody tr th {\n",
       "        vertical-align: top;\n",
       "    }\n",
       "\n",
       "    .dataframe thead th {\n",
       "        text-align: right;\n",
       "    }\n",
       "</style>\n",
       "<table border=\"1\" class=\"dataframe\">\n",
       "  <thead>\n",
       "    <tr style=\"text-align: right;\">\n",
       "      <th></th>\n",
       "      <th>0</th>\n",
       "      <th>1</th>\n",
       "    </tr>\n",
       "  </thead>\n",
       "  <tbody>\n",
       "    <tr>\n",
       "      <th>0</th>\n",
       "      <td>1</td>\n",
       "      <td>1</td>\n",
       "    </tr>\n",
       "    <tr>\n",
       "      <th>1</th>\n",
       "      <td>0</td>\n",
       "      <td>0</td>\n",
       "    </tr>\n",
       "    <tr>\n",
       "      <th>2</th>\n",
       "      <td>2</td>\n",
       "      <td>2</td>\n",
       "    </tr>\n",
       "    <tr>\n",
       "      <th>3</th>\n",
       "      <td>1</td>\n",
       "      <td>1</td>\n",
       "    </tr>\n",
       "    <tr>\n",
       "      <th>4</th>\n",
       "      <td>1</td>\n",
       "      <td>2</td>\n",
       "    </tr>\n",
       "  </tbody>\n",
       "</table>\n",
       "</div>"
      ],
      "text/plain": [
       "   0  1\n",
       "0  1  1\n",
       "1  0  0\n",
       "2  2  2\n",
       "3  1  1\n",
       "4  1  2"
      ]
     },
     "execution_count": 77,
     "metadata": {},
     "output_type": "execute_result"
    }
   ],
   "source": [
    "result.head()"
   ]
  },
  {
   "cell_type": "code",
   "execution_count": 115,
   "id": "a5d7f101",
   "metadata": {},
   "outputs": [
    {
     "data": {
      "text/html": [
       "<div>\n",
       "<style scoped>\n",
       "    .dataframe tbody tr th:only-of-type {\n",
       "        vertical-align: middle;\n",
       "    }\n",
       "\n",
       "    .dataframe tbody tr th {\n",
       "        vertical-align: top;\n",
       "    }\n",
       "\n",
       "    .dataframe thead th {\n",
       "        text-align: right;\n",
       "    }\n",
       "</style>\n",
       "<table border=\"1\" class=\"dataframe\">\n",
       "  <thead>\n",
       "    <tr style=\"text-align: right;\">\n",
       "      <th></th>\n",
       "      <th>value</th>\n",
       "    </tr>\n",
       "  </thead>\n",
       "  <tbody>\n",
       "    <tr>\n",
       "      <th>Accuracy</th>\n",
       "      <td>0.868421</td>\n",
       "    </tr>\n",
       "    <tr>\n",
       "      <th>Precision</th>\n",
       "      <td>0.879605</td>\n",
       "    </tr>\n",
       "    <tr>\n",
       "      <th>Recall</th>\n",
       "      <td>0.868421</td>\n",
       "    </tr>\n",
       "    <tr>\n",
       "      <th>F1</th>\n",
       "      <td>0.865343</td>\n",
       "    </tr>\n",
       "    <tr>\n",
       "      <th>ROC AUC</th>\n",
       "      <td>0.950682</td>\n",
       "    </tr>\n",
       "  </tbody>\n",
       "</table>\n",
       "</div>"
      ],
      "text/plain": [
       "              value\n",
       "Accuracy   0.868421\n",
       "Precision  0.879605\n",
       "Recall     0.868421\n",
       "F1         0.865343\n",
       "ROC AUC    0.950682"
      ]
     },
     "execution_count": 115,
     "metadata": {},
     "output_type": "execute_result"
    }
   ],
   "source": [
    "metrics_dict(y_test, y_pred, y_proba)"
   ]
  },
  {
   "cell_type": "code",
   "execution_count": null,
   "id": "53debc7c",
   "metadata": {},
   "outputs": [],
   "source": [
    "pd.DataFrame.from_dict(met, orient='index')"
   ]
  },
  {
   "cell_type": "code",
   "execution_count": 103,
   "id": "f129c904",
   "metadata": {},
   "outputs": [
    {
     "data": {
      "text/plain": [
       "<matplotlib.collections.PathCollection at 0x14460e370>"
      ]
     },
     "execution_count": 103,
     "metadata": {},
     "output_type": "execute_result"
    },
    {
     "data": {
      "image/png": "[encoded data removed]",
      "text/plain": [
       "<Figure size 432x288 with 1 Axes>"
      ]
     },
     "metadata": {
      "needs_background": "light"
     },
     "output_type": "display_data"
    }
   ],
   "source": [
    "plt.scatter(x = X_train['sepal length (cm)'],\n",
    "            y = X_train['sepal width (cm)'], \n",
    "            c = y_train)\n",
    "plt.scatter(lda.means_[:,0], lda.means_[:,1], c='r', s=100)"
   ]
  },
  {
   "cell_type": "code",
   "execution_count": 101,
   "id": "74d808bc",
   "metadata": {},
   "outputs": [
    {
     "data": {
      "text/plain": [
       "<matplotlib.collections.PathCollection at 0x14458c220>"
      ]
     },
     "execution_count": 101,
     "metadata": {},
     "output_type": "execute_result"
    },
    {
     "data": {
      "image/png": "[encoded data removed]",
      "text/plain": [
       "<Figure size 432x288 with 1 Axes>"
      ]
     },
     "metadata": {
      "needs_background": "light"
     },
     "output_type": "display_data"
    }
   ],
   "source": [
    "plt.scatter(lda.means_[:,0], lda.means_[:,1])"
   ]
  },
  {
   "cell_type": "code",
   "execution_count": null,
   "id": "c1a9e023",
   "metadata": {},
   "outputs": [],
   "source": []
  }
 ],
 "metadata": {
  "kernelspec": {
   "display_name": "Python 3 (ipykernel)",
   "language": "python",
   "name": "python3"
  },
  "language_info": {
   "codemirror_mode": {
    "name": "ipython",
    "version": 3
   },
   "file_extension": ".py",
   "mimetype": "text/x-python",
   "name": "python",
   "nbconvert_exporter": "python",
   "pygments_lexer": "ipython3",
   "version": "3.9.12"
  }
 },
 "nbformat": 4,
 "nbformat_minor": 5
}
