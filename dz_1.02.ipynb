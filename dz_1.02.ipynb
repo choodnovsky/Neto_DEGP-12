{
 "cells": [
  {
   "cell_type": "markdown",
   "id": "d68b5beb",
   "metadata": {},
   "source": [
    "## Домашнее задание №2 к лекции \"Основы Python\""
   ]
  },
  {
   "cell_type": "markdown",
   "id": "9063defc",
   "metadata": {},
   "source": [
    "### Задание 1\n",
    "Дана переменная, в которой хранится слово из латинских букв. Напишите код, который выводит на экран:\n",
    "\n",
    "среднюю букву, если число букв в слове нечетное;\n",
    "две средних буквы, если число букв четное."
   ]
  },
  {
   "cell_type": "code",
   "execution_count": 13,
   "id": "e55faabd",
   "metadata": {},
   "outputs": [
    {
     "name": "stdout",
     "output_type": "stream",
     "text": [
      "тестомес\n",
      "то\n"
     ]
    }
   ],
   "source": [
    "word = input()\n",
    "\n",
    "index = len(word) // 2 # Определяем ближайший к середине индекс\n",
    "if len(word) % 2 == 1: # Определяем четное ли кол-во знаков\n",
    "    print(word[index]) # Т.к. индексы начинаются с нуля полученный индекс будет центральным\n",
    "else:\n",
    "    print(word[index-1] + word[index]) # в противном случае по середине будут найденый ранее индекс и предыдущий"
   ]
  },
  {
   "cell_type": "markdown",
   "id": "c82be3b9",
   "metadata": {},
   "source": [
    "### Задание 2\n",
    "Напишите программу, которая последовательно запрашивает у пользователя числа (по одному за раз) и после первого нуля выводит сумму всех ранее введенных чисел."
   ]
  },
  {
   "cell_type": "code",
   "execution_count": 2,
   "id": "4f44802c",
   "metadata": {},
   "outputs": [
    {
     "name": "stdout",
     "output_type": "stream",
     "text": [
      "Введите число: \n",
      "0\n",
      "Результат: 0\n"
     ]
    }
   ],
   "source": [
    "n = int(input('Введите число: \\n'))\n",
    "summa = n # Забросим первое число в итог\n",
    "while n != 0: # Пока введенное число не будет нулем\n",
    "    n = int(input()) # Продолжаем вводить числа\n",
    "    summa += n # И прибавляем к итогу\n",
    "print(f'Результат: {summa}')"
   ]
  },
  {
   "cell_type": "markdown",
   "id": "46a6c4ab",
   "metadata": {},
   "source": [
    "### Задание 3\n",
    "Мы делаем MVP dating-сервиса, и у нас есть список парней и девушек.\n",
    "Выдвигаем гипотезу: лучшие рекомендации мы получим, если просто отсортируем имена по алфавиту и познакомим людей с одинаковыми индексами после сортировки! Но мы не будем никого знакомить, если кто-то может остаться без пары:"
   ]
  },
  {
   "cell_type": "code",
   "execution_count": 3,
   "id": "1f466c39",
   "metadata": {},
   "outputs": [],
   "source": [
    "boys = ['Peter', 'Alex', 'John', 'Arthur', 'Richard'] # Тут списки можно вводить как строку и разбивать по комбинации ', ' \n",
    "girls = ['Kate', 'Liza', 'Kira', 'Emma', 'Trisha'] # но высока вероятность забыть пробел или запятую. Так что просто введем списки"
   ]
  },
  {
   "cell_type": "code",
   "execution_count": 4,
   "id": "ea71ee89",
   "metadata": {},
   "outputs": [
    {
     "name": "stdout",
     "output_type": "stream",
     "text": [
      "Идеальные пары: \n",
      "\n",
      "Alex и Emma\n",
      "Arthur и Kate\n",
      "John и Kira\n",
      "Peter и Liza\n",
      "Richard и Trisha\n"
     ]
    }
   ],
   "source": [
    "if len(boys) == len(girls): # Просто сравним длины списков имен и зададим условие\n",
    "    print('Идеальные пары:', '\\n')\n",
    "    i = 0\n",
    "    while i < len(boys): # Т.к. в этой ветке длины списков равны, без разницы по какому будем итерироваться\n",
    "        print(sorted(boys)[i], 'и', sorted(girls)[i])\n",
    "        i += 1\n",
    "else:\n",
    "    print('Внимание, кто-то может остаться без пары!')"
   ]
  },
  {
   "cell_type": "code",
   "execution_count": 5,
   "id": "9d703b5a",
   "metadata": {},
   "outputs": [
    {
     "name": "stdout",
     "output_type": "stream",
     "text": [
      "Идеальные пары: \n",
      "\n",
      "Alex и Emma\n",
      "Arthur и Kate\n",
      "John и Kira\n",
      "Peter и Liza\n",
      "Richard и Trisha\n"
     ]
    }
   ],
   "source": [
    "if len(boys) == len(girls): # Просто сравним длины списков имен и зададим условие\n",
    "    print('Идеальные пары:', '\\n')\n",
    "    pairs = zip(sorted(boys),sorted(girls)) # Склеим два списка\n",
    "    for pair in pairs: # пройдемся по каждой паре и выведем мальчика и девочку\n",
    "        print(pair[0], 'и', pair[1])\n",
    "else:\n",
    "    print('Внимание, кто-то может остаться без пары!')"
   ]
  },
  {
   "cell_type": "code",
   "execution_count": 6,
   "id": "b90326b6",
   "metadata": {},
   "outputs": [
    {
     "name": "stdout",
     "output_type": "stream",
     "text": [
      "Идеальные пары: \n",
      "\n",
      "Alex и Emma\n",
      "Arthur и Kate\n",
      "John и Kira\n",
      "Peter и Liza\n",
      "Richard и Trisha\n"
     ]
    }
   ],
   "source": [
    "if len(boys) == len(girls): # Просто сравним длины списков имен и зададим условие\n",
    "    print('Идеальные пары:', '\\n')\n",
    "    for i in range(len(boys)): # Т.к. в этой ветке длины списков равны, без разницы по какому будем итерироваться\n",
    "        print(sorted(boys)[i], 'и', sorted(girls)[i])\n",
    "else:\n",
    "    print('Внимание, кто-то может остаться без пары!')"
   ]
  },
  {
   "cell_type": "markdown",
   "id": "9e876d54",
   "metadata": {},
   "source": [
    "### Задание 4\n",
    "У нас есть список, содержащий информацию о среднедневной температуре в Фаренгейтах за произвольный период по странам (структура данных в примере). Необходимо написать код, который рассчитает среднюю температуру за период в Цельсиях(!) для каждой страны."
   ]
  },
  {
   "cell_type": "code",
   "execution_count": 7,
   "id": "c54036a7",
   "metadata": {},
   "outputs": [],
   "source": [
    "countries_temperature = [\n",
    "['Thailand', [75.2, 77, 78.8, 73.4, 68, 75.2, 77]],\n",
    "['Germany', [57.2, 55.4, 59, 59, 53.6]],\n",
    "['Russia', [35.6, 37.4, 39.2, 41, 42.8, 39.2, 35.6]],\n",
    "['Poland', [50, 50, 53.6, 57.2, 55.4, 55.4]]\n",
    "]"
   ]
  },
  {
   "cell_type": "code",
   "execution_count": 8,
   "id": "59d6f1f0",
   "metadata": {},
   "outputs": [
    {
     "name": "stdout",
     "output_type": "stream",
     "text": [
      "Средняя температура в странах: \n",
      "\n",
      "Thailand 23.9 C\n",
      "Germany 13.8 C\n",
      "Russia 3.7 C\n",
      "Poland 12.0 C\n"
     ]
    }
   ],
   "source": [
    "print('Средняя температура в странах:','\\n')\n",
    "for country in countries_temperature:\n",
    "    fahrenheit = ((sum(country[1]) / len(country[1])) - 32) / 1.8 \n",
    "    # Для каждой страны суммируем температуры, поделим на их количество и расчитаем фаренгейт\n",
    "    print('{} {:.1f} C'.format((country[0]),fahrenheit))"
   ]
  },
  {
   "cell_type": "markdown",
   "id": "46b68901",
   "metadata": {},
   "source": [
    "### Задание 5 (необязательное)\n",
    "Дан поток логов по количеству просмотренных страниц для каждого пользователя. Вам необходимо написать алгоритм, который считает среднее значение просмотров на пользователя. Т. е. надо посчитать отношение суммы всех просмотров к количеству уникальных пользователей."
   ]
  },
  {
   "cell_type": "code",
   "execution_count": 9,
   "id": "253b6904",
   "metadata": {},
   "outputs": [],
   "source": [
    "stream = [\n",
    "'2018-01-01,user100,150',\n",
    "'2018-01-07,user99,205',\n",
    "'2018-03-29,user1001,81'\n",
    "]"
   ]
  },
  {
   "cell_type": "code",
   "execution_count": 10,
   "id": "44b9651b",
   "metadata": {},
   "outputs": [],
   "source": [
    "stream = [\n",
    "'2018-01-01,user1,3',\n",
    "'2018-01-07,user1,4',\n",
    "'2018-03-29,user1,1',\n",
    "'2018-04-04,user1,13',\n",
    "'2018-01-05,user2,7',\n",
    "'2018-06-14,user3,4',\n",
    "'2018-07-02,user3,10',\n",
    "'2018-03-21,user4,19',\n",
    "'2018-03-22,user4,4',\n",
    "'2018-04-22,user4,8',\n",
    "'2018-05-03,user4,9',\n",
    "'2018-05-11,user4,11',\n",
    "]"
   ]
  },
  {
   "cell_type": "code",
   "execution_count": 11,
   "id": "e5868f02",
   "metadata": {},
   "outputs": [
    {
     "name": "stdout",
     "output_type": "stream",
     "text": [
      "Среднее количество просмотров на уникального пользователя: 23.25\n"
     ]
    }
   ],
   "source": [
    "summa = 0 # Зададим счетчик\n",
    "unique_users = set() # Зададим пустое множество\n",
    "for line in stream:\n",
    "    line = line.split(',') # Разобьем каждую строку по запятой и получим списки\n",
    "    summa += int(line[2]) # Определи сумму просмотров всеми пользователями\n",
    "    unique_users.add(line[1]) # Будем добавлять к множеству пользователей. Неуникальные будут игнорироваться\n",
    "print('Среднее количество просмотров на уникального пользователя: {:.2f}'.format(summa / len(unique_users))) \n",
    "# Далее поделим полученную сумму на кол-во уникальных пользователей"
   ]
  },
  {
   "cell_type": "markdown",
   "id": "ed420d9e",
   "metadata": {},
   "source": [
    "### Задание 6 (необязательное)\n",
    "Необходимо у пользователя запрашивать набор чисел разделенных пробелом. В результате в отсортированном порядке должны выводиться числа, которые повторяются в вводе более одного раза."
   ]
  },
  {
   "cell_type": "code",
   "execution_count": 12,
   "id": "cc7fa26d",
   "metadata": {},
   "outputs": [
    {
     "name": "stdout",
     "output_type": "stream",
     "text": [
      "Введите числа: \n",
      "9 9 8 0 8 0\n",
      "Результат: \n",
      " 0 8 9\n"
     ]
    }
   ],
   "source": [
    "digits = input('Введите числа: \\n').split(' ') # Разобьем строку по пробелам. Получим список\n",
    "result = [] # Зададим пустой список - заготовку\n",
    "for i in digits:\n",
    "    if digits.count(i) > 1: # Если число вхождений элемента больше \"1\" - наш клиент\n",
    "        result.append(int(i)) # Добавим его к заготовке сконвертировав в целое число\n",
    "result = sorted(list(set(result))) # Оставим уникальные эл-ты переводом в множ-во, потом обратно в список и отсортируем его\n",
    "print('Результат:', '\\n',*result)"
   ]
  }
 ],
 "metadata": {
  "kernelspec": {
   "display_name": "Python 3 (ipykernel)",
   "language": "python",
   "name": "python3"
  },
  "language_info": {
   "codemirror_mode": {
    "name": "ipython",
    "version": 3
   },
   "file_extension": ".py",
   "mimetype": "text/x-python",
   "name": "python",
   "nbconvert_exporter": "python",
   "pygments_lexer": "ipython3",
   "version": "3.9.7"
  }
 },
 "nbformat": 4,
 "nbformat_minor": 5
}
