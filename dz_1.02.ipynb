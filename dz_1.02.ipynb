{
 "cells": [
  {
   "cell_type": "code",
   "execution_count": null,
   "id": "3a5a2085",
   "metadata": {},
   "outputs": [],
   "source": []
  },
  {
   "cell_type": "markdown",
   "id": "8c71b1d5",
   "metadata": {},
   "source": [
    "### Задание 1\n",
    "Дана переменная, в которой хранится слово из латинских букв. Напишите код, который выводит на экран:\n",
    "\n",
    "среднюю букву, если число букв в слове нечетное;\n",
    "две средних буквы, если число букв четное."
   ]
  },
  {
   "cell_type": "code",
   "execution_count": 10,
   "id": "e55faabd",
   "metadata": {},
   "outputs": [
    {
     "name": "stdout",
     "output_type": "stream",
     "text": [
      "testing\n",
      "t\n"
     ]
    }
   ],
   "source": [
    "word = input()\n",
    "\n",
    "index = len(word) // 2\n",
    "if len(word) % 2 == 1:\n",
    "    print(word[index])\n",
    "else:\n",
    "    print(word[index-1] + word[index])"
   ]
  },
  {
   "cell_type": "markdown",
   "id": "ed4f1ac8",
   "metadata": {},
   "source": [
    "### Задание 2\n",
    "Напишите программу, которая последовательно запрашивает у пользователя числа (по одному за раз) и после первого нуля выводит сумму всех ранее введенных чисел."
   ]
  },
  {
   "cell_type": "code",
   "execution_count": 1,
   "id": "4f44802c",
   "metadata": {},
   "outputs": [
    {
     "name": "stdout",
     "output_type": "stream",
     "text": [
      "9\n",
      "0\n",
      "9\n"
     ]
    }
   ],
   "source": [
    "n = int(input())\n",
    "cnt = n\n",
    "while n != 0:\n",
    "    n = int(input())\n",
    "    cnt += n\n",
    "print(cnt)"
   ]
  },
  {
   "cell_type": "code",
   "execution_count": 2,
   "id": "41dea173",
   "metadata": {},
   "outputs": [],
   "source": [
    "word = 'testing'"
   ]
  },
  {
   "cell_type": "code",
   "execution_count": 4,
   "id": "1f466c39",
   "metadata": {},
   "outputs": [],
   "source": [
    "boys = ['Peter', 'Alex', 'John', 'Arthur', 'Richard']\n",
    "girls = ['Kate', 'Liza', 'Kira', 'Emma', 'Trisha']"
   ]
  },
  {
   "cell_type": "code",
   "execution_count": 5,
   "id": "b90326b6",
   "metadata": {},
   "outputs": [
    {
     "name": "stdout",
     "output_type": "stream",
     "text": [
      "Alex Emma\n",
      "Arthur Kate\n",
      "John Kira\n",
      "Peter Liza\n",
      "Richard Trisha\n"
     ]
    }
   ],
   "source": [
    "if len(boys) == len(girls):\n",
    "    for i in range(len(boys)):\n",
    "        print(sorted(boys)[i], sorted(girls)[i])\n",
    "else:\n",
    "    print('brasic')"
   ]
  },
  {
   "cell_type": "code",
   "execution_count": 8,
   "id": "c54036a7",
   "metadata": {},
   "outputs": [
    {
     "name": "stdout",
     "output_type": "stream",
     "text": [
      "uyuyu, hhjhj, jhjh\n"
     ]
    }
   ],
   "source": [
    "d = input().split(', ')"
   ]
  },
  {
   "cell_type": "code",
   "execution_count": 9,
   "id": "2934ab9d",
   "metadata": {},
   "outputs": [
    {
     "data": {
      "text/plain": [
       "['uyuyu', 'hhjhj', 'jhjh']"
      ]
     },
     "execution_count": 9,
     "metadata": {},
     "output_type": "execute_result"
    }
   ],
   "source": [
    "d"
   ]
  },
  {
   "cell_type": "code",
   "execution_count": null,
   "id": "0bc211da",
   "metadata": {},
   "outputs": [],
   "source": []
  }
 ],
 "metadata": {
  "kernelspec": {
   "display_name": "Python 3 (ipykernel)",
   "language": "python",
   "name": "python3"
  },
  "language_info": {
   "codemirror_mode": {
    "name": "ipython",
    "version": 3
   },
   "file_extension": ".py",
   "mimetype": "text/x-python",
   "name": "python",
   "nbconvert_exporter": "python",
   "pygments_lexer": "ipython3",
   "version": "3.9.7"
  }
 },
 "nbformat": 4,
 "nbformat_minor": 5
}
