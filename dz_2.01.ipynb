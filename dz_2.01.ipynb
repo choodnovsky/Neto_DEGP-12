{
 "cells": [
  {
   "cell_type": "code",
   "execution_count": 12,
   "id": "3028793b",
   "metadata": {},
   "outputs": [],
   "source": [
    "import numpy as np\n",
    "import random"
   ]
  },
  {
   "cell_type": "code",
   "execution_count": 13,
   "id": "d6fdd5c8",
   "metadata": {},
   "outputs": [],
   "source": [
    "x = np.array([1, 4, 6])\n",
    "y = np.array([4,7, 3])"
   ]
  },
  {
   "cell_type": "code",
   "execution_count": 14,
   "id": "a407721f",
   "metadata": {},
   "outputs": [
    {
     "data": {
      "text/plain": [
       "array([ 5, 11,  9])"
      ]
     },
     "execution_count": 14,
     "metadata": {},
     "output_type": "execute_result"
    }
   ],
   "source": [
    "x + y"
   ]
  },
  {
   "cell_type": "code",
   "execution_count": 20,
   "id": "f8c7356f",
   "metadata": {},
   "outputs": [],
   "source": [
    "x = np.arange(10)"
   ]
  },
  {
   "cell_type": "code",
   "execution_count": 16,
   "id": "26ecf31c",
   "metadata": {},
   "outputs": [
    {
     "data": {
      "text/plain": [
       "array([[5, 5, 5, 5, 5, 5],\n",
       "       [5, 5, 5, 5, 5, 5],\n",
       "       [5, 5, 5, 5, 5, 5],\n",
       "       [5, 5, 5, 5, 5, 5],\n",
       "       [5, 5, 5, 5, 5, 5],\n",
       "       [5, 5, 5, 5, 5, 5],\n",
       "       [5, 5, 5, 5, 5, 5],\n",
       "       [5, 5, 5, 5, 5, 5],\n",
       "       [5, 5, 5, 5, 5, 5],\n",
       "       [5, 5, 5, 5, 5, 5]])"
      ]
     },
     "execution_count": 16,
     "metadata": {},
     "output_type": "execute_result"
    }
   ],
   "source": [
    "np.full([10,6], 5)"
   ]
  },
  {
   "cell_type": "code",
   "execution_count": 24,
   "id": "ec059909",
   "metadata": {},
   "outputs": [
    {
     "data": {
      "text/plain": [
       "array([1, 5, 3, 8, 4, 0, 7, 2, 6, 9])"
      ]
     },
     "execution_count": 24,
     "metadata": {},
     "output_type": "execute_result"
    }
   ],
   "source": [
    "random.shuffle(x)\n",
    "x"
   ]
  },
  {
   "cell_type": "code",
   "execution_count": 28,
   "id": "8bcf106f",
   "metadata": {},
   "outputs": [
    {
     "data": {
      "text/plain": [
       "array([[0.1633297 , 0.71338899, 0.74981577, 0.97862913, 0.81386888,\n",
       "        0.37821169, 0.94275127, 0.46165505, 0.00996127],\n",
       "       [0.55104379, 0.36966846, 0.01326324, 0.07800145, 0.89136501,\n",
       "        0.68104514, 0.16536401, 0.20916608, 0.10091273],\n",
       "       [0.46537319, 0.58992373, 0.25937305, 0.63936805, 0.69090129,\n",
       "        0.69515624, 0.84734636, 0.0686147 , 0.25277625],\n",
       "       [0.72292263, 0.25045729, 0.89842488, 0.96050542, 0.67464003,\n",
       "        0.6299653 , 0.1915031 , 0.25920918, 0.23584349],\n",
       "       [0.37591502, 0.16360081, 0.17616588, 0.43342258, 0.22849012,\n",
       "        0.00594461, 0.77521504, 0.49257156, 0.95494019],\n",
       "       [0.90848349, 0.92155892, 0.76106406, 0.88048764, 0.47081532,\n",
       "        0.09281607, 0.7418474 , 0.81642368, 0.42708141],\n",
       "       [0.7614022 , 0.50965643, 0.64881759, 0.0364388 , 0.53686806,\n",
       "        0.51295065, 0.53168172, 0.58873783, 0.13907019],\n",
       "       [0.14153473, 0.69209442, 0.54224339, 0.20141862, 0.03228295,\n",
       "        0.49453948, 0.41192623, 0.23471422, 0.63940005],\n",
       "       [0.24799867, 0.55691643, 0.43934371, 0.10852749, 0.11584806,\n",
       "        0.71289777, 0.80933259, 0.45427765, 0.64271775],\n",
       "       [0.50793408, 0.83273601, 0.69911785, 0.85500664, 0.45413893,\n",
       "        0.92051961, 0.54783398, 0.4182434 , 0.94269217],\n",
       "       [0.51765199, 0.12137516, 0.04993952, 0.58206258, 0.34191609,\n",
       "        0.734443  , 0.35425822, 0.99076994, 0.1539992 ]])"
      ]
     },
     "execution_count": 28,
     "metadata": {},
     "output_type": "execute_result"
    }
   ],
   "source": [
    "np.random.random([11,9])"
   ]
  },
  {
   "cell_type": "code",
   "execution_count": null,
   "id": "9deeb24c",
   "metadata": {},
   "outputs": [],
   "source": []
  }
 ],
 "metadata": {
  "kernelspec": {
   "display_name": "Python 3 (ipykernel)",
   "language": "python",
   "name": "python3"
  },
  "language_info": {
   "codemirror_mode": {
    "name": "ipython",
    "version": 3
   },
   "file_extension": ".py",
   "mimetype": "text/x-python",
   "name": "python",
   "nbconvert_exporter": "python",
   "pygments_lexer": "ipython3",
   "version": "3.9.7"
  }
 },
 "nbformat": 4,
 "nbformat_minor": 5
}
