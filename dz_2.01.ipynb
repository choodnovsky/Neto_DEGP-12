{
 "cells": [
  {
   "cell_type": "markdown",
   "id": "e589382b",
   "metadata": {},
   "source": [
    "### Домашнее задание №1 к лекции «Библиотека numpy. Вычислительные задачи»"
   ]
  },
  {
   "cell_type": "code",
   "execution_count": 1,
   "id": "ed03b14e",
   "metadata": {},
   "outputs": [],
   "source": [
    "import numpy as np\n",
    "from numpy import linalg"
   ]
  },
  {
   "cell_type": "markdown",
   "id": "f744adcc",
   "metadata": {},
   "source": [
    "#### Задание 1\n",
    "Создайте numpy array с элементами от числа N до 0 (например, для N = 10 это будет array([9, 8, 7, 6, 5, 4, 3, 2, 1, 0]))."
   ]
  },
  {
   "cell_type": "code",
   "execution_count": 2,
   "id": "e00aa4c8",
   "metadata": {},
   "outputs": [
    {
     "data": {
      "text/plain": [
       "array([9, 8, 7, 6, 5, 4, 3, 2, 1, 0])"
      ]
     },
     "execution_count": 2,
     "metadata": {},
     "output_type": "execute_result"
    }
   ],
   "source": [
    "n = 10\n",
    "np.arange(n-1,-1,-1)"
   ]
  },
  {
   "cell_type": "markdown",
   "id": "48c54563",
   "metadata": {},
   "source": [
    "#### Задание 2\n",
    "Создайте диагональную матрицу с элементами от N до 0. Посчитайте сумму ее значений на диагонали."
   ]
  },
  {
   "cell_type": "code",
   "execution_count": 3,
   "id": "4f20dfce",
   "metadata": {},
   "outputs": [
    {
     "data": {
      "text/plain": [
       "array([[9, 0, 0, 0, 0, 0, 0, 0, 0, 0],\n",
       "       [0, 8, 0, 0, 0, 0, 0, 0, 0, 0],\n",
       "       [0, 0, 7, 0, 0, 0, 0, 0, 0, 0],\n",
       "       [0, 0, 0, 6, 0, 0, 0, 0, 0, 0],\n",
       "       [0, 0, 0, 0, 5, 0, 0, 0, 0, 0],\n",
       "       [0, 0, 0, 0, 0, 4, 0, 0, 0, 0],\n",
       "       [0, 0, 0, 0, 0, 0, 3, 0, 0, 0],\n",
       "       [0, 0, 0, 0, 0, 0, 0, 2, 0, 0],\n",
       "       [0, 0, 0, 0, 0, 0, 0, 0, 1, 0],\n",
       "       [0, 0, 0, 0, 0, 0, 0, 0, 0, 0]])"
      ]
     },
     "execution_count": 3,
     "metadata": {},
     "output_type": "execute_result"
    }
   ],
   "source": [
    "n = 10\n",
    "a = np.diag(np.arange(n-1, -1, -1), k=0)\n",
    "a"
   ]
  },
  {
   "cell_type": "markdown",
   "id": "ed011600",
   "metadata": {},
   "source": [
    "Диагональная матрица — квадратная матрица, все элементы которой, стоящие вне главной диагонали, равны нулю:  \n",
    "Используя это свойство можем получить массив сумм по любой из осей, после чего получим сумму значений этого массива"
   ]
  },
  {
   "cell_type": "code",
   "execution_count": 4,
   "id": "7a480435",
   "metadata": {},
   "outputs": [
    {
     "name": "stdout",
     "output_type": "stream",
     "text": [
      "Сумма значений на диагонали = 45\n"
     ]
    }
   ],
   "source": [
    "print(f'Сумма значений на диагонали = {np.sum(a, axis=1).sum()}')"
   ]
  },
  {
   "cell_type": "markdown",
   "id": "4ca31170",
   "metadata": {},
   "source": [
    "#### Задание 3  \n",
    "Решите систему уравнений:  \n",
    "$$\n",
    "\\begin{equation}\n",
    "\\left\\{\n",
    "\t\\begin{array}{ll}\n",
    "\t\t4x + 2y + z = 4 \\\\\n",
    "\t\tx + 3y = 12 \\\\\n",
    "        5y + 4z = -3\n",
    "\t\\end{array}\\right.\n",
    "\\end{equation}\n",
    "$$"
   ]
  },
  {
   "cell_type": "code",
   "execution_count": 5,
   "id": "bc377b52",
   "metadata": {},
   "outputs": [],
   "source": [
    "a = np.array([[4, 2, 1], [1, 3, 0], [0, 5, 4]])"
   ]
  },
  {
   "cell_type": "code",
   "execution_count": 6,
   "id": "bc71814b",
   "metadata": {},
   "outputs": [],
   "source": [
    "b = np.array([4, 12, -3])"
   ]
  },
  {
   "cell_type": "code",
   "execution_count": 7,
   "id": "4294e96a",
   "metadata": {},
   "outputs": [],
   "source": [
    "result = linalg.solve(a, b)"
   ]
  },
  {
   "cell_type": "markdown",
   "id": "a859e88c",
   "metadata": {},
   "source": [
    "Проверим решение"
   ]
  },
  {
   "cell_type": "code",
   "execution_count": 8,
   "id": "a86a2e32",
   "metadata": {},
   "outputs": [
    {
     "data": {
      "text/plain": [
       "True"
      ]
     },
     "execution_count": 8,
     "metadata": {},
     "output_type": "execute_result"
    }
   ],
   "source": [
    "np.allclose(np.dot(a, result), b)"
   ]
  },
  {
   "cell_type": "code",
   "execution_count": 9,
   "id": "5c52e417",
   "metadata": {},
   "outputs": [
    {
     "name": "stdout",
     "output_type": "stream",
     "text": [
      "x = 0.4666666666666668\n",
      "y = 3.844444444444444\n",
      "z = -5.555555555555555\n"
     ]
    }
   ],
   "source": [
    "print(f'x = {result[0]}\\ny = {result[1]}\\nz = {result[2]}')"
   ]
  },
  {
   "cell_type": "markdown",
   "id": "724f48e4",
   "metadata": {},
   "source": [
    "#### Задание 4  \n",
    "Имеется матрица покупок в интернет-магазине. Столбец А - ID пользователя. Остальные столбцы - количество покупок категорий товаров этим пользователем:"
   ]
  },
  {
   "cell_type": "code",
   "execution_count": 10,
   "id": "c9a6d102",
   "metadata": {},
   "outputs": [],
   "source": [
    "users_stats = np.array([\n",
    "    [2, 1, 0, 0, 0, 0],\n",
    "    [1, 1, 2, 1, 0, 0],\n",
    "    [2, 0, 1, 0, 0, 0],\n",
    "    [1, 1, 2, 1, 0, 1],\n",
    "    [0, 0, 1, 2, 0, 0],\n",
    "    [0, 0, 0, 0, 0, 5],\n",
    "    [1, 0, 0, 0, 0, 0],\n",
    "    [0, 1, 1, 0, 0, 0],\n",
    "    [0, 0, 0, 1, 1, 3],\n",
    "    [1, 0, 0, 2, 1, 4]\n",
    "])"
   ]
  },
  {
   "cell_type": "markdown",
   "id": "c38b5b2d",
   "metadata": {},
   "source": [
    "На сайт заходит очередной посетитель, о покупках которого известно следующее:"
   ]
  },
  {
   "cell_type": "code",
   "execution_count": 11,
   "id": "1e5cfd14",
   "metadata": {},
   "outputs": [],
   "source": [
    "next_user_stats = np.array([0, 1, 2, 0, 0, 0])"
   ]
  },
  {
   "cell_type": "code",
   "execution_count": 12,
   "id": "67b508df",
   "metadata": {},
   "outputs": [],
   "source": [
    "def cosine(a, b):\n",
    "    \"\"\"\n",
    "    Подсчет косинуса угла между векторами a, b по их координатам\n",
    "    \"\"\"    \n",
    "    # длины векторов\n",
    "#     aLength = np.linalg.norm(a)\n",
    "#     bLength = np.linalg.norm(b)\n",
    "    # длины векторов (квадратный корень из суммы квадратов элементов)\n",
    "    aLength = np.sqrt(np.power(a,2).sum())\n",
    "    bLength = np.sqrt(np.power(b,2).sum())\n",
    "    \n",
    "    return np.dot(a, b) / (aLength * bLength)"
   ]
  },
  {
   "cell_type": "markdown",
   "id": "44b6d052",
   "metadata": {},
   "source": [
    "Найдите самого похожего пользователя. Т. е. посчитайте косинусное сходство между этим пользователем и всеми пользователями из массива user_stats"
   ]
  },
  {
   "cell_type": "code",
   "execution_count": 13,
   "id": "da50d8ca",
   "metadata": {},
   "outputs": [
    {
     "data": {
      "text/plain": [
       "{0: 0.19999999999999996,\n",
       " 1: 0.8451542547285165,\n",
       " 2: 0.3999999999999999,\n",
       " 3: 0.7905694150420948,\n",
       " 4: 0.3999999999999999,\n",
       " 5: 0.0,\n",
       " 6: 0.0,\n",
       " 7: 0.9486832980505138,\n",
       " 8: 0.0,\n",
       " 9: 0.0}"
      ]
     },
     "execution_count": 13,
     "metadata": {},
     "output_type": "execute_result"
    }
   ],
   "source": [
    "metrika = {id_:cosine(exist_user, next_user_stats)  for id_,exist_user in enumerate(users_stats)}\n",
    "metrika"
   ]
  },
  {
   "cell_type": "code",
   "execution_count": 14,
   "id": "6b0ef10b",
   "metadata": {},
   "outputs": [
    {
     "name": "stdout",
     "output_type": "stream",
     "text": [
      "Самый похожий пользователь: 7\n"
     ]
    }
   ],
   "source": [
    "same_user = [key for key,val in metrika.items() if val == max(metrika.values())]\n",
    "print('Самый похожий пользователь:', *same_user)"
   ]
  },
  {
   "cell_type": "markdown",
   "id": "63d15392",
   "metadata": {},
   "source": [
    "##### Далее идут мои размышления"
   ]
  },
  {
   "cell_type": "markdown",
   "id": "2d690f8c",
   "metadata": {},
   "source": [
    "Сравним массивы покупок нашего посетителя и максимально похожего. Методика явно работает, но с точки зрения бизнеса предложить ему нечего. Очевидно, что с метрикой = 100% посетители совершат абсолютно одинаковые покупки"
   ]
  },
  {
   "cell_type": "code",
   "execution_count": 15,
   "id": "1da38399",
   "metadata": {},
   "outputs": [
    {
     "name": "stdout",
     "output_type": "stream",
     "text": [
      "7 [0 1 1 0 0 0]\n",
      "n [0 1 2 0 0 0]\n",
      "предложение [ 0  0 -1  0  0  0]\n"
     ]
    }
   ],
   "source": [
    "for i in same_user:\n",
    "    print(i, users_stats[i])\n",
    "print('n', next_user_stats)\n",
    "print('предложение', np.subtract(users_stats[i], next_user_stats))"
   ]
  },
  {
   "cell_type": "markdown",
   "id": "eca69b9e",
   "metadata": {},
   "source": [
    "Попробуем вывести нескольких похожих клиентов с похожестью свыше 80%. Это 1 и 7"
   ]
  },
  {
   "cell_type": "code",
   "execution_count": 16,
   "id": "b21f2dc1",
   "metadata": {},
   "outputs": [
    {
     "name": "stdout",
     "output_type": "stream",
     "text": [
      "Наиболее похожие пользователи: 1 7\n"
     ]
    }
   ],
   "source": [
    "same_users = [key for key,val in metrika.items() if val > .8]\n",
    "print('Наиболее похожие пользователи:', *same_users)"
   ]
  },
  {
   "cell_type": "markdown",
   "id": "b1a55485",
   "metadata": {},
   "source": [
    "Тут информация более полезная. Похоже что новому посетителю можно предложить дополнительный ассортимент пользователя №1:  \n",
    "- товар №1 - 1 шт \n",
    "- товар №4 - 1 шт"
   ]
  },
  {
   "cell_type": "code",
   "execution_count": 17,
   "id": "3696cad5",
   "metadata": {},
   "outputs": [
    {
     "name": "stdout",
     "output_type": "stream",
     "text": [
      "1 [1 1 2 1 0 0]\n",
      "7 [0 1 1 0 0 0]\n",
      "n [0 1 2 0 0 0]\n",
      "предложение [1 0 0 1 0 0]\n"
     ]
    }
   ],
   "source": [
    "for i in same_users:\n",
    "    print(i, users_stats[i])\n",
    "print('n', next_user_stats)\n",
    "print('предложение', np.subtract(users_stats[1], next_user_stats))"
   ]
  }
 ],
 "metadata": {
  "kernelspec": {
   "display_name": "Python 3 (ipykernel)",
   "language": "python",
   "name": "python3"
  },
  "language_info": {
   "codemirror_mode": {
    "name": "ipython",
    "version": 3
   },
   "file_extension": ".py",
   "mimetype": "text/x-python",
   "name": "python",
   "nbconvert_exporter": "python",
   "pygments_lexer": "ipython3",
   "version": "3.9.12"
  }
 },
 "nbformat": 4,
 "nbformat_minor": 5
}
