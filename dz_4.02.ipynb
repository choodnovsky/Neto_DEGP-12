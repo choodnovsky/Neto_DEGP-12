{
 "cells": [
  {
   "cell_type": "code",
   "execution_count": 34,
   "id": "c9b002ab",
   "metadata": {},
   "outputs": [],
   "source": [
    "with open('ml-latest/keywords_by_word.csv', 'w') as outputfile:\n",
    "    with open('ml-latest/keywords.csv', 'r') as inputfile:\n",
    "        next(inputfile)\n",
    "        for line in inputfile:\n",
    "            phrase = line.split(',')[0]\n",
    "            for word in phrase.strip().split(' '):\n",
    "                if word.isalpha():\n",
    "                    outputfile.write(f'{word}\\n')"
   ]
  },
  {
   "cell_type": "code",
   "execution_count": 35,
   "id": "7f9470f5",
   "metadata": {},
   "outputs": [],
   "source": [
    "!cat ml-latest/keywords_by_word.csv | sort > ml-latest/keywords_by_word_sorted.csv"
   ]
  },
  {
   "cell_type": "code",
   "execution_count": 36,
   "id": "01fd3134",
   "metadata": {},
   "outputs": [
    {
     "name": "stdout",
     "output_type": "stream",
     "text": [
      "слово a встретилось 13 раз\n",
      "слово aa встретилось 1 раз\n",
      "слово abadiya встретилось 1 раз\n",
      "слово abb встретилось 1 раз\n",
      "слово abba встретилось 1 раз\n",
      "слово abbyy встретилось 6 раз\n",
      "слово abc встретилось 2 раз\n",
      "слово abella встретилось 1 раз\n",
      "слово abigail встретилось 1 раз\n",
      "слово abitu встретилось 1 раз\n",
      "слово about встретилось 4 раз\n"
     ]
    }
   ],
   "source": [
    "counter = {}\n",
    "with open('ml-latest/keywords_by_word_sorted.csv', 'r') as inputfile:\n",
    "    for line in inputfile:\n",
    "        line = line.strip()\n",
    "        if line in counter:\n",
    "            counter[line] += 1\n",
    "        else:\n",
    "            counter[line] = 1\n",
    "c = 0\n",
    "for k,v in counter.items():\n",
    "    c += 1\n",
    "    print(f'слово {k} встретилось {v} раз')\n",
    "    if c > 10:\n",
    "        break"
   ]
  },
  {
   "cell_type": "code",
   "execution_count": null,
   "id": "ba10226d",
   "metadata": {},
   "outputs": [],
   "source": []
  }
 ],
 "metadata": {
  "kernelspec": {
   "display_name": "Python 3 (ipykernel)",
   "language": "python",
   "name": "python3"
  },
  "language_info": {
   "codemirror_mode": {
    "name": "ipython",
    "version": 3
   },
   "file_extension": ".py",
   "mimetype": "text/x-python",
   "name": "python",
   "nbconvert_exporter": "python",
   "pygments_lexer": "ipython3",
   "version": "3.9.12"
  }
 },
 "nbformat": 4,
 "nbformat_minor": 5
}
